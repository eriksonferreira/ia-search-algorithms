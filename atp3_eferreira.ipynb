{
  "cells": [
    {
      "cell_type": "markdown",
      "metadata": {
        "id": "view-in-github",
        "colab_type": "text"
      },
      "source": [
        "<a href=\"https://colab.research.google.com/github/eriksonferreira/ia-search-algorithms/blob/main/atp3_eferreira.ipynb\" target=\"_parent\"><img src=\"https://colab.research.google.com/assets/colab-badge.svg\" alt=\"Open In Colab\"/></a>"
      ]
    },
    {
      "cell_type": "code",
      "execution_count": null,
      "metadata": {
        "id": "u1AqB2AUPXbY"
      },
      "outputs": [],
      "source": [
        "%load_ext autoreload\n",
        "%autoreload 2"
      ]
    },
    {
      "cell_type": "markdown",
      "metadata": {
        "id": "cdbya7BDPXbZ"
      },
      "source": [
        "# Avaliação teórico-prática 3 (ATP3)\n",
        "\n",
        "*Para questões discursivas, você pode escrever em formato Markdown/LaTeX ou, preferencialmente, incluir uma fotografia da solução do exercício.*"
      ]
    },
    {
      "cell_type": "markdown",
      "metadata": {
        "id": "YvY_7AiLPXbZ"
      },
      "source": [
        "___\n",
        "**1.** **(2 pontos)** Pesquise sobre e forneça a motivação para o de números complexos na formulação da Transformada de Fourier.\n",
        "___"
      ]
    },
    {
      "cell_type": "markdown",
      "metadata": {
        "id": "ImzK6JeHPXbZ"
      },
      "source": [
        "\n",
        "```\n",
        "\n",
        "A motivação para usar números complexos na Transformada de Fourier é principalmente a simplificação matemática e a riqueza de informações que eles oferecem. Ao representar senos e cossenos, componentes fundamentais da série de Fourier, como exponenciais complexas (conforme a identidade de Euler), a matemática envolvida se torna mais tratável. Além disso, os números complexos permitem capturar tanto a amplitude quanto a fase das frequências de uma função, o que é crucial para uma análise detalhada e completa de sinais em várias aplicações práticas.\n",
        "\n",
        "..."
      ]
    },
    {
      "cell_type": "markdown",
      "metadata": {
        "id": "Ex7uVQzgPXba"
      },
      "source": [
        "___\n",
        "**2.** **(3 pontos)** Explique, com suas palavras, o Teorema da Convolução e sua importância no contexto de processamento de sinais.\n",
        "___"
      ]
    },
    {
      "cell_type": "markdown",
      "metadata": {
        "id": "IcG_HCmcPXba"
      },
      "source": [
        "O Teorema da Convolução é um conceito central no processamento de sinais que relaciona a convolução de duas funções no domínio do tempo com a multiplicação de suas transformadas de Fourier no domínio da frequência. Essa relação é crucial porque permite realizar operações complexas de convolução de maneira mais simples e eficiente no domínio da frequência. A aplicação prática desse teorema é amplamente vista em áreas como filtragem de sinais, processamento de áudio e imagem, reduzindo significativamente a complexidade computacional e aumentando a eficiência desses processos.\n",
        "\n",
        "..."
      ]
    },
    {
      "cell_type": "markdown",
      "metadata": {
        "id": "SRVBRnxBPXba"
      },
      "source": [
        "___\n",
        "**3.** **(10 pontos)** O objetivo desta atividade é implementar um filtro Notch para remover ruído periódico de imagens. O processo será dividido em quatro passos:\n",
        "\n",
        "1. Analisar o espectro de Fourier $F$ da imagem.\n",
        "2. Identificar as localizações dos picos em $F$.\n",
        "3. Construir um filtro notch de rejeição $H$ no domínio de Fourier, cujos centros estão nos picos.\n",
        "4. Utilizar $H$ para filtrar $F$ e obter o resultado.\n",
        "\n",
        "Para cada centro $(u,v)$, utilize filtros de Butterworh ($H_b$), cuja definição é\n",
        "\n",
        "$$H_b(u,v) = \\frac{1}{1+[D_0/D(u,v)]^{2n}},$$\n",
        "\n",
        "onde $n$ é a ordem do filtro e $D_0$ o parâmetro que controla a abertura do filtro (*cut-off distance*).\n",
        "\n",
        "Para cumprir esta tarefa, você deve utilizar uma imagem de teste corrompida com ruído periódico em diversas frequências. Além disso, você deve implementar a função `apply_notch_filter`.\n",
        "\n",
        "___"
      ]
    },
    {
      "cell_type": "code",
      "execution_count": null,
      "metadata": {
        "id": "6A41StclPXba"
      },
      "outputs": [],
      "source": [
        "%matplotlib tk\n",
        "import numpy as np\n",
        "import matplotlib.pyplot as plt\n",
        "from skimage import data, io\n",
        "from scipy.fft import fft2, fftshift, ifft2, ifftshift\n",
        "from skimage.color import rgb2gray\n",
        "\n",
        "def spectrum(image):\n",
        "    f_uv = fftshift(fft2(image))\n",
        "    spec = np.log(np.abs(f_uv) + 1)\n",
        "    return spec, f_uv\n",
        "\n",
        "\n",
        "def apply_notch_filter(image, centers, f_uv):\n",
        "    # Create an empty 'output' image with the same dimensions as the 'image' input.\n",
        "    output = image.copy()\n",
        "    D0 = 100\n",
        "    n = 2\n",
        "    h = image.shape[0]\n",
        "    w = image.shape[1]\n",
        "\n",
        "\n",
        "    H = np.ones((h, w), dtype=np.float32)\n",
        "\n",
        "    for u, v in centers:\n",
        "        for i in range(h):\n",
        "            for j in range(w):\n",
        "                D = np.sqrt((i - u) ** 2 + (j - v) ** 2) + 1e-10  # Adiciona um pequeno valor para evitar divisão por zero\n",
        "                H[i, j] *= 1 / (1 + (D0 / D) ** (2 * n))\n",
        "\n",
        "    f_uv_filtered = f_uv * H\n",
        "    output = np.abs(ifft2(ifftshift(f_uv_filtered)))\n",
        "    output = np.clip(output, 0, 255)  # Normaliza a imagem\n",
        "    return output.astype(image.dtype)\n",
        "\n",
        "\n",
        "def onclick(event):\n",
        "    # Check whether one clicked inside the spectrum plot\n",
        "    if event.inaxes in [axs[1]]:\n",
        "        x, y = event.xdata, event.ydata\n",
        "        if x is not None and y is not None:\n",
        "            # Update notch_centers\n",
        "            h = test_image.shape[0]\n",
        "            w = test_image.shape[1]\n",
        "            notch_centers.append((int(x), int(y)))\n",
        "            notch_centers.append((w-x, h-y))\n",
        "\n",
        "            # Perform filtering based on the clicked position and the 'image'.\n",
        "            filtered = apply_notch_filter(test_image, notch_centers, f_uv)\n",
        "\n",
        "            # Update the displayed image with the filtered result.\n",
        "            img_plot.set_data(filtered)\n",
        "\n",
        "            # Show notch centers\n",
        "            axs[1].scatter(*zip(*notch_centers), marker=\"o\", color=\"red\")\n",
        "\n",
        "            plt.draw()\n",
        "\n",
        "\n",
        "notch_centers = []\n",
        "\n",
        "# Load a test image: REPLACE THIS IMAGE WITH ONE CORRUPTED BY PERIODIC NOISE\n",
        "test_image_rgb = io.imread('ruido_periodico.png', plugin='matplotlib')\n",
        "test_image = rgb2gray(test_image_rgb[..., :3])\n",
        "\n",
        "# Create a figure with two subplots for the image and its spectrum\n",
        "spec, f_uv = spectrum(test_image)\n",
        "\n",
        "fig, axs = plt.subplots(1, 2, figsize=(10, 20))\n",
        "img_plot = axs[0].imshow(test_image, cmap=\"gray\")\n",
        "spec_plot = axs[1].imshow(spec, cmap=\"gray\")\n",
        "\n",
        "\n",
        "# Connect the click event to the 'onclick' function, passing the image and plot.\n",
        "cid = fig.canvas.mpl_connect(\"button_press_event\", onclick)"
      ]
    }
  ],
  "metadata": {
    "colab": {
      "provenance": [],
      "include_colab_link": true
    },
    "kernelspec": {
      "display_name": "Python 3 (ipykernel)",
      "language": "python",
      "name": "python3"
    },
    "language_info": {
      "codemirror_mode": {
        "name": "ipython",
        "version": 3
      },
      "file_extension": ".py",
      "mimetype": "text/x-python",
      "name": "python",
      "nbconvert_exporter": "python",
      "pygments_lexer": "ipython3",
      "version": "3.11.4"
    },
    "orig_nbformat": 4
  },
  "nbformat": 4,
  "nbformat_minor": 0
}