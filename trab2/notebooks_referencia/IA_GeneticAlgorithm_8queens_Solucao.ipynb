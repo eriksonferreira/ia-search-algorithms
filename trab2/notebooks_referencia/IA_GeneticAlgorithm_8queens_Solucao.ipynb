{
  "cells": [
    {
      "attachments": {},
      "cell_type": "markdown",
      "metadata": {
        "id": "n8AwNSzzRWZ5"
      },
      "source": [
        "Teste de implementação em phyton do Algoritmo Genético.\n",
        "Obs.:"
      ]
    },
    {
      "attachments": {},
      "cell_type": "markdown",
      "metadata": {
        "id": "hX_HwCvidpyR"
      },
      "source": [
        "# Algoritmo Genético\n",
        "## Para o problema das 8 rainhas"
      ]
    },
    {
      "attachments": {},
      "cell_type": "markdown",
      "metadata": {
        "id": "JzA1EYj1HC76"
      },
      "source": [
        "## Importações"
      ]
    },
    {
      "cell_type": "code",
      "execution_count": 1,
      "metadata": {
        "id": "XkS2WmGGHGN2"
      },
      "outputs": [],
      "source": [
        "# Manipulação de dados\n",
        "import numpy as np\n",
        "#import pandas as pd\n",
        "\n",
        "# Geração de números aleatórios\n",
        "import random"
      ]
    },
    {
      "cell_type": "code",
      "execution_count": 2,
      "metadata": {
        "colab": {
          "base_uri": "https://localhost:8080/"
        },
        "id": "tF1W659hMnFE",
        "outputId": "2991a2cd-ea8d-4849-bb52-a10f40f17825"
      },
      "outputs": [
        {
          "data": {
            "text/plain": [
              "array([4, 8, 2, 7, 3, 7, 5, 4])"
            ]
          },
          "execution_count": 2,
          "metadata": {},
          "output_type": "execute_result"
        }
      ],
      "source": [
        "#VT = np.array([4,8,2,7,3,1,5,6])\n",
        "VT = np.array([4,8,2,7,3,7,5,4])\n",
        "\n",
        "VT"
      ]
    },
    {
      "attachments": {},
      "cell_type": "markdown",
      "metadata": {
        "id": "2nnjfm3TeGvW"
      },
      "source": [
        "## Funções Auxiliares - Problema"
      ]
    },
    {
      "attachments": {},
      "cell_type": "markdown",
      "metadata": {
        "id": "p_EHH-ACFL53"
      },
      "source": [
        "### Converte Vetor em Tabuleiro"
      ]
    },
    {
      "cell_type": "code",
      "execution_count": 3,
      "metadata": {
        "id": "8eO_wG3Enx64"
      },
      "outputs": [],
      "source": [
        "def converte_tabuleiro(VT):\n",
        "    '''\n",
        "    Recebe um vetor representando um tabuleiro\n",
        "    com N rainhas, uma por coluna e retorna\n",
        "    uma lista de lista de 0 e 1 representando\n",
        "    um tabuleiro com as rainhas.\n",
        "    '''\n",
        "    N = len(VT)\n",
        "\n",
        "    L = [0]*N\n",
        "    T = []\n",
        "    for i in range(N):\n",
        "        T += [L.copy()]\n",
        "\n",
        "    for lin in range(N):\n",
        "        for col in range(N):\n",
        "            if lin+1 == VT[col]:\n",
        "                T[lin][col] = 1\n",
        "\n",
        "    return T"
      ]
    },
    {
      "cell_type": "code",
      "execution_count": 4,
      "metadata": {
        "colab": {
          "base_uri": "https://localhost:8080/"
        },
        "id": "JA4nMhpNoHR1",
        "outputId": "b1746e3e-17d1-48f6-f186-88afc50851c5"
      },
      "outputs": [
        {
          "data": {
            "text/plain": [
              "[[0, 0, 0, 0, 0, 0, 0, 0],\n",
              " [0, 0, 1, 0, 0, 0, 0, 0],\n",
              " [0, 0, 0, 0, 1, 0, 0, 0],\n",
              " [1, 0, 0, 0, 0, 0, 0, 1],\n",
              " [0, 0, 0, 0, 0, 0, 1, 0],\n",
              " [0, 0, 0, 0, 0, 0, 0, 0],\n",
              " [0, 0, 0, 1, 0, 1, 0, 0],\n",
              " [0, 1, 0, 0, 0, 0, 0, 0]]"
            ]
          },
          "execution_count": 4,
          "metadata": {},
          "output_type": "execute_result"
        }
      ],
      "source": [
        "converte_tabuleiro(VT)"
      ]
    },
    {
      "attachments": {},
      "cell_type": "markdown",
      "metadata": {
        "id": "GUPKonQ4FVCZ"
      },
      "source": [
        "### Calcula custo (Fitness)"
      ]
    },
    {
      "cell_type": "code",
      "execution_count": 5,
      "metadata": {
        "id": "D25sedCPrrcg"
      },
      "outputs": [],
      "source": [
        "def __conta_ataques_linhas(VT):\n",
        "    '''\n",
        "    Função que recebe um Vetor-Tabuleiro e\n",
        "    retorna o número de pares de rainhas se\n",
        "    atacando mutuamente nas linhas.\n",
        "    '''\n",
        "    ataques = 0\n",
        "    N = len(VT)\n",
        "    for col1 in range(N):\n",
        "        lin1 = VT[col1]\n",
        "        for col2 in range(col1+1, N):\n",
        "            lin2 = VT[col2]\n",
        "            if lin1==lin2:\n",
        "                ataques +=1\n",
        "\n",
        "    return ataques"
      ]
    },
    {
      "cell_type": "code",
      "execution_count": 6,
      "metadata": {
        "colab": {
          "base_uri": "https://localhost:8080/"
        },
        "id": "ippPbtD5sodj",
        "outputId": "4106d0e4-f437-45ab-960c-e0c3fe413457"
      },
      "outputs": [
        {
          "data": {
            "text/plain": [
              "2"
            ]
          },
          "execution_count": 6,
          "metadata": {},
          "output_type": "execute_result"
        }
      ],
      "source": [
        "__conta_ataques_linhas(VT)"
      ]
    },
    {
      "cell_type": "code",
      "execution_count": 7,
      "metadata": {
        "id": "7F0jjrJosqgu"
      },
      "outputs": [],
      "source": [
        "def __conta_ataques_diagonais(VT):\n",
        "    '''\n",
        "    Função que recebe um Vetor-Tabuleiro e\n",
        "    retorna o número de pares de rainhas se\n",
        "    atacando mutuamente nas diagonais.\n",
        "    '''\n",
        "    ataques = 0\n",
        "    N = len(VT)\n",
        "\n",
        "    for col1 in range(N):\n",
        "        lin1 = VT[col1]\n",
        "        for col2 in range(col1+1, N):\n",
        "            lin2 = VT[col2]\n",
        "\n",
        "            # diferenças entre as linhas e colunas\n",
        "            d1 = lin1-col1\n",
        "            d2 = lin2-col2\n",
        "\n",
        "            # somas das linhas e colunas\n",
        "            s1 = lin1+col1\n",
        "            s2 = lin2+col2\n",
        "\n",
        "            # condições para ataques nas diagonais\n",
        "            if d1==d2 or s1==s2:\n",
        "                ataques +=1\n",
        "                #print(f'({lin1},{col1+1}) ({lin2},{col2+1}) -->', ataques,\n",
        "                #      '<--', f'  -({d1:2},{d2:2})  +({s1:2},{s2:2})')\n",
        "\n",
        "    return ataques"
      ]
    },
    {
      "cell_type": "code",
      "execution_count": 8,
      "metadata": {
        "colab": {
          "base_uri": "https://localhost:8080/"
        },
        "id": "ICrKqYbhkSQ1",
        "outputId": "79b376de-9a95-46ac-e023-f2dd9013a508"
      },
      "outputs": [
        {
          "data": {
            "text/plain": [
              "[[0, 0, 0, 0, 0, 0, 0, 0],\n",
              " [0, 0, 1, 0, 0, 0, 0, 0],\n",
              " [0, 0, 0, 0, 1, 0, 0, 0],\n",
              " [1, 0, 0, 0, 0, 0, 0, 1],\n",
              " [0, 0, 0, 0, 0, 0, 1, 0],\n",
              " [0, 0, 0, 0, 0, 0, 0, 0],\n",
              " [0, 0, 0, 1, 0, 1, 0, 0],\n",
              " [0, 1, 0, 0, 0, 0, 0, 0]]"
            ]
          },
          "execution_count": 8,
          "metadata": {},
          "output_type": "execute_result"
        }
      ],
      "source": [
        "converte_tabuleiro(VT)"
      ]
    },
    {
      "cell_type": "code",
      "execution_count": 9,
      "metadata": {
        "colab": {
          "base_uri": "https://localhost:8080/"
        },
        "id": "mQ_9ze4cuIMW",
        "outputId": "f078733e-556a-4164-d106-2f8470de2acf"
      },
      "outputs": [
        {
          "data": {
            "text/plain": [
              "4"
            ]
          },
          "execution_count": 9,
          "metadata": {},
          "output_type": "execute_result"
        }
      ],
      "source": [
        "__conta_ataques_diagonais(VT)"
      ]
    },
    {
      "cell_type": "code",
      "execution_count": 10,
      "metadata": {
        "id": "8cTwjPfivq75"
      },
      "outputs": [],
      "source": [
        "def conta_ataques(VT):\n",
        "    '''\n",
        "    Função que recebe um Vetor-Tabuleiro e\n",
        "    retorna o número de pares de rainhas se\n",
        "    atacando mutuamente nas linhas e diagonais.\n",
        "    '''\n",
        "    ataques  = __conta_ataques_linhas(VT)\n",
        "\n",
        "    ataques += __conta_ataques_diagonais(VT)\n",
        "\n",
        "    return ataques"
      ]
    },
    {
      "cell_type": "code",
      "execution_count": 11,
      "metadata": {
        "id": "-BTM7X6FGKI3"
      },
      "outputs": [],
      "source": [
        "VT = [1,2,3,4,5,6,7,8]"
      ]
    },
    {
      "cell_type": "code",
      "execution_count": 12,
      "metadata": {
        "colab": {
          "base_uri": "https://localhost:8080/"
        },
        "id": "HiEykhZTuQEX",
        "outputId": "da17472c-7cc6-43a6-b3ee-f56a93f300f4"
      },
      "outputs": [
        {
          "data": {
            "text/plain": [
              "28"
            ]
          },
          "execution_count": 12,
          "metadata": {},
          "output_type": "execute_result"
        }
      ],
      "source": [
        "conta_ataques(VT)"
      ]
    },
    {
      "attachments": {},
      "cell_type": "markdown",
      "metadata": {
        "id": "ZHbNTMeCFlGJ"
      },
      "source": [
        "### Gera vizinhos"
      ]
    },
    {
      "cell_type": "code",
      "execution_count": 13,
      "metadata": {
        "id": "_gy9N3w4pl_x"
      },
      "outputs": [],
      "source": [
        "def gera_vizinhos(VT):\n",
        "    '''\n",
        "    Gera todos os vizinhos possíveis,\n",
        "    variando uma rainha de cada vez.\n",
        "    '''\n",
        "    N = len(VT)\n",
        "    for col in range(N):\n",
        "        for lin in range(N):\n",
        "            # se nao existe rainha naquela linha,\n",
        "            # entao gera estado vizinho.\n",
        "            linha = lin+1\n",
        "            if linha != VT[col]:\n",
        "                vizinho   = VT.copy()\n",
        "                vizinho[col] = linha\n",
        "\n",
        "                yield vizinho\n"
      ]
    },
    {
      "attachments": {},
      "cell_type": "markdown",
      "metadata": {
        "id": "sCLe99jUFrRp"
      },
      "source": [
        "### Gera tuplas custos"
      ]
    },
    {
      "cell_type": "code",
      "execution_count": 14,
      "metadata": {
        "id": "jl3DcYaapTiP"
      },
      "outputs": [],
      "source": [
        "def gera_tuplas_custos(Populacao):\n",
        "    '''\n",
        "    Gera tuplas com os custos de todos os individuos da populacao.\n",
        "    '''\n",
        "    TuplasCustos = []\n",
        "    for individuo in Populacao:\n",
        "        ataques = conta_ataques(individuo)\n",
        "\n",
        "        TuplasCustos += [(ataques, individuo)]\n",
        "\n",
        "    return TuplasCustos\n"
      ]
    },
    {
      "cell_type": "code",
      "execution_count": null,
      "metadata": {
        "colab": {
          "base_uri": "https://localhost:8080/"
        },
        "id": "ZfEiuC64sB5M",
        "outputId": "3a4bf02c-2189-48f8-f017-6ce2cac7e43d"
      },
      "outputs": [],
      "source": [
        "Populacao = gera_vizinhos(VT)\n",
        "Tuplas = gera_tuplas_custos(Populacao)\n",
        "Tuplas"
      ]
    },
    {
      "cell_type": "code",
      "execution_count": null,
      "metadata": {
        "colab": {
          "base_uri": "https://localhost:8080/"
        },
        "id": "awxLMBkosD-O",
        "outputId": "a3d9f7ba-1823-41c6-92f7-1ee5cadce4c7"
      },
      "outputs": [],
      "source": [
        "sorted(Tuplas, key=lambda k: k[0])"
      ]
    },
    {
      "attachments": {},
      "cell_type": "markdown",
      "metadata": {
        "id": "3tg4XhiiHrNG"
      },
      "source": [
        "## Funções Auxiliares - AG"
      ]
    },
    {
      "attachments": {},
      "cell_type": "markdown",
      "metadata": {
        "id": "uUcQwNvpFzlp"
      },
      "source": [
        "### Mutação"
      ]
    },
    {
      "cell_type": "code",
      "execution_count": 18,
      "metadata": {
        "id": "nUXJydQWsSud"
      },
      "outputs": [],
      "source": [
        "def mutacao(VT, p_mutacao=0.15):\n",
        "\n",
        "    VT_mutated = VT.copy()\n",
        "\n",
        "    N = len(VT)\n",
        "    p = np.random.rand()\n",
        "\n",
        "    if p < p_mutacao:\n",
        "        col   = np.random.randint(0,N)    # indice da coluna (base-0)\n",
        "        linha = np.random.randint(1,N+1)  # valor da linha   (base-1)\n",
        "\n",
        "        VT_mutated[col] = linha\n",
        "        #print(col+1, linha)\n",
        "\n",
        "    return VT_mutated"
      ]
    },
    {
      "cell_type": "code",
      "execution_count": 19,
      "metadata": {
        "colab": {
          "base_uri": "https://localhost:8080/"
        },
        "id": "6GIV1pitubsc",
        "outputId": "d9560f8d-0b46-49ea-9560-fc4a75d8ed9c"
      },
      "outputs": [
        {
          "data": {
            "text/plain": [
              "([1, 2, 3, 4, 5, 6, 7, 8], [1, 2, 3, 4, 3, 6, 7, 8], True)"
            ]
          },
          "execution_count": 19,
          "metadata": {},
          "output_type": "execute_result"
        }
      ],
      "source": [
        "VT2 = mutacao(VT)\n",
        "VT, VT2, VT != VT2"
      ]
    },
    {
      "attachments": {},
      "cell_type": "markdown",
      "metadata": {
        "id": "q7q7CoFuF1w5"
      },
      "source": [
        "### Crossover"
      ]
    },
    {
      "cell_type": "code",
      "execution_count": 20,
      "metadata": {
        "id": "3sIPZcHxudG8"
      },
      "outputs": [],
      "source": [
        "def crossover(Parent1, Parent2):\n",
        "\n",
        "    N = len(Parent1)\n",
        "\n",
        "    # ponto de corte\n",
        "    c = np.random.randint(1, N-1)\n",
        "\n",
        "    # crossover no ponto de corte\n",
        "    # gerando dois filhos\n",
        "    child1 = Parent1[:c] + Parent2[c:]\n",
        "    child2 = Parent2[:c] + Parent1[c:]\n",
        "\n",
        "    return child1, child2"
      ]
    },
    {
      "cell_type": "code",
      "execution_count": 21,
      "metadata": {
        "id": "N0mrZDKpytgY"
      },
      "outputs": [],
      "source": [
        "VT1 = [1,1,1,1,1,1,1,1]\n",
        "VT2 = [2,2,2,2,2,2,2,2]"
      ]
    },
    {
      "cell_type": "code",
      "execution_count": 22,
      "metadata": {
        "colab": {
          "base_uri": "https://localhost:8080/"
        },
        "id": "BmFkqSaVyluH",
        "outputId": "f83fa386-3cf6-4b0b-ce9f-d405649e77d1"
      },
      "outputs": [
        {
          "data": {
            "text/plain": [
              "([1, 2, 2, 2, 2, 2, 2, 2], [2, 1, 1, 1, 1, 1, 1, 1])"
            ]
          },
          "execution_count": 22,
          "metadata": {},
          "output_type": "execute_result"
        }
      ],
      "source": [
        "crossover(VT1,VT2)"
      ]
    },
    {
      "attachments": {},
      "cell_type": "markdown",
      "metadata": {
        "id": "1aG6C4zLF4kp"
      },
      "source": [
        "### Seleciona pais"
      ]
    },
    {
      "cell_type": "code",
      "execution_count": 23,
      "metadata": {
        "id": "USJeP4eIy0qX"
      },
      "outputs": [],
      "source": [
        "def selecao(Populacao):\n",
        "    Candidato1 = random.choice(Populacao)\n",
        "    Candidato2 = random.choice(Populacao)\n",
        "\n",
        "    a1 = conta_ataques(Candidato1)\n",
        "    a2 = conta_ataques(Candidato2)\n",
        "    #print(a1,a2)\n",
        "\n",
        "    # eleito o candidato com menor custo\n",
        "    eleito = Candidato1 if a1<=a2 else Candidato2\n",
        "\n",
        "    return eleito"
      ]
    },
    {
      "cell_type": "code",
      "execution_count": 24,
      "metadata": {
        "colab": {
          "base_uri": "https://localhost:8080/"
        },
        "id": "oYMetv5Yzfsl",
        "outputId": "1321fc71-488a-4ef8-bd72-2bffe4e6925b"
      },
      "outputs": [
        {
          "data": {
            "text/plain": [
              "[2, 2, 2, 2, 2, 2, 2, 2]"
            ]
          },
          "execution_count": 24,
          "metadata": {},
          "output_type": "execute_result"
        }
      ],
      "source": [
        "selecao([VT1,VT2])"
      ]
    },
    {
      "attachments": {},
      "cell_type": "markdown",
      "metadata": {
        "id": "EnkejvpMJjh5"
      },
      "source": [
        "### Gera Indivíduo"
      ]
    },
    {
      "cell_type": "code",
      "execution_count": 25,
      "metadata": {
        "id": "rjDoVFiFJq82"
      },
      "outputs": [],
      "source": [
        "def gera_individuo(n_cols):\n",
        "    # individuo é um Vetor (N) em que cada posicação\n",
        "    # representa uma coluna indicando as respectivas\n",
        "    # linhas ocupadas pelas rainhas em um tabuleiro (NxN).\n",
        "\n",
        "    # VT = [low, high) x n_cols\n",
        "\n",
        "    VT = np.random.randint(low=1, high=n_cols+1, size=n_cols)\n",
        "    return VT"
      ]
    },
    {
      "cell_type": "code",
      "execution_count": 26,
      "metadata": {
        "colab": {
          "base_uri": "https://localhost:8080/"
        },
        "id": "60EZhGMgNdcG",
        "outputId": "7cbedfe4-b2e2-4892-c3ea-b9c21602cdcb"
      },
      "outputs": [
        {
          "data": {
            "text/plain": [
              "array([8, 2, 7, 3, 8, 6, 1, 8])"
            ]
          },
          "execution_count": 26,
          "metadata": {},
          "output_type": "execute_result"
        }
      ],
      "source": [
        "N=8\n",
        "gera_individuo(N)"
      ]
    },
    {
      "attachments": {},
      "cell_type": "markdown",
      "metadata": {
        "id": "0s9cB_ZmJ8iI"
      },
      "source": [
        "### Gera População"
      ]
    },
    {
      "cell_type": "code",
      "execution_count": 27,
      "metadata": {
        "id": "bHOtoOudJmHU"
      },
      "outputs": [],
      "source": [
        "def gera_populacao_inicial(N, tam_pop):\n",
        "    # N:       tamanho do tabuleiro (NxN)\n",
        "    # tam_pop: tamanho da população\n",
        "    populacao = []\n",
        "    for _ in range(tam_pop):\n",
        "        individuo = gera_individuo(N)\n",
        "\n",
        "        populacao.append(individuo)\n",
        "\n",
        "    return populacao"
      ]
    },
    {
      "cell_type": "code",
      "execution_count": null,
      "metadata": {
        "colab": {
          "base_uri": "https://localhost:8080/"
        },
        "id": "lcbFEfWDPM4y",
        "outputId": "e99ea512-dea3-4ec1-ba14-2198fb23ca72"
      },
      "outputs": [
        {
          "data": {
            "text/plain": [
              "[array([7, 3, 8, 6, 8, 6, 3, 6]),\n",
              " array([5, 8, 8, 6, 7, 4, 5, 6]),\n",
              " array([2, 1, 5, 5, 7, 7, 1, 1]),\n",
              " array([4, 4, 6, 2, 5, 3, 5, 1]),\n",
              " array([7, 1, 3, 3, 6, 8, 5, 6]),\n",
              " array([8, 3, 7, 6, 7, 8, 5, 3]),\n",
              " array([6, 7, 1, 3, 6, 6, 6, 8]),\n",
              " array([5, 1, 4, 5, 6, 2, 8, 7]),\n",
              " array([3, 8, 4, 1, 5, 7, 3, 3]),\n",
              " array([4, 6, 4, 8, 2, 6, 4, 6])]"
            ]
          },
          "execution_count": 41,
          "metadata": {},
          "output_type": "execute_result"
        }
      ],
      "source": []
    },
    {
      "attachments": {},
      "cell_type": "markdown",
      "metadata": {
        "id": "l5_i1oumHeHq"
      },
      "source": [
        "## Algoritmo Genético - Implementação"
      ]
    },
    {
      "cell_type": "code",
      "execution_count": null,
      "metadata": {
        "id": "2Y_2nRRkH1sI"
      },
      "outputs": [],
      "source": [
        "# 1) Randomly initialize populations p\n",
        "# 2) Compute fitness of population\n",
        "# 3) Until convergence repeat:\n",
        "#       a) Select parents from population\n",
        "#       b) Crossover and generate new population\n",
        "#       c) Perform mutation on new population\n",
        "#       d) Calculate fitness for new population"
      ]
    },
    {
      "cell_type": "code",
      "execution_count": 28,
      "metadata": {
        "id": "-9BG1wnoJZTI"
      },
      "outputs": [],
      "source": [
        "def algoritmo_genetico():\n",
        "    # pseudo-código:\n",
        "\n",
        "    # START\n",
        "    N = 8\n",
        "    tam_pop = 10\n",
        "    fitness = gera_tuplas_custos # função fitness\n",
        "\n",
        "    # Generate the initial population\n",
        "    Populacao = gera_populacao_inicial(N, tam_pop)\n",
        "\n",
        "    # Compute fitness - apenas em caso de elitismo\n",
        "    #custosPopulacao = fitness(Populacao)\n",
        "\n",
        "    # REPEAT\n",
        "    while (True):\n",
        "        #     Selection\n",
        "        selecao(Populacao)\n",
        "        #     Crossover\n",
        "        #     Mutation\n",
        "        #     Compute fitness\n",
        "        # UNTIL population has converged\n",
        "    # STOP\n",
        "\n",
        "    # coloque seu código aqui\n",
        "    pass"
      ]
    },
    {
      "cell_type": "code",
      "execution_count": null,
      "metadata": {},
      "outputs": [],
      "source": []
    }
  ],
  "metadata": {
    "colab": {
      "provenance": []
    },
    "kernelspec": {
      "display_name": "Python 3",
      "name": "python3"
    },
    "language_info": {
      "codemirror_mode": {
        "name": "ipython",
        "version": 3
      },
      "file_extension": ".py",
      "mimetype": "text/x-python",
      "name": "python",
      "nbconvert_exporter": "python",
      "pygments_lexer": "ipython3",
      "version": "3.11.3"
    }
  },
  "nbformat": 4,
  "nbformat_minor": 0
}
