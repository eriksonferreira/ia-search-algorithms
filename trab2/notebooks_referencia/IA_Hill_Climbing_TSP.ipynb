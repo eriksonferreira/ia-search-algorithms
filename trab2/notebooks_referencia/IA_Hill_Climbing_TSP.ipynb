{
  "cells": [
    {
      "attachments": {},
      "cell_type": "markdown",
      "metadata": {
        "id": "RoohjShG_0YE"
      },
      "source": [
        "# HILL CLIMBING - TSP\n",
        "\n",
        "Aplicação do algoritmo Hill Climbing para solucionar\n",
        "o problema do caixeiro viajante (TSP)"
      ]
    },
    {
      "attachments": {},
      "cell_type": "markdown",
      "metadata": {
        "id": "MbULtXS9LCPn"
      },
      "source": [
        "> Para mais informações sobre o **Algoritmo Hill-climbing**, leia o link abaixo:\n",
        ">>    https://en.wikipedia.org/wiki/Hill_climbing\n",
        "\n",
        "> Uma implementação bem simplista\n",
        ">>    https://towardsdatascience.com/how-to-implement-the-hill-climbing-algorithm-in-python-1c65c29469de\n",
        "\n",
        "---"
      ]
    },
    {
      "attachments": {},
      "cell_type": "markdown",
      "metadata": {
        "id": "CiwSpXyZKi8I"
      },
      "source": [
        "> Para mais informações sobre o **TSP-problem (Problema do Caixeiro Viajante)**, leia os links abaixo:\n",
        "\n",
        ">>    https://pt.wikipedia.org/wiki/Problema_do_caixeiro-viajante\n",
        "\n",
        ">>    https://en.wikipedia.org/wiki/Travelling_salesman_problem\n",
        "\n",
        ">    NP-Hard\n",
        "\n",
        ">>    https://pt.wikipedia.org/wiki/NP-dif%C3%ADcil\n",
        "\n",
        "---"
      ]
    },
    {
      "attachments": {},
      "cell_type": "markdown",
      "metadata": {
        "id": "Lz9EzErHycV_"
      },
      "source": [
        "## Importações"
      ]
    },
    {
      "cell_type": "code",
      "execution_count": 1,
      "metadata": {
        "id": "sdnQDwnTiFDL"
      },
      "outputs": [],
      "source": [
        "# Manipulação de dados\n",
        "import numpy as np\n",
        "import pandas as pd\n",
        "\n",
        "# Geração de números aleatórios\n",
        "import random"
      ]
    },
    {
      "cell_type": "code",
      "execution_count": 2,
      "metadata": {
        "id": "q15dV5KaE2YU"
      },
      "outputs": [],
      "source": [
        "# Geração de gráficos\n",
        "import matplotlib.pyplot as plt\n",
        "import seaborn as sns\n",
        "import plotly.express as px\n",
        "import plotly.graph_objects as go"
      ]
    },
    {
      "attachments": {},
      "cell_type": "markdown",
      "metadata": {
        "id": "CT7FTs8fyZCf"
      },
      "source": [
        "## Funções Auxiliares"
      ]
    },
    {
      "attachments": {},
      "cell_type": "markdown",
      "metadata": {
        "id": "bbAFq9rsyR-f"
      },
      "source": [
        "### Solução Aleatória"
      ]
    },
    {
      "cell_type": "code",
      "execution_count": 3,
      "metadata": {
        "id": "5pnHjBx7ho_M"
      },
      "outputs": [],
      "source": [
        "# Cria uma solucao inicial com as cidades em um ordem aleatoria\n",
        "\n",
        "def solucao_aleatoria(tsp):\n",
        "    cidades = list(tsp.keys())\n",
        "    solucao = []\n",
        "\n",
        "    # as 3 linhas abaixo não são estritamente necessarias, servem\n",
        "    # apenas para fixar a primeira cidade da lista na solução\n",
        "    cidade = cidades[0]\n",
        "    solucao.append(cidade)\n",
        "    cidades.remove(cidade)\n",
        "\n",
        "    for _ in range(0,len(cidades)):\n",
        "        #print(_, cidades, solucao)\n",
        "        cidade = random.choice(cidades)\n",
        "\n",
        "        solucao.append(cidade)\n",
        "        cidades.remove(cidade)\n",
        "\n",
        "    return solucao"
      ]
    },
    {
      "cell_type": "code",
      "execution_count": 4,
      "metadata": {
        "id": "7pFq1Rkcih02"
      },
      "outputs": [],
      "source": [
        "# Cria uma solucao inicial com as cidades em um ordem de PROXIMIDADE\n",
        "# testes demonstraram que esta solução fica presa em um mínimo local\n",
        "\n",
        "# def solucao_aleatoria(tsp):\n",
        "#     cidades = list(tsp.keys())\n",
        "#     solucao = []\n",
        "\n",
        "#     # as 3 linhas abaixo não são estritamente necessarias, servem\n",
        "#     # apenas para fixar a primeira cidade da lista na solução\n",
        "#     cidade = cidades[0]\n",
        "#     solucao.append(cidade)\n",
        "#     cidades.remove(cidade)\n",
        "\n",
        "#     for _ in range(0,len(cidades)):\n",
        "#         #print(_, cidades, solucao, \">>>\")\n",
        "\n",
        "#         dist_cid = tsp.loc[cidade].items()\n",
        "#         idx_val   = [(idx,val) for idx,val in dist_cid\n",
        "#                         if val>0 and idx not in solucao]\n",
        "\n",
        "#         cidade = min(idx_val, key=lambda k: k[1])[0]\n",
        "\n",
        "#         #print(_,cidade, idx_val, list(dist_cid))\n",
        "\n",
        "#         solucao.append(cidade)\n",
        "#         cidades.remove(cidade)\n",
        "\n",
        "#     return solucao"
      ]
    },
    {
      "attachments": {},
      "cell_type": "markdown",
      "metadata": {
        "id": "AUwlyv7Zymr2"
      },
      "source": [
        "### Calcula Custo"
      ]
    },
    {
      "cell_type": "code",
      "execution_count": 5,
      "metadata": {
        "id": "dXqFqtOzoDKF"
      },
      "outputs": [],
      "source": [
        "# Função Objetivo: calcula custo de uma dada solução.\n",
        "# Obs: Neste caso do problema do caixeiro viajante (TSP problem),\n",
        "# o custo é o comprimento da rota entre todas as cidades.\n",
        "def calcula_custo(tsp, solucao):\n",
        "\n",
        "    N = len(solucao)\n",
        "    custo = 0\n",
        "\n",
        "    for i in range(N):\n",
        "\n",
        "        # Quando chegar na última cidade, será necessário\n",
        "        # voltar para o início para adicionar o\n",
        "        # comprimento da rota da última cidade\n",
        "        # até a primeira cidade, fechando o ciclo.\n",
        "        #\n",
        "        # Por isso, a linha abaixo:\n",
        "        k = (i+1) % N\n",
        "        cidadeA = solucao[i]\n",
        "        cidadeB = solucao[k]\n",
        "\n",
        "        custo += tsp.loc[cidadeA, cidadeB]\n",
        "\n",
        "        #print(tsp.loc[cidadeA, cidadeB], cidadeA,cidadeB)\n",
        "\n",
        "    return custo"
      ]
    },
    {
      "attachments": {},
      "cell_type": "markdown",
      "metadata": {
        "id": "ZPWKv8KDyrpu"
      },
      "source": [
        "### Gera Vizinhos"
      ]
    },
    {
      "attachments": {},
      "cell_type": "markdown",
      "metadata": {
        "id": "Oa7gSiAL0x_T"
      },
      "source": [
        "Obs: a função `obtem_vizinhos` descrita abaixo foi gerada de forma simplificada, pois ela assume que todos os vizinhos possuem rota direta entre si. Isto tem caráter didático para simplifcar a solução. Observe que na prática isso nem sempre existe rotas diretas entre todas as cidades e, em tais casos, pode ser necessário modificar a função para corresponder a tais restrições."
      ]
    },
    {
      "cell_type": "code",
      "execution_count": 6,
      "metadata": {
        "id": "MBaFXjokwxR-"
      },
      "outputs": [],
      "source": [
        "# A partir de uma dada solução, gera diversas variações (vizinhos)\n",
        "def gera_vizinhos(solucao):\n",
        "\n",
        "    N = len(solucao)\n",
        "    for i in range(1, N):       # deixa o primeiro fixo\n",
        "        for j in range(i + 1, N):\n",
        "            vizinho = solucao.copy()\n",
        "            vizinho[i] = solucao[j]\n",
        "            vizinho[j] = solucao[i]\n",
        "\n",
        "            yield(vizinho)\n"
      ]
    },
    {
      "attachments": {},
      "cell_type": "markdown",
      "metadata": {
        "id": "6uhsnJTlyuH2"
      },
      "source": [
        "### Seleciona Melhor Vizinho"
      ]
    },
    {
      "cell_type": "code",
      "execution_count": 7,
      "metadata": {
        "id": "cV-59YdMty5f"
      },
      "outputs": [],
      "source": [
        "def obtem_melhor_vizinho(tsp, solucao):\n",
        "    melhor_custo = calcula_custo(tsp, solucao)\n",
        "    melhor_vizinho = solucao\n",
        "\n",
        "    for vizinho in gera_vizinhos(solucao):\n",
        "        custo_atual = calcula_custo(tsp, vizinho)\n",
        "        if custo_atual < melhor_custo:\n",
        "            melhor_custo = custo_atual\n",
        "            melhor_vizinho = vizinho\n",
        "\n",
        "    return melhor_vizinho, melhor_custo\n"
      ]
    },
    {
      "attachments": {},
      "cell_type": "markdown",
      "metadata": {
        "id": "IDygPud_y102"
      },
      "source": [
        "### Random-Walk - clássico"
      ]
    },
    {
      "cell_type": "code",
      "execution_count": 8,
      "metadata": {
        "id": "0-rB8g_KJFvb"
      },
      "outputs": [],
      "source": [
        "def obtem_vizinho_aleatorio(tsp, solucao):\n",
        "\n",
        "    vizinhos = list(gera_vizinhos(solucao))\n",
        "\n",
        "    aleatorio_vizinho  = random.choice(vizinhos)\n",
        "    aleatorio_custo    = calcula_custo(tsp, aleatorio_vizinho)\n",
        "\n",
        "    return aleatorio_vizinho, aleatorio_custo\n"
      ]
    },
    {
      "cell_type": "code",
      "execution_count": 9,
      "metadata": {
        "id": "-hs6-Gy6m_GE"
      },
      "outputs": [],
      "source": [
        "def random_walk(tsp):\n",
        "    solucao_inicial = solucao_aleatoria(tsp)\n",
        "\n",
        "    atual_solucao, atual_custo = obtem_vizinho_aleatorio(tsp, solucao_inicial)\n",
        "\n",
        "    for _ in range(30):\n",
        "        atual_solucao, atual_custo = obtem_vizinho_aleatorio(tsp, atual_solucao)\n",
        "\n",
        "    return atual_custo, atual_solucao"
      ]
    },
    {
      "attachments": {},
      "cell_type": "markdown",
      "metadata": {
        "id": "u8heFDeNFnxf"
      },
      "source": [
        "### Hill-Climbing - clássico"
      ]
    },
    {
      "cell_type": "code",
      "execution_count": 10,
      "metadata": {
        "id": "_XQSpYV3Fnxs"
      },
      "outputs": [],
      "source": [
        "# def hill_climbing(tsp):\n",
        "#     solucao_inicial = solucao_aleatoria(tsp)\n",
        "\n",
        "#     melhor_solucao, melhor_custo = obtem_melhor_vizinho(tsp, solucao_inicial)\n",
        "\n",
        "#     while True:\n",
        "#         vizinho_atual = melhor_solucao\n",
        "#         custo_atual   = melhor_custo\n",
        "\n",
        "#         melhor_solucao, melhor_custo = obtem_melhor_vizinho(tsp, vizinho_atual)\n",
        "#         #print(melhor_custo)\n",
        "\n",
        "#         if custo_atual <= melhor_custo:\n",
        "#             break\n",
        "\n",
        "#     return custo_atual, melhor_solucao"
      ]
    },
    {
      "cell_type": "code",
      "execution_count": 54,
      "metadata": {
        "id": "e5plsCDp9Eha"
      },
      "outputs": [],
      "source": [
        "def hill_climbing(tsp):\n",
        "\n",
        "    # solucao inicial\n",
        "    solucao_inicial = solucao_aleatoria(tsp)\n",
        "    print(solucao_inicial)\n",
        "    # melhor solucao ate o momento\n",
        "    solucao_melhor, custo_melhor = obtem_melhor_vizinho(tsp, solucao_inicial)\n",
        "\n",
        "    while True:\n",
        "\n",
        "        # tenta obter um candidato melhor\n",
        "        candidato_atual, custo_atual = obtem_melhor_vizinho(tsp, solucao_melhor)\n",
        "        #print(custo_melhor, custo_atual)\n",
        "\n",
        "        if custo_atual < custo_melhor:\n",
        "            custo_melhor   = custo_atual\n",
        "            solucao_melhor = candidato_atual\n",
        "        else:\n",
        "            break   # custo nao melhorou, entao sai do while\n",
        "\n",
        "    return custo_melhor, solucao_melhor"
      ]
    },
    {
      "cell_type": "code",
      "execution_count": null,
      "metadata": {},
      "outputs": [],
      "source": [
        "# def hill_climbing_restart(tsp):\n",
        "\n",
        "#     # solucao inicial\n",
        "#     solucao_inicial = solucao_aleatoria(tsp)\n",
        "#     # melhor solucao ate o momento\n",
        "#     solucao_melhor, custo_melhor = obtem_melhor_vizinho(tsp, solucao_inicial)\n",
        "\n",
        "#     while True:\n",
        "\n",
        "#         # tenta obter um candidato melhor\n",
        "#         candidato_atual, custo_atual = obtem_melhor_vizinho(tsp, solucao_melhor)\n",
        "#         #print(custo_melhor, custo_atual)\n",
        "\n",
        "#         if custo_atual < custo_melhor:\n",
        "#             custo_melhor   = custo_atual\n",
        "#             solucao_melhor = candidato_atual\n",
        "#         else:\n",
        "#             break   # custo nao melhorou, entao sai do while\n",
        "\n",
        "#     return custo_melhor, solucao_melhor"
      ]
    },
    {
      "attachments": {},
      "cell_type": "markdown",
      "metadata": {
        "id": "AMaHZiqcf6_h"
      },
      "source": [
        "### Cálculo da Matriz de Distâncias"
      ]
    },
    {
      "cell_type": "code",
      "execution_count": 55,
      "metadata": {
        "id": "FmDVvyLOnVGL"
      },
      "outputs": [],
      "source": [
        "from math import sqrt"
      ]
    },
    {
      "cell_type": "code",
      "execution_count": 56,
      "metadata": {
        "id": "vbf9PTKKnGLV"
      },
      "outputs": [],
      "source": [
        "# distancia Euclidiana entre dois pontos\n",
        "def distancia(x1,y1,x2,y2):\n",
        "    dx = x2 - x1\n",
        "    dy = y2 - y1\n",
        "    return sqrt(dx**2 + dy**2)"
      ]
    },
    {
      "cell_type": "code",
      "execution_count": 57,
      "metadata": {
        "id": "TdPbzlcHkkdH"
      },
      "outputs": [],
      "source": [
        "# Calcula matriz de distancias.\n",
        "#\n",
        "# OBS:  Não é estritamente necessario calculá-las a priori.\n",
        "#       Foi feito assim apenas para fins didáticos.\n",
        "#       Ao invés, as distâncias podem ser calculadas sob demanda.\n",
        "\n",
        "def gera_matriz_distancias(Coordenadas):\n",
        "\n",
        "    n_cidades = len(Coordenadas)\n",
        "    dist = np.zeros((n_cidades,n_cidades), dtype=float)\n",
        "\n",
        "    for i in range(0, n_cidades):\n",
        "        for j in range(i+1, n_cidades):\n",
        "            x1,y1 = Coordenadas.iloc[i]\n",
        "            x2,y2 = Coordenadas.iloc[j]\n",
        "\n",
        "            dist[i,j] = distancia(x1,y1,x2,y2)\n",
        "            dist[j,i] = dist[i,j]\n",
        "\n",
        "    return dist"
      ]
    },
    {
      "attachments": {},
      "cell_type": "markdown",
      "metadata": {
        "id": "cQ6Q4b9Fy89O"
      },
      "source": [
        "### Gerador de Problemas Aleatórios"
      ]
    },
    {
      "cell_type": "code",
      "execution_count": 58,
      "metadata": {
        "id": "zZgIg5fWjKBO"
      },
      "outputs": [],
      "source": [
        "# Gera aleatoriamente as coordenadas de N cidades.\n",
        "# Obs: esta informação geralmente é fornecida como entrada do problema.\n",
        "\n",
        "def gera_coordenadas_aleatorias(n_cidades):\n",
        "    minimo = 10\n",
        "    maximo = 90\n",
        "    escala = (maximo-minimo)-1\n",
        "\n",
        "    # gera n coordenadas (x,y) aleatorias entre [min, max]\n",
        "    X = minimo + escala * np.random.rand(n_cidades)\n",
        "    Y = minimo + escala * np.random.rand(n_cidades)\n",
        "    coordenadas = {'X':X, 'Y': Y}\n",
        "\n",
        "    cidades = ['A'+str(i) for i in range(n_cidades)]\n",
        "\n",
        "    df_cidades = pd.DataFrame(coordenadas, index=cidades)\n",
        "    df_cidades.index.name = 'CIDADE'\n",
        "\n",
        "    return df_cidades\n"
      ]
    },
    {
      "cell_type": "code",
      "execution_count": 59,
      "metadata": {
        "id": "Skb8aRVerxrW"
      },
      "outputs": [],
      "source": [
        "# Recebe uma lista com as coordenadas reais de uma cidade e\n",
        "# gera uma matriz de distancias entre as cidades.\n",
        "# Obs: a matriz é simetrica e com diagonal nula\n",
        "def gera_problema_tsp(df_cidades):\n",
        "    # nomes ficticios das cidades\n",
        "    cidades = df_cidades.index\n",
        "\n",
        "    # calcula matriz de distancias\n",
        "    distancias = gera_matriz_distancias(df_cidades)\n",
        "\n",
        "    # cria estrutura para armazena as distâncias entre todas as cidades\n",
        "    tsp = pd.DataFrame(distancias, columns=cidades, index=cidades)\n",
        "\n",
        "    return tsp"
      ]
    },
    {
      "attachments": {},
      "cell_type": "markdown",
      "metadata": {
        "id": "pyWu6gBtSBmd"
      },
      "source": [
        "### Plota Rotas"
      ]
    },
    {
      "cell_type": "code",
      "execution_count": 60,
      "metadata": {
        "id": "ocZMj2kTsPyn"
      },
      "outputs": [],
      "source": [
        "# # Plota Rotas usando a biblioteca SEABORN\n",
        "# def plota_rotas_sns(df_cidades, ordem_cidades):\n",
        "#     # Plota a solução do roteamento das cidades\n",
        "#     df_solucao = df_cidades.copy()\n",
        "#     df_solucao = df_solucao.reindex(ordem_cidades)\n",
        "\n",
        "#     sns.scatterplot(data = df_solucao, x = 'X', y = 'Y', s=50)\n",
        "#     sns.lineplot(data = df_solucao, x = 'X', y = 'Y', sort=False, estimator=None)\n",
        "\n",
        "#     # liga a última à primeira cidade para fechar o ciclo\n",
        "#     sns.lineplot(data = df_solucao.iloc[[-1,0]], x = 'X', y = 'Y', sort=False)\n",
        "\n",
        "#     n_lin = df_solucao.shape[0] # numero de linhas do df\n",
        "#     X = df_solucao['X']\n",
        "#     Y = df_solucao['Y']\n",
        "\n",
        "#     # loop para adicionar anotações uma a uma\n",
        "#     for i in range(0, n_lin):\n",
        "#         plt.text(X.iloc[i], Y.iloc[i], df_solucao.index[i],\n",
        "#                 horizontalalignment='left', size='medium',\n",
        "#                 color='black', weight='semibold')\n",
        "\n",
        "#     plt.show()"
      ]
    },
    {
      "cell_type": "code",
      "execution_count": 61,
      "metadata": {
        "id": "M8R9R8COYWvZ"
      },
      "outputs": [],
      "source": [
        "# Plota a solução do roteamento das cidades\n",
        "# usando a biblioteca PLOTLY\n",
        "def plota_rotas(df_cidades, ordem_cidades):\n",
        "    df_solucao = df_cidades.copy()\n",
        "    df_solucao = df_solucao.reindex(ordem_cidades)\n",
        "\n",
        "    X = df_solucao['X']\n",
        "    Y = df_solucao['Y']\n",
        "    cidades = list(df_solucao.index)\n",
        "\n",
        "    # cria objeto gráfico\n",
        "    fig = go.Figure()\n",
        "\n",
        "    fig.update_layout(autosize=False, width=500, height=500, showlegend=False)\n",
        "\n",
        "    # gera linhas com as rotas da primeira ate a ultima cidade\n",
        "    fig.add_trace(go.Scatter(x=X, y=Y,\n",
        "                             text=cidades, textposition='bottom center',\n",
        "                             mode='lines+markers+text',\n",
        "                             name=''))\n",
        "\n",
        "    # acrescenta linha da última para a primeira para fechar o ciclo\n",
        "    fig.add_trace(go.Scatter(x=X.iloc[[-1,0]], y=Y.iloc[[-1,0]],\n",
        "                             mode='lines+markers', name=''))\n",
        "\n",
        "    fig.show()"
      ]
    },
    {
      "attachments": {},
      "cell_type": "markdown",
      "metadata": {
        "id": "AbPTkNOk3rg0"
      },
      "source": [
        "### Boxplots"
      ]
    },
    {
      "cell_type": "code",
      "execution_count": 62,
      "metadata": {
        "id": "TSg7XCawEMsw"
      },
      "outputs": [],
      "source": [
        "def boxplot_sorted(df, rot=90, figsize=(12,6), fontsize=20):\n",
        "    df2 = df.T\n",
        "    meds = df2.median().sort_values(ascending=False)\n",
        "    axes = df2[meds.index].boxplot(figsize=figsize, rot=rot, fontsize=fontsize,\n",
        "                                   boxprops=dict(linewidth=4, color='cornflowerblue'),\n",
        "                                   whiskerprops=dict(linewidth=4, color='cornflowerblue'),\n",
        "                                   medianprops=dict(linewidth=4, color='firebrick'),\n",
        "                                   capprops=dict(linewidth=4, color='cornflowerblue'),\n",
        "                                   flierprops=dict(marker='o', markerfacecolor='dimgray',\n",
        "                                        markersize=12, markeredgecolor='black'),\n",
        "                                   return_type=\"axes\")\n",
        "\n",
        "    axes.set_title(\"Cost of Algorithms\", fontsize=fontsize)"
      ]
    },
    {
      "attachments": {},
      "cell_type": "markdown",
      "metadata": {
        "id": "f2jeWvnrzL7F"
      },
      "source": [
        "## Execução"
      ]
    },
    {
      "attachments": {},
      "cell_type": "markdown",
      "metadata": {
        "id": "41bEisx8zgNO"
      },
      "source": [
        "### Executa 1 vez"
      ]
    },
    {
      "cell_type": "code",
      "execution_count": 63,
      "metadata": {
        "colab": {
          "base_uri": "https://localhost:8080/",
          "height": 394
        },
        "id": "2GtKI8xbECbg",
        "outputId": "bb3a5b3e-f599-4bee-99ea-005a3184e64d"
      },
      "outputs": [
        {
          "data": {
            "text/html": [
              "<div>\n",
              "<style scoped>\n",
              "    .dataframe tbody tr th:only-of-type {\n",
              "        vertical-align: middle;\n",
              "    }\n",
              "\n",
              "    .dataframe tbody tr th {\n",
              "        vertical-align: top;\n",
              "    }\n",
              "\n",
              "    .dataframe thead th {\n",
              "        text-align: right;\n",
              "    }\n",
              "</style>\n",
              "<table border=\"1\" class=\"dataframe\">\n",
              "  <thead>\n",
              "    <tr style=\"text-align: right;\">\n",
              "      <th></th>\n",
              "      <th>X</th>\n",
              "      <th>Y</th>\n",
              "    </tr>\n",
              "    <tr>\n",
              "      <th>CIDADE</th>\n",
              "      <th></th>\n",
              "      <th></th>\n",
              "    </tr>\n",
              "  </thead>\n",
              "  <tbody>\n",
              "    <tr>\n",
              "      <th>A0</th>\n",
              "      <td>33.912971</td>\n",
              "      <td>79.257717</td>\n",
              "    </tr>\n",
              "    <tr>\n",
              "      <th>A1</th>\n",
              "      <td>29.802902</td>\n",
              "      <td>36.727416</td>\n",
              "    </tr>\n",
              "    <tr>\n",
              "      <th>A2</th>\n",
              "      <td>54.734885</td>\n",
              "      <td>58.694666</td>\n",
              "    </tr>\n",
              "    <tr>\n",
              "      <th>A3</th>\n",
              "      <td>35.042391</td>\n",
              "      <td>10.034897</td>\n",
              "    </tr>\n",
              "    <tr>\n",
              "      <th>A4</th>\n",
              "      <td>46.657778</td>\n",
              "      <td>35.021399</td>\n",
              "    </tr>\n",
              "    <tr>\n",
              "      <th>A5</th>\n",
              "      <td>56.442236</td>\n",
              "      <td>84.201266</td>\n",
              "    </tr>\n",
              "    <tr>\n",
              "      <th>A6</th>\n",
              "      <td>46.179874</td>\n",
              "      <td>18.225799</td>\n",
              "    </tr>\n",
              "    <tr>\n",
              "      <th>A7</th>\n",
              "      <td>58.970971</td>\n",
              "      <td>86.733399</td>\n",
              "    </tr>\n",
              "    <tr>\n",
              "      <th>A8</th>\n",
              "      <td>34.442632</td>\n",
              "      <td>28.501463</td>\n",
              "    </tr>\n",
              "    <tr>\n",
              "      <th>A9</th>\n",
              "      <td>67.406328</td>\n",
              "      <td>31.784071</td>\n",
              "    </tr>\n",
              "  </tbody>\n",
              "</table>\n",
              "</div>"
            ],
            "text/plain": [
              "                X          Y\n",
              "CIDADE                      \n",
              "A0      33.912971  79.257717\n",
              "A1      29.802902  36.727416\n",
              "A2      54.734885  58.694666\n",
              "A3      35.042391  10.034897\n",
              "A4      46.657778  35.021399\n",
              "A5      56.442236  84.201266\n",
              "A6      46.179874  18.225799\n",
              "A7      58.970971  86.733399\n",
              "A8      34.442632  28.501463\n",
              "A9      67.406328  31.784071"
            ]
          },
          "execution_count": 63,
          "metadata": {},
          "output_type": "execute_result"
        }
      ],
      "source": [
        "# Simula a criação de N cidades\n",
        "# com suas respectivas distâncias\n",
        "\n",
        "n_cidades=10\n",
        "df_coordenadas = gera_coordenadas_aleatorias(n_cidades)\n",
        "df_coordenadas"
      ]
    },
    {
      "cell_type": "code",
      "execution_count": 64,
      "metadata": {
        "colab": {
          "base_uri": "https://localhost:8080/",
          "height": 394
        },
        "id": "nb0tzV--KUAc",
        "outputId": "a81cf0b3-262a-40ad-92fd-aab8596c086b"
      },
      "outputs": [
        {
          "data": {
            "text/html": [
              "<div>\n",
              "<style scoped>\n",
              "    .dataframe tbody tr th:only-of-type {\n",
              "        vertical-align: middle;\n",
              "    }\n",
              "\n",
              "    .dataframe tbody tr th {\n",
              "        vertical-align: top;\n",
              "    }\n",
              "\n",
              "    .dataframe thead th {\n",
              "        text-align: right;\n",
              "    }\n",
              "</style>\n",
              "<table border=\"1\" class=\"dataframe\">\n",
              "  <thead>\n",
              "    <tr style=\"text-align: right;\">\n",
              "      <th>CIDADE</th>\n",
              "      <th>A0</th>\n",
              "      <th>A1</th>\n",
              "      <th>A2</th>\n",
              "      <th>A3</th>\n",
              "      <th>A4</th>\n",
              "      <th>A5</th>\n",
              "      <th>A6</th>\n",
              "      <th>A7</th>\n",
              "      <th>A8</th>\n",
              "      <th>A9</th>\n",
              "    </tr>\n",
              "    <tr>\n",
              "      <th>CIDADE</th>\n",
              "      <th></th>\n",
              "      <th></th>\n",
              "      <th></th>\n",
              "      <th></th>\n",
              "      <th></th>\n",
              "      <th></th>\n",
              "      <th></th>\n",
              "      <th></th>\n",
              "      <th></th>\n",
              "      <th></th>\n",
              "    </tr>\n",
              "  </thead>\n",
              "  <tbody>\n",
              "    <tr>\n",
              "      <th>A0</th>\n",
              "      <td>0.000000</td>\n",
              "      <td>42.728435</td>\n",
              "      <td>29.264162</td>\n",
              "      <td>69.232033</td>\n",
              "      <td>46.035659</td>\n",
              "      <td>23.065265</td>\n",
              "      <td>62.252485</td>\n",
              "      <td>26.149364</td>\n",
              "      <td>50.759017</td>\n",
              "      <td>58.099501</td>\n",
              "    </tr>\n",
              "    <tr>\n",
              "      <th>A1</th>\n",
              "      <td>42.728435</td>\n",
              "      <td>0.000000</td>\n",
              "      <td>33.228961</td>\n",
              "      <td>27.201890</td>\n",
              "      <td>16.940996</td>\n",
              "      <td>54.437308</td>\n",
              "      <td>24.708603</td>\n",
              "      <td>57.891058</td>\n",
              "      <td>9.444226</td>\n",
              "      <td>37.926961</td>\n",
              "    </tr>\n",
              "    <tr>\n",
              "      <th>A2</th>\n",
              "      <td>29.264162</td>\n",
              "      <td>33.228961</td>\n",
              "      <td>0.000000</td>\n",
              "      <td>52.493499</td>\n",
              "      <td>25.013261</td>\n",
              "      <td>25.563679</td>\n",
              "      <td>41.363237</td>\n",
              "      <td>28.356921</td>\n",
              "      <td>36.378635</td>\n",
              "      <td>29.744673</td>\n",
              "    </tr>\n",
              "    <tr>\n",
              "      <th>A3</th>\n",
              "      <td>69.232033</td>\n",
              "      <td>27.201890</td>\n",
              "      <td>52.493499</td>\n",
              "      <td>0.000000</td>\n",
              "      <td>27.554355</td>\n",
              "      <td>77.191992</td>\n",
              "      <td>13.825137</td>\n",
              "      <td>80.344491</td>\n",
              "      <td>18.476303</td>\n",
              "      <td>38.992961</td>\n",
              "    </tr>\n",
              "    <tr>\n",
              "      <th>A4</th>\n",
              "      <td>46.035659</td>\n",
              "      <td>16.940996</td>\n",
              "      <td>25.013261</td>\n",
              "      <td>27.554355</td>\n",
              "      <td>0.000000</td>\n",
              "      <td>50.143742</td>\n",
              "      <td>16.802398</td>\n",
              "      <td>53.157743</td>\n",
              "      <td>13.846276</td>\n",
              "      <td>20.999586</td>\n",
              "    </tr>\n",
              "    <tr>\n",
              "      <th>A5</th>\n",
              "      <td>23.065265</td>\n",
              "      <td>54.437308</td>\n",
              "      <td>25.563679</td>\n",
              "      <td>77.191992</td>\n",
              "      <td>50.143742</td>\n",
              "      <td>0.000000</td>\n",
              "      <td>66.768842</td>\n",
              "      <td>3.578575</td>\n",
              "      <td>59.886982</td>\n",
              "      <td>53.551598</td>\n",
              "    </tr>\n",
              "    <tr>\n",
              "      <th>A6</th>\n",
              "      <td>62.252485</td>\n",
              "      <td>24.708603</td>\n",
              "      <td>41.363237</td>\n",
              "      <td>13.825137</td>\n",
              "      <td>16.802398</td>\n",
              "      <td>66.768842</td>\n",
              "      <td>0.000000</td>\n",
              "      <td>69.691488</td>\n",
              "      <td>15.599748</td>\n",
              "      <td>25.187082</td>\n",
              "    </tr>\n",
              "    <tr>\n",
              "      <th>A7</th>\n",
              "      <td>26.149364</td>\n",
              "      <td>57.891058</td>\n",
              "      <td>28.356921</td>\n",
              "      <td>80.344491</td>\n",
              "      <td>53.157743</td>\n",
              "      <td>3.578575</td>\n",
              "      <td>69.691488</td>\n",
              "      <td>0.000000</td>\n",
              "      <td>63.187007</td>\n",
              "      <td>55.593021</td>\n",
              "    </tr>\n",
              "    <tr>\n",
              "      <th>A8</th>\n",
              "      <td>50.759017</td>\n",
              "      <td>9.444226</td>\n",
              "      <td>36.378635</td>\n",
              "      <td>18.476303</td>\n",
              "      <td>13.846276</td>\n",
              "      <td>59.886982</td>\n",
              "      <td>15.599748</td>\n",
              "      <td>63.187007</td>\n",
              "      <td>0.000000</td>\n",
              "      <td>33.126738</td>\n",
              "    </tr>\n",
              "    <tr>\n",
              "      <th>A9</th>\n",
              "      <td>58.099501</td>\n",
              "      <td>37.926961</td>\n",
              "      <td>29.744673</td>\n",
              "      <td>38.992961</td>\n",
              "      <td>20.999586</td>\n",
              "      <td>53.551598</td>\n",
              "      <td>25.187082</td>\n",
              "      <td>55.593021</td>\n",
              "      <td>33.126738</td>\n",
              "      <td>0.000000</td>\n",
              "    </tr>\n",
              "  </tbody>\n",
              "</table>\n",
              "</div>"
            ],
            "text/plain": [
              "CIDADE         A0         A1         A2         A3         A4         A5  \\\n",
              "CIDADE                                                                     \n",
              "A0       0.000000  42.728435  29.264162  69.232033  46.035659  23.065265   \n",
              "A1      42.728435   0.000000  33.228961  27.201890  16.940996  54.437308   \n",
              "A2      29.264162  33.228961   0.000000  52.493499  25.013261  25.563679   \n",
              "A3      69.232033  27.201890  52.493499   0.000000  27.554355  77.191992   \n",
              "A4      46.035659  16.940996  25.013261  27.554355   0.000000  50.143742   \n",
              "A5      23.065265  54.437308  25.563679  77.191992  50.143742   0.000000   \n",
              "A6      62.252485  24.708603  41.363237  13.825137  16.802398  66.768842   \n",
              "A7      26.149364  57.891058  28.356921  80.344491  53.157743   3.578575   \n",
              "A8      50.759017   9.444226  36.378635  18.476303  13.846276  59.886982   \n",
              "A9      58.099501  37.926961  29.744673  38.992961  20.999586  53.551598   \n",
              "\n",
              "CIDADE         A6         A7         A8         A9  \n",
              "CIDADE                                              \n",
              "A0      62.252485  26.149364  50.759017  58.099501  \n",
              "A1      24.708603  57.891058   9.444226  37.926961  \n",
              "A2      41.363237  28.356921  36.378635  29.744673  \n",
              "A3      13.825137  80.344491  18.476303  38.992961  \n",
              "A4      16.802398  53.157743  13.846276  20.999586  \n",
              "A5      66.768842   3.578575  59.886982  53.551598  \n",
              "A6       0.000000  69.691488  15.599748  25.187082  \n",
              "A7      69.691488   0.000000  63.187007  55.593021  \n",
              "A8      15.599748  63.187007   0.000000  33.126738  \n",
              "A9      25.187082  55.593021  33.126738   0.000000  "
            ]
          },
          "execution_count": 64,
          "metadata": {},
          "output_type": "execute_result"
        }
      ],
      "source": [
        "tsp = gera_problema_tsp(df_coordenadas)\n",
        "tsp"
      ]
    },
    {
      "cell_type": "code",
      "execution_count": 65,
      "metadata": {
        "colab": {
          "base_uri": "https://localhost:8080/",
          "height": 517
        },
        "id": "xrzuCOtFqSap",
        "outputId": "724fcdaa-f510-42d7-ef79-9c42c79e972b"
      },
      "outputs": [
        {
          "data": {
            "application/vnd.plotly.v1+json": {
              "config": {
                "plotlyServerURL": "https://plot.ly"
              },
              "data": [
                {
                  "mode": "lines+markers+text",
                  "name": "",
                  "text": [
                    "A0",
                    "A1",
                    "A2",
                    "A3",
                    "A4",
                    "A5",
                    "A6",
                    "A7",
                    "A8",
                    "A9"
                  ],
                  "textposition": "bottom center",
                  "type": "scatter",
                  "x": [
                    33.91297054737035,
                    29.802901564897578,
                    54.73488539015291,
                    35.04239050655312,
                    46.65777812853628,
                    56.44223585170059,
                    46.17987392224547,
                    58.97097104128197,
                    34.442631810094674,
                    67.40632822395816
                  ],
                  "y": [
                    79.25771675832044,
                    36.72741625024739,
                    58.6946658004894,
                    10.034897230526072,
                    35.02139901317601,
                    84.20126571702515,
                    18.225798898768865,
                    86.7333992510954,
                    28.501463043320012,
                    31.78407091440588
                  ]
                },
                {
                  "mode": "lines+markers",
                  "name": "",
                  "type": "scatter",
                  "x": [
                    67.40632822395816,
                    33.91297054737035
                  ],
                  "y": [
                    31.78407091440588,
                    79.25771675832044
                  ]
                }
              ],
              "layout": {
                "autosize": false,
                "height": 500,
                "showlegend": false,
                "template": {
                  "data": {
                    "bar": [
                      {
                        "error_x": {
                          "color": "#2a3f5f"
                        },
                        "error_y": {
                          "color": "#2a3f5f"
                        },
                        "marker": {
                          "line": {
                            "color": "#E5ECF6",
                            "width": 0.5
                          },
                          "pattern": {
                            "fillmode": "overlay",
                            "size": 10,
                            "solidity": 0.2
                          }
                        },
                        "type": "bar"
                      }
                    ],
                    "barpolar": [
                      {
                        "marker": {
                          "line": {
                            "color": "#E5ECF6",
                            "width": 0.5
                          },
                          "pattern": {
                            "fillmode": "overlay",
                            "size": 10,
                            "solidity": 0.2
                          }
                        },
                        "type": "barpolar"
                      }
                    ],
                    "carpet": [
                      {
                        "aaxis": {
                          "endlinecolor": "#2a3f5f",
                          "gridcolor": "white",
                          "linecolor": "white",
                          "minorgridcolor": "white",
                          "startlinecolor": "#2a3f5f"
                        },
                        "baxis": {
                          "endlinecolor": "#2a3f5f",
                          "gridcolor": "white",
                          "linecolor": "white",
                          "minorgridcolor": "white",
                          "startlinecolor": "#2a3f5f"
                        },
                        "type": "carpet"
                      }
                    ],
                    "choropleth": [
                      {
                        "colorbar": {
                          "outlinewidth": 0,
                          "ticks": ""
                        },
                        "type": "choropleth"
                      }
                    ],
                    "contour": [
                      {
                        "colorbar": {
                          "outlinewidth": 0,
                          "ticks": ""
                        },
                        "colorscale": [
                          [
                            0,
                            "#0d0887"
                          ],
                          [
                            0.1111111111111111,
                            "#46039f"
                          ],
                          [
                            0.2222222222222222,
                            "#7201a8"
                          ],
                          [
                            0.3333333333333333,
                            "#9c179e"
                          ],
                          [
                            0.4444444444444444,
                            "#bd3786"
                          ],
                          [
                            0.5555555555555556,
                            "#d8576b"
                          ],
                          [
                            0.6666666666666666,
                            "#ed7953"
                          ],
                          [
                            0.7777777777777778,
                            "#fb9f3a"
                          ],
                          [
                            0.8888888888888888,
                            "#fdca26"
                          ],
                          [
                            1,
                            "#f0f921"
                          ]
                        ],
                        "type": "contour"
                      }
                    ],
                    "contourcarpet": [
                      {
                        "colorbar": {
                          "outlinewidth": 0,
                          "ticks": ""
                        },
                        "type": "contourcarpet"
                      }
                    ],
                    "heatmap": [
                      {
                        "colorbar": {
                          "outlinewidth": 0,
                          "ticks": ""
                        },
                        "colorscale": [
                          [
                            0,
                            "#0d0887"
                          ],
                          [
                            0.1111111111111111,
                            "#46039f"
                          ],
                          [
                            0.2222222222222222,
                            "#7201a8"
                          ],
                          [
                            0.3333333333333333,
                            "#9c179e"
                          ],
                          [
                            0.4444444444444444,
                            "#bd3786"
                          ],
                          [
                            0.5555555555555556,
                            "#d8576b"
                          ],
                          [
                            0.6666666666666666,
                            "#ed7953"
                          ],
                          [
                            0.7777777777777778,
                            "#fb9f3a"
                          ],
                          [
                            0.8888888888888888,
                            "#fdca26"
                          ],
                          [
                            1,
                            "#f0f921"
                          ]
                        ],
                        "type": "heatmap"
                      }
                    ],
                    "heatmapgl": [
                      {
                        "colorbar": {
                          "outlinewidth": 0,
                          "ticks": ""
                        },
                        "colorscale": [
                          [
                            0,
                            "#0d0887"
                          ],
                          [
                            0.1111111111111111,
                            "#46039f"
                          ],
                          [
                            0.2222222222222222,
                            "#7201a8"
                          ],
                          [
                            0.3333333333333333,
                            "#9c179e"
                          ],
                          [
                            0.4444444444444444,
                            "#bd3786"
                          ],
                          [
                            0.5555555555555556,
                            "#d8576b"
                          ],
                          [
                            0.6666666666666666,
                            "#ed7953"
                          ],
                          [
                            0.7777777777777778,
                            "#fb9f3a"
                          ],
                          [
                            0.8888888888888888,
                            "#fdca26"
                          ],
                          [
                            1,
                            "#f0f921"
                          ]
                        ],
                        "type": "heatmapgl"
                      }
                    ],
                    "histogram": [
                      {
                        "marker": {
                          "pattern": {
                            "fillmode": "overlay",
                            "size": 10,
                            "solidity": 0.2
                          }
                        },
                        "type": "histogram"
                      }
                    ],
                    "histogram2d": [
                      {
                        "colorbar": {
                          "outlinewidth": 0,
                          "ticks": ""
                        },
                        "colorscale": [
                          [
                            0,
                            "#0d0887"
                          ],
                          [
                            0.1111111111111111,
                            "#46039f"
                          ],
                          [
                            0.2222222222222222,
                            "#7201a8"
                          ],
                          [
                            0.3333333333333333,
                            "#9c179e"
                          ],
                          [
                            0.4444444444444444,
                            "#bd3786"
                          ],
                          [
                            0.5555555555555556,
                            "#d8576b"
                          ],
                          [
                            0.6666666666666666,
                            "#ed7953"
                          ],
                          [
                            0.7777777777777778,
                            "#fb9f3a"
                          ],
                          [
                            0.8888888888888888,
                            "#fdca26"
                          ],
                          [
                            1,
                            "#f0f921"
                          ]
                        ],
                        "type": "histogram2d"
                      }
                    ],
                    "histogram2dcontour": [
                      {
                        "colorbar": {
                          "outlinewidth": 0,
                          "ticks": ""
                        },
                        "colorscale": [
                          [
                            0,
                            "#0d0887"
                          ],
                          [
                            0.1111111111111111,
                            "#46039f"
                          ],
                          [
                            0.2222222222222222,
                            "#7201a8"
                          ],
                          [
                            0.3333333333333333,
                            "#9c179e"
                          ],
                          [
                            0.4444444444444444,
                            "#bd3786"
                          ],
                          [
                            0.5555555555555556,
                            "#d8576b"
                          ],
                          [
                            0.6666666666666666,
                            "#ed7953"
                          ],
                          [
                            0.7777777777777778,
                            "#fb9f3a"
                          ],
                          [
                            0.8888888888888888,
                            "#fdca26"
                          ],
                          [
                            1,
                            "#f0f921"
                          ]
                        ],
                        "type": "histogram2dcontour"
                      }
                    ],
                    "mesh3d": [
                      {
                        "colorbar": {
                          "outlinewidth": 0,
                          "ticks": ""
                        },
                        "type": "mesh3d"
                      }
                    ],
                    "parcoords": [
                      {
                        "line": {
                          "colorbar": {
                            "outlinewidth": 0,
                            "ticks": ""
                          }
                        },
                        "type": "parcoords"
                      }
                    ],
                    "pie": [
                      {
                        "automargin": true,
                        "type": "pie"
                      }
                    ],
                    "scatter": [
                      {
                        "fillpattern": {
                          "fillmode": "overlay",
                          "size": 10,
                          "solidity": 0.2
                        },
                        "type": "scatter"
                      }
                    ],
                    "scatter3d": [
                      {
                        "line": {
                          "colorbar": {
                            "outlinewidth": 0,
                            "ticks": ""
                          }
                        },
                        "marker": {
                          "colorbar": {
                            "outlinewidth": 0,
                            "ticks": ""
                          }
                        },
                        "type": "scatter3d"
                      }
                    ],
                    "scattercarpet": [
                      {
                        "marker": {
                          "colorbar": {
                            "outlinewidth": 0,
                            "ticks": ""
                          }
                        },
                        "type": "scattercarpet"
                      }
                    ],
                    "scattergeo": [
                      {
                        "marker": {
                          "colorbar": {
                            "outlinewidth": 0,
                            "ticks": ""
                          }
                        },
                        "type": "scattergeo"
                      }
                    ],
                    "scattergl": [
                      {
                        "marker": {
                          "colorbar": {
                            "outlinewidth": 0,
                            "ticks": ""
                          }
                        },
                        "type": "scattergl"
                      }
                    ],
                    "scattermapbox": [
                      {
                        "marker": {
                          "colorbar": {
                            "outlinewidth": 0,
                            "ticks": ""
                          }
                        },
                        "type": "scattermapbox"
                      }
                    ],
                    "scatterpolar": [
                      {
                        "marker": {
                          "colorbar": {
                            "outlinewidth": 0,
                            "ticks": ""
                          }
                        },
                        "type": "scatterpolar"
                      }
                    ],
                    "scatterpolargl": [
                      {
                        "marker": {
                          "colorbar": {
                            "outlinewidth": 0,
                            "ticks": ""
                          }
                        },
                        "type": "scatterpolargl"
                      }
                    ],
                    "scatterternary": [
                      {
                        "marker": {
                          "colorbar": {
                            "outlinewidth": 0,
                            "ticks": ""
                          }
                        },
                        "type": "scatterternary"
                      }
                    ],
                    "surface": [
                      {
                        "colorbar": {
                          "outlinewidth": 0,
                          "ticks": ""
                        },
                        "colorscale": [
                          [
                            0,
                            "#0d0887"
                          ],
                          [
                            0.1111111111111111,
                            "#46039f"
                          ],
                          [
                            0.2222222222222222,
                            "#7201a8"
                          ],
                          [
                            0.3333333333333333,
                            "#9c179e"
                          ],
                          [
                            0.4444444444444444,
                            "#bd3786"
                          ],
                          [
                            0.5555555555555556,
                            "#d8576b"
                          ],
                          [
                            0.6666666666666666,
                            "#ed7953"
                          ],
                          [
                            0.7777777777777778,
                            "#fb9f3a"
                          ],
                          [
                            0.8888888888888888,
                            "#fdca26"
                          ],
                          [
                            1,
                            "#f0f921"
                          ]
                        ],
                        "type": "surface"
                      }
                    ],
                    "table": [
                      {
                        "cells": {
                          "fill": {
                            "color": "#EBF0F8"
                          },
                          "line": {
                            "color": "white"
                          }
                        },
                        "header": {
                          "fill": {
                            "color": "#C8D4E3"
                          },
                          "line": {
                            "color": "white"
                          }
                        },
                        "type": "table"
                      }
                    ]
                  },
                  "layout": {
                    "annotationdefaults": {
                      "arrowcolor": "#2a3f5f",
                      "arrowhead": 0,
                      "arrowwidth": 1
                    },
                    "autotypenumbers": "strict",
                    "coloraxis": {
                      "colorbar": {
                        "outlinewidth": 0,
                        "ticks": ""
                      }
                    },
                    "colorscale": {
                      "diverging": [
                        [
                          0,
                          "#8e0152"
                        ],
                        [
                          0.1,
                          "#c51b7d"
                        ],
                        [
                          0.2,
                          "#de77ae"
                        ],
                        [
                          0.3,
                          "#f1b6da"
                        ],
                        [
                          0.4,
                          "#fde0ef"
                        ],
                        [
                          0.5,
                          "#f7f7f7"
                        ],
                        [
                          0.6,
                          "#e6f5d0"
                        ],
                        [
                          0.7,
                          "#b8e186"
                        ],
                        [
                          0.8,
                          "#7fbc41"
                        ],
                        [
                          0.9,
                          "#4d9221"
                        ],
                        [
                          1,
                          "#276419"
                        ]
                      ],
                      "sequential": [
                        [
                          0,
                          "#0d0887"
                        ],
                        [
                          0.1111111111111111,
                          "#46039f"
                        ],
                        [
                          0.2222222222222222,
                          "#7201a8"
                        ],
                        [
                          0.3333333333333333,
                          "#9c179e"
                        ],
                        [
                          0.4444444444444444,
                          "#bd3786"
                        ],
                        [
                          0.5555555555555556,
                          "#d8576b"
                        ],
                        [
                          0.6666666666666666,
                          "#ed7953"
                        ],
                        [
                          0.7777777777777778,
                          "#fb9f3a"
                        ],
                        [
                          0.8888888888888888,
                          "#fdca26"
                        ],
                        [
                          1,
                          "#f0f921"
                        ]
                      ],
                      "sequentialminus": [
                        [
                          0,
                          "#0d0887"
                        ],
                        [
                          0.1111111111111111,
                          "#46039f"
                        ],
                        [
                          0.2222222222222222,
                          "#7201a8"
                        ],
                        [
                          0.3333333333333333,
                          "#9c179e"
                        ],
                        [
                          0.4444444444444444,
                          "#bd3786"
                        ],
                        [
                          0.5555555555555556,
                          "#d8576b"
                        ],
                        [
                          0.6666666666666666,
                          "#ed7953"
                        ],
                        [
                          0.7777777777777778,
                          "#fb9f3a"
                        ],
                        [
                          0.8888888888888888,
                          "#fdca26"
                        ],
                        [
                          1,
                          "#f0f921"
                        ]
                      ]
                    },
                    "colorway": [
                      "#636efa",
                      "#EF553B",
                      "#00cc96",
                      "#ab63fa",
                      "#FFA15A",
                      "#19d3f3",
                      "#FF6692",
                      "#B6E880",
                      "#FF97FF",
                      "#FECB52"
                    ],
                    "font": {
                      "color": "#2a3f5f"
                    },
                    "geo": {
                      "bgcolor": "white",
                      "lakecolor": "white",
                      "landcolor": "#E5ECF6",
                      "showlakes": true,
                      "showland": true,
                      "subunitcolor": "white"
                    },
                    "hoverlabel": {
                      "align": "left"
                    },
                    "hovermode": "closest",
                    "mapbox": {
                      "style": "light"
                    },
                    "paper_bgcolor": "white",
                    "plot_bgcolor": "#E5ECF6",
                    "polar": {
                      "angularaxis": {
                        "gridcolor": "white",
                        "linecolor": "white",
                        "ticks": ""
                      },
                      "bgcolor": "#E5ECF6",
                      "radialaxis": {
                        "gridcolor": "white",
                        "linecolor": "white",
                        "ticks": ""
                      }
                    },
                    "scene": {
                      "xaxis": {
                        "backgroundcolor": "#E5ECF6",
                        "gridcolor": "white",
                        "gridwidth": 2,
                        "linecolor": "white",
                        "showbackground": true,
                        "ticks": "",
                        "zerolinecolor": "white"
                      },
                      "yaxis": {
                        "backgroundcolor": "#E5ECF6",
                        "gridcolor": "white",
                        "gridwidth": 2,
                        "linecolor": "white",
                        "showbackground": true,
                        "ticks": "",
                        "zerolinecolor": "white"
                      },
                      "zaxis": {
                        "backgroundcolor": "#E5ECF6",
                        "gridcolor": "white",
                        "gridwidth": 2,
                        "linecolor": "white",
                        "showbackground": true,
                        "ticks": "",
                        "zerolinecolor": "white"
                      }
                    },
                    "shapedefaults": {
                      "line": {
                        "color": "#2a3f5f"
                      }
                    },
                    "ternary": {
                      "aaxis": {
                        "gridcolor": "white",
                        "linecolor": "white",
                        "ticks": ""
                      },
                      "baxis": {
                        "gridcolor": "white",
                        "linecolor": "white",
                        "ticks": ""
                      },
                      "bgcolor": "#E5ECF6",
                      "caxis": {
                        "gridcolor": "white",
                        "linecolor": "white",
                        "ticks": ""
                      }
                    },
                    "title": {
                      "x": 0.05
                    },
                    "xaxis": {
                      "automargin": true,
                      "gridcolor": "white",
                      "linecolor": "white",
                      "ticks": "",
                      "title": {
                        "standoff": 15
                      },
                      "zerolinecolor": "white",
                      "zerolinewidth": 2
                    },
                    "yaxis": {
                      "automargin": true,
                      "gridcolor": "white",
                      "linecolor": "white",
                      "ticks": "",
                      "title": {
                        "standoff": 15
                      },
                      "zerolinecolor": "white",
                      "zerolinewidth": 2
                    }
                  }
                },
                "width": 500
              }
            }
          },
          "metadata": {},
          "output_type": "display_data"
        }
      ],
      "source": [
        "solucao = ['A'+str(i) for i in range(n_cidades)]\n",
        "solucao\n",
        "plota_rotas(df_coordenadas, solucao)"
      ]
    },
    {
      "cell_type": "code",
      "execution_count": 66,
      "metadata": {
        "colab": {
          "base_uri": "https://localhost:8080/",
          "height": 535
        },
        "id": "MjAVYZjLpgT1",
        "outputId": "b2673440-9e7d-4a7d-fbb8-03572a9a86cc"
      },
      "outputs": [
        {
          "name": "stdout",
          "output_type": "stream",
          "text": [
            "['A0', 'A6', 'A1', 'A3', 'A5', 'A2', 'A7', 'A9', 'A4', 'A8']\n"
          ]
        },
        {
          "data": {
            "application/vnd.plotly.v1+json": {
              "config": {
                "plotlyServerURL": "https://plot.ly"
              },
              "data": [
                {
                  "mode": "lines+markers+text",
                  "name": "",
                  "text": [
                    "A0",
                    "A6",
                    "A1",
                    "A3",
                    "A5",
                    "A2",
                    "A7",
                    "A9",
                    "A4",
                    "A8"
                  ],
                  "textposition": "bottom center",
                  "type": "scatter",
                  "x": [
                    33.91297054737035,
                    46.17987392224547,
                    29.802901564897578,
                    35.04239050655312,
                    56.44223585170059,
                    54.73488539015291,
                    58.97097104128197,
                    67.40632822395816,
                    46.65777812853628,
                    34.442631810094674
                  ],
                  "y": [
                    79.25771675832044,
                    18.225798898768865,
                    36.72741625024739,
                    10.034897230526072,
                    84.20126571702515,
                    58.6946658004894,
                    86.7333992510954,
                    31.78407091440588,
                    35.02139901317601,
                    28.501463043320012
                  ]
                },
                {
                  "mode": "lines+markers",
                  "name": "",
                  "type": "scatter",
                  "x": [
                    34.442631810094674,
                    33.91297054737035
                  ],
                  "y": [
                    28.501463043320012,
                    79.25771675832044
                  ]
                }
              ],
              "layout": {
                "autosize": false,
                "height": 500,
                "showlegend": false,
                "template": {
                  "data": {
                    "bar": [
                      {
                        "error_x": {
                          "color": "#2a3f5f"
                        },
                        "error_y": {
                          "color": "#2a3f5f"
                        },
                        "marker": {
                          "line": {
                            "color": "#E5ECF6",
                            "width": 0.5
                          },
                          "pattern": {
                            "fillmode": "overlay",
                            "size": 10,
                            "solidity": 0.2
                          }
                        },
                        "type": "bar"
                      }
                    ],
                    "barpolar": [
                      {
                        "marker": {
                          "line": {
                            "color": "#E5ECF6",
                            "width": 0.5
                          },
                          "pattern": {
                            "fillmode": "overlay",
                            "size": 10,
                            "solidity": 0.2
                          }
                        },
                        "type": "barpolar"
                      }
                    ],
                    "carpet": [
                      {
                        "aaxis": {
                          "endlinecolor": "#2a3f5f",
                          "gridcolor": "white",
                          "linecolor": "white",
                          "minorgridcolor": "white",
                          "startlinecolor": "#2a3f5f"
                        },
                        "baxis": {
                          "endlinecolor": "#2a3f5f",
                          "gridcolor": "white",
                          "linecolor": "white",
                          "minorgridcolor": "white",
                          "startlinecolor": "#2a3f5f"
                        },
                        "type": "carpet"
                      }
                    ],
                    "choropleth": [
                      {
                        "colorbar": {
                          "outlinewidth": 0,
                          "ticks": ""
                        },
                        "type": "choropleth"
                      }
                    ],
                    "contour": [
                      {
                        "colorbar": {
                          "outlinewidth": 0,
                          "ticks": ""
                        },
                        "colorscale": [
                          [
                            0,
                            "#0d0887"
                          ],
                          [
                            0.1111111111111111,
                            "#46039f"
                          ],
                          [
                            0.2222222222222222,
                            "#7201a8"
                          ],
                          [
                            0.3333333333333333,
                            "#9c179e"
                          ],
                          [
                            0.4444444444444444,
                            "#bd3786"
                          ],
                          [
                            0.5555555555555556,
                            "#d8576b"
                          ],
                          [
                            0.6666666666666666,
                            "#ed7953"
                          ],
                          [
                            0.7777777777777778,
                            "#fb9f3a"
                          ],
                          [
                            0.8888888888888888,
                            "#fdca26"
                          ],
                          [
                            1,
                            "#f0f921"
                          ]
                        ],
                        "type": "contour"
                      }
                    ],
                    "contourcarpet": [
                      {
                        "colorbar": {
                          "outlinewidth": 0,
                          "ticks": ""
                        },
                        "type": "contourcarpet"
                      }
                    ],
                    "heatmap": [
                      {
                        "colorbar": {
                          "outlinewidth": 0,
                          "ticks": ""
                        },
                        "colorscale": [
                          [
                            0,
                            "#0d0887"
                          ],
                          [
                            0.1111111111111111,
                            "#46039f"
                          ],
                          [
                            0.2222222222222222,
                            "#7201a8"
                          ],
                          [
                            0.3333333333333333,
                            "#9c179e"
                          ],
                          [
                            0.4444444444444444,
                            "#bd3786"
                          ],
                          [
                            0.5555555555555556,
                            "#d8576b"
                          ],
                          [
                            0.6666666666666666,
                            "#ed7953"
                          ],
                          [
                            0.7777777777777778,
                            "#fb9f3a"
                          ],
                          [
                            0.8888888888888888,
                            "#fdca26"
                          ],
                          [
                            1,
                            "#f0f921"
                          ]
                        ],
                        "type": "heatmap"
                      }
                    ],
                    "heatmapgl": [
                      {
                        "colorbar": {
                          "outlinewidth": 0,
                          "ticks": ""
                        },
                        "colorscale": [
                          [
                            0,
                            "#0d0887"
                          ],
                          [
                            0.1111111111111111,
                            "#46039f"
                          ],
                          [
                            0.2222222222222222,
                            "#7201a8"
                          ],
                          [
                            0.3333333333333333,
                            "#9c179e"
                          ],
                          [
                            0.4444444444444444,
                            "#bd3786"
                          ],
                          [
                            0.5555555555555556,
                            "#d8576b"
                          ],
                          [
                            0.6666666666666666,
                            "#ed7953"
                          ],
                          [
                            0.7777777777777778,
                            "#fb9f3a"
                          ],
                          [
                            0.8888888888888888,
                            "#fdca26"
                          ],
                          [
                            1,
                            "#f0f921"
                          ]
                        ],
                        "type": "heatmapgl"
                      }
                    ],
                    "histogram": [
                      {
                        "marker": {
                          "pattern": {
                            "fillmode": "overlay",
                            "size": 10,
                            "solidity": 0.2
                          }
                        },
                        "type": "histogram"
                      }
                    ],
                    "histogram2d": [
                      {
                        "colorbar": {
                          "outlinewidth": 0,
                          "ticks": ""
                        },
                        "colorscale": [
                          [
                            0,
                            "#0d0887"
                          ],
                          [
                            0.1111111111111111,
                            "#46039f"
                          ],
                          [
                            0.2222222222222222,
                            "#7201a8"
                          ],
                          [
                            0.3333333333333333,
                            "#9c179e"
                          ],
                          [
                            0.4444444444444444,
                            "#bd3786"
                          ],
                          [
                            0.5555555555555556,
                            "#d8576b"
                          ],
                          [
                            0.6666666666666666,
                            "#ed7953"
                          ],
                          [
                            0.7777777777777778,
                            "#fb9f3a"
                          ],
                          [
                            0.8888888888888888,
                            "#fdca26"
                          ],
                          [
                            1,
                            "#f0f921"
                          ]
                        ],
                        "type": "histogram2d"
                      }
                    ],
                    "histogram2dcontour": [
                      {
                        "colorbar": {
                          "outlinewidth": 0,
                          "ticks": ""
                        },
                        "colorscale": [
                          [
                            0,
                            "#0d0887"
                          ],
                          [
                            0.1111111111111111,
                            "#46039f"
                          ],
                          [
                            0.2222222222222222,
                            "#7201a8"
                          ],
                          [
                            0.3333333333333333,
                            "#9c179e"
                          ],
                          [
                            0.4444444444444444,
                            "#bd3786"
                          ],
                          [
                            0.5555555555555556,
                            "#d8576b"
                          ],
                          [
                            0.6666666666666666,
                            "#ed7953"
                          ],
                          [
                            0.7777777777777778,
                            "#fb9f3a"
                          ],
                          [
                            0.8888888888888888,
                            "#fdca26"
                          ],
                          [
                            1,
                            "#f0f921"
                          ]
                        ],
                        "type": "histogram2dcontour"
                      }
                    ],
                    "mesh3d": [
                      {
                        "colorbar": {
                          "outlinewidth": 0,
                          "ticks": ""
                        },
                        "type": "mesh3d"
                      }
                    ],
                    "parcoords": [
                      {
                        "line": {
                          "colorbar": {
                            "outlinewidth": 0,
                            "ticks": ""
                          }
                        },
                        "type": "parcoords"
                      }
                    ],
                    "pie": [
                      {
                        "automargin": true,
                        "type": "pie"
                      }
                    ],
                    "scatter": [
                      {
                        "fillpattern": {
                          "fillmode": "overlay",
                          "size": 10,
                          "solidity": 0.2
                        },
                        "type": "scatter"
                      }
                    ],
                    "scatter3d": [
                      {
                        "line": {
                          "colorbar": {
                            "outlinewidth": 0,
                            "ticks": ""
                          }
                        },
                        "marker": {
                          "colorbar": {
                            "outlinewidth": 0,
                            "ticks": ""
                          }
                        },
                        "type": "scatter3d"
                      }
                    ],
                    "scattercarpet": [
                      {
                        "marker": {
                          "colorbar": {
                            "outlinewidth": 0,
                            "ticks": ""
                          }
                        },
                        "type": "scattercarpet"
                      }
                    ],
                    "scattergeo": [
                      {
                        "marker": {
                          "colorbar": {
                            "outlinewidth": 0,
                            "ticks": ""
                          }
                        },
                        "type": "scattergeo"
                      }
                    ],
                    "scattergl": [
                      {
                        "marker": {
                          "colorbar": {
                            "outlinewidth": 0,
                            "ticks": ""
                          }
                        },
                        "type": "scattergl"
                      }
                    ],
                    "scattermapbox": [
                      {
                        "marker": {
                          "colorbar": {
                            "outlinewidth": 0,
                            "ticks": ""
                          }
                        },
                        "type": "scattermapbox"
                      }
                    ],
                    "scatterpolar": [
                      {
                        "marker": {
                          "colorbar": {
                            "outlinewidth": 0,
                            "ticks": ""
                          }
                        },
                        "type": "scatterpolar"
                      }
                    ],
                    "scatterpolargl": [
                      {
                        "marker": {
                          "colorbar": {
                            "outlinewidth": 0,
                            "ticks": ""
                          }
                        },
                        "type": "scatterpolargl"
                      }
                    ],
                    "scatterternary": [
                      {
                        "marker": {
                          "colorbar": {
                            "outlinewidth": 0,
                            "ticks": ""
                          }
                        },
                        "type": "scatterternary"
                      }
                    ],
                    "surface": [
                      {
                        "colorbar": {
                          "outlinewidth": 0,
                          "ticks": ""
                        },
                        "colorscale": [
                          [
                            0,
                            "#0d0887"
                          ],
                          [
                            0.1111111111111111,
                            "#46039f"
                          ],
                          [
                            0.2222222222222222,
                            "#7201a8"
                          ],
                          [
                            0.3333333333333333,
                            "#9c179e"
                          ],
                          [
                            0.4444444444444444,
                            "#bd3786"
                          ],
                          [
                            0.5555555555555556,
                            "#d8576b"
                          ],
                          [
                            0.6666666666666666,
                            "#ed7953"
                          ],
                          [
                            0.7777777777777778,
                            "#fb9f3a"
                          ],
                          [
                            0.8888888888888888,
                            "#fdca26"
                          ],
                          [
                            1,
                            "#f0f921"
                          ]
                        ],
                        "type": "surface"
                      }
                    ],
                    "table": [
                      {
                        "cells": {
                          "fill": {
                            "color": "#EBF0F8"
                          },
                          "line": {
                            "color": "white"
                          }
                        },
                        "header": {
                          "fill": {
                            "color": "#C8D4E3"
                          },
                          "line": {
                            "color": "white"
                          }
                        },
                        "type": "table"
                      }
                    ]
                  },
                  "layout": {
                    "annotationdefaults": {
                      "arrowcolor": "#2a3f5f",
                      "arrowhead": 0,
                      "arrowwidth": 1
                    },
                    "autotypenumbers": "strict",
                    "coloraxis": {
                      "colorbar": {
                        "outlinewidth": 0,
                        "ticks": ""
                      }
                    },
                    "colorscale": {
                      "diverging": [
                        [
                          0,
                          "#8e0152"
                        ],
                        [
                          0.1,
                          "#c51b7d"
                        ],
                        [
                          0.2,
                          "#de77ae"
                        ],
                        [
                          0.3,
                          "#f1b6da"
                        ],
                        [
                          0.4,
                          "#fde0ef"
                        ],
                        [
                          0.5,
                          "#f7f7f7"
                        ],
                        [
                          0.6,
                          "#e6f5d0"
                        ],
                        [
                          0.7,
                          "#b8e186"
                        ],
                        [
                          0.8,
                          "#7fbc41"
                        ],
                        [
                          0.9,
                          "#4d9221"
                        ],
                        [
                          1,
                          "#276419"
                        ]
                      ],
                      "sequential": [
                        [
                          0,
                          "#0d0887"
                        ],
                        [
                          0.1111111111111111,
                          "#46039f"
                        ],
                        [
                          0.2222222222222222,
                          "#7201a8"
                        ],
                        [
                          0.3333333333333333,
                          "#9c179e"
                        ],
                        [
                          0.4444444444444444,
                          "#bd3786"
                        ],
                        [
                          0.5555555555555556,
                          "#d8576b"
                        ],
                        [
                          0.6666666666666666,
                          "#ed7953"
                        ],
                        [
                          0.7777777777777778,
                          "#fb9f3a"
                        ],
                        [
                          0.8888888888888888,
                          "#fdca26"
                        ],
                        [
                          1,
                          "#f0f921"
                        ]
                      ],
                      "sequentialminus": [
                        [
                          0,
                          "#0d0887"
                        ],
                        [
                          0.1111111111111111,
                          "#46039f"
                        ],
                        [
                          0.2222222222222222,
                          "#7201a8"
                        ],
                        [
                          0.3333333333333333,
                          "#9c179e"
                        ],
                        [
                          0.4444444444444444,
                          "#bd3786"
                        ],
                        [
                          0.5555555555555556,
                          "#d8576b"
                        ],
                        [
                          0.6666666666666666,
                          "#ed7953"
                        ],
                        [
                          0.7777777777777778,
                          "#fb9f3a"
                        ],
                        [
                          0.8888888888888888,
                          "#fdca26"
                        ],
                        [
                          1,
                          "#f0f921"
                        ]
                      ]
                    },
                    "colorway": [
                      "#636efa",
                      "#EF553B",
                      "#00cc96",
                      "#ab63fa",
                      "#FFA15A",
                      "#19d3f3",
                      "#FF6692",
                      "#B6E880",
                      "#FF97FF",
                      "#FECB52"
                    ],
                    "font": {
                      "color": "#2a3f5f"
                    },
                    "geo": {
                      "bgcolor": "white",
                      "lakecolor": "white",
                      "landcolor": "#E5ECF6",
                      "showlakes": true,
                      "showland": true,
                      "subunitcolor": "white"
                    },
                    "hoverlabel": {
                      "align": "left"
                    },
                    "hovermode": "closest",
                    "mapbox": {
                      "style": "light"
                    },
                    "paper_bgcolor": "white",
                    "plot_bgcolor": "#E5ECF6",
                    "polar": {
                      "angularaxis": {
                        "gridcolor": "white",
                        "linecolor": "white",
                        "ticks": ""
                      },
                      "bgcolor": "#E5ECF6",
                      "radialaxis": {
                        "gridcolor": "white",
                        "linecolor": "white",
                        "ticks": ""
                      }
                    },
                    "scene": {
                      "xaxis": {
                        "backgroundcolor": "#E5ECF6",
                        "gridcolor": "white",
                        "gridwidth": 2,
                        "linecolor": "white",
                        "showbackground": true,
                        "ticks": "",
                        "zerolinecolor": "white"
                      },
                      "yaxis": {
                        "backgroundcolor": "#E5ECF6",
                        "gridcolor": "white",
                        "gridwidth": 2,
                        "linecolor": "white",
                        "showbackground": true,
                        "ticks": "",
                        "zerolinecolor": "white"
                      },
                      "zaxis": {
                        "backgroundcolor": "#E5ECF6",
                        "gridcolor": "white",
                        "gridwidth": 2,
                        "linecolor": "white",
                        "showbackground": true,
                        "ticks": "",
                        "zerolinecolor": "white"
                      }
                    },
                    "shapedefaults": {
                      "line": {
                        "color": "#2a3f5f"
                      }
                    },
                    "ternary": {
                      "aaxis": {
                        "gridcolor": "white",
                        "linecolor": "white",
                        "ticks": ""
                      },
                      "baxis": {
                        "gridcolor": "white",
                        "linecolor": "white",
                        "ticks": ""
                      },
                      "bgcolor": "#E5ECF6",
                      "caxis": {
                        "gridcolor": "white",
                        "linecolor": "white",
                        "ticks": ""
                      }
                    },
                    "title": {
                      "x": 0.05
                    },
                    "xaxis": {
                      "automargin": true,
                      "gridcolor": "white",
                      "linecolor": "white",
                      "ticks": "",
                      "title": {
                        "standoff": 15
                      },
                      "zerolinecolor": "white",
                      "zerolinewidth": 2
                    },
                    "yaxis": {
                      "automargin": true,
                      "gridcolor": "white",
                      "linecolor": "white",
                      "ticks": "",
                      "title": {
                        "standoff": 15
                      },
                      "zerolinecolor": "white",
                      "zerolinewidth": 2
                    }
                  }
                },
                "width": 500
              }
            }
          },
          "metadata": {},
          "output_type": "display_data"
        }
      ],
      "source": [
        "solucao = solucao_aleatoria(tsp)\n",
        "print(solucao)\n",
        "plota_rotas(df_coordenadas, solucao)"
      ]
    },
    {
      "cell_type": "code",
      "execution_count": 97,
      "metadata": {
        "colab": {
          "base_uri": "https://localhost:8080/",
          "height": 535
        },
        "id": "QFrhV9EG-ow5",
        "outputId": "59026f7a-7220-4868-9ecc-2829cacbe8b5"
      },
      "outputs": [
        {
          "name": "stdout",
          "output_type": "stream",
          "text": [
            "['A0', 'A7', 'A4', 'A2', 'A1', 'A6', 'A5', 'A9', 'A3', 'A8']\n",
            "214.655    ['A0', 'A5', 'A7', 'A2', 'A9', 'A6', 'A3', 'A8', 'A1', 'A4']\n"
          ]
        },
        {
          "data": {
            "application/vnd.plotly.v1+json": {
              "config": {
                "plotlyServerURL": "https://plot.ly"
              },
              "data": [
                {
                  "mode": "lines+markers+text",
                  "name": "",
                  "text": [
                    "A0",
                    "A5",
                    "A7",
                    "A2",
                    "A9",
                    "A6",
                    "A3",
                    "A8",
                    "A1",
                    "A4"
                  ],
                  "textposition": "bottom center",
                  "type": "scatter",
                  "x": [
                    33.91297054737035,
                    56.44223585170059,
                    58.97097104128197,
                    54.73488539015291,
                    67.40632822395816,
                    46.17987392224547,
                    35.04239050655312,
                    34.442631810094674,
                    29.802901564897578,
                    46.65777812853628
                  ],
                  "y": [
                    79.25771675832044,
                    84.20126571702515,
                    86.7333992510954,
                    58.6946658004894,
                    31.78407091440588,
                    18.225798898768865,
                    10.034897230526072,
                    28.501463043320012,
                    36.72741625024739,
                    35.02139901317601
                  ]
                },
                {
                  "mode": "lines+markers",
                  "name": "",
                  "type": "scatter",
                  "x": [
                    46.65777812853628,
                    33.91297054737035
                  ],
                  "y": [
                    35.02139901317601,
                    79.25771675832044
                  ]
                }
              ],
              "layout": {
                "autosize": false,
                "height": 500,
                "showlegend": false,
                "template": {
                  "data": {
                    "bar": [
                      {
                        "error_x": {
                          "color": "#2a3f5f"
                        },
                        "error_y": {
                          "color": "#2a3f5f"
                        },
                        "marker": {
                          "line": {
                            "color": "#E5ECF6",
                            "width": 0.5
                          },
                          "pattern": {
                            "fillmode": "overlay",
                            "size": 10,
                            "solidity": 0.2
                          }
                        },
                        "type": "bar"
                      }
                    ],
                    "barpolar": [
                      {
                        "marker": {
                          "line": {
                            "color": "#E5ECF6",
                            "width": 0.5
                          },
                          "pattern": {
                            "fillmode": "overlay",
                            "size": 10,
                            "solidity": 0.2
                          }
                        },
                        "type": "barpolar"
                      }
                    ],
                    "carpet": [
                      {
                        "aaxis": {
                          "endlinecolor": "#2a3f5f",
                          "gridcolor": "white",
                          "linecolor": "white",
                          "minorgridcolor": "white",
                          "startlinecolor": "#2a3f5f"
                        },
                        "baxis": {
                          "endlinecolor": "#2a3f5f",
                          "gridcolor": "white",
                          "linecolor": "white",
                          "minorgridcolor": "white",
                          "startlinecolor": "#2a3f5f"
                        },
                        "type": "carpet"
                      }
                    ],
                    "choropleth": [
                      {
                        "colorbar": {
                          "outlinewidth": 0,
                          "ticks": ""
                        },
                        "type": "choropleth"
                      }
                    ],
                    "contour": [
                      {
                        "colorbar": {
                          "outlinewidth": 0,
                          "ticks": ""
                        },
                        "colorscale": [
                          [
                            0,
                            "#0d0887"
                          ],
                          [
                            0.1111111111111111,
                            "#46039f"
                          ],
                          [
                            0.2222222222222222,
                            "#7201a8"
                          ],
                          [
                            0.3333333333333333,
                            "#9c179e"
                          ],
                          [
                            0.4444444444444444,
                            "#bd3786"
                          ],
                          [
                            0.5555555555555556,
                            "#d8576b"
                          ],
                          [
                            0.6666666666666666,
                            "#ed7953"
                          ],
                          [
                            0.7777777777777778,
                            "#fb9f3a"
                          ],
                          [
                            0.8888888888888888,
                            "#fdca26"
                          ],
                          [
                            1,
                            "#f0f921"
                          ]
                        ],
                        "type": "contour"
                      }
                    ],
                    "contourcarpet": [
                      {
                        "colorbar": {
                          "outlinewidth": 0,
                          "ticks": ""
                        },
                        "type": "contourcarpet"
                      }
                    ],
                    "heatmap": [
                      {
                        "colorbar": {
                          "outlinewidth": 0,
                          "ticks": ""
                        },
                        "colorscale": [
                          [
                            0,
                            "#0d0887"
                          ],
                          [
                            0.1111111111111111,
                            "#46039f"
                          ],
                          [
                            0.2222222222222222,
                            "#7201a8"
                          ],
                          [
                            0.3333333333333333,
                            "#9c179e"
                          ],
                          [
                            0.4444444444444444,
                            "#bd3786"
                          ],
                          [
                            0.5555555555555556,
                            "#d8576b"
                          ],
                          [
                            0.6666666666666666,
                            "#ed7953"
                          ],
                          [
                            0.7777777777777778,
                            "#fb9f3a"
                          ],
                          [
                            0.8888888888888888,
                            "#fdca26"
                          ],
                          [
                            1,
                            "#f0f921"
                          ]
                        ],
                        "type": "heatmap"
                      }
                    ],
                    "heatmapgl": [
                      {
                        "colorbar": {
                          "outlinewidth": 0,
                          "ticks": ""
                        },
                        "colorscale": [
                          [
                            0,
                            "#0d0887"
                          ],
                          [
                            0.1111111111111111,
                            "#46039f"
                          ],
                          [
                            0.2222222222222222,
                            "#7201a8"
                          ],
                          [
                            0.3333333333333333,
                            "#9c179e"
                          ],
                          [
                            0.4444444444444444,
                            "#bd3786"
                          ],
                          [
                            0.5555555555555556,
                            "#d8576b"
                          ],
                          [
                            0.6666666666666666,
                            "#ed7953"
                          ],
                          [
                            0.7777777777777778,
                            "#fb9f3a"
                          ],
                          [
                            0.8888888888888888,
                            "#fdca26"
                          ],
                          [
                            1,
                            "#f0f921"
                          ]
                        ],
                        "type": "heatmapgl"
                      }
                    ],
                    "histogram": [
                      {
                        "marker": {
                          "pattern": {
                            "fillmode": "overlay",
                            "size": 10,
                            "solidity": 0.2
                          }
                        },
                        "type": "histogram"
                      }
                    ],
                    "histogram2d": [
                      {
                        "colorbar": {
                          "outlinewidth": 0,
                          "ticks": ""
                        },
                        "colorscale": [
                          [
                            0,
                            "#0d0887"
                          ],
                          [
                            0.1111111111111111,
                            "#46039f"
                          ],
                          [
                            0.2222222222222222,
                            "#7201a8"
                          ],
                          [
                            0.3333333333333333,
                            "#9c179e"
                          ],
                          [
                            0.4444444444444444,
                            "#bd3786"
                          ],
                          [
                            0.5555555555555556,
                            "#d8576b"
                          ],
                          [
                            0.6666666666666666,
                            "#ed7953"
                          ],
                          [
                            0.7777777777777778,
                            "#fb9f3a"
                          ],
                          [
                            0.8888888888888888,
                            "#fdca26"
                          ],
                          [
                            1,
                            "#f0f921"
                          ]
                        ],
                        "type": "histogram2d"
                      }
                    ],
                    "histogram2dcontour": [
                      {
                        "colorbar": {
                          "outlinewidth": 0,
                          "ticks": ""
                        },
                        "colorscale": [
                          [
                            0,
                            "#0d0887"
                          ],
                          [
                            0.1111111111111111,
                            "#46039f"
                          ],
                          [
                            0.2222222222222222,
                            "#7201a8"
                          ],
                          [
                            0.3333333333333333,
                            "#9c179e"
                          ],
                          [
                            0.4444444444444444,
                            "#bd3786"
                          ],
                          [
                            0.5555555555555556,
                            "#d8576b"
                          ],
                          [
                            0.6666666666666666,
                            "#ed7953"
                          ],
                          [
                            0.7777777777777778,
                            "#fb9f3a"
                          ],
                          [
                            0.8888888888888888,
                            "#fdca26"
                          ],
                          [
                            1,
                            "#f0f921"
                          ]
                        ],
                        "type": "histogram2dcontour"
                      }
                    ],
                    "mesh3d": [
                      {
                        "colorbar": {
                          "outlinewidth": 0,
                          "ticks": ""
                        },
                        "type": "mesh3d"
                      }
                    ],
                    "parcoords": [
                      {
                        "line": {
                          "colorbar": {
                            "outlinewidth": 0,
                            "ticks": ""
                          }
                        },
                        "type": "parcoords"
                      }
                    ],
                    "pie": [
                      {
                        "automargin": true,
                        "type": "pie"
                      }
                    ],
                    "scatter": [
                      {
                        "fillpattern": {
                          "fillmode": "overlay",
                          "size": 10,
                          "solidity": 0.2
                        },
                        "type": "scatter"
                      }
                    ],
                    "scatter3d": [
                      {
                        "line": {
                          "colorbar": {
                            "outlinewidth": 0,
                            "ticks": ""
                          }
                        },
                        "marker": {
                          "colorbar": {
                            "outlinewidth": 0,
                            "ticks": ""
                          }
                        },
                        "type": "scatter3d"
                      }
                    ],
                    "scattercarpet": [
                      {
                        "marker": {
                          "colorbar": {
                            "outlinewidth": 0,
                            "ticks": ""
                          }
                        },
                        "type": "scattercarpet"
                      }
                    ],
                    "scattergeo": [
                      {
                        "marker": {
                          "colorbar": {
                            "outlinewidth": 0,
                            "ticks": ""
                          }
                        },
                        "type": "scattergeo"
                      }
                    ],
                    "scattergl": [
                      {
                        "marker": {
                          "colorbar": {
                            "outlinewidth": 0,
                            "ticks": ""
                          }
                        },
                        "type": "scattergl"
                      }
                    ],
                    "scattermapbox": [
                      {
                        "marker": {
                          "colorbar": {
                            "outlinewidth": 0,
                            "ticks": ""
                          }
                        },
                        "type": "scattermapbox"
                      }
                    ],
                    "scatterpolar": [
                      {
                        "marker": {
                          "colorbar": {
                            "outlinewidth": 0,
                            "ticks": ""
                          }
                        },
                        "type": "scatterpolar"
                      }
                    ],
                    "scatterpolargl": [
                      {
                        "marker": {
                          "colorbar": {
                            "outlinewidth": 0,
                            "ticks": ""
                          }
                        },
                        "type": "scatterpolargl"
                      }
                    ],
                    "scatterternary": [
                      {
                        "marker": {
                          "colorbar": {
                            "outlinewidth": 0,
                            "ticks": ""
                          }
                        },
                        "type": "scatterternary"
                      }
                    ],
                    "surface": [
                      {
                        "colorbar": {
                          "outlinewidth": 0,
                          "ticks": ""
                        },
                        "colorscale": [
                          [
                            0,
                            "#0d0887"
                          ],
                          [
                            0.1111111111111111,
                            "#46039f"
                          ],
                          [
                            0.2222222222222222,
                            "#7201a8"
                          ],
                          [
                            0.3333333333333333,
                            "#9c179e"
                          ],
                          [
                            0.4444444444444444,
                            "#bd3786"
                          ],
                          [
                            0.5555555555555556,
                            "#d8576b"
                          ],
                          [
                            0.6666666666666666,
                            "#ed7953"
                          ],
                          [
                            0.7777777777777778,
                            "#fb9f3a"
                          ],
                          [
                            0.8888888888888888,
                            "#fdca26"
                          ],
                          [
                            1,
                            "#f0f921"
                          ]
                        ],
                        "type": "surface"
                      }
                    ],
                    "table": [
                      {
                        "cells": {
                          "fill": {
                            "color": "#EBF0F8"
                          },
                          "line": {
                            "color": "white"
                          }
                        },
                        "header": {
                          "fill": {
                            "color": "#C8D4E3"
                          },
                          "line": {
                            "color": "white"
                          }
                        },
                        "type": "table"
                      }
                    ]
                  },
                  "layout": {
                    "annotationdefaults": {
                      "arrowcolor": "#2a3f5f",
                      "arrowhead": 0,
                      "arrowwidth": 1
                    },
                    "autotypenumbers": "strict",
                    "coloraxis": {
                      "colorbar": {
                        "outlinewidth": 0,
                        "ticks": ""
                      }
                    },
                    "colorscale": {
                      "diverging": [
                        [
                          0,
                          "#8e0152"
                        ],
                        [
                          0.1,
                          "#c51b7d"
                        ],
                        [
                          0.2,
                          "#de77ae"
                        ],
                        [
                          0.3,
                          "#f1b6da"
                        ],
                        [
                          0.4,
                          "#fde0ef"
                        ],
                        [
                          0.5,
                          "#f7f7f7"
                        ],
                        [
                          0.6,
                          "#e6f5d0"
                        ],
                        [
                          0.7,
                          "#b8e186"
                        ],
                        [
                          0.8,
                          "#7fbc41"
                        ],
                        [
                          0.9,
                          "#4d9221"
                        ],
                        [
                          1,
                          "#276419"
                        ]
                      ],
                      "sequential": [
                        [
                          0,
                          "#0d0887"
                        ],
                        [
                          0.1111111111111111,
                          "#46039f"
                        ],
                        [
                          0.2222222222222222,
                          "#7201a8"
                        ],
                        [
                          0.3333333333333333,
                          "#9c179e"
                        ],
                        [
                          0.4444444444444444,
                          "#bd3786"
                        ],
                        [
                          0.5555555555555556,
                          "#d8576b"
                        ],
                        [
                          0.6666666666666666,
                          "#ed7953"
                        ],
                        [
                          0.7777777777777778,
                          "#fb9f3a"
                        ],
                        [
                          0.8888888888888888,
                          "#fdca26"
                        ],
                        [
                          1,
                          "#f0f921"
                        ]
                      ],
                      "sequentialminus": [
                        [
                          0,
                          "#0d0887"
                        ],
                        [
                          0.1111111111111111,
                          "#46039f"
                        ],
                        [
                          0.2222222222222222,
                          "#7201a8"
                        ],
                        [
                          0.3333333333333333,
                          "#9c179e"
                        ],
                        [
                          0.4444444444444444,
                          "#bd3786"
                        ],
                        [
                          0.5555555555555556,
                          "#d8576b"
                        ],
                        [
                          0.6666666666666666,
                          "#ed7953"
                        ],
                        [
                          0.7777777777777778,
                          "#fb9f3a"
                        ],
                        [
                          0.8888888888888888,
                          "#fdca26"
                        ],
                        [
                          1,
                          "#f0f921"
                        ]
                      ]
                    },
                    "colorway": [
                      "#636efa",
                      "#EF553B",
                      "#00cc96",
                      "#ab63fa",
                      "#FFA15A",
                      "#19d3f3",
                      "#FF6692",
                      "#B6E880",
                      "#FF97FF",
                      "#FECB52"
                    ],
                    "font": {
                      "color": "#2a3f5f"
                    },
                    "geo": {
                      "bgcolor": "white",
                      "lakecolor": "white",
                      "landcolor": "#E5ECF6",
                      "showlakes": true,
                      "showland": true,
                      "subunitcolor": "white"
                    },
                    "hoverlabel": {
                      "align": "left"
                    },
                    "hovermode": "closest",
                    "mapbox": {
                      "style": "light"
                    },
                    "paper_bgcolor": "white",
                    "plot_bgcolor": "#E5ECF6",
                    "polar": {
                      "angularaxis": {
                        "gridcolor": "white",
                        "linecolor": "white",
                        "ticks": ""
                      },
                      "bgcolor": "#E5ECF6",
                      "radialaxis": {
                        "gridcolor": "white",
                        "linecolor": "white",
                        "ticks": ""
                      }
                    },
                    "scene": {
                      "xaxis": {
                        "backgroundcolor": "#E5ECF6",
                        "gridcolor": "white",
                        "gridwidth": 2,
                        "linecolor": "white",
                        "showbackground": true,
                        "ticks": "",
                        "zerolinecolor": "white"
                      },
                      "yaxis": {
                        "backgroundcolor": "#E5ECF6",
                        "gridcolor": "white",
                        "gridwidth": 2,
                        "linecolor": "white",
                        "showbackground": true,
                        "ticks": "",
                        "zerolinecolor": "white"
                      },
                      "zaxis": {
                        "backgroundcolor": "#E5ECF6",
                        "gridcolor": "white",
                        "gridwidth": 2,
                        "linecolor": "white",
                        "showbackground": true,
                        "ticks": "",
                        "zerolinecolor": "white"
                      }
                    },
                    "shapedefaults": {
                      "line": {
                        "color": "#2a3f5f"
                      }
                    },
                    "ternary": {
                      "aaxis": {
                        "gridcolor": "white",
                        "linecolor": "white",
                        "ticks": ""
                      },
                      "baxis": {
                        "gridcolor": "white",
                        "linecolor": "white",
                        "ticks": ""
                      },
                      "bgcolor": "#E5ECF6",
                      "caxis": {
                        "gridcolor": "white",
                        "linecolor": "white",
                        "ticks": ""
                      }
                    },
                    "title": {
                      "x": 0.05
                    },
                    "xaxis": {
                      "automargin": true,
                      "gridcolor": "white",
                      "linecolor": "white",
                      "ticks": "",
                      "title": {
                        "standoff": 15
                      },
                      "zerolinecolor": "white",
                      "zerolinewidth": 2
                    },
                    "yaxis": {
                      "automargin": true,
                      "gridcolor": "white",
                      "linecolor": "white",
                      "ticks": "",
                      "title": {
                        "standoff": 15
                      },
                      "zerolinecolor": "white",
                      "zerolinewidth": 2
                    }
                  }
                },
                "width": 500
              }
            }
          },
          "metadata": {},
          "output_type": "display_data"
        }
      ],
      "source": [
        "# busca local da melhor solução e o seu custo\n",
        "custo, solucao = hill_climbing(tsp)\n",
        "\n",
        "print(f'{custo:7.3f}    {solucao}')\n",
        "\n",
        "plota_rotas(df_coordenadas, solucao)"
      ]
    },
    {
      "cell_type": "code",
      "execution_count": null,
      "metadata": {
        "colab": {
          "base_uri": "https://localhost:8080/",
          "height": 1000
        },
        "id": "BRNaZ7DTXHmk",
        "outputId": "38ada615-fce2-492e-c2be-b9e149fe7212"
      },
      "outputs": [],
      "source": [
        "for _ in range(10):\n",
        "    custo, solucao = hill_climbing(tsp)\n",
        "\n",
        "    print(f'{custo:7.3f}    {solucao}')\n",
        "\n",
        "    plota_rotas(df_coordenadas, solucao)"
      ]
    },
    {
      "attachments": {},
      "cell_type": "markdown",
      "metadata": {
        "id": "bpcupmGDzWD2"
      },
      "source": [
        "### Executa N vezes - SIMPLES"
      ]
    },
    {
      "cell_type": "code",
      "execution_count": 26,
      "metadata": {
        "colab": {
          "base_uri": "https://localhost:8080/"
        },
        "id": "hjXxmNan_x-n",
        "outputId": "e2a6b304-ea44-4329-c8b9-8ef3eda55ff5"
      },
      "outputs": [
        {
          "name": "stdout",
          "output_type": "stream",
          "text": [
            "234.226, ['A0', 'A1', 'A8', 'A3', 'A5', 'A2', 'A7', 'A6', 'A9', 'A4']\n",
            "251.163, ['A0', 'A7', 'A6', 'A9', 'A4', 'A1', 'A8', 'A3', 'A2', 'A5']\n",
            "236.634, ['A0', 'A3', 'A8', 'A5', 'A2', 'A7', 'A6', 'A9', 'A4', 'A1']\n",
            "234.226, ['A0', 'A1', 'A8', 'A3', 'A5', 'A2', 'A7', 'A6', 'A9', 'A4']\n",
            "234.226, ['A0', 'A1', 'A8', 'A3', 'A5', 'A2', 'A7', 'A6', 'A9', 'A4']\n",
            "234.226, ['A0', 'A4', 'A9', 'A6', 'A7', 'A2', 'A5', 'A3', 'A8', 'A1']\n",
            "234.226, ['A0', 'A1', 'A8', 'A3', 'A5', 'A2', 'A7', 'A6', 'A9', 'A4']\n",
            "251.163, ['A0', 'A7', 'A6', 'A9', 'A4', 'A1', 'A8', 'A3', 'A2', 'A5']\n",
            "242.030, ['A0', 'A1', 'A7', 'A6', 'A9', 'A4', 'A8', 'A3', 'A2', 'A5']\n",
            "271.107, ['A0', 'A9', 'A6', 'A7', 'A2', 'A5', 'A3', 'A8', 'A4', 'A1']\n",
            "236.509, ['A0', 'A1', 'A8', 'A4', 'A9', 'A6', 'A7', 'A2', 'A5', 'A3']\n",
            "236.634, ['A0', 'A1', 'A4', 'A9', 'A6', 'A7', 'A2', 'A5', 'A8', 'A3']\n",
            "236.634, ['A0', 'A3', 'A8', 'A5', 'A2', 'A7', 'A6', 'A9', 'A4', 'A1']\n",
            "231.379, ['A0', 'A1', 'A4', 'A9', 'A6', 'A7', 'A8', 'A3', 'A2', 'A5']\n",
            "251.163, ['A0', 'A5', 'A2', 'A3', 'A8', 'A1', 'A4', 'A9', 'A6', 'A7']\n",
            "236.634, ['A0', 'A3', 'A8', 'A5', 'A2', 'A7', 'A6', 'A9', 'A4', 'A1']\n",
            "242.030, ['A0', 'A5', 'A2', 'A3', 'A8', 'A4', 'A9', 'A6', 'A7', 'A1']\n",
            "234.226, ['A0', 'A4', 'A9', 'A6', 'A7', 'A2', 'A5', 'A3', 'A8', 'A1']\n",
            "234.226, ['A0', 'A4', 'A9', 'A6', 'A7', 'A2', 'A5', 'A3', 'A8', 'A1']\n",
            "234.226, ['A0', 'A4', 'A9', 'A6', 'A7', 'A2', 'A5', 'A3', 'A8', 'A1']\n",
            "234.226, ['A0', 'A4', 'A9', 'A6', 'A7', 'A2', 'A5', 'A3', 'A8', 'A1']\n",
            "229.361, ['A0', 'A5', 'A2', 'A7', 'A6', 'A9', 'A4', 'A8', 'A3', 'A1']\n",
            "236.509, ['A0', 'A1', 'A8', 'A4', 'A9', 'A6', 'A7', 'A2', 'A5', 'A3']\n",
            "229.361, ['A0', 'A1', 'A3', 'A8', 'A4', 'A9', 'A6', 'A7', 'A2', 'A5']\n",
            "242.030, ['A0', 'A5', 'A2', 'A3', 'A8', 'A4', 'A9', 'A6', 'A7', 'A1']\n",
            "242.030, ['A0', 'A5', 'A2', 'A3', 'A8', 'A4', 'A9', 'A6', 'A7', 'A1']\n",
            "251.163, ['A0', 'A5', 'A2', 'A3', 'A8', 'A1', 'A4', 'A9', 'A6', 'A7']\n",
            "236.634, ['A0', 'A3', 'A8', 'A5', 'A2', 'A7', 'A6', 'A9', 'A4', 'A1']\n",
            "229.361, ['A0', 'A1', 'A3', 'A8', 'A4', 'A9', 'A6', 'A7', 'A2', 'A5']\n",
            "234.226, ['A0', 'A4', 'A9', 'A6', 'A7', 'A2', 'A5', 'A3', 'A8', 'A1']\n"
          ]
        }
      ],
      "source": [
        "# Executando várias vezes de forma simples\n",
        "\n",
        "n_vezes = 30\n",
        "\n",
        "for _ in range(n_vezes):\n",
        "\n",
        "    #solucao, custo = random_walk(tsp)\n",
        "    custo, solucao = hill_climbing(tsp)\n",
        "    print(f'{custo:7.3f}, {solucao}')"
      ]
    },
    {
      "attachments": {},
      "cell_type": "markdown",
      "metadata": {
        "id": "u4CbP9XSC9yl"
      },
      "source": [
        "Observe que há uma certa variabilidade na soluções acima. Isto se deve à característica estocástica do algoritmo de solução.\n",
        "\n",
        "---"
      ]
    },
    {
      "attachments": {},
      "cell_type": "markdown",
      "metadata": {
        "id": "uAVU-utFPjJW"
      },
      "source": [
        "### Executa N vezes - ESTRUTURADA com DataFrame"
      ]
    },
    {
      "attachments": {},
      "cell_type": "markdown",
      "metadata": {
        "id": "vrJW-qKYAbuV"
      },
      "source": [
        "A seguir, é apresentada uma forma mais estruturada de se rodar várias vezes usando a estrutura de dados **`DataFrame`** para armazenar os resultados e permitir visualização de box-plots"
      ]
    },
    {
      "cell_type": "code",
      "execution_count": 27,
      "metadata": {
        "id": "qGO9EkOO6qko"
      },
      "outputs": [],
      "source": [
        "# Cria estruta de dados (DataFrame) para armazenar vários resultados\n",
        "# diferentes e visualizá-los através de estatísticas\n",
        "\n",
        "def cria_df_custos(algoritmos, n_vezes):\n",
        "\n",
        "    nomes_algoritmos  = algoritmos.keys()\n",
        "\n",
        "    n_lin = len(nomes_algoritmos)\n",
        "    n_col = n_vezes\n",
        "\n",
        "    df_results = pd.DataFrame(np.zeros((n_lin,n_col)),\n",
        "                              index=nomes_algoritmos)\n",
        "    df_results.index.name='ALGORITMO'\n",
        "\n",
        "    return df_results"
      ]
    },
    {
      "cell_type": "code",
      "execution_count": 28,
      "metadata": {
        "id": "mpXDxZXWDfMu"
      },
      "outputs": [],
      "source": [
        "# Executa N vezes para gerar estatísticas da variável custo\n",
        "def executa_n_vezes(tsp, algoritmos, n_vezes):\n",
        "\n",
        "    # Cria DataFrame para armazenar os resultados\n",
        "    df_custo = cria_df_custos(algoritmos, n_vezes)\n",
        "\n",
        "    for algoritmo, funcao_algoritmo in algoritmos.items():\n",
        "\n",
        "        print(algoritmo)\n",
        "\n",
        "        for i in range(n_vezes):\n",
        "\n",
        "            custo, solucao = funcao_algoritmo(tsp)\n",
        "            df_custo.loc[algoritmo,i] = custo\n",
        "\n",
        "            print(f'{custo:10.3f}  {solucao}')\n",
        "\n",
        "    return df_custo"
      ]
    },
    {
      "cell_type": "code",
      "execution_count": 29,
      "metadata": {
        "id": "M6tmJaqd580I"
      },
      "outputs": [],
      "source": [
        "# Dicionario com Nomes dos modelos e suas respectivas variantes\n",
        "# Tuple: (Algoritmo, Variante): funcao_algoritmo\n",
        "algoritmos = {\n",
        "    # 'Random Walk': random_walk,\n",
        "    'Hill-Climbing': hill_climbing\n",
        "}"
      ]
    },
    {
      "attachments": {},
      "cell_type": "markdown",
      "metadata": {
        "id": "LxUqvfnrxaPT"
      },
      "source": [
        "#### PROBLEMA GERADO ALEATORIAMENTE"
      ]
    },
    {
      "cell_type": "code",
      "execution_count": 30,
      "metadata": {
        "colab": {
          "base_uri": "https://localhost:8080/"
        },
        "id": "Beih4wDh9iSI",
        "outputId": "b3a8ff48-a43e-497d-f404-9cfa7c130173"
      },
      "outputs": [
        {
          "name": "stdout",
          "output_type": "stream",
          "text": [
            "Random Walk\n",
            "   325.985  ['A0', 'A1', 'A2', 'A8', 'A4', 'A9', 'A6', 'A7', 'A5', 'A3']\n",
            "   425.380  ['A0', 'A4', 'A8', 'A2', 'A5', 'A6', 'A3', 'A1', 'A7', 'A9']\n",
            "   464.595  ['A0', 'A2', 'A9', 'A8', 'A4', 'A1', 'A7', 'A3', 'A5', 'A6']\n",
            "   362.964  ['A0', 'A1', 'A2', 'A4', 'A8', 'A5', 'A6', 'A9', 'A7', 'A3']\n",
            "   478.396  ['A0', 'A6', 'A3', 'A7', 'A9', 'A4', 'A2', 'A1', 'A5', 'A8']\n",
            "   469.148  ['A0', 'A7', 'A8', 'A4', 'A1', 'A9', 'A2', 'A3', 'A5', 'A6']\n",
            "   407.246  ['A0', 'A2', 'A7', 'A8', 'A1', 'A3', 'A6', 'A4', 'A9', 'A5']\n",
            "   420.322  ['A0', 'A2', 'A5', 'A9', 'A8', 'A3', 'A1', 'A7', 'A4', 'A6']\n",
            "   379.614  ['A0', 'A4', 'A6', 'A2', 'A5', 'A8', 'A9', 'A3', 'A7', 'A1']\n",
            "   381.930  ['A0', 'A6', 'A8', 'A9', 'A4', 'A3', 'A1', 'A5', 'A7', 'A2']\n",
            "   426.572  ['A0', 'A2', 'A8', 'A9', 'A5', 'A4', 'A1', 'A3', 'A6', 'A7']\n",
            "   397.661  ['A0', 'A6', 'A9', 'A7', 'A1', 'A2', 'A5', 'A8', 'A4', 'A3']\n",
            "   432.343  ['A0', 'A1', 'A8', 'A2', 'A6', 'A5', 'A3', 'A4', 'A9', 'A7']\n",
            "   306.642  ['A0', 'A1', 'A9', 'A6', 'A4', 'A8', 'A5', 'A2', 'A3', 'A7']\n",
            "   410.780  ['A0', 'A2', 'A4', 'A7', 'A6', 'A3', 'A5', 'A8', 'A9', 'A1']\n",
            "   404.472  ['A0', 'A5', 'A1', 'A7', 'A8', 'A6', 'A3', 'A2', 'A4', 'A9']\n",
            "   430.698  ['A0', 'A6', 'A3', 'A9', 'A5', 'A2', 'A1', 'A4', 'A8', 'A7']\n",
            "   402.646  ['A0', 'A8', 'A5', 'A7', 'A1', 'A9', 'A4', 'A2', 'A6', 'A3']\n",
            "   423.915  ['A0', 'A7', 'A1', 'A3', 'A4', 'A5', 'A9', 'A2', 'A6', 'A8']\n",
            "   403.480  ['A0', 'A7', 'A4', 'A6', 'A1', 'A2', 'A3', 'A9', 'A8', 'A5']\n",
            "   415.743  ['A0', 'A7', 'A1', 'A6', 'A3', 'A5', 'A4', 'A8', 'A2', 'A9']\n",
            "   432.378  ['A0', 'A6', 'A7', 'A2', 'A9', 'A8', 'A5', 'A4', 'A3', 'A1']\n",
            "   475.646  ['A0', 'A2', 'A3', 'A9', 'A7', 'A8', 'A6', 'A5', 'A1', 'A4']\n",
            "   367.791  ['A0', 'A6', 'A4', 'A7', 'A1', 'A3', 'A9', 'A8', 'A2', 'A5']\n",
            "   434.012  ['A0', 'A3', 'A2', 'A5', 'A1', 'A9', 'A8', 'A6', 'A7', 'A4']\n",
            "   432.128  ['A0', 'A4', 'A8', 'A3', 'A1', 'A6', 'A7', 'A5', 'A2', 'A9']\n",
            "   480.784  ['A0', 'A8', 'A7', 'A6', 'A1', 'A9', 'A4', 'A3', 'A5', 'A2']\n",
            "   396.655  ['A0', 'A7', 'A3', 'A4', 'A9', 'A6', 'A2', 'A1', 'A5', 'A8']\n",
            "   449.361  ['A0', 'A1', 'A4', 'A9', 'A5', 'A8', 'A3', 'A2', 'A6', 'A7']\n",
            "   464.967  ['A0', 'A5', 'A3', 'A7', 'A6', 'A2', 'A4', 'A1', 'A8', 'A9']\n",
            "   434.756  ['A0', 'A2', 'A8', 'A5', 'A9', 'A7', 'A1', 'A3', 'A6', 'A4']\n",
            "   381.728  ['A0', 'A5', 'A4', 'A3', 'A9', 'A8', 'A6', 'A7', 'A2', 'A1']\n",
            "   468.102  ['A0', 'A4', 'A5', 'A9', 'A7', 'A1', 'A2', 'A6', 'A8', 'A3']\n",
            "   417.107  ['A0', 'A1', 'A2', 'A8', 'A3', 'A7', 'A6', 'A4', 'A9', 'A5']\n",
            "   370.761  ['A0', 'A2', 'A5', 'A4', 'A7', 'A1', 'A8', 'A9', 'A6', 'A3']\n",
            "   423.697  ['A0', 'A3', 'A1', 'A2', 'A6', 'A7', 'A8', 'A4', 'A9', 'A5']\n",
            "   433.403  ['A0', 'A3', 'A4', 'A9', 'A8', 'A1', 'A6', 'A7', 'A2', 'A5']\n",
            "   397.642  ['A0', 'A7', 'A5', 'A9', 'A2', 'A4', 'A8', 'A1', 'A6', 'A3']\n",
            "   416.675  ['A0', 'A7', 'A9', 'A5', 'A6', 'A3', 'A4', 'A8', 'A2', 'A1']\n",
            "   478.633  ['A0', 'A2', 'A8', 'A3', 'A7', 'A9', 'A4', 'A5', 'A1', 'A6']\n",
            "   404.352  ['A0', 'A5', 'A1', 'A6', 'A2', 'A8', 'A9', 'A4', 'A3', 'A7']\n",
            "   464.327  ['A0', 'A7', 'A8', 'A1', 'A2', 'A3', 'A6', 'A4', 'A5', 'A9']\n",
            "   403.463  ['A0', 'A4', 'A6', 'A9', 'A2', 'A1', 'A8', 'A5', 'A3', 'A7']\n",
            "   407.873  ['A0', 'A2', 'A4', 'A5', 'A8', 'A7', 'A6', 'A3', 'A9', 'A1']\n",
            "   425.484  ['A0', 'A8', 'A6', 'A1', 'A7', 'A2', 'A5', 'A4', 'A3', 'A9']\n",
            "   368.635  ['A0', 'A4', 'A9', 'A6', 'A8', 'A3', 'A7', 'A5', 'A1', 'A2']\n",
            "   463.881  ['A0', 'A2', 'A6', 'A1', 'A7', 'A8', 'A5', 'A4', 'A3', 'A9']\n",
            "   411.752  ['A0', 'A1', 'A3', 'A5', 'A2', 'A9', 'A4', 'A8', 'A7', 'A6']\n",
            "   491.789  ['A0', 'A8', 'A5', 'A2', 'A9', 'A3', 'A4', 'A1', 'A7', 'A6']\n",
            "   407.999  ['A0', 'A9', 'A4', 'A8', 'A1', 'A7', 'A2', 'A6', 'A3', 'A5']\n",
            "   436.033  ['A0', 'A4', 'A6', 'A5', 'A7', 'A2', 'A3', 'A9', 'A1', 'A8']\n",
            "   458.178  ['A0', 'A4', 'A1', 'A5', 'A8', 'A7', 'A2', 'A6', 'A3', 'A9']\n",
            "   479.038  ['A0', 'A9', 'A5', 'A6', 'A1', 'A2', 'A4', 'A3', 'A8', 'A7']\n",
            "   443.470  ['A0', 'A4', 'A7', 'A8', 'A9', 'A5', 'A1', 'A3', 'A6', 'A2']\n",
            "   438.737  ['A0', 'A7', 'A6', 'A1', 'A4', 'A9', 'A3', 'A5', 'A2', 'A8']\n",
            "   357.045  ['A0', 'A1', 'A3', 'A4', 'A8', 'A6', 'A2', 'A7', 'A5', 'A9']\n",
            "   377.922  ['A0', 'A6', 'A9', 'A3', 'A2', 'A8', 'A1', 'A4', 'A5', 'A7']\n",
            "   449.930  ['A0', 'A2', 'A3', 'A9', 'A5', 'A8', 'A4', 'A1', 'A6', 'A7']\n",
            "   408.917  ['A0', 'A1', 'A4', 'A5', 'A2', 'A6', 'A8', 'A9', 'A7', 'A3']\n",
            "   483.974  ['A0', 'A3', 'A8', 'A7', 'A9', 'A4', 'A5', 'A1', 'A2', 'A6']\n",
            "   393.252  ['A0', 'A5', 'A4', 'A7', 'A8', 'A3', 'A6', 'A9', 'A1', 'A2']\n",
            "   440.574  ['A0', 'A8', 'A3', 'A1', 'A5', 'A9', 'A7', 'A2', 'A4', 'A6']\n",
            "   466.519  ['A0', 'A2', 'A3', 'A4', 'A8', 'A1', 'A9', 'A5', 'A6', 'A7']\n",
            "   410.213  ['A0', 'A8', 'A1', 'A5', 'A9', 'A6', 'A3', 'A7', 'A4', 'A2']\n",
            "   415.013  ['A0', 'A9', 'A1', 'A7', 'A6', 'A8', 'A3', 'A4', 'A2', 'A5']\n",
            "   358.120  ['A0', 'A4', 'A9', 'A6', 'A2', 'A3', 'A8', 'A5', 'A7', 'A1']\n",
            "   438.227  ['A0', 'A5', 'A9', 'A8', 'A1', 'A2', 'A7', 'A3', 'A6', 'A4']\n",
            "   512.017  ['A0', 'A2', 'A3', 'A4', 'A7', 'A8', 'A5', 'A9', 'A1', 'A6']\n",
            "   440.648  ['A0', 'A2', 'A4', 'A8', 'A7', 'A9', 'A1', 'A3', 'A5', 'A6']\n",
            "   380.533  ['A0', 'A3', 'A8', 'A1', 'A4', 'A6', 'A9', 'A7', 'A5', 'A2']\n",
            "   473.022  ['A0', 'A6', 'A5', 'A8', 'A7', 'A4', 'A2', 'A3', 'A1', 'A9']\n",
            "   449.402  ['A0', 'A8', 'A7', 'A2', 'A1', 'A6', 'A9', 'A5', 'A3', 'A4']\n",
            "   462.979  ['A0', 'A4', 'A9', 'A2', 'A8', 'A1', 'A6', 'A5', 'A7', 'A3']\n",
            "   433.719  ['A0', 'A6', 'A9', 'A2', 'A5', 'A7', 'A3', 'A4', 'A1', 'A8']\n",
            "   431.253  ['A0', 'A8', 'A4', 'A9', 'A1', 'A6', 'A5', 'A2', 'A3', 'A7']\n",
            "   369.093  ['A0', 'A3', 'A9', 'A4', 'A7', 'A2', 'A5', 'A8', 'A6', 'A1']\n",
            "   442.650  ['A0', 'A2', 'A9', 'A4', 'A5', 'A8', 'A7', 'A3', 'A6', 'A1']\n",
            "   395.015  ['A0', 'A9', 'A1', 'A3', 'A8', 'A6', 'A2', 'A5', 'A4', 'A7']\n",
            "   396.072  ['A0', 'A2', 'A1', 'A3', 'A9', 'A8', 'A4', 'A5', 'A6', 'A7']\n",
            "   411.310  ['A0', 'A9', 'A5', 'A7', 'A1', 'A6', 'A3', 'A8', 'A4', 'A2']\n",
            "   371.967  ['A0', 'A2', 'A9', 'A6', 'A5', 'A7', 'A1', 'A4', 'A8', 'A3']\n",
            "   420.327  ['A0', 'A1', 'A6', 'A2', 'A3', 'A7', 'A5', 'A8', 'A9', 'A4']\n",
            "   380.072  ['A0', 'A5', 'A3', 'A1', 'A8', 'A6', 'A4', 'A2', 'A9', 'A7']\n",
            "   403.387  ['A0', 'A7', 'A3', 'A5', 'A6', 'A9', 'A8', 'A2', 'A1', 'A4']\n",
            "   452.448  ['A0', 'A5', 'A8', 'A4', 'A3', 'A6', 'A7', 'A9', 'A1', 'A2']\n",
            "   479.826  ['A0', 'A7', 'A1', 'A4', 'A3', 'A2', 'A9', 'A8', 'A5', 'A6']\n",
            "   291.577  ['A0', 'A7', 'A5', 'A2', 'A6', 'A9', 'A3', 'A4', 'A8', 'A1']\n",
            "   497.362  ['A0', 'A4', 'A9', 'A7', 'A3', 'A8', 'A1', 'A6', 'A5', 'A2']\n",
            "   409.239  ['A0', 'A9', 'A8', 'A4', 'A6', 'A7', 'A5', 'A1', 'A2', 'A3']\n",
            "   392.060  ['A0', 'A7', 'A9', 'A4', 'A8', 'A6', 'A1', 'A5', 'A2', 'A3']\n",
            "   457.237  ['A0', 'A6', 'A5', 'A3', 'A9', 'A8', 'A7', 'A1', 'A2', 'A4']\n",
            "   428.948  ['A0', 'A2', 'A6', 'A5', 'A7', 'A1', 'A8', 'A9', 'A4', 'A3']\n",
            "   329.830  ['A0', 'A4', 'A8', 'A9', 'A6', 'A2', 'A3', 'A7', 'A5', 'A1']\n",
            "   422.543  ['A0', 'A1', 'A8', 'A2', 'A5', 'A4', 'A7', 'A6', 'A3', 'A9']\n",
            "   413.396  ['A0', 'A9', 'A3', 'A2', 'A6', 'A5', 'A8', 'A4', 'A7', 'A1']\n",
            "   378.997  ['A0', 'A1', 'A8', 'A3', 'A5', 'A6', 'A9', 'A4', 'A7', 'A2']\n",
            "   414.229  ['A0', 'A3', 'A4', 'A9', 'A8', 'A2', 'A7', 'A5', 'A1', 'A6']\n",
            "   437.629  ['A0', 'A3', 'A4', 'A6', 'A5', 'A7', 'A9', 'A1', 'A8', 'A2']\n",
            "   470.078  ['A0', 'A8', 'A3', 'A9', 'A1', 'A4', 'A5', 'A2', 'A7', 'A6']\n",
            "   372.704  ['A0', 'A2', 'A5', 'A8', 'A3', 'A1', 'A7', 'A9', 'A6', 'A4']\n",
            "Hill-Climbing\n",
            "   249.009  ['A0', 'A7', 'A1', 'A3', 'A9', 'A6', 'A8', 'A4', 'A2', 'A5']\n",
            "   220.313  ['A0', 'A1', 'A3', 'A9', 'A6', 'A8', 'A4', 'A2', 'A5', 'A7']\n",
            "   298.239  ['A0', 'A1', 'A3', 'A8', 'A5', 'A7', 'A2', 'A4', 'A6', 'A9']\n",
            "   220.313  ['A0', 'A7', 'A5', 'A2', 'A4', 'A8', 'A6', 'A9', 'A3', 'A1']\n",
            "   249.009  ['A0', 'A5', 'A2', 'A4', 'A8', 'A6', 'A9', 'A3', 'A1', 'A7']\n",
            "   220.313  ['A0', 'A7', 'A5', 'A2', 'A4', 'A8', 'A6', 'A9', 'A3', 'A1']\n",
            "   220.313  ['A0', 'A7', 'A5', 'A2', 'A4', 'A8', 'A6', 'A9', 'A3', 'A1']\n",
            "   268.968  ['A0', 'A1', 'A3', 'A5', 'A7', 'A2', 'A4', 'A8', 'A6', 'A9']\n",
            "   254.005  ['A0', 'A2', 'A4', 'A8', 'A6', 'A9', 'A3', 'A1', 'A5', 'A7']\n",
            "   247.531  ['A0', 'A3', 'A9', 'A6', 'A8', 'A4', 'A2', 'A5', 'A7', 'A1']\n",
            "   249.009  ['A0', 'A5', 'A2', 'A4', 'A8', 'A6', 'A9', 'A3', 'A1', 'A7']\n",
            "   220.313  ['A0', 'A1', 'A3', 'A9', 'A6', 'A8', 'A4', 'A2', 'A5', 'A7']\n",
            "   249.009  ['A0', 'A5', 'A2', 'A4', 'A8', 'A6', 'A9', 'A3', 'A1', 'A7']\n",
            "   254.005  ['A0', 'A2', 'A4', 'A8', 'A6', 'A9', 'A3', 'A1', 'A5', 'A7']\n",
            "   220.313  ['A0', 'A7', 'A5', 'A2', 'A4', 'A8', 'A6', 'A9', 'A3', 'A1']\n",
            "   220.313  ['A0', 'A7', 'A5', 'A2', 'A4', 'A8', 'A6', 'A9', 'A3', 'A1']\n",
            "   247.531  ['A0', 'A3', 'A9', 'A6', 'A8', 'A4', 'A2', 'A5', 'A7', 'A1']\n",
            "   268.968  ['A0', 'A9', 'A6', 'A8', 'A4', 'A2', 'A7', 'A5', 'A3', 'A1']\n",
            "   220.313  ['A0', 'A1', 'A3', 'A9', 'A6', 'A8', 'A4', 'A2', 'A5', 'A7']\n",
            "   220.313  ['A0', 'A1', 'A3', 'A9', 'A6', 'A8', 'A4', 'A2', 'A5', 'A7']\n",
            "   249.009  ['A0', 'A5', 'A2', 'A4', 'A8', 'A6', 'A9', 'A3', 'A1', 'A7']\n",
            "   220.313  ['A0', 'A7', 'A5', 'A2', 'A4', 'A8', 'A6', 'A9', 'A3', 'A1']\n",
            "   249.009  ['A0', 'A7', 'A1', 'A3', 'A9', 'A6', 'A8', 'A4', 'A2', 'A5']\n",
            "   220.313  ['A0', 'A7', 'A5', 'A2', 'A4', 'A8', 'A6', 'A9', 'A3', 'A1']\n",
            "   220.313  ['A0', 'A1', 'A3', 'A9', 'A6', 'A8', 'A4', 'A2', 'A5', 'A7']\n",
            "   280.871  ['A0', 'A4', 'A8', 'A6', 'A9', 'A3', 'A1', 'A5', 'A2', 'A7']\n",
            "   254.005  ['A0', 'A2', 'A4', 'A8', 'A6', 'A9', 'A3', 'A1', 'A5', 'A7']\n",
            "   268.968  ['A0', 'A9', 'A6', 'A8', 'A4', 'A2', 'A7', 'A5', 'A3', 'A1']\n",
            "   268.968  ['A0', 'A1', 'A3', 'A5', 'A7', 'A2', 'A4', 'A8', 'A6', 'A9']\n",
            "   220.313  ['A0', 'A1', 'A3', 'A9', 'A6', 'A8', 'A4', 'A2', 'A5', 'A7']\n",
            "   247.531  ['A0', 'A3', 'A9', 'A6', 'A8', 'A4', 'A2', 'A5', 'A7', 'A1']\n",
            "   220.313  ['A0', 'A7', 'A5', 'A2', 'A4', 'A8', 'A6', 'A9', 'A3', 'A1']\n",
            "   280.871  ['A0', 'A4', 'A8', 'A6', 'A9', 'A3', 'A1', 'A5', 'A2', 'A7']\n",
            "   249.009  ['A0', 'A7', 'A1', 'A3', 'A9', 'A6', 'A8', 'A4', 'A2', 'A5']\n",
            "   249.009  ['A0', 'A5', 'A2', 'A4', 'A8', 'A6', 'A9', 'A3', 'A1', 'A7']\n",
            "   220.313  ['A0', 'A1', 'A3', 'A9', 'A6', 'A8', 'A4', 'A2', 'A5', 'A7']\n",
            "   249.009  ['A0', 'A7', 'A1', 'A3', 'A9', 'A6', 'A8', 'A4', 'A2', 'A5']\n",
            "   220.313  ['A0', 'A7', 'A5', 'A2', 'A4', 'A8', 'A6', 'A9', 'A3', 'A1']\n",
            "   249.009  ['A0', 'A7', 'A1', 'A3', 'A9', 'A6', 'A8', 'A4', 'A2', 'A5']\n",
            "   268.968  ['A0', 'A9', 'A6', 'A8', 'A4', 'A2', 'A7', 'A5', 'A3', 'A1']\n",
            "   254.005  ['A0', 'A7', 'A5', 'A1', 'A3', 'A9', 'A6', 'A8', 'A4', 'A2']\n",
            "   220.313  ['A0', 'A7', 'A5', 'A2', 'A4', 'A8', 'A6', 'A9', 'A3', 'A1']\n",
            "   249.009  ['A0', 'A5', 'A2', 'A4', 'A8', 'A6', 'A9', 'A3', 'A1', 'A7']\n",
            "   268.968  ['A0', 'A9', 'A6', 'A8', 'A4', 'A2', 'A7', 'A5', 'A3', 'A1']\n",
            "   300.417  ['A0', 'A9', 'A6', 'A4', 'A8', 'A3', 'A1', 'A5', 'A2', 'A7']\n",
            "   249.009  ['A0', 'A5', 'A2', 'A4', 'A8', 'A6', 'A9', 'A3', 'A1', 'A7']\n",
            "   249.009  ['A0', 'A7', 'A1', 'A3', 'A9', 'A6', 'A8', 'A4', 'A2', 'A5']\n",
            "   249.009  ['A0', 'A7', 'A1', 'A3', 'A9', 'A6', 'A8', 'A4', 'A2', 'A5']\n",
            "   249.009  ['A0', 'A5', 'A2', 'A4', 'A8', 'A6', 'A9', 'A3', 'A1', 'A7']\n",
            "   220.313  ['A0', 'A7', 'A5', 'A2', 'A4', 'A8', 'A6', 'A9', 'A3', 'A1']\n",
            "   220.313  ['A0', 'A1', 'A3', 'A9', 'A6', 'A8', 'A4', 'A2', 'A5', 'A7']\n",
            "   220.313  ['A0', 'A1', 'A3', 'A9', 'A6', 'A8', 'A4', 'A2', 'A5', 'A7']\n",
            "   220.313  ['A0', 'A7', 'A5', 'A2', 'A4', 'A8', 'A6', 'A9', 'A3', 'A1']\n",
            "   254.005  ['A0', 'A7', 'A5', 'A1', 'A3', 'A9', 'A6', 'A8', 'A4', 'A2']\n",
            "   268.968  ['A0', 'A1', 'A3', 'A5', 'A7', 'A2', 'A4', 'A8', 'A6', 'A9']\n",
            "   247.531  ['A0', 'A3', 'A9', 'A6', 'A8', 'A4', 'A2', 'A5', 'A7', 'A1']\n",
            "   220.313  ['A0', 'A7', 'A5', 'A2', 'A4', 'A8', 'A6', 'A9', 'A3', 'A1']\n",
            "   268.968  ['A0', 'A9', 'A6', 'A8', 'A4', 'A2', 'A7', 'A5', 'A3', 'A1']\n",
            "   254.005  ['A0', 'A7', 'A5', 'A1', 'A3', 'A9', 'A6', 'A8', 'A4', 'A2']\n",
            "   280.871  ['A0', 'A4', 'A8', 'A6', 'A9', 'A3', 'A1', 'A5', 'A2', 'A7']\n",
            "   247.531  ['A0', 'A1', 'A7', 'A5', 'A2', 'A4', 'A8', 'A6', 'A9', 'A3']\n",
            "   247.531  ['A0', 'A3', 'A9', 'A6', 'A8', 'A4', 'A2', 'A5', 'A7', 'A1']\n",
            "   220.313  ['A0', 'A1', 'A3', 'A9', 'A6', 'A8', 'A4', 'A2', 'A5', 'A7']\n",
            "   247.531  ['A0', 'A3', 'A9', 'A6', 'A8', 'A4', 'A2', 'A5', 'A7', 'A1']\n",
            "   268.968  ['A0', 'A1', 'A3', 'A5', 'A7', 'A2', 'A4', 'A8', 'A6', 'A9']\n",
            "   247.531  ['A0', 'A1', 'A7', 'A5', 'A2', 'A4', 'A8', 'A6', 'A9', 'A3']\n",
            "   220.313  ['A0', 'A7', 'A5', 'A2', 'A4', 'A8', 'A6', 'A9', 'A3', 'A1']\n",
            "   280.871  ['A0', 'A7', 'A2', 'A5', 'A1', 'A3', 'A9', 'A6', 'A8', 'A4']\n",
            "   220.313  ['A0', 'A1', 'A3', 'A9', 'A6', 'A8', 'A4', 'A2', 'A5', 'A7']\n",
            "   254.005  ['A0', 'A2', 'A4', 'A8', 'A6', 'A9', 'A3', 'A1', 'A5', 'A7']\n",
            "   220.313  ['A0', 'A1', 'A3', 'A9', 'A6', 'A8', 'A4', 'A2', 'A5', 'A7']\n",
            "   220.313  ['A0', 'A7', 'A5', 'A2', 'A4', 'A8', 'A6', 'A9', 'A3', 'A1']\n",
            "   247.531  ['A0', 'A3', 'A9', 'A6', 'A8', 'A4', 'A2', 'A5', 'A7', 'A1']\n",
            "   220.313  ['A0', 'A7', 'A5', 'A2', 'A4', 'A8', 'A6', 'A9', 'A3', 'A1']\n",
            "   220.313  ['A0', 'A7', 'A5', 'A2', 'A4', 'A8', 'A6', 'A9', 'A3', 'A1']\n",
            "   249.009  ['A0', 'A7', 'A1', 'A3', 'A9', 'A6', 'A8', 'A4', 'A2', 'A5']\n",
            "   220.313  ['A0', 'A1', 'A3', 'A9', 'A6', 'A8', 'A4', 'A2', 'A5', 'A7']\n",
            "   247.531  ['A0', 'A1', 'A7', 'A5', 'A2', 'A4', 'A8', 'A6', 'A9', 'A3']\n",
            "   220.313  ['A0', 'A1', 'A3', 'A9', 'A6', 'A8', 'A4', 'A2', 'A5', 'A7']\n",
            "   220.313  ['A0', 'A7', 'A5', 'A2', 'A4', 'A8', 'A6', 'A9', 'A3', 'A1']\n",
            "   249.009  ['A0', 'A5', 'A2', 'A4', 'A8', 'A6', 'A9', 'A3', 'A1', 'A7']\n",
            "   254.005  ['A0', 'A2', 'A4', 'A8', 'A6', 'A9', 'A3', 'A1', 'A5', 'A7']\n",
            "   220.313  ['A0', 'A7', 'A5', 'A2', 'A4', 'A8', 'A6', 'A9', 'A3', 'A1']\n",
            "   254.005  ['A0', 'A7', 'A5', 'A1', 'A3', 'A9', 'A6', 'A8', 'A4', 'A2']\n",
            "   254.005  ['A0', 'A7', 'A5', 'A1', 'A3', 'A9', 'A6', 'A8', 'A4', 'A2']\n",
            "   254.005  ['A0', 'A7', 'A5', 'A1', 'A3', 'A9', 'A6', 'A8', 'A4', 'A2']\n",
            "   247.531  ['A0', 'A3', 'A9', 'A6', 'A8', 'A4', 'A2', 'A5', 'A7', 'A1']\n",
            "   247.531  ['A0', 'A1', 'A7', 'A5', 'A2', 'A4', 'A8', 'A6', 'A9', 'A3']\n",
            "   220.313  ['A0', 'A1', 'A3', 'A9', 'A6', 'A8', 'A4', 'A2', 'A5', 'A7']\n",
            "   220.313  ['A0', 'A1', 'A3', 'A9', 'A6', 'A8', 'A4', 'A2', 'A5', 'A7']\n",
            "   220.313  ['A0', 'A1', 'A3', 'A9', 'A6', 'A8', 'A4', 'A2', 'A5', 'A7']\n",
            "   249.009  ['A0', 'A7', 'A1', 'A3', 'A9', 'A6', 'A8', 'A4', 'A2', 'A5']\n",
            "   247.531  ['A0', 'A3', 'A9', 'A6', 'A8', 'A4', 'A2', 'A5', 'A7', 'A1']\n",
            "   220.313  ['A0', 'A7', 'A5', 'A2', 'A4', 'A8', 'A6', 'A9', 'A3', 'A1']\n",
            "   220.313  ['A0', 'A7', 'A5', 'A2', 'A4', 'A8', 'A6', 'A9', 'A3', 'A1']\n",
            "   247.531  ['A0', 'A1', 'A7', 'A5', 'A2', 'A4', 'A8', 'A6', 'A9', 'A3']\n",
            "   249.009  ['A0', 'A5', 'A2', 'A4', 'A8', 'A6', 'A9', 'A3', 'A1', 'A7']\n",
            "   249.009  ['A0', 'A5', 'A2', 'A4', 'A8', 'A6', 'A9', 'A3', 'A1', 'A7']\n",
            "   247.531  ['A0', 'A1', 'A7', 'A5', 'A2', 'A4', 'A8', 'A6', 'A9', 'A3']\n",
            "   220.313  ['A0', 'A1', 'A3', 'A9', 'A6', 'A8', 'A4', 'A2', 'A5', 'A7']\n"
          ]
        }
      ],
      "source": [
        "###################################\n",
        "# PROBLEMA GERADO ALEATORIAMENTE  #\n",
        "###################################\n",
        "\n",
        "# cria instancia do problema com n cidades\n",
        "\n",
        "n_cidades=10\n",
        "df_coordenadas = gera_coordenadas_aleatorias(n_cidades)\n",
        "\n",
        "tsp = gera_problema_tsp(df_coordenadas)\n",
        "\n",
        "# numero de vezes que executará cada algoritmo\n",
        "n_vezes = 100\n",
        "\n",
        "# Executa N vezes para gerar estatísticas da variável custo\n",
        "df_custo = executa_n_vezes(tsp, algoritmos, n_vezes)"
      ]
    },
    {
      "attachments": {},
      "cell_type": "markdown",
      "metadata": {
        "id": "45ka8n7U3xEJ"
      },
      "source": [
        "##### Box Plots"
      ]
    },
    {
      "cell_type": "code",
      "execution_count": 31,
      "metadata": {
        "colab": {
          "base_uri": "https://localhost:8080/",
          "height": 729
        },
        "id": "sHc3sH1h3vW8",
        "outputId": "3068974e-bc06-4429-c4b8-bfebca56459f"
      },
      "outputs": [
        {
          "data": {
            "image/png": "[encoded data removed]",
            "text/plain": [
              "<Figure size 1200x600 with 1 Axes>"
            ]
          },
          "metadata": {},
          "output_type": "display_data"
        }
      ],
      "source": [
        "boxplot_sorted(df_custo, rot=90, figsize=(12,6), fontsize=20)"
      ]
    },
    {
      "attachments": {},
      "cell_type": "markdown",
      "metadata": {
        "id": "WyY1EdCVEuwr"
      },
      "source": [
        "Observe no gráfico acima que a variabilidade do Hill-climbing é bem menor que a do Random-Walk.\n",
        "\n",
        "Como você justifica isso?"
      ]
    },
    {
      "cell_type": "code",
      "execution_count": 32,
      "metadata": {
        "colab": {
          "base_uri": "https://localhost:8080/",
          "height": 300
        },
        "id": "95jLa1QH_khY",
        "outputId": "dc745487-f5a1-4669-95c8-7390e9339030"
      },
      "outputs": [
        {
          "data": {
            "text/html": [
              "<div>\n",
              "<style scoped>\n",
              "    .dataframe tbody tr th:only-of-type {\n",
              "        vertical-align: middle;\n",
              "    }\n",
              "\n",
              "    .dataframe tbody tr th {\n",
              "        vertical-align: top;\n",
              "    }\n",
              "\n",
              "    .dataframe thead th {\n",
              "        text-align: right;\n",
              "    }\n",
              "</style>\n",
              "<table border=\"1\" class=\"dataframe\">\n",
              "  <thead>\n",
              "    <tr style=\"text-align: right;\">\n",
              "      <th>ALGORITMO</th>\n",
              "      <th>Random Walk</th>\n",
              "      <th>Hill-Climbing</th>\n",
              "    </tr>\n",
              "  </thead>\n",
              "  <tbody>\n",
              "    <tr>\n",
              "      <th>count</th>\n",
              "      <td>100.000000</td>\n",
              "      <td>100.000000</td>\n",
              "    </tr>\n",
              "    <tr>\n",
              "      <th>mean</th>\n",
              "      <td>420.530422</td>\n",
              "      <td>242.222764</td>\n",
              "    </tr>\n",
              "    <tr>\n",
              "      <th>std</th>\n",
              "      <td>41.212107</td>\n",
              "      <td>20.233068</td>\n",
              "    </tr>\n",
              "    <tr>\n",
              "      <th>min</th>\n",
              "      <td>291.577431</td>\n",
              "      <td>220.313453</td>\n",
              "    </tr>\n",
              "    <tr>\n",
              "      <th>25%</th>\n",
              "      <td>397.394979</td>\n",
              "      <td>220.313453</td>\n",
              "    </tr>\n",
              "    <tr>\n",
              "      <th>50%</th>\n",
              "      <td>421.434896</td>\n",
              "      <td>247.530612</td>\n",
              "    </tr>\n",
              "    <tr>\n",
              "      <th>75%</th>\n",
              "      <td>449.370889</td>\n",
              "      <td>254.005484</td>\n",
              "    </tr>\n",
              "    <tr>\n",
              "      <th>max</th>\n",
              "      <td>512.016529</td>\n",
              "      <td>300.416772</td>\n",
              "    </tr>\n",
              "  </tbody>\n",
              "</table>\n",
              "</div>"
            ],
            "text/plain": [
              "ALGORITMO  Random Walk  Hill-Climbing\n",
              "count       100.000000     100.000000\n",
              "mean        420.530422     242.222764\n",
              "std          41.212107      20.233068\n",
              "min         291.577431     220.313453\n",
              "25%         397.394979     220.313453\n",
              "50%         421.434896     247.530612\n",
              "75%         449.370889     254.005484\n",
              "max         512.016529     300.416772"
            ]
          },
          "execution_count": 32,
          "metadata": {},
          "output_type": "execute_result"
        }
      ],
      "source": [
        "df_custo.T.describe()"
      ]
    },
    {
      "attachments": {},
      "cell_type": "markdown",
      "metadata": {
        "id": "qTMC2Nkbxjzg"
      },
      "source": [
        "A seguir, são apresentados alguns links de problemas reais.\n",
        "\n",
        "Basta escolher um link de **`download de dados`**, setar a variável URL abaixo, e rodar o algoritmo.\n"
      ]
    },
    {
      "attachments": {},
      "cell_type": "markdown",
      "metadata": {
        "id": "hOPLqBDJE_pb"
      },
      "source": [
        "---"
      ]
    },
    {
      "attachments": {},
      "cell_type": "markdown",
      "metadata": {
        "id": "CXeSyHd7xT44"
      },
      "source": [
        "#### PROBLEMAS REAIS"
      ]
    },
    {
      "attachments": {},
      "cell_type": "markdown",
      "metadata": {
        "id": "NEusgsDhxJ2A"
      },
      "source": [
        "\n",
        "    Western Sahara\n",
        "    29 cidades\n",
        "    The optimal tour has length 27.603\n",
        "    Foto dos Pontos: http://www.math.uwaterloo.ca/tsp/world/wipoints.html\n",
        "    Foto da Solução: http://www.math.uwaterloo.ca/tsp/world/witour.html\n",
        "    Download dos Dados: http://www.math.uwaterloo.ca/tsp/world/wi29.tsp\n",
        "\n",
        "    Djibouti dataset\n",
        "    38 cidades\n",
        "    The optimal tour has length 6.656\n",
        "    Foto dos Pontos: http://www.math.uwaterloo.ca/tsp/world/djpoints.html\n",
        "    Foto da Solução: http://www.math.uwaterloo.ca/tsp/world/djtour.html\n",
        "    Download dos Dados: http://www.math.uwaterloo.ca/tsp/world/dj38.tsp\n",
        "\n",
        "    Qatar\n",
        "    194 cidades\n",
        "    The optimal tour has length 9.352\n",
        "    Foto dos Pontos: http://www.math.uwaterloo.ca/tsp/world/qapoints.html\n",
        "    Foto da Solução: http://www.math.uwaterloo.ca/tsp/world/qatour.html\n",
        "    Download dos Dados: http://www.math.uwaterloo.ca/tsp/world/qa194.tsp\n",
        "\n",
        "    Uruguay\n",
        "    734 cidades\n",
        "    The optimal tour has length 79.114\n",
        "    Foto dos Pontos: http://www.math.uwaterloo.ca/tsp/world/uypoints.html\n",
        "    Foto da Solução: http://www.math.uwaterloo.ca/tsp/world/uytour.html\n",
        "    Download dos Dados: http://www.math.uwaterloo.ca/tsp/world/uy734.tsp"
      ]
    },
    {
      "cell_type": "code",
      "execution_count": 48,
      "metadata": {
        "id": "EiW3_5eExv-S"
      },
      "outputs": [],
      "source": [
        "url_coordenadas_cidade = 'https://www.math.uwaterloo.ca/tsp/world/wi29.tsp'\n",
        "\n",
        "df_coordenadas = pd.read_table(\n",
        "                    url_coordenadas_cidade,\n",
        "                    skiprows=7,           # ignora as 7 primeiras linhas com informações\n",
        "                    names=['X', 'Y'],     # nomes das colunas\n",
        "                    sep=' ',              # separador das colunas\n",
        "                    index_col=0,          # usar col=0 como index (nome das cidades)\n",
        "                    skipfooter=1,         # ignora a última linha (EOF)\n",
        "                    engine='python'       # para o parser usar skipfooter sem warning\n",
        "              )"
      ]
    },
    {
      "cell_type": "code",
      "execution_count": 49,
      "metadata": {
        "colab": {
          "base_uri": "https://localhost:8080/",
          "height": 958
        },
        "id": "GW-uAffq1_IP",
        "outputId": "c79e519a-582b-4027-eca0-ab63b893dfc2"
      },
      "outputs": [
        {
          "data": {
            "text/html": [
              "<div>\n",
              "<style scoped>\n",
              "    .dataframe tbody tr th:only-of-type {\n",
              "        vertical-align: middle;\n",
              "    }\n",
              "\n",
              "    .dataframe tbody tr th {\n",
              "        vertical-align: top;\n",
              "    }\n",
              "\n",
              "    .dataframe thead th {\n",
              "        text-align: right;\n",
              "    }\n",
              "</style>\n",
              "<table border=\"1\" class=\"dataframe\">\n",
              "  <thead>\n",
              "    <tr style=\"text-align: right;\">\n",
              "      <th></th>\n",
              "      <th>X</th>\n",
              "      <th>Y</th>\n",
              "    </tr>\n",
              "  </thead>\n",
              "  <tbody>\n",
              "    <tr>\n",
              "      <th>1</th>\n",
              "      <td>20833.3333</td>\n",
              "      <td>17100.0000</td>\n",
              "    </tr>\n",
              "    <tr>\n",
              "      <th>2</th>\n",
              "      <td>20900.0000</td>\n",
              "      <td>17066.6667</td>\n",
              "    </tr>\n",
              "    <tr>\n",
              "      <th>3</th>\n",
              "      <td>21300.0000</td>\n",
              "      <td>13016.6667</td>\n",
              "    </tr>\n",
              "    <tr>\n",
              "      <th>4</th>\n",
              "      <td>21600.0000</td>\n",
              "      <td>14150.0000</td>\n",
              "    </tr>\n",
              "    <tr>\n",
              "      <th>5</th>\n",
              "      <td>21600.0000</td>\n",
              "      <td>14966.6667</td>\n",
              "    </tr>\n",
              "    <tr>\n",
              "      <th>6</th>\n",
              "      <td>21600.0000</td>\n",
              "      <td>16500.0000</td>\n",
              "    </tr>\n",
              "    <tr>\n",
              "      <th>7</th>\n",
              "      <td>22183.3333</td>\n",
              "      <td>13133.3333</td>\n",
              "    </tr>\n",
              "    <tr>\n",
              "      <th>8</th>\n",
              "      <td>22583.3333</td>\n",
              "      <td>14300.0000</td>\n",
              "    </tr>\n",
              "    <tr>\n",
              "      <th>9</th>\n",
              "      <td>22683.3333</td>\n",
              "      <td>12716.6667</td>\n",
              "    </tr>\n",
              "    <tr>\n",
              "      <th>10</th>\n",
              "      <td>23616.6667</td>\n",
              "      <td>15866.6667</td>\n",
              "    </tr>\n",
              "    <tr>\n",
              "      <th>11</th>\n",
              "      <td>23700.0000</td>\n",
              "      <td>15933.3333</td>\n",
              "    </tr>\n",
              "    <tr>\n",
              "      <th>12</th>\n",
              "      <td>23883.3333</td>\n",
              "      <td>14533.3333</td>\n",
              "    </tr>\n",
              "    <tr>\n",
              "      <th>13</th>\n",
              "      <td>24166.6667</td>\n",
              "      <td>13250.0000</td>\n",
              "    </tr>\n",
              "    <tr>\n",
              "      <th>14</th>\n",
              "      <td>25149.1667</td>\n",
              "      <td>12365.8333</td>\n",
              "    </tr>\n",
              "    <tr>\n",
              "      <th>15</th>\n",
              "      <td>26133.3333</td>\n",
              "      <td>14500.0000</td>\n",
              "    </tr>\n",
              "    <tr>\n",
              "      <th>16</th>\n",
              "      <td>26150.0000</td>\n",
              "      <td>10550.0000</td>\n",
              "    </tr>\n",
              "    <tr>\n",
              "      <th>17</th>\n",
              "      <td>26283.3333</td>\n",
              "      <td>12766.6667</td>\n",
              "    </tr>\n",
              "    <tr>\n",
              "      <th>18</th>\n",
              "      <td>26433.3333</td>\n",
              "      <td>13433.3333</td>\n",
              "    </tr>\n",
              "    <tr>\n",
              "      <th>19</th>\n",
              "      <td>26550.0000</td>\n",
              "      <td>13850.0000</td>\n",
              "    </tr>\n",
              "    <tr>\n",
              "      <th>20</th>\n",
              "      <td>26733.3333</td>\n",
              "      <td>11683.3333</td>\n",
              "    </tr>\n",
              "    <tr>\n",
              "      <th>21</th>\n",
              "      <td>27026.1111</td>\n",
              "      <td>13051.9444</td>\n",
              "    </tr>\n",
              "    <tr>\n",
              "      <th>22</th>\n",
              "      <td>27096.1111</td>\n",
              "      <td>13415.8333</td>\n",
              "    </tr>\n",
              "    <tr>\n",
              "      <th>23</th>\n",
              "      <td>27153.6111</td>\n",
              "      <td>13203.3333</td>\n",
              "    </tr>\n",
              "    <tr>\n",
              "      <th>24</th>\n",
              "      <td>27166.6667</td>\n",
              "      <td>9833.3333</td>\n",
              "    </tr>\n",
              "    <tr>\n",
              "      <th>25</th>\n",
              "      <td>27233.3333</td>\n",
              "      <td>10450.0000</td>\n",
              "    </tr>\n",
              "    <tr>\n",
              "      <th>26</th>\n",
              "      <td>27233.3333</td>\n",
              "      <td>11783.3333</td>\n",
              "    </tr>\n",
              "    <tr>\n",
              "      <th>27</th>\n",
              "      <td>27266.6667</td>\n",
              "      <td>10383.3333</td>\n",
              "    </tr>\n",
              "    <tr>\n",
              "      <th>28</th>\n",
              "      <td>27433.3333</td>\n",
              "      <td>12400.0000</td>\n",
              "    </tr>\n",
              "    <tr>\n",
              "      <th>29</th>\n",
              "      <td>27462.5000</td>\n",
              "      <td>12992.2222</td>\n",
              "    </tr>\n",
              "  </tbody>\n",
              "</table>\n",
              "</div>"
            ],
            "text/plain": [
              "             X           Y\n",
              "1   20833.3333  17100.0000\n",
              "2   20900.0000  17066.6667\n",
              "3   21300.0000  13016.6667\n",
              "4   21600.0000  14150.0000\n",
              "5   21600.0000  14966.6667\n",
              "6   21600.0000  16500.0000\n",
              "7   22183.3333  13133.3333\n",
              "8   22583.3333  14300.0000\n",
              "9   22683.3333  12716.6667\n",
              "10  23616.6667  15866.6667\n",
              "11  23700.0000  15933.3333\n",
              "12  23883.3333  14533.3333\n",
              "13  24166.6667  13250.0000\n",
              "14  25149.1667  12365.8333\n",
              "15  26133.3333  14500.0000\n",
              "16  26150.0000  10550.0000\n",
              "17  26283.3333  12766.6667\n",
              "18  26433.3333  13433.3333\n",
              "19  26550.0000  13850.0000\n",
              "20  26733.3333  11683.3333\n",
              "21  27026.1111  13051.9444\n",
              "22  27096.1111  13415.8333\n",
              "23  27153.6111  13203.3333\n",
              "24  27166.6667   9833.3333\n",
              "25  27233.3333  10450.0000\n",
              "26  27233.3333  11783.3333\n",
              "27  27266.6667  10383.3333\n",
              "28  27433.3333  12400.0000\n",
              "29  27462.5000  12992.2222"
            ]
          },
          "execution_count": 49,
          "metadata": {},
          "output_type": "execute_result"
        }
      ],
      "source": [
        "# descomente a linha abaixo para conferir se os dados foram lidos corretamente\n",
        "\n",
        "df_coordenadas"
      ]
    },
    {
      "cell_type": "code",
      "execution_count": 50,
      "metadata": {
        "colab": {
          "base_uri": "https://localhost:8080/",
          "height": 535
        },
        "id": "6t3IV2oJROMD",
        "outputId": "d23198d2-5e7f-4650-c6d4-9da9e44c568b"
      },
      "outputs": [
        {
          "name": "stdout",
          "output_type": "stream",
          "text": [
            "40689.309, [1, 2, 5, 14, 27, 24, 16, 9, 7, 3, 4, 8, 13, 17, 21, 23, 18, 15, 19, 22, 29, 28, 26, 25, 20, 12, 11, 10, 6]\n"
          ]
        },
        {
          "data": {
            "application/vnd.plotly.v1+json": {
              "config": {
                "plotlyServerURL": "https://plot.ly"
              },
              "data": [
                {
                  "mode": "lines+markers+text",
                  "name": "",
                  "text": [
                    "1",
                    "2",
                    "5",
                    "14",
                    "27",
                    "24",
                    "16",
                    "9",
                    "7",
                    "3",
                    "4",
                    "8",
                    "13",
                    "17",
                    "21",
                    "23",
                    "18",
                    "15",
                    "19",
                    "22",
                    "29",
                    "28",
                    "26",
                    "25",
                    "20",
                    "12",
                    "11",
                    "10",
                    "6"
                  ],
                  "textposition": "bottom center",
                  "type": "scatter",
                  "x": [
                    20833.3333,
                    20900,
                    21600,
                    25149.1667,
                    27266.6667,
                    27166.6667,
                    26150,
                    22683.3333,
                    22183.3333,
                    21300,
                    21600,
                    22583.3333,
                    24166.6667,
                    26283.3333,
                    27026.1111,
                    27153.6111,
                    26433.3333,
                    26133.3333,
                    26550,
                    27096.1111,
                    27462.5,
                    27433.3333,
                    27233.3333,
                    27233.3333,
                    26733.3333,
                    23883.3333,
                    23700,
                    23616.6667,
                    21600
                  ],
                  "y": [
                    17100,
                    17066.6667,
                    14966.6667,
                    12365.8333,
                    10383.3333,
                    9833.3333,
                    10550,
                    12716.6667,
                    13133.3333,
                    13016.6667,
                    14150,
                    14300,
                    13250,
                    12766.6667,
                    13051.9444,
                    13203.3333,
                    13433.3333,
                    14500,
                    13850,
                    13415.8333,
                    12992.2222,
                    12400,
                    11783.3333,
                    10450,
                    11683.3333,
                    14533.3333,
                    15933.3333,
                    15866.6667,
                    16500
                  ]
                },
                {
                  "mode": "lines+markers",
                  "name": "",
                  "type": "scatter",
                  "x": [
                    21600,
                    20833.3333
                  ],
                  "y": [
                    16500,
                    17100
                  ]
                }
              ],
              "layout": {
                "autosize": false,
                "height": 500,
                "showlegend": false,
                "template": {
                  "data": {
                    "bar": [
                      {
                        "error_x": {
                          "color": "#2a3f5f"
                        },
                        "error_y": {
                          "color": "#2a3f5f"
                        },
                        "marker": {
                          "line": {
                            "color": "#E5ECF6",
                            "width": 0.5
                          },
                          "pattern": {
                            "fillmode": "overlay",
                            "size": 10,
                            "solidity": 0.2
                          }
                        },
                        "type": "bar"
                      }
                    ],
                    "barpolar": [
                      {
                        "marker": {
                          "line": {
                            "color": "#E5ECF6",
                            "width": 0.5
                          },
                          "pattern": {
                            "fillmode": "overlay",
                            "size": 10,
                            "solidity": 0.2
                          }
                        },
                        "type": "barpolar"
                      }
                    ],
                    "carpet": [
                      {
                        "aaxis": {
                          "endlinecolor": "#2a3f5f",
                          "gridcolor": "white",
                          "linecolor": "white",
                          "minorgridcolor": "white",
                          "startlinecolor": "#2a3f5f"
                        },
                        "baxis": {
                          "endlinecolor": "#2a3f5f",
                          "gridcolor": "white",
                          "linecolor": "white",
                          "minorgridcolor": "white",
                          "startlinecolor": "#2a3f5f"
                        },
                        "type": "carpet"
                      }
                    ],
                    "choropleth": [
                      {
                        "colorbar": {
                          "outlinewidth": 0,
                          "ticks": ""
                        },
                        "type": "choropleth"
                      }
                    ],
                    "contour": [
                      {
                        "colorbar": {
                          "outlinewidth": 0,
                          "ticks": ""
                        },
                        "colorscale": [
                          [
                            0,
                            "#0d0887"
                          ],
                          [
                            0.1111111111111111,
                            "#46039f"
                          ],
                          [
                            0.2222222222222222,
                            "#7201a8"
                          ],
                          [
                            0.3333333333333333,
                            "#9c179e"
                          ],
                          [
                            0.4444444444444444,
                            "#bd3786"
                          ],
                          [
                            0.5555555555555556,
                            "#d8576b"
                          ],
                          [
                            0.6666666666666666,
                            "#ed7953"
                          ],
                          [
                            0.7777777777777778,
                            "#fb9f3a"
                          ],
                          [
                            0.8888888888888888,
                            "#fdca26"
                          ],
                          [
                            1,
                            "#f0f921"
                          ]
                        ],
                        "type": "contour"
                      }
                    ],
                    "contourcarpet": [
                      {
                        "colorbar": {
                          "outlinewidth": 0,
                          "ticks": ""
                        },
                        "type": "contourcarpet"
                      }
                    ],
                    "heatmap": [
                      {
                        "colorbar": {
                          "outlinewidth": 0,
                          "ticks": ""
                        },
                        "colorscale": [
                          [
                            0,
                            "#0d0887"
                          ],
                          [
                            0.1111111111111111,
                            "#46039f"
                          ],
                          [
                            0.2222222222222222,
                            "#7201a8"
                          ],
                          [
                            0.3333333333333333,
                            "#9c179e"
                          ],
                          [
                            0.4444444444444444,
                            "#bd3786"
                          ],
                          [
                            0.5555555555555556,
                            "#d8576b"
                          ],
                          [
                            0.6666666666666666,
                            "#ed7953"
                          ],
                          [
                            0.7777777777777778,
                            "#fb9f3a"
                          ],
                          [
                            0.8888888888888888,
                            "#fdca26"
                          ],
                          [
                            1,
                            "#f0f921"
                          ]
                        ],
                        "type": "heatmap"
                      }
                    ],
                    "heatmapgl": [
                      {
                        "colorbar": {
                          "outlinewidth": 0,
                          "ticks": ""
                        },
                        "colorscale": [
                          [
                            0,
                            "#0d0887"
                          ],
                          [
                            0.1111111111111111,
                            "#46039f"
                          ],
                          [
                            0.2222222222222222,
                            "#7201a8"
                          ],
                          [
                            0.3333333333333333,
                            "#9c179e"
                          ],
                          [
                            0.4444444444444444,
                            "#bd3786"
                          ],
                          [
                            0.5555555555555556,
                            "#d8576b"
                          ],
                          [
                            0.6666666666666666,
                            "#ed7953"
                          ],
                          [
                            0.7777777777777778,
                            "#fb9f3a"
                          ],
                          [
                            0.8888888888888888,
                            "#fdca26"
                          ],
                          [
                            1,
                            "#f0f921"
                          ]
                        ],
                        "type": "heatmapgl"
                      }
                    ],
                    "histogram": [
                      {
                        "marker": {
                          "pattern": {
                            "fillmode": "overlay",
                            "size": 10,
                            "solidity": 0.2
                          }
                        },
                        "type": "histogram"
                      }
                    ],
                    "histogram2d": [
                      {
                        "colorbar": {
                          "outlinewidth": 0,
                          "ticks": ""
                        },
                        "colorscale": [
                          [
                            0,
                            "#0d0887"
                          ],
                          [
                            0.1111111111111111,
                            "#46039f"
                          ],
                          [
                            0.2222222222222222,
                            "#7201a8"
                          ],
                          [
                            0.3333333333333333,
                            "#9c179e"
                          ],
                          [
                            0.4444444444444444,
                            "#bd3786"
                          ],
                          [
                            0.5555555555555556,
                            "#d8576b"
                          ],
                          [
                            0.6666666666666666,
                            "#ed7953"
                          ],
                          [
                            0.7777777777777778,
                            "#fb9f3a"
                          ],
                          [
                            0.8888888888888888,
                            "#fdca26"
                          ],
                          [
                            1,
                            "#f0f921"
                          ]
                        ],
                        "type": "histogram2d"
                      }
                    ],
                    "histogram2dcontour": [
                      {
                        "colorbar": {
                          "outlinewidth": 0,
                          "ticks": ""
                        },
                        "colorscale": [
                          [
                            0,
                            "#0d0887"
                          ],
                          [
                            0.1111111111111111,
                            "#46039f"
                          ],
                          [
                            0.2222222222222222,
                            "#7201a8"
                          ],
                          [
                            0.3333333333333333,
                            "#9c179e"
                          ],
                          [
                            0.4444444444444444,
                            "#bd3786"
                          ],
                          [
                            0.5555555555555556,
                            "#d8576b"
                          ],
                          [
                            0.6666666666666666,
                            "#ed7953"
                          ],
                          [
                            0.7777777777777778,
                            "#fb9f3a"
                          ],
                          [
                            0.8888888888888888,
                            "#fdca26"
                          ],
                          [
                            1,
                            "#f0f921"
                          ]
                        ],
                        "type": "histogram2dcontour"
                      }
                    ],
                    "mesh3d": [
                      {
                        "colorbar": {
                          "outlinewidth": 0,
                          "ticks": ""
                        },
                        "type": "mesh3d"
                      }
                    ],
                    "parcoords": [
                      {
                        "line": {
                          "colorbar": {
                            "outlinewidth": 0,
                            "ticks": ""
                          }
                        },
                        "type": "parcoords"
                      }
                    ],
                    "pie": [
                      {
                        "automargin": true,
                        "type": "pie"
                      }
                    ],
                    "scatter": [
                      {
                        "fillpattern": {
                          "fillmode": "overlay",
                          "size": 10,
                          "solidity": 0.2
                        },
                        "type": "scatter"
                      }
                    ],
                    "scatter3d": [
                      {
                        "line": {
                          "colorbar": {
                            "outlinewidth": 0,
                            "ticks": ""
                          }
                        },
                        "marker": {
                          "colorbar": {
                            "outlinewidth": 0,
                            "ticks": ""
                          }
                        },
                        "type": "scatter3d"
                      }
                    ],
                    "scattercarpet": [
                      {
                        "marker": {
                          "colorbar": {
                            "outlinewidth": 0,
                            "ticks": ""
                          }
                        },
                        "type": "scattercarpet"
                      }
                    ],
                    "scattergeo": [
                      {
                        "marker": {
                          "colorbar": {
                            "outlinewidth": 0,
                            "ticks": ""
                          }
                        },
                        "type": "scattergeo"
                      }
                    ],
                    "scattergl": [
                      {
                        "marker": {
                          "colorbar": {
                            "outlinewidth": 0,
                            "ticks": ""
                          }
                        },
                        "type": "scattergl"
                      }
                    ],
                    "scattermapbox": [
                      {
                        "marker": {
                          "colorbar": {
                            "outlinewidth": 0,
                            "ticks": ""
                          }
                        },
                        "type": "scattermapbox"
                      }
                    ],
                    "scatterpolar": [
                      {
                        "marker": {
                          "colorbar": {
                            "outlinewidth": 0,
                            "ticks": ""
                          }
                        },
                        "type": "scatterpolar"
                      }
                    ],
                    "scatterpolargl": [
                      {
                        "marker": {
                          "colorbar": {
                            "outlinewidth": 0,
                            "ticks": ""
                          }
                        },
                        "type": "scatterpolargl"
                      }
                    ],
                    "scatterternary": [
                      {
                        "marker": {
                          "colorbar": {
                            "outlinewidth": 0,
                            "ticks": ""
                          }
                        },
                        "type": "scatterternary"
                      }
                    ],
                    "surface": [
                      {
                        "colorbar": {
                          "outlinewidth": 0,
                          "ticks": ""
                        },
                        "colorscale": [
                          [
                            0,
                            "#0d0887"
                          ],
                          [
                            0.1111111111111111,
                            "#46039f"
                          ],
                          [
                            0.2222222222222222,
                            "#7201a8"
                          ],
                          [
                            0.3333333333333333,
                            "#9c179e"
                          ],
                          [
                            0.4444444444444444,
                            "#bd3786"
                          ],
                          [
                            0.5555555555555556,
                            "#d8576b"
                          ],
                          [
                            0.6666666666666666,
                            "#ed7953"
                          ],
                          [
                            0.7777777777777778,
                            "#fb9f3a"
                          ],
                          [
                            0.8888888888888888,
                            "#fdca26"
                          ],
                          [
                            1,
                            "#f0f921"
                          ]
                        ],
                        "type": "surface"
                      }
                    ],
                    "table": [
                      {
                        "cells": {
                          "fill": {
                            "color": "#EBF0F8"
                          },
                          "line": {
                            "color": "white"
                          }
                        },
                        "header": {
                          "fill": {
                            "color": "#C8D4E3"
                          },
                          "line": {
                            "color": "white"
                          }
                        },
                        "type": "table"
                      }
                    ]
                  },
                  "layout": {
                    "annotationdefaults": {
                      "arrowcolor": "#2a3f5f",
                      "arrowhead": 0,
                      "arrowwidth": 1
                    },
                    "autotypenumbers": "strict",
                    "coloraxis": {
                      "colorbar": {
                        "outlinewidth": 0,
                        "ticks": ""
                      }
                    },
                    "colorscale": {
                      "diverging": [
                        [
                          0,
                          "#8e0152"
                        ],
                        [
                          0.1,
                          "#c51b7d"
                        ],
                        [
                          0.2,
                          "#de77ae"
                        ],
                        [
                          0.3,
                          "#f1b6da"
                        ],
                        [
                          0.4,
                          "#fde0ef"
                        ],
                        [
                          0.5,
                          "#f7f7f7"
                        ],
                        [
                          0.6,
                          "#e6f5d0"
                        ],
                        [
                          0.7,
                          "#b8e186"
                        ],
                        [
                          0.8,
                          "#7fbc41"
                        ],
                        [
                          0.9,
                          "#4d9221"
                        ],
                        [
                          1,
                          "#276419"
                        ]
                      ],
                      "sequential": [
                        [
                          0,
                          "#0d0887"
                        ],
                        [
                          0.1111111111111111,
                          "#46039f"
                        ],
                        [
                          0.2222222222222222,
                          "#7201a8"
                        ],
                        [
                          0.3333333333333333,
                          "#9c179e"
                        ],
                        [
                          0.4444444444444444,
                          "#bd3786"
                        ],
                        [
                          0.5555555555555556,
                          "#d8576b"
                        ],
                        [
                          0.6666666666666666,
                          "#ed7953"
                        ],
                        [
                          0.7777777777777778,
                          "#fb9f3a"
                        ],
                        [
                          0.8888888888888888,
                          "#fdca26"
                        ],
                        [
                          1,
                          "#f0f921"
                        ]
                      ],
                      "sequentialminus": [
                        [
                          0,
                          "#0d0887"
                        ],
                        [
                          0.1111111111111111,
                          "#46039f"
                        ],
                        [
                          0.2222222222222222,
                          "#7201a8"
                        ],
                        [
                          0.3333333333333333,
                          "#9c179e"
                        ],
                        [
                          0.4444444444444444,
                          "#bd3786"
                        ],
                        [
                          0.5555555555555556,
                          "#d8576b"
                        ],
                        [
                          0.6666666666666666,
                          "#ed7953"
                        ],
                        [
                          0.7777777777777778,
                          "#fb9f3a"
                        ],
                        [
                          0.8888888888888888,
                          "#fdca26"
                        ],
                        [
                          1,
                          "#f0f921"
                        ]
                      ]
                    },
                    "colorway": [
                      "#636efa",
                      "#EF553B",
                      "#00cc96",
                      "#ab63fa",
                      "#FFA15A",
                      "#19d3f3",
                      "#FF6692",
                      "#B6E880",
                      "#FF97FF",
                      "#FECB52"
                    ],
                    "font": {
                      "color": "#2a3f5f"
                    },
                    "geo": {
                      "bgcolor": "white",
                      "lakecolor": "white",
                      "landcolor": "#E5ECF6",
                      "showlakes": true,
                      "showland": true,
                      "subunitcolor": "white"
                    },
                    "hoverlabel": {
                      "align": "left"
                    },
                    "hovermode": "closest",
                    "mapbox": {
                      "style": "light"
                    },
                    "paper_bgcolor": "white",
                    "plot_bgcolor": "#E5ECF6",
                    "polar": {
                      "angularaxis": {
                        "gridcolor": "white",
                        "linecolor": "white",
                        "ticks": ""
                      },
                      "bgcolor": "#E5ECF6",
                      "radialaxis": {
                        "gridcolor": "white",
                        "linecolor": "white",
                        "ticks": ""
                      }
                    },
                    "scene": {
                      "xaxis": {
                        "backgroundcolor": "#E5ECF6",
                        "gridcolor": "white",
                        "gridwidth": 2,
                        "linecolor": "white",
                        "showbackground": true,
                        "ticks": "",
                        "zerolinecolor": "white"
                      },
                      "yaxis": {
                        "backgroundcolor": "#E5ECF6",
                        "gridcolor": "white",
                        "gridwidth": 2,
                        "linecolor": "white",
                        "showbackground": true,
                        "ticks": "",
                        "zerolinecolor": "white"
                      },
                      "zaxis": {
                        "backgroundcolor": "#E5ECF6",
                        "gridcolor": "white",
                        "gridwidth": 2,
                        "linecolor": "white",
                        "showbackground": true,
                        "ticks": "",
                        "zerolinecolor": "white"
                      }
                    },
                    "shapedefaults": {
                      "line": {
                        "color": "#2a3f5f"
                      }
                    },
                    "ternary": {
                      "aaxis": {
                        "gridcolor": "white",
                        "linecolor": "white",
                        "ticks": ""
                      },
                      "baxis": {
                        "gridcolor": "white",
                        "linecolor": "white",
                        "ticks": ""
                      },
                      "bgcolor": "#E5ECF6",
                      "caxis": {
                        "gridcolor": "white",
                        "linecolor": "white",
                        "ticks": ""
                      }
                    },
                    "title": {
                      "x": 0.05
                    },
                    "xaxis": {
                      "automargin": true,
                      "gridcolor": "white",
                      "linecolor": "white",
                      "ticks": "",
                      "title": {
                        "standoff": 15
                      },
                      "zerolinecolor": "white",
                      "zerolinewidth": 2
                    },
                    "yaxis": {
                      "automargin": true,
                      "gridcolor": "white",
                      "linecolor": "white",
                      "ticks": "",
                      "title": {
                        "standoff": 15
                      },
                      "zerolinecolor": "white",
                      "zerolinewidth": 2
                    }
                  }
                },
                "width": 500
              }
            }
          },
          "metadata": {},
          "output_type": "display_data"
        }
      ],
      "source": [
        "tsp = gera_problema_tsp(df_coordenadas)\n",
        "\n",
        "#solucao, custo = random_walk(tsp)\n",
        "custo, solucao = hill_climbing(tsp)\n",
        "print(f'{custo:7.3f}, {solucao}')\n",
        "plota_rotas(df_coordenadas, solucao)"
      ]
    },
    {
      "cell_type": "code",
      "execution_count": 51,
      "metadata": {
        "id": "WtKlRwHfjy8j"
      },
      "outputs": [],
      "source": [
        "###################################\n",
        "# PROBLEMA REAL #\n",
        "###################################\n",
        "\n",
        "tsp = gera_problema_tsp(df_coordenadas)\n",
        "\n",
        "#tsp"
      ]
    },
    {
      "cell_type": "code",
      "execution_count": 52,
      "metadata": {
        "colab": {
          "base_uri": "https://localhost:8080/"
        },
        "id": "5yanKrRdwumi",
        "outputId": "2f6aa1d3-e44f-4252-92fb-c778053f6dca"
      },
      "outputs": [
        {
          "name": "stdout",
          "output_type": "stream",
          "text": [
            "Random Walk\n",
            " 96501.917  [1, 15, 23, 2, 16, 22, 28, 18, 9, 27, 21, 25, 17, 12, 10, 26, 11, 29, 24, 19, 7, 3, 8, 14, 13, 20, 4, 5, 6]\n",
            "131897.870  [1, 23, 10, 20, 5, 26, 17, 8, 14, 12, 16, 25, 9, 15, 19, 2, 3, 24, 29, 7, 18, 13, 6, 27, 21, 11, 22, 4, 28]\n",
            "110216.466  [1, 22, 8, 5, 2, 21, 4, 26, 11, 25, 20, 16, 9, 7, 18, 15, 12, 14, 13, 24, 3, 19, 27, 29, 6, 10, 17, 28, 23]\n",
            "114358.633  [1, 12, 13, 8, 27, 29, 17, 10, 22, 6, 19, 24, 4, 23, 28, 7, 18, 26, 5, 3, 14, 16, 21, 20, 2, 11, 9, 25, 15]\n",
            "121982.750  [1, 25, 4, 28, 18, 3, 17, 6, 8, 2, 22, 16, 5, 13, 29, 7, 27, 15, 26, 20, 10, 12, 11, 23, 14, 24, 9, 21, 19]\n",
            "104800.126  [1, 8, 5, 23, 3, 18, 20, 21, 14, 24, 29, 12, 25, 6, 10, 26, 19, 22, 7, 13, 16, 17, 28, 15, 2, 27, 9, 4, 11]\n",
            "118907.858  [1, 2, 20, 5, 23, 3, 18, 27, 29, 21, 22, 7, 4, 28, 19, 12, 10, 17, 6, 16, 14, 8, 26, 11, 9, 15, 25, 13, 24]\n",
            "112886.847  [1, 21, 2, 24, 8, 3, 28, 7, 13, 17, 18, 25, 9, 16, 20, 29, 26, 22, 19, 4, 14, 12, 11, 10, 5, 15, 23, 6, 27]\n",
            "104250.442  [1, 5, 6, 14, 21, 28, 16, 15, 8, 24, 4, 23, 20, 7, 29, 26, 19, 12, 13, 3, 25, 17, 22, 11, 10, 9, 2, 27, 18]\n",
            "114683.533  [1, 25, 14, 7, 21, 23, 22, 28, 2, 29, 26, 5, 8, 12, 17, 4, 15, 20, 18, 3, 6, 27, 11, 13, 24, 9, 16, 19, 10]\n",
            "125572.330  [1, 26, 23, 15, 8, 18, 16, 27, 5, 28, 7, 25, 3, 24, 20, 13, 9, 14, 11, 19, 29, 4, 10, 12, 21, 6, 17, 2, 22]\n",
            " 95533.246  [1, 4, 2, 16, 29, 5, 8, 3, 6, 12, 23, 22, 28, 11, 26, 19, 21, 10, 13, 9, 18, 25, 24, 15, 14, 17, 7, 20, 27]\n",
            "115975.098  [1, 6, 16, 23, 2, 15, 27, 28, 11, 24, 4, 20, 5, 3, 18, 29, 9, 14, 25, 7, 12, 8, 19, 10, 17, 13, 26, 22, 21]\n",
            "103853.838  [1, 5, 24, 11, 18, 19, 26, 17, 21, 29, 25, 23, 7, 28, 20, 10, 12, 27, 9, 2, 4, 3, 16, 8, 15, 14, 13, 6, 22]\n",
            " 85426.303  [1, 8, 4, 20, 11, 23, 26, 24, 28, 22, 21, 15, 7, 14, 12, 13, 29, 25, 17, 3, 9, 19, 27, 18, 16, 6, 5, 2, 10]\n",
            "114353.183  [1, 13, 20, 19, 17, 29, 16, 11, 10, 28, 2, 18, 24, 27, 4, 26, 5, 7, 25, 9, 8, 23, 21, 3, 12, 14, 6, 22, 15]\n",
            "112631.947  [1, 12, 24, 28, 25, 5, 13, 23, 21, 17, 22, 3, 18, 16, 19, 4, 2, 20, 7, 26, 11, 8, 10, 14, 6, 15, 27, 29, 9]\n",
            "108167.791  [1, 4, 17, 25, 14, 21, 19, 23, 18, 27, 12, 11, 15, 24, 3, 13, 28, 7, 29, 5, 6, 26, 2, 16, 22, 20, 8, 9, 10]\n",
            "117002.915  [1, 5, 23, 27, 10, 20, 21, 26, 11, 22, 8, 14, 7, 19, 12, 3, 9, 15, 28, 25, 6, 4, 18, 2, 16, 29, 13, 24, 17]\n",
            "123957.639  [1, 23, 13, 27, 8, 20, 6, 24, 2, 5, 26, 11, 28, 19, 21, 4, 18, 17, 29, 25, 9, 3, 15, 12, 16, 22, 7, 14, 10]\n",
            "113214.189  [1, 27, 29, 19, 10, 13, 7, 8, 23, 2, 3, 5, 24, 6, 20, 17, 11, 16, 26, 12, 18, 14, 15, 9, 4, 21, 28, 22, 25]\n",
            "116503.169  [1, 13, 23, 22, 6, 18, 17, 4, 5, 21, 24, 7, 15, 9, 12, 25, 16, 27, 10, 29, 8, 28, 11, 19, 14, 3, 2, 20, 26]\n",
            "100102.352  [1, 5, 21, 7, 13, 11, 9, 8, 3, 26, 15, 12, 16, 29, 23, 20, 14, 22, 19, 2, 24, 17, 28, 27, 4, 18, 25, 6, 10]\n",
            "108489.678  [1, 5, 19, 10, 25, 21, 11, 29, 22, 27, 17, 7, 12, 4, 14, 16, 2, 15, 28, 23, 3, 24, 20, 13, 6, 9, 8, 26, 18]\n",
            " 95551.395  [1, 6, 28, 16, 5, 11, 3, 29, 21, 15, 4, 8, 12, 10, 23, 26, 19, 18, 24, 2, 22, 7, 13, 17, 14, 9, 25, 27, 20]\n",
            " 90886.484  [1, 6, 4, 18, 25, 14, 13, 12, 10, 15, 29, 20, 24, 11, 17, 27, 22, 8, 3, 2, 9, 26, 23, 28, 7, 5, 21, 19, 16]\n",
            "118141.113  [1, 18, 6, 20, 15, 23, 16, 28, 11, 10, 19, 13, 7, 22, 26, 21, 27, 2, 14, 17, 5, 4, 29, 8, 9, 25, 3, 12, 24]\n",
            "111087.697  [1, 27, 6, 12, 3, 5, 10, 18, 11, 4, 15, 14, 16, 19, 13, 22, 24, 20, 2, 21, 26, 9, 28, 17, 7, 23, 25, 29, 8]\n",
            "112347.802  [1, 2, 18, 3, 27, 25, 28, 5, 24, 15, 7, 17, 22, 16, 19, 6, 13, 23, 12, 20, 8, 26, 29, 9, 14, 4, 10, 21, 11]\n",
            " 96837.541  [1, 20, 15, 11, 2, 4, 13, 3, 18, 29, 6, 28, 25, 21, 23, 14, 10, 12, 5, 27, 26, 16, 22, 17, 9, 7, 19, 24, 8]\n",
            "Hill-Climbing\n",
            " 36579.642  [1, 2, 6, 19, 22, 23, 21, 29, 28, 25, 27, 24, 16, 13, 12, 10, 11, 15, 18, 17, 26, 20, 14, 9, 7, 3, 4, 8, 5]\n",
            " 36349.421  [1, 2, 6, 5, 4, 3, 7, 9, 13, 21, 22, 23, 29, 28, 26, 20, 17, 18, 19, 15, 11, 10, 12, 14, 16, 24, 27, 25, 8]\n",
            " 33379.431  [1, 2, 6, 11, 10, 8, 4, 3, 7, 9, 13, 14, 17, 20, 28, 21, 18, 15, 19, 22, 23, 29, 26, 25, 27, 24, 16, 12, 5]\n",
            " 38285.830  [1, 6, 10, 11, 14, 16, 9, 3, 7, 12, 15, 19, 18, 22, 29, 28, 26, 27, 24, 25, 20, 23, 21, 17, 13, 8, 4, 5, 2]\n",
            " 36722.425  [1, 6, 10, 11, 12, 15, 19, 22, 18, 17, 7, 4, 3, 9, 16, 24, 27, 25, 26, 21, 23, 29, 28, 20, 14, 13, 8, 5, 2]\n",
            " 38939.228  [1, 2, 3, 7, 9, 22, 23, 21, 20, 16, 24, 27, 25, 26, 28, 29, 15, 11, 10, 5, 4, 8, 13, 14, 17, 18, 19, 12, 6]\n",
            " 43680.973  [1, 13, 14, 17, 18, 19, 9, 7, 3, 4, 10, 11, 6, 5, 8, 12, 22, 23, 29, 25, 27, 24, 16, 20, 26, 28, 21, 15, 2]\n",
            " 35327.714  [1, 6, 22, 23, 21, 29, 28, 26, 20, 25, 27, 24, 16, 14, 12, 8, 5, 4, 3, 7, 9, 13, 17, 18, 19, 15, 11, 10, 2]\n",
            " 29749.244  [1, 2, 6, 10, 11, 12, 20, 16, 24, 27, 25, 26, 28, 29, 21, 23, 22, 19, 15, 18, 17, 14, 13, 9, 7, 3, 4, 8, 5]\n",
            " 52785.175  [1, 16, 24, 27, 25, 28, 29, 19, 15, 11, 10, 2, 6, 12, 17, 26, 20, 7, 4, 5, 8, 13, 18, 22, 23, 21, 14, 9, 3]\n",
            " 43038.784  [1, 2, 4, 3, 7, 9, 13, 14, 15, 19, 22, 23, 21, 18, 17, 26, 28, 29, 11, 10, 6, 5, 8, 16, 24, 27, 25, 20, 12]\n",
            " 41599.176  [1, 6, 16, 24, 27, 25, 21, 18, 15, 19, 22, 23, 29, 28, 26, 20, 12, 11, 10, 5, 4, 8, 13, 17, 14, 9, 7, 3, 2]\n",
            " 34758.601  [1, 2, 5, 4, 3, 7, 9, 25, 27, 24, 16, 14, 12, 10, 11, 15, 19, 18, 22, 23, 21, 29, 28, 26, 20, 17, 13, 8, 6]\n",
            " 36499.912  [1, 2, 6, 5, 8, 10, 11, 15, 19, 18, 17, 14, 9, 7, 3, 4, 13, 20, 16, 24, 27, 25, 26, 28, 29, 21, 23, 22, 12]\n",
            " 42451.474  [1, 16, 24, 27, 25, 20, 26, 28, 17, 14, 13, 8, 9, 7, 3, 4, 5, 2, 6, 10, 11, 12, 15, 19, 22, 23, 29, 21, 18]\n",
            " 36285.270  [1, 2, 6, 10, 11, 12, 15, 19, 22, 23, 29, 21, 17, 14, 13, 9, 7, 3, 4, 8, 16, 24, 27, 25, 20, 26, 28, 18, 5]\n",
            " 46245.552  [1, 2, 5, 8, 18, 22, 23, 29, 28, 27, 24, 25, 26, 21, 17, 14, 12, 10, 11, 15, 19, 13, 7, 4, 3, 9, 16, 20, 6]\n",
            " 30218.306  [1, 2, 6, 10, 11, 12, 13, 14, 17, 21, 22, 23, 29, 28, 26, 16, 24, 27, 25, 20, 18, 19, 15, 8, 9, 7, 3, 4, 5]\n",
            " 37267.993  [1, 17, 26, 28, 29, 21, 23, 22, 18, 19, 15, 8, 5, 4, 3, 7, 9, 14, 20, 25, 27, 24, 16, 13, 12, 11, 10, 6, 2]\n",
            " 28754.902  [1, 6, 10, 11, 12, 15, 19, 18, 22, 23, 21, 20, 16, 24, 27, 25, 26, 28, 29, 17, 14, 13, 9, 7, 3, 4, 8, 5, 2]\n",
            " 36776.103  [1, 15, 19, 18, 22, 23, 21, 29, 28, 25, 27, 24, 16, 13, 12, 10, 11, 17, 26, 20, 14, 9, 7, 3, 4, 8, 5, 6, 2]\n",
            " 30656.041  [1, 2, 5, 4, 3, 13, 14, 17, 18, 15, 19, 22, 23, 21, 29, 28, 26, 20, 25, 27, 24, 16, 9, 7, 8, 12, 11, 10, 6]\n",
            " 38092.086  [1, 25, 27, 24, 16, 14, 17, 18, 19, 22, 23, 21, 29, 28, 26, 20, 15, 11, 10, 8, 5, 4, 3, 7, 9, 13, 12, 6, 2]\n",
            " 46087.420  [1, 2, 6, 12, 18, 17, 13, 8, 5, 4, 14, 20, 26, 25, 27, 24, 16, 9, 7, 3, 10, 11, 15, 22, 23, 29, 28, 21, 19]\n",
            " 33598.117  [1, 15, 19, 22, 29, 28, 20, 16, 24, 27, 25, 26, 21, 23, 18, 17, 14, 13, 9, 7, 12, 11, 10, 8, 3, 4, 5, 6, 2]\n",
            " 30802.745  [1, 2, 6, 11, 10, 8, 5, 4, 3, 7, 9, 13, 14, 17, 29, 28, 26, 25, 27, 24, 16, 20, 21, 23, 22, 18, 19, 15, 12]\n",
            " 39143.642  [1, 2, 6, 19, 22, 23, 21, 29, 28, 26, 17, 18, 15, 11, 10, 12, 8, 5, 4, 3, 7, 9, 13, 14, 20, 25, 27, 24, 16]\n",
            " 49508.887  [1, 2, 6, 12, 13, 14, 20, 26, 28, 29, 11, 10, 5, 4, 8, 22, 23, 21, 17, 9, 3, 7, 15, 19, 18, 25, 27, 24, 16]\n",
            " 30430.188  [1, 5, 4, 3, 7, 9, 13, 17, 21, 23, 18, 15, 19, 22, 29, 28, 26, 20, 25, 27, 24, 16, 14, 12, 8, 10, 11, 6, 2]\n",
            " 33971.073  [1, 2, 6, 10, 11, 12, 8, 7, 9, 13, 15, 19, 22, 18, 17, 14, 20, 26, 28, 29, 23, 21, 25, 27, 24, 16, 3, 4, 5]\n"
          ]
        }
      ],
      "source": [
        "n_vezes = 30\n",
        "\n",
        "# Executa N vezes para gerar estatísticas da variável custo\n",
        "df_custo = executa_n_vezes(tsp, algoritmos, n_vezes)"
      ]
    },
    {
      "cell_type": "code",
      "execution_count": 53,
      "metadata": {},
      "outputs": [
        {
          "data": {
            "text/html": [
              "<div>\n",
              "<style scoped>\n",
              "    .dataframe tbody tr th:only-of-type {\n",
              "        vertical-align: middle;\n",
              "    }\n",
              "\n",
              "    .dataframe tbody tr th {\n",
              "        vertical-align: top;\n",
              "    }\n",
              "\n",
              "    .dataframe thead th {\n",
              "        text-align: right;\n",
              "    }\n",
              "</style>\n",
              "<table border=\"1\" class=\"dataframe\">\n",
              "  <thead>\n",
              "    <tr style=\"text-align: right;\">\n",
              "      <th></th>\n",
              "      <th>0</th>\n",
              "      <th>1</th>\n",
              "      <th>2</th>\n",
              "      <th>3</th>\n",
              "      <th>4</th>\n",
              "      <th>5</th>\n",
              "      <th>6</th>\n",
              "      <th>7</th>\n",
              "      <th>8</th>\n",
              "      <th>9</th>\n",
              "      <th>...</th>\n",
              "      <th>20</th>\n",
              "      <th>21</th>\n",
              "      <th>22</th>\n",
              "      <th>23</th>\n",
              "      <th>24</th>\n",
              "      <th>25</th>\n",
              "      <th>26</th>\n",
              "      <th>27</th>\n",
              "      <th>28</th>\n",
              "      <th>29</th>\n",
              "    </tr>\n",
              "    <tr>\n",
              "      <th>ALGORITMO</th>\n",
              "      <th></th>\n",
              "      <th></th>\n",
              "      <th></th>\n",
              "      <th></th>\n",
              "      <th></th>\n",
              "      <th></th>\n",
              "      <th></th>\n",
              "      <th></th>\n",
              "      <th></th>\n",
              "      <th></th>\n",
              "      <th></th>\n",
              "      <th></th>\n",
              "      <th></th>\n",
              "      <th></th>\n",
              "      <th></th>\n",
              "      <th></th>\n",
              "      <th></th>\n",
              "      <th></th>\n",
              "      <th></th>\n",
              "      <th></th>\n",
              "      <th></th>\n",
              "    </tr>\n",
              "  </thead>\n",
              "  <tbody>\n",
              "    <tr>\n",
              "      <th>Random Walk</th>\n",
              "      <td>96501.916925</td>\n",
              "      <td>131897.869866</td>\n",
              "      <td>110216.465558</td>\n",
              "      <td>114358.633357</td>\n",
              "      <td>121982.749786</td>\n",
              "      <td>104800.126408</td>\n",
              "      <td>118907.857588</td>\n",
              "      <td>112886.846949</td>\n",
              "      <td>104250.442038</td>\n",
              "      <td>114683.533086</td>\n",
              "      <td>...</td>\n",
              "      <td>113214.188607</td>\n",
              "      <td>116503.168843</td>\n",
              "      <td>100102.351987</td>\n",
              "      <td>108489.677912</td>\n",
              "      <td>95551.394677</td>\n",
              "      <td>90886.484497</td>\n",
              "      <td>118141.113165</td>\n",
              "      <td>111087.696628</td>\n",
              "      <td>112347.802340</td>\n",
              "      <td>96837.541497</td>\n",
              "    </tr>\n",
              "    <tr>\n",
              "      <th>Hill-Climbing</th>\n",
              "      <td>36579.642045</td>\n",
              "      <td>36349.421304</td>\n",
              "      <td>33379.430730</td>\n",
              "      <td>38285.830219</td>\n",
              "      <td>36722.424849</td>\n",
              "      <td>38939.228104</td>\n",
              "      <td>43680.973496</td>\n",
              "      <td>35327.713558</td>\n",
              "      <td>29749.243770</td>\n",
              "      <td>52785.175208</td>\n",
              "      <td>...</td>\n",
              "      <td>36776.102511</td>\n",
              "      <td>30656.041449</td>\n",
              "      <td>38092.085940</td>\n",
              "      <td>46087.420496</td>\n",
              "      <td>33598.116717</td>\n",
              "      <td>30802.745208</td>\n",
              "      <td>39143.642019</td>\n",
              "      <td>49508.887456</td>\n",
              "      <td>30430.187795</td>\n",
              "      <td>33971.072963</td>\n",
              "    </tr>\n",
              "  </tbody>\n",
              "</table>\n",
              "<p>2 rows × 30 columns</p>\n",
              "</div>"
            ],
            "text/plain": [
              "                         0              1              2              3   \\\n",
              "ALGORITMO                                                                  \n",
              "Random Walk    96501.916925  131897.869866  110216.465558  114358.633357   \n",
              "Hill-Climbing  36579.642045   36349.421304   33379.430730   38285.830219   \n",
              "\n",
              "                          4              5              6              7   \\\n",
              "ALGORITMO                                                                   \n",
              "Random Walk    121982.749786  104800.126408  118907.857588  112886.846949   \n",
              "Hill-Climbing   36722.424849   38939.228104   43680.973496   35327.713558   \n",
              "\n",
              "                          8              9   ...             20  \\\n",
              "ALGORITMO                                    ...                  \n",
              "Random Walk    104250.442038  114683.533086  ...  113214.188607   \n",
              "Hill-Climbing   29749.243770   52785.175208  ...   36776.102511   \n",
              "\n",
              "                          21             22             23            24  \\\n",
              "ALGORITMO                                                                  \n",
              "Random Walk    116503.168843  100102.351987  108489.677912  95551.394677   \n",
              "Hill-Climbing   30656.041449   38092.085940   46087.420496  33598.116717   \n",
              "\n",
              "                         25             26             27             28  \\\n",
              "ALGORITMO                                                                  \n",
              "Random Walk    90886.484497  118141.113165  111087.696628  112347.802340   \n",
              "Hill-Climbing  30802.745208   39143.642019   49508.887456   30430.187795   \n",
              "\n",
              "                         29  \n",
              "ALGORITMO                    \n",
              "Random Walk    96837.541497  \n",
              "Hill-Climbing  33971.072963  \n",
              "\n",
              "[2 rows x 30 columns]"
            ]
          },
          "execution_count": 53,
          "metadata": {},
          "output_type": "execute_result"
        }
      ],
      "source": [
        "df_custo"
      ]
    },
    {
      "attachments": {},
      "cell_type": "markdown",
      "metadata": {
        "id": "YlI7aLfqT_Ta"
      },
      "source": [
        "### Plota a rota da melhor solução obtida"
      ]
    },
    {
      "cell_type": "code",
      "execution_count": 38,
      "metadata": {
        "colab": {
          "base_uri": "https://localhost:8080/",
          "height": 517
        },
        "id": "HAR7Nzv1Tkuq",
        "outputId": "cf77bd50-802a-4f19-e1aa-84316f2db7a1"
      },
      "outputs": [
        {
          "data": {
            "application/vnd.plotly.v1+json": {
              "config": {
                "plotlyServerURL": "https://plot.ly"
              },
              "data": [
                {
                  "mode": "lines+markers+text",
                  "name": "",
                  "text": [
                    "1",
                    "2",
                    "6",
                    "5",
                    "4",
                    "3",
                    "7",
                    "9",
                    "8",
                    "13",
                    "14",
                    "16",
                    "24",
                    "27",
                    "25",
                    "20",
                    "26",
                    "28",
                    "29",
                    "23",
                    "22",
                    "21",
                    "17",
                    "18",
                    "19",
                    "15",
                    "12",
                    "10",
                    "11"
                  ],
                  "textposition": "bottom center",
                  "type": "scatter",
                  "x": [
                    20833.3333,
                    20900,
                    21600,
                    21600,
                    21600,
                    21300,
                    22183.3333,
                    22683.3333,
                    22583.3333,
                    24166.6667,
                    25149.1667,
                    26150,
                    27166.6667,
                    27266.6667,
                    27233.3333,
                    26733.3333,
                    27233.3333,
                    27433.3333,
                    27462.5,
                    27153.6111,
                    27096.1111,
                    27026.1111,
                    26283.3333,
                    26433.3333,
                    26550,
                    26133.3333,
                    23883.3333,
                    23616.6667,
                    23700
                  ],
                  "y": [
                    17100,
                    17066.6667,
                    16500,
                    14966.6667,
                    14150,
                    13016.6667,
                    13133.3333,
                    12716.6667,
                    14300,
                    13250,
                    12365.8333,
                    10550,
                    9833.3333,
                    10383.3333,
                    10450,
                    11683.3333,
                    11783.3333,
                    12400,
                    12992.2222,
                    13203.3333,
                    13415.8333,
                    13051.9444,
                    12766.6667,
                    13433.3333,
                    13850,
                    14500,
                    14533.3333,
                    15866.6667,
                    15933.3333
                  ]
                },
                {
                  "mode": "lines+markers",
                  "name": "",
                  "type": "scatter",
                  "x": [
                    23700,
                    20833.3333
                  ],
                  "y": [
                    15933.3333,
                    17100
                  ]
                }
              ],
              "layout": {
                "autosize": false,
                "height": 500,
                "showlegend": false,
                "template": {
                  "data": {
                    "bar": [
                      {
                        "error_x": {
                          "color": "#2a3f5f"
                        },
                        "error_y": {
                          "color": "#2a3f5f"
                        },
                        "marker": {
                          "line": {
                            "color": "#E5ECF6",
                            "width": 0.5
                          },
                          "pattern": {
                            "fillmode": "overlay",
                            "size": 10,
                            "solidity": 0.2
                          }
                        },
                        "type": "bar"
                      }
                    ],
                    "barpolar": [
                      {
                        "marker": {
                          "line": {
                            "color": "#E5ECF6",
                            "width": 0.5
                          },
                          "pattern": {
                            "fillmode": "overlay",
                            "size": 10,
                            "solidity": 0.2
                          }
                        },
                        "type": "barpolar"
                      }
                    ],
                    "carpet": [
                      {
                        "aaxis": {
                          "endlinecolor": "#2a3f5f",
                          "gridcolor": "white",
                          "linecolor": "white",
                          "minorgridcolor": "white",
                          "startlinecolor": "#2a3f5f"
                        },
                        "baxis": {
                          "endlinecolor": "#2a3f5f",
                          "gridcolor": "white",
                          "linecolor": "white",
                          "minorgridcolor": "white",
                          "startlinecolor": "#2a3f5f"
                        },
                        "type": "carpet"
                      }
                    ],
                    "choropleth": [
                      {
                        "colorbar": {
                          "outlinewidth": 0,
                          "ticks": ""
                        },
                        "type": "choropleth"
                      }
                    ],
                    "contour": [
                      {
                        "colorbar": {
                          "outlinewidth": 0,
                          "ticks": ""
                        },
                        "colorscale": [
                          [
                            0,
                            "#0d0887"
                          ],
                          [
                            0.1111111111111111,
                            "#46039f"
                          ],
                          [
                            0.2222222222222222,
                            "#7201a8"
                          ],
                          [
                            0.3333333333333333,
                            "#9c179e"
                          ],
                          [
                            0.4444444444444444,
                            "#bd3786"
                          ],
                          [
                            0.5555555555555556,
                            "#d8576b"
                          ],
                          [
                            0.6666666666666666,
                            "#ed7953"
                          ],
                          [
                            0.7777777777777778,
                            "#fb9f3a"
                          ],
                          [
                            0.8888888888888888,
                            "#fdca26"
                          ],
                          [
                            1,
                            "#f0f921"
                          ]
                        ],
                        "type": "contour"
                      }
                    ],
                    "contourcarpet": [
                      {
                        "colorbar": {
                          "outlinewidth": 0,
                          "ticks": ""
                        },
                        "type": "contourcarpet"
                      }
                    ],
                    "heatmap": [
                      {
                        "colorbar": {
                          "outlinewidth": 0,
                          "ticks": ""
                        },
                        "colorscale": [
                          [
                            0,
                            "#0d0887"
                          ],
                          [
                            0.1111111111111111,
                            "#46039f"
                          ],
                          [
                            0.2222222222222222,
                            "#7201a8"
                          ],
                          [
                            0.3333333333333333,
                            "#9c179e"
                          ],
                          [
                            0.4444444444444444,
                            "#bd3786"
                          ],
                          [
                            0.5555555555555556,
                            "#d8576b"
                          ],
                          [
                            0.6666666666666666,
                            "#ed7953"
                          ],
                          [
                            0.7777777777777778,
                            "#fb9f3a"
                          ],
                          [
                            0.8888888888888888,
                            "#fdca26"
                          ],
                          [
                            1,
                            "#f0f921"
                          ]
                        ],
                        "type": "heatmap"
                      }
                    ],
                    "heatmapgl": [
                      {
                        "colorbar": {
                          "outlinewidth": 0,
                          "ticks": ""
                        },
                        "colorscale": [
                          [
                            0,
                            "#0d0887"
                          ],
                          [
                            0.1111111111111111,
                            "#46039f"
                          ],
                          [
                            0.2222222222222222,
                            "#7201a8"
                          ],
                          [
                            0.3333333333333333,
                            "#9c179e"
                          ],
                          [
                            0.4444444444444444,
                            "#bd3786"
                          ],
                          [
                            0.5555555555555556,
                            "#d8576b"
                          ],
                          [
                            0.6666666666666666,
                            "#ed7953"
                          ],
                          [
                            0.7777777777777778,
                            "#fb9f3a"
                          ],
                          [
                            0.8888888888888888,
                            "#fdca26"
                          ],
                          [
                            1,
                            "#f0f921"
                          ]
                        ],
                        "type": "heatmapgl"
                      }
                    ],
                    "histogram": [
                      {
                        "marker": {
                          "pattern": {
                            "fillmode": "overlay",
                            "size": 10,
                            "solidity": 0.2
                          }
                        },
                        "type": "histogram"
                      }
                    ],
                    "histogram2d": [
                      {
                        "colorbar": {
                          "outlinewidth": 0,
                          "ticks": ""
                        },
                        "colorscale": [
                          [
                            0,
                            "#0d0887"
                          ],
                          [
                            0.1111111111111111,
                            "#46039f"
                          ],
                          [
                            0.2222222222222222,
                            "#7201a8"
                          ],
                          [
                            0.3333333333333333,
                            "#9c179e"
                          ],
                          [
                            0.4444444444444444,
                            "#bd3786"
                          ],
                          [
                            0.5555555555555556,
                            "#d8576b"
                          ],
                          [
                            0.6666666666666666,
                            "#ed7953"
                          ],
                          [
                            0.7777777777777778,
                            "#fb9f3a"
                          ],
                          [
                            0.8888888888888888,
                            "#fdca26"
                          ],
                          [
                            1,
                            "#f0f921"
                          ]
                        ],
                        "type": "histogram2d"
                      }
                    ],
                    "histogram2dcontour": [
                      {
                        "colorbar": {
                          "outlinewidth": 0,
                          "ticks": ""
                        },
                        "colorscale": [
                          [
                            0,
                            "#0d0887"
                          ],
                          [
                            0.1111111111111111,
                            "#46039f"
                          ],
                          [
                            0.2222222222222222,
                            "#7201a8"
                          ],
                          [
                            0.3333333333333333,
                            "#9c179e"
                          ],
                          [
                            0.4444444444444444,
                            "#bd3786"
                          ],
                          [
                            0.5555555555555556,
                            "#d8576b"
                          ],
                          [
                            0.6666666666666666,
                            "#ed7953"
                          ],
                          [
                            0.7777777777777778,
                            "#fb9f3a"
                          ],
                          [
                            0.8888888888888888,
                            "#fdca26"
                          ],
                          [
                            1,
                            "#f0f921"
                          ]
                        ],
                        "type": "histogram2dcontour"
                      }
                    ],
                    "mesh3d": [
                      {
                        "colorbar": {
                          "outlinewidth": 0,
                          "ticks": ""
                        },
                        "type": "mesh3d"
                      }
                    ],
                    "parcoords": [
                      {
                        "line": {
                          "colorbar": {
                            "outlinewidth": 0,
                            "ticks": ""
                          }
                        },
                        "type": "parcoords"
                      }
                    ],
                    "pie": [
                      {
                        "automargin": true,
                        "type": "pie"
                      }
                    ],
                    "scatter": [
                      {
                        "fillpattern": {
                          "fillmode": "overlay",
                          "size": 10,
                          "solidity": 0.2
                        },
                        "type": "scatter"
                      }
                    ],
                    "scatter3d": [
                      {
                        "line": {
                          "colorbar": {
                            "outlinewidth": 0,
                            "ticks": ""
                          }
                        },
                        "marker": {
                          "colorbar": {
                            "outlinewidth": 0,
                            "ticks": ""
                          }
                        },
                        "type": "scatter3d"
                      }
                    ],
                    "scattercarpet": [
                      {
                        "marker": {
                          "colorbar": {
                            "outlinewidth": 0,
                            "ticks": ""
                          }
                        },
                        "type": "scattercarpet"
                      }
                    ],
                    "scattergeo": [
                      {
                        "marker": {
                          "colorbar": {
                            "outlinewidth": 0,
                            "ticks": ""
                          }
                        },
                        "type": "scattergeo"
                      }
                    ],
                    "scattergl": [
                      {
                        "marker": {
                          "colorbar": {
                            "outlinewidth": 0,
                            "ticks": ""
                          }
                        },
                        "type": "scattergl"
                      }
                    ],
                    "scattermapbox": [
                      {
                        "marker": {
                          "colorbar": {
                            "outlinewidth": 0,
                            "ticks": ""
                          }
                        },
                        "type": "scattermapbox"
                      }
                    ],
                    "scatterpolar": [
                      {
                        "marker": {
                          "colorbar": {
                            "outlinewidth": 0,
                            "ticks": ""
                          }
                        },
                        "type": "scatterpolar"
                      }
                    ],
                    "scatterpolargl": [
                      {
                        "marker": {
                          "colorbar": {
                            "outlinewidth": 0,
                            "ticks": ""
                          }
                        },
                        "type": "scatterpolargl"
                      }
                    ],
                    "scatterternary": [
                      {
                        "marker": {
                          "colorbar": {
                            "outlinewidth": 0,
                            "ticks": ""
                          }
                        },
                        "type": "scatterternary"
                      }
                    ],
                    "surface": [
                      {
                        "colorbar": {
                          "outlinewidth": 0,
                          "ticks": ""
                        },
                        "colorscale": [
                          [
                            0,
                            "#0d0887"
                          ],
                          [
                            0.1111111111111111,
                            "#46039f"
                          ],
                          [
                            0.2222222222222222,
                            "#7201a8"
                          ],
                          [
                            0.3333333333333333,
                            "#9c179e"
                          ],
                          [
                            0.4444444444444444,
                            "#bd3786"
                          ],
                          [
                            0.5555555555555556,
                            "#d8576b"
                          ],
                          [
                            0.6666666666666666,
                            "#ed7953"
                          ],
                          [
                            0.7777777777777778,
                            "#fb9f3a"
                          ],
                          [
                            0.8888888888888888,
                            "#fdca26"
                          ],
                          [
                            1,
                            "#f0f921"
                          ]
                        ],
                        "type": "surface"
                      }
                    ],
                    "table": [
                      {
                        "cells": {
                          "fill": {
                            "color": "#EBF0F8"
                          },
                          "line": {
                            "color": "white"
                          }
                        },
                        "header": {
                          "fill": {
                            "color": "#C8D4E3"
                          },
                          "line": {
                            "color": "white"
                          }
                        },
                        "type": "table"
                      }
                    ]
                  },
                  "layout": {
                    "annotationdefaults": {
                      "arrowcolor": "#2a3f5f",
                      "arrowhead": 0,
                      "arrowwidth": 1
                    },
                    "autotypenumbers": "strict",
                    "coloraxis": {
                      "colorbar": {
                        "outlinewidth": 0,
                        "ticks": ""
                      }
                    },
                    "colorscale": {
                      "diverging": [
                        [
                          0,
                          "#8e0152"
                        ],
                        [
                          0.1,
                          "#c51b7d"
                        ],
                        [
                          0.2,
                          "#de77ae"
                        ],
                        [
                          0.3,
                          "#f1b6da"
                        ],
                        [
                          0.4,
                          "#fde0ef"
                        ],
                        [
                          0.5,
                          "#f7f7f7"
                        ],
                        [
                          0.6,
                          "#e6f5d0"
                        ],
                        [
                          0.7,
                          "#b8e186"
                        ],
                        [
                          0.8,
                          "#7fbc41"
                        ],
                        [
                          0.9,
                          "#4d9221"
                        ],
                        [
                          1,
                          "#276419"
                        ]
                      ],
                      "sequential": [
                        [
                          0,
                          "#0d0887"
                        ],
                        [
                          0.1111111111111111,
                          "#46039f"
                        ],
                        [
                          0.2222222222222222,
                          "#7201a8"
                        ],
                        [
                          0.3333333333333333,
                          "#9c179e"
                        ],
                        [
                          0.4444444444444444,
                          "#bd3786"
                        ],
                        [
                          0.5555555555555556,
                          "#d8576b"
                        ],
                        [
                          0.6666666666666666,
                          "#ed7953"
                        ],
                        [
                          0.7777777777777778,
                          "#fb9f3a"
                        ],
                        [
                          0.8888888888888888,
                          "#fdca26"
                        ],
                        [
                          1,
                          "#f0f921"
                        ]
                      ],
                      "sequentialminus": [
                        [
                          0,
                          "#0d0887"
                        ],
                        [
                          0.1111111111111111,
                          "#46039f"
                        ],
                        [
                          0.2222222222222222,
                          "#7201a8"
                        ],
                        [
                          0.3333333333333333,
                          "#9c179e"
                        ],
                        [
                          0.4444444444444444,
                          "#bd3786"
                        ],
                        [
                          0.5555555555555556,
                          "#d8576b"
                        ],
                        [
                          0.6666666666666666,
                          "#ed7953"
                        ],
                        [
                          0.7777777777777778,
                          "#fb9f3a"
                        ],
                        [
                          0.8888888888888888,
                          "#fdca26"
                        ],
                        [
                          1,
                          "#f0f921"
                        ]
                      ]
                    },
                    "colorway": [
                      "#636efa",
                      "#EF553B",
                      "#00cc96",
                      "#ab63fa",
                      "#FFA15A",
                      "#19d3f3",
                      "#FF6692",
                      "#B6E880",
                      "#FF97FF",
                      "#FECB52"
                    ],
                    "font": {
                      "color": "#2a3f5f"
                    },
                    "geo": {
                      "bgcolor": "white",
                      "lakecolor": "white",
                      "landcolor": "#E5ECF6",
                      "showlakes": true,
                      "showland": true,
                      "subunitcolor": "white"
                    },
                    "hoverlabel": {
                      "align": "left"
                    },
                    "hovermode": "closest",
                    "mapbox": {
                      "style": "light"
                    },
                    "paper_bgcolor": "white",
                    "plot_bgcolor": "#E5ECF6",
                    "polar": {
                      "angularaxis": {
                        "gridcolor": "white",
                        "linecolor": "white",
                        "ticks": ""
                      },
                      "bgcolor": "#E5ECF6",
                      "radialaxis": {
                        "gridcolor": "white",
                        "linecolor": "white",
                        "ticks": ""
                      }
                    },
                    "scene": {
                      "xaxis": {
                        "backgroundcolor": "#E5ECF6",
                        "gridcolor": "white",
                        "gridwidth": 2,
                        "linecolor": "white",
                        "showbackground": true,
                        "ticks": "",
                        "zerolinecolor": "white"
                      },
                      "yaxis": {
                        "backgroundcolor": "#E5ECF6",
                        "gridcolor": "white",
                        "gridwidth": 2,
                        "linecolor": "white",
                        "showbackground": true,
                        "ticks": "",
                        "zerolinecolor": "white"
                      },
                      "zaxis": {
                        "backgroundcolor": "#E5ECF6",
                        "gridcolor": "white",
                        "gridwidth": 2,
                        "linecolor": "white",
                        "showbackground": true,
                        "ticks": "",
                        "zerolinecolor": "white"
                      }
                    },
                    "shapedefaults": {
                      "line": {
                        "color": "#2a3f5f"
                      }
                    },
                    "ternary": {
                      "aaxis": {
                        "gridcolor": "white",
                        "linecolor": "white",
                        "ticks": ""
                      },
                      "baxis": {
                        "gridcolor": "white",
                        "linecolor": "white",
                        "ticks": ""
                      },
                      "bgcolor": "#E5ECF6",
                      "caxis": {
                        "gridcolor": "white",
                        "linecolor": "white",
                        "ticks": ""
                      }
                    },
                    "title": {
                      "x": 0.05
                    },
                    "xaxis": {
                      "automargin": true,
                      "gridcolor": "white",
                      "linecolor": "white",
                      "ticks": "",
                      "title": {
                        "standoff": 15
                      },
                      "zerolinecolor": "white",
                      "zerolinewidth": 2
                    },
                    "yaxis": {
                      "automargin": true,
                      "gridcolor": "white",
                      "linecolor": "white",
                      "ticks": "",
                      "title": {
                        "standoff": 15
                      },
                      "zerolinecolor": "white",
                      "zerolinewidth": 2
                    }
                  }
                },
                "width": 500
              }
            }
          },
          "metadata": {},
          "output_type": "display_data"
        }
      ],
      "source": [
        "# Hill-climbing\n",
        "\n",
        "# Melhor solucao encontrada\n",
        "# 28340.563  [1, 2, 6, 5, 4, 3, 7, 9, 8, 13, 14, 16, 24, 27, 25, 20, 26, 28, 29, 23, 22, 21, 17, 18, 19, 15, 12, 10, 11]\n",
        "\n",
        "solucao = [1, 2, 6, 5, 4, 3, 7, 9, 8, 13, 14, 16, 24, 27, 25, 20, 26, 28, 29, 23, 22, 21, 17, 18, 19, 15, 12, 10, 11]\n",
        "\n",
        "plota_rotas(df_coordenadas, solucao)"
      ]
    },
    {
      "cell_type": "code",
      "execution_count": 39,
      "metadata": {
        "colab": {
          "base_uri": "https://localhost:8080/",
          "height": 517
        },
        "id": "Ie7jx3Khtnyp",
        "outputId": "495991f0-04b2-4fb1-a039-067afbbcea1d"
      },
      "outputs": [
        {
          "data": {
            "application/vnd.plotly.v1+json": {
              "config": {
                "plotlyServerURL": "https://plot.ly"
              },
              "data": [
                {
                  "mode": "lines+markers+text",
                  "name": "",
                  "text": [
                    "1",
                    "6",
                    "10",
                    "11",
                    "12",
                    "15",
                    "19",
                    "18",
                    "17",
                    "21",
                    "22",
                    "23",
                    "29",
                    "28",
                    "26",
                    "20",
                    "25",
                    "27",
                    "24",
                    "16",
                    "14",
                    "13",
                    "9",
                    "7",
                    "3",
                    "4",
                    "8",
                    "5",
                    "2"
                  ],
                  "textposition": "bottom center",
                  "type": "scatter",
                  "x": [
                    20833.3333,
                    21600,
                    23616.6667,
                    23700,
                    23883.3333,
                    26133.3333,
                    26550,
                    26433.3333,
                    26283.3333,
                    27026.1111,
                    27096.1111,
                    27153.6111,
                    27462.5,
                    27433.3333,
                    27233.3333,
                    26733.3333,
                    27233.3333,
                    27266.6667,
                    27166.6667,
                    26150,
                    25149.1667,
                    24166.6667,
                    22683.3333,
                    22183.3333,
                    21300,
                    21600,
                    22583.3333,
                    21600,
                    20900
                  ],
                  "y": [
                    17100,
                    16500,
                    15866.6667,
                    15933.3333,
                    14533.3333,
                    14500,
                    13850,
                    13433.3333,
                    12766.6667,
                    13051.9444,
                    13415.8333,
                    13203.3333,
                    12992.2222,
                    12400,
                    11783.3333,
                    11683.3333,
                    10450,
                    10383.3333,
                    9833.3333,
                    10550,
                    12365.8333,
                    13250,
                    12716.6667,
                    13133.3333,
                    13016.6667,
                    14150,
                    14300,
                    14966.6667,
                    17066.6667
                  ]
                },
                {
                  "mode": "lines+markers",
                  "name": "",
                  "type": "scatter",
                  "x": [
                    20900,
                    20833.3333
                  ],
                  "y": [
                    17066.6667,
                    17100
                  ]
                }
              ],
              "layout": {
                "autosize": false,
                "height": 500,
                "showlegend": false,
                "template": {
                  "data": {
                    "bar": [
                      {
                        "error_x": {
                          "color": "#2a3f5f"
                        },
                        "error_y": {
                          "color": "#2a3f5f"
                        },
                        "marker": {
                          "line": {
                            "color": "#E5ECF6",
                            "width": 0.5
                          },
                          "pattern": {
                            "fillmode": "overlay",
                            "size": 10,
                            "solidity": 0.2
                          }
                        },
                        "type": "bar"
                      }
                    ],
                    "barpolar": [
                      {
                        "marker": {
                          "line": {
                            "color": "#E5ECF6",
                            "width": 0.5
                          },
                          "pattern": {
                            "fillmode": "overlay",
                            "size": 10,
                            "solidity": 0.2
                          }
                        },
                        "type": "barpolar"
                      }
                    ],
                    "carpet": [
                      {
                        "aaxis": {
                          "endlinecolor": "#2a3f5f",
                          "gridcolor": "white",
                          "linecolor": "white",
                          "minorgridcolor": "white",
                          "startlinecolor": "#2a3f5f"
                        },
                        "baxis": {
                          "endlinecolor": "#2a3f5f",
                          "gridcolor": "white",
                          "linecolor": "white",
                          "minorgridcolor": "white",
                          "startlinecolor": "#2a3f5f"
                        },
                        "type": "carpet"
                      }
                    ],
                    "choropleth": [
                      {
                        "colorbar": {
                          "outlinewidth": 0,
                          "ticks": ""
                        },
                        "type": "choropleth"
                      }
                    ],
                    "contour": [
                      {
                        "colorbar": {
                          "outlinewidth": 0,
                          "ticks": ""
                        },
                        "colorscale": [
                          [
                            0,
                            "#0d0887"
                          ],
                          [
                            0.1111111111111111,
                            "#46039f"
                          ],
                          [
                            0.2222222222222222,
                            "#7201a8"
                          ],
                          [
                            0.3333333333333333,
                            "#9c179e"
                          ],
                          [
                            0.4444444444444444,
                            "#bd3786"
                          ],
                          [
                            0.5555555555555556,
                            "#d8576b"
                          ],
                          [
                            0.6666666666666666,
                            "#ed7953"
                          ],
                          [
                            0.7777777777777778,
                            "#fb9f3a"
                          ],
                          [
                            0.8888888888888888,
                            "#fdca26"
                          ],
                          [
                            1,
                            "#f0f921"
                          ]
                        ],
                        "type": "contour"
                      }
                    ],
                    "contourcarpet": [
                      {
                        "colorbar": {
                          "outlinewidth": 0,
                          "ticks": ""
                        },
                        "type": "contourcarpet"
                      }
                    ],
                    "heatmap": [
                      {
                        "colorbar": {
                          "outlinewidth": 0,
                          "ticks": ""
                        },
                        "colorscale": [
                          [
                            0,
                            "#0d0887"
                          ],
                          [
                            0.1111111111111111,
                            "#46039f"
                          ],
                          [
                            0.2222222222222222,
                            "#7201a8"
                          ],
                          [
                            0.3333333333333333,
                            "#9c179e"
                          ],
                          [
                            0.4444444444444444,
                            "#bd3786"
                          ],
                          [
                            0.5555555555555556,
                            "#d8576b"
                          ],
                          [
                            0.6666666666666666,
                            "#ed7953"
                          ],
                          [
                            0.7777777777777778,
                            "#fb9f3a"
                          ],
                          [
                            0.8888888888888888,
                            "#fdca26"
                          ],
                          [
                            1,
                            "#f0f921"
                          ]
                        ],
                        "type": "heatmap"
                      }
                    ],
                    "heatmapgl": [
                      {
                        "colorbar": {
                          "outlinewidth": 0,
                          "ticks": ""
                        },
                        "colorscale": [
                          [
                            0,
                            "#0d0887"
                          ],
                          [
                            0.1111111111111111,
                            "#46039f"
                          ],
                          [
                            0.2222222222222222,
                            "#7201a8"
                          ],
                          [
                            0.3333333333333333,
                            "#9c179e"
                          ],
                          [
                            0.4444444444444444,
                            "#bd3786"
                          ],
                          [
                            0.5555555555555556,
                            "#d8576b"
                          ],
                          [
                            0.6666666666666666,
                            "#ed7953"
                          ],
                          [
                            0.7777777777777778,
                            "#fb9f3a"
                          ],
                          [
                            0.8888888888888888,
                            "#fdca26"
                          ],
                          [
                            1,
                            "#f0f921"
                          ]
                        ],
                        "type": "heatmapgl"
                      }
                    ],
                    "histogram": [
                      {
                        "marker": {
                          "pattern": {
                            "fillmode": "overlay",
                            "size": 10,
                            "solidity": 0.2
                          }
                        },
                        "type": "histogram"
                      }
                    ],
                    "histogram2d": [
                      {
                        "colorbar": {
                          "outlinewidth": 0,
                          "ticks": ""
                        },
                        "colorscale": [
                          [
                            0,
                            "#0d0887"
                          ],
                          [
                            0.1111111111111111,
                            "#46039f"
                          ],
                          [
                            0.2222222222222222,
                            "#7201a8"
                          ],
                          [
                            0.3333333333333333,
                            "#9c179e"
                          ],
                          [
                            0.4444444444444444,
                            "#bd3786"
                          ],
                          [
                            0.5555555555555556,
                            "#d8576b"
                          ],
                          [
                            0.6666666666666666,
                            "#ed7953"
                          ],
                          [
                            0.7777777777777778,
                            "#fb9f3a"
                          ],
                          [
                            0.8888888888888888,
                            "#fdca26"
                          ],
                          [
                            1,
                            "#f0f921"
                          ]
                        ],
                        "type": "histogram2d"
                      }
                    ],
                    "histogram2dcontour": [
                      {
                        "colorbar": {
                          "outlinewidth": 0,
                          "ticks": ""
                        },
                        "colorscale": [
                          [
                            0,
                            "#0d0887"
                          ],
                          [
                            0.1111111111111111,
                            "#46039f"
                          ],
                          [
                            0.2222222222222222,
                            "#7201a8"
                          ],
                          [
                            0.3333333333333333,
                            "#9c179e"
                          ],
                          [
                            0.4444444444444444,
                            "#bd3786"
                          ],
                          [
                            0.5555555555555556,
                            "#d8576b"
                          ],
                          [
                            0.6666666666666666,
                            "#ed7953"
                          ],
                          [
                            0.7777777777777778,
                            "#fb9f3a"
                          ],
                          [
                            0.8888888888888888,
                            "#fdca26"
                          ],
                          [
                            1,
                            "#f0f921"
                          ]
                        ],
                        "type": "histogram2dcontour"
                      }
                    ],
                    "mesh3d": [
                      {
                        "colorbar": {
                          "outlinewidth": 0,
                          "ticks": ""
                        },
                        "type": "mesh3d"
                      }
                    ],
                    "parcoords": [
                      {
                        "line": {
                          "colorbar": {
                            "outlinewidth": 0,
                            "ticks": ""
                          }
                        },
                        "type": "parcoords"
                      }
                    ],
                    "pie": [
                      {
                        "automargin": true,
                        "type": "pie"
                      }
                    ],
                    "scatter": [
                      {
                        "fillpattern": {
                          "fillmode": "overlay",
                          "size": 10,
                          "solidity": 0.2
                        },
                        "type": "scatter"
                      }
                    ],
                    "scatter3d": [
                      {
                        "line": {
                          "colorbar": {
                            "outlinewidth": 0,
                            "ticks": ""
                          }
                        },
                        "marker": {
                          "colorbar": {
                            "outlinewidth": 0,
                            "ticks": ""
                          }
                        },
                        "type": "scatter3d"
                      }
                    ],
                    "scattercarpet": [
                      {
                        "marker": {
                          "colorbar": {
                            "outlinewidth": 0,
                            "ticks": ""
                          }
                        },
                        "type": "scattercarpet"
                      }
                    ],
                    "scattergeo": [
                      {
                        "marker": {
                          "colorbar": {
                            "outlinewidth": 0,
                            "ticks": ""
                          }
                        },
                        "type": "scattergeo"
                      }
                    ],
                    "scattergl": [
                      {
                        "marker": {
                          "colorbar": {
                            "outlinewidth": 0,
                            "ticks": ""
                          }
                        },
                        "type": "scattergl"
                      }
                    ],
                    "scattermapbox": [
                      {
                        "marker": {
                          "colorbar": {
                            "outlinewidth": 0,
                            "ticks": ""
                          }
                        },
                        "type": "scattermapbox"
                      }
                    ],
                    "scatterpolar": [
                      {
                        "marker": {
                          "colorbar": {
                            "outlinewidth": 0,
                            "ticks": ""
                          }
                        },
                        "type": "scatterpolar"
                      }
                    ],
                    "scatterpolargl": [
                      {
                        "marker": {
                          "colorbar": {
                            "outlinewidth": 0,
                            "ticks": ""
                          }
                        },
                        "type": "scatterpolargl"
                      }
                    ],
                    "scatterternary": [
                      {
                        "marker": {
                          "colorbar": {
                            "outlinewidth": 0,
                            "ticks": ""
                          }
                        },
                        "type": "scatterternary"
                      }
                    ],
                    "surface": [
                      {
                        "colorbar": {
                          "outlinewidth": 0,
                          "ticks": ""
                        },
                        "colorscale": [
                          [
                            0,
                            "#0d0887"
                          ],
                          [
                            0.1111111111111111,
                            "#46039f"
                          ],
                          [
                            0.2222222222222222,
                            "#7201a8"
                          ],
                          [
                            0.3333333333333333,
                            "#9c179e"
                          ],
                          [
                            0.4444444444444444,
                            "#bd3786"
                          ],
                          [
                            0.5555555555555556,
                            "#d8576b"
                          ],
                          [
                            0.6666666666666666,
                            "#ed7953"
                          ],
                          [
                            0.7777777777777778,
                            "#fb9f3a"
                          ],
                          [
                            0.8888888888888888,
                            "#fdca26"
                          ],
                          [
                            1,
                            "#f0f921"
                          ]
                        ],
                        "type": "surface"
                      }
                    ],
                    "table": [
                      {
                        "cells": {
                          "fill": {
                            "color": "#EBF0F8"
                          },
                          "line": {
                            "color": "white"
                          }
                        },
                        "header": {
                          "fill": {
                            "color": "#C8D4E3"
                          },
                          "line": {
                            "color": "white"
                          }
                        },
                        "type": "table"
                      }
                    ]
                  },
                  "layout": {
                    "annotationdefaults": {
                      "arrowcolor": "#2a3f5f",
                      "arrowhead": 0,
                      "arrowwidth": 1
                    },
                    "autotypenumbers": "strict",
                    "coloraxis": {
                      "colorbar": {
                        "outlinewidth": 0,
                        "ticks": ""
                      }
                    },
                    "colorscale": {
                      "diverging": [
                        [
                          0,
                          "#8e0152"
                        ],
                        [
                          0.1,
                          "#c51b7d"
                        ],
                        [
                          0.2,
                          "#de77ae"
                        ],
                        [
                          0.3,
                          "#f1b6da"
                        ],
                        [
                          0.4,
                          "#fde0ef"
                        ],
                        [
                          0.5,
                          "#f7f7f7"
                        ],
                        [
                          0.6,
                          "#e6f5d0"
                        ],
                        [
                          0.7,
                          "#b8e186"
                        ],
                        [
                          0.8,
                          "#7fbc41"
                        ],
                        [
                          0.9,
                          "#4d9221"
                        ],
                        [
                          1,
                          "#276419"
                        ]
                      ],
                      "sequential": [
                        [
                          0,
                          "#0d0887"
                        ],
                        [
                          0.1111111111111111,
                          "#46039f"
                        ],
                        [
                          0.2222222222222222,
                          "#7201a8"
                        ],
                        [
                          0.3333333333333333,
                          "#9c179e"
                        ],
                        [
                          0.4444444444444444,
                          "#bd3786"
                        ],
                        [
                          0.5555555555555556,
                          "#d8576b"
                        ],
                        [
                          0.6666666666666666,
                          "#ed7953"
                        ],
                        [
                          0.7777777777777778,
                          "#fb9f3a"
                        ],
                        [
                          0.8888888888888888,
                          "#fdca26"
                        ],
                        [
                          1,
                          "#f0f921"
                        ]
                      ],
                      "sequentialminus": [
                        [
                          0,
                          "#0d0887"
                        ],
                        [
                          0.1111111111111111,
                          "#46039f"
                        ],
                        [
                          0.2222222222222222,
                          "#7201a8"
                        ],
                        [
                          0.3333333333333333,
                          "#9c179e"
                        ],
                        [
                          0.4444444444444444,
                          "#bd3786"
                        ],
                        [
                          0.5555555555555556,
                          "#d8576b"
                        ],
                        [
                          0.6666666666666666,
                          "#ed7953"
                        ],
                        [
                          0.7777777777777778,
                          "#fb9f3a"
                        ],
                        [
                          0.8888888888888888,
                          "#fdca26"
                        ],
                        [
                          1,
                          "#f0f921"
                        ]
                      ]
                    },
                    "colorway": [
                      "#636efa",
                      "#EF553B",
                      "#00cc96",
                      "#ab63fa",
                      "#FFA15A",
                      "#19d3f3",
                      "#FF6692",
                      "#B6E880",
                      "#FF97FF",
                      "#FECB52"
                    ],
                    "font": {
                      "color": "#2a3f5f"
                    },
                    "geo": {
                      "bgcolor": "white",
                      "lakecolor": "white",
                      "landcolor": "#E5ECF6",
                      "showlakes": true,
                      "showland": true,
                      "subunitcolor": "white"
                    },
                    "hoverlabel": {
                      "align": "left"
                    },
                    "hovermode": "closest",
                    "mapbox": {
                      "style": "light"
                    },
                    "paper_bgcolor": "white",
                    "plot_bgcolor": "#E5ECF6",
                    "polar": {
                      "angularaxis": {
                        "gridcolor": "white",
                        "linecolor": "white",
                        "ticks": ""
                      },
                      "bgcolor": "#E5ECF6",
                      "radialaxis": {
                        "gridcolor": "white",
                        "linecolor": "white",
                        "ticks": ""
                      }
                    },
                    "scene": {
                      "xaxis": {
                        "backgroundcolor": "#E5ECF6",
                        "gridcolor": "white",
                        "gridwidth": 2,
                        "linecolor": "white",
                        "showbackground": true,
                        "ticks": "",
                        "zerolinecolor": "white"
                      },
                      "yaxis": {
                        "backgroundcolor": "#E5ECF6",
                        "gridcolor": "white",
                        "gridwidth": 2,
                        "linecolor": "white",
                        "showbackground": true,
                        "ticks": "",
                        "zerolinecolor": "white"
                      },
                      "zaxis": {
                        "backgroundcolor": "#E5ECF6",
                        "gridcolor": "white",
                        "gridwidth": 2,
                        "linecolor": "white",
                        "showbackground": true,
                        "ticks": "",
                        "zerolinecolor": "white"
                      }
                    },
                    "shapedefaults": {
                      "line": {
                        "color": "#2a3f5f"
                      }
                    },
                    "ternary": {
                      "aaxis": {
                        "gridcolor": "white",
                        "linecolor": "white",
                        "ticks": ""
                      },
                      "baxis": {
                        "gridcolor": "white",
                        "linecolor": "white",
                        "ticks": ""
                      },
                      "bgcolor": "#E5ECF6",
                      "caxis": {
                        "gridcolor": "white",
                        "linecolor": "white",
                        "ticks": ""
                      }
                    },
                    "title": {
                      "x": 0.05
                    },
                    "xaxis": {
                      "automargin": true,
                      "gridcolor": "white",
                      "linecolor": "white",
                      "ticks": "",
                      "title": {
                        "standoff": 15
                      },
                      "zerolinecolor": "white",
                      "zerolinewidth": 2
                    },
                    "yaxis": {
                      "automargin": true,
                      "gridcolor": "white",
                      "linecolor": "white",
                      "ticks": "",
                      "title": {
                        "standoff": 15
                      },
                      "zerolinecolor": "white",
                      "zerolinewidth": 2
                    }
                  }
                },
                "width": 500
              }
            }
          },
          "metadata": {},
          "output_type": "display_data"
        }
      ],
      "source": [
        "# Solucao otima\n",
        "solucao = [1, 6, 10, 11, 12, 15, 19, 18, 17, 21, 22, 23, 29, 28, 26, 20, 25, 27, 24, 16, 14, 13, 9, 7, 3, 4, 8, 5, 2]\n",
        "\n",
        "plota_rotas(df_coordenadas, solucao)"
      ]
    },
    {
      "attachments": {},
      "cell_type": "markdown",
      "metadata": {
        "id": "xA7lI9MUYoxV"
      },
      "source": [
        "##### Box Plots"
      ]
    },
    {
      "cell_type": "code",
      "execution_count": 40,
      "metadata": {
        "colab": {
          "base_uri": "https://localhost:8080/",
          "height": 729
        },
        "id": "UCtig2UDF32l",
        "outputId": "8cf4183e-e663-4baa-9bf1-0545a911e587"
      },
      "outputs": [],
      "source": [
        "boxplot_sorted(df_custo, rot=90, figsize=(12,6), fontsize=20)"
      ]
    },
    {
      "cell_type": "code",
      "execution_count": 41,
      "metadata": {
        "colab": {
          "base_uri": "https://localhost:8080/",
          "height": 300
        },
        "id": "qLX-ZIE6F32m",
        "outputId": "e0f58241-c25e-4053-e7a9-a6dcdaa87b2b"
      },
      "outputs": [
        {
          "data": {
            "text/html": [
              "<div>\n",
              "<style scoped>\n",
              "    .dataframe tbody tr th:only-of-type {\n",
              "        vertical-align: middle;\n",
              "    }\n",
              "\n",
              "    .dataframe tbody tr th {\n",
              "        vertical-align: top;\n",
              "    }\n",
              "\n",
              "    .dataframe thead th {\n",
              "        text-align: right;\n",
              "    }\n",
              "</style>\n",
              "<table border=\"1\" class=\"dataframe\">\n",
              "  <thead>\n",
              "    <tr style=\"text-align: right;\">\n",
              "      <th>ALGORITMO</th>\n",
              "      <th>Random Walk</th>\n",
              "      <th>Hill-Climbing</th>\n",
              "    </tr>\n",
              "  </thead>\n",
              "  <tbody>\n",
              "    <tr>\n",
              "      <th>count</th>\n",
              "      <td>30.000000</td>\n",
              "      <td>30.000000</td>\n",
              "    </tr>\n",
              "    <tr>\n",
              "      <th>mean</th>\n",
              "      <td>108956.731795</td>\n",
              "      <td>39719.324823</td>\n",
              "    </tr>\n",
              "    <tr>\n",
              "      <th>std</th>\n",
              "      <td>9444.957451</td>\n",
              "      <td>5008.270248</td>\n",
              "    </tr>\n",
              "    <tr>\n",
              "      <th>min</th>\n",
              "      <td>92243.375311</td>\n",
              "      <td>32243.101954</td>\n",
              "    </tr>\n",
              "    <tr>\n",
              "      <th>25%</th>\n",
              "      <td>102053.483941</td>\n",
              "      <td>36796.036816</td>\n",
              "    </tr>\n",
              "    <tr>\n",
              "      <th>50%</th>\n",
              "      <td>110189.528356</td>\n",
              "      <td>37865.067615</td>\n",
              "    </tr>\n",
              "    <tr>\n",
              "      <th>75%</th>\n",
              "      <td>115364.872388</td>\n",
              "      <td>43098.847476</td>\n",
              "    </tr>\n",
              "    <tr>\n",
              "      <th>max</th>\n",
              "      <td>127395.010991</td>\n",
              "      <td>51571.946222</td>\n",
              "    </tr>\n",
              "  </tbody>\n",
              "</table>\n",
              "</div>"
            ],
            "text/plain": [
              "ALGORITMO    Random Walk  Hill-Climbing\n",
              "count          30.000000      30.000000\n",
              "mean       108956.731795   39719.324823\n",
              "std          9444.957451    5008.270248\n",
              "min         92243.375311   32243.101954\n",
              "25%        102053.483941   36796.036816\n",
              "50%        110189.528356   37865.067615\n",
              "75%        115364.872388   43098.847476\n",
              "max        127395.010991   51571.946222"
            ]
          },
          "execution_count": 41,
          "metadata": {},
          "output_type": "execute_result"
        }
      ],
      "source": [
        "df_custo.T.describe()"
      ]
    },
    {
      "attachments": {},
      "cell_type": "markdown",
      "metadata": {
        "id": "_T2NvYgLFp2L"
      },
      "source": [
        "---"
      ]
    },
    {
      "attachments": {},
      "cell_type": "markdown",
      "metadata": {
        "id": "1diV-3t2zsjt"
      },
      "source": [
        "## Exercícios\n"
      ]
    },
    {
      "attachments": {},
      "cell_type": "markdown",
      "metadata": {
        "id": "E49BXqtIz1mk"
      },
      "source": [
        "1) Utilizando os códigos acima como base, implemente as variações do Hill-Climbing a seguir:"
      ]
    },
    {
      "attachments": {},
      "cell_type": "markdown",
      "metadata": {
        "id": "grF1cI8kCYZ2"
      },
      "source": [
        "* **Stochastic hill-­climbing**\n",
        "\n",
        "chooses at random from among the uphill moves;\n",
        "the probability of selection can vary with the steepness of the uphill move.\n",
        "This usually converges more slowly than steepest ascent, but in some state landscapes, it finds better solutions.\n",
        "\n",
        "\n",
        "* **First­-choice hill-­climbing**\n",
        "\n",
        "implements stochastic hill climbing by generating successors randomly until one is generated that is better than the current state. This is a good strategy when a state has many (e.g. thousands) of successors.\n",
        "\n",
        "\n",
        "* **Random­-restart hill-­climbing**\n",
        "\n",
        "is a complete version of hill-­climbing. It adopts the well­known adage, “If at first you don’t succeed, try, try again.” It\n",
        "conducts a series of hill-­climbing searches from randomly generated initial states, until a goal is found. It is trivially complete with probability approaching 1, because it will eventually generate a goal state as the initial state."
      ]
    },
    {
      "attachments": {},
      "cell_type": "markdown",
      "metadata": {
        "id": "D-q-kJ4RCVGf"
      },
      "source": [
        "Implementações das Variants do Hill-Climbing\n"
      ]
    },
    {
      "cell_type": "code",
      "execution_count": 42,
      "metadata": {
        "id": "MlhBguEtzujg"
      },
      "outputs": [
        {
          "ename": "SyntaxError",
          "evalue": "incomplete input (28508414.py, line 4)",
          "output_type": "error",
          "traceback": [
            "\u001b[1;36m  Cell \u001b[1;32mIn[42], line 4\u001b[1;36m\u001b[0m\n\u001b[1;33m    # ponha seu código aqui\u001b[0m\n\u001b[1;37m                           ^\u001b[0m\n\u001b[1;31mSyntaxError\u001b[0m\u001b[1;31m:\u001b[0m incomplete input\n"
          ]
        }
      ],
      "source": [
        "# Stochastic hill-­climbing\n",
        "\n",
        "def hill_climbing_stochastic(tsp):\n",
        "    # ponha seu código aqui\n"
      ]
    },
    {
      "cell_type": "code",
      "execution_count": null,
      "metadata": {
        "id": "oCSZXE4bDbK-"
      },
      "outputs": [],
      "source": [
        "# First­-choice hill-­climbing\n",
        "\n",
        "def hill_climbing_firstchoice(tsp):\n",
        "    # ponha seu código aqui\n"
      ]
    },
    {
      "cell_type": "code",
      "execution_count": null,
      "metadata": {
        "id": "jEXX3QYMDbUA"
      },
      "outputs": [],
      "source": [
        "# Random­-restart hill­-climbing\n",
        "\n",
        "def hill_climbing_randomrestart(tsp):\n",
        "    # ponha seu código aqui\n"
      ]
    },
    {
      "cell_type": "code",
      "execution_count": null,
      "metadata": {
        "id": "4RLdZeZ1D1FB"
      },
      "outputs": [],
      "source": [
        "# Para rodar tudo junto:\n",
        "\n",
        "algoritmos = {\n",
        "    #'Random Walk - classic': solucao_aleatoria,\n",
        "    'Hill-Climbing': hill_climbing,\n",
        "    'Hill-Climbing - stochastic': hill_climbing_stochastic,\n",
        "    'Hill-Climbing - first-choice': hill_climbing_firstchoice,\n",
        "    'Hill-Climbing - random-restart': hill_climbing_randomrestart\n",
        "    # ...\n",
        "}"
      ]
    },
    {
      "cell_type": "code",
      "execution_count": null,
      "metadata": {
        "id": "5UbBeJ1YGmGz"
      },
      "outputs": [],
      "source": [
        "tsp = gera_problema_tsp(df_coordenadas)\n",
        "\n",
        "# numero de vezes que executará cada algoritmo\n",
        "n_vezes = 30\n",
        "\n",
        "# Executa N vezes para gerar estatísticas da variável custo\n",
        "# DataFrame df_custo serve para armazenar todos os resultados\n",
        "df_custo = executa_n_vezes(tsp, algoritmos, n_vezes)"
      ]
    },
    {
      "cell_type": "code",
      "execution_count": null,
      "metadata": {
        "id": "K-FAShlyGma2"
      },
      "outputs": [],
      "source": [
        "boxplot_sorted(df_custo, rot=90, figsize=(12,6), fontsize=20)"
      ]
    },
    {
      "cell_type": "code",
      "execution_count": null,
      "metadata": {
        "id": "-HveNpfKGma2"
      },
      "outputs": [],
      "source": [
        "df_custo.T.describe()"
      ]
    }
  ],
  "metadata": {
    "colab": {
      "provenance": [],
      "toc_visible": true
    },
    "kernelspec": {
      "display_name": "Python 3",
      "name": "python3"
    },
    "language_info": {
      "codemirror_mode": {
        "name": "ipython",
        "version": 3
      },
      "file_extension": ".py",
      "mimetype": "text/x-python",
      "name": "python",
      "nbconvert_exporter": "python",
      "pygments_lexer": "ipython3",
      "version": "3.11.3"
    }
  },
  "nbformat": 4,
  "nbformat_minor": 0
}
