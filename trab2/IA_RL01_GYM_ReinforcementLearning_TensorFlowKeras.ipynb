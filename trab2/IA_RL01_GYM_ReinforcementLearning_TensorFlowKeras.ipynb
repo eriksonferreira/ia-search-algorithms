{
  "cells": [
    {
      "cell_type": "markdown",
      "id": "7a717d9b-3525-4ab4-a9a5-767f3dd63739",
      "metadata": {
        "id": "7a717d9b-3525-4ab4-a9a5-767f3dd63739"
      },
      "source": [
        "# 01 - GYM - Reinforcement Learning"
      ]
    },
    {
      "cell_type": "markdown",
      "id": "3b1d9da9-e594-46c5-8988-2b20bd531237",
      "metadata": {
        "id": "3b1d9da9-e594-46c5-8988-2b20bd531237"
      },
      "source": [
        "https://gymnasium.farama.org/environments/classic_control/cart_pole/"
      ]
    },
    {
      "cell_type": "markdown",
      "id": "15fe8781-9be5-4672-be46-8e0fea4cbf09",
      "metadata": {
        "id": "15fe8781-9be5-4672-be46-8e0fea4cbf09"
      },
      "source": [
        "## 0. Install Dependencies"
      ]
    },
    {
      "cell_type": "code",
      "execution_count": null,
      "id": "cec70560-cd44-4323-b09a-76bd7b8cbc12",
      "metadata": {
        "collapsed": true,
        "jupyter": {
          "outputs_hidden": true
        },
        "tags": [],
        "colab": {
          "base_uri": "https://localhost:8080/"
        },
        "id": "cec70560-cd44-4323-b09a-76bd7b8cbc12",
        "outputId": "1f27c61f-af0f-4b48-c835-a181f2e73b91"
      },
      "outputs": [
        {
          "output_type": "stream",
          "name": "stdout",
          "text": [
            "Looking in indexes: https://pypi.org/simple, https://us-python.pkg.dev/colab-wheels/public/simple/\n",
            "Requirement already satisfied: gymnasium in /usr/local/lib/python3.10/dist-packages (0.28.1)\n",
            "Requirement already satisfied: numpy>=1.21.0 in /usr/local/lib/python3.10/dist-packages (from gymnasium) (1.22.4)\n",
            "Requirement already satisfied: jax-jumpy>=1.0.0 in /usr/local/lib/python3.10/dist-packages (from gymnasium) (1.0.0)\n",
            "Requirement already satisfied: cloudpickle>=1.2.0 in /usr/local/lib/python3.10/dist-packages (from gymnasium) (2.2.1)\n",
            "Requirement already satisfied: typing-extensions>=4.3.0 in /usr/local/lib/python3.10/dist-packages (from gymnasium) (4.5.0)\n",
            "Requirement already satisfied: farama-notifications>=0.0.1 in /usr/local/lib/python3.10/dist-packages (from gymnasium) (0.0.4)\n"
          ]
        }
      ],
      "source": [
        "# !pip install tensorflow\n",
        "!pip install gymnasium\n",
        "# !pip install keras\n",
        "# !pip install keras-rl2"
      ]
    },
    {
      "cell_type": "markdown",
      "id": "83273732-96cf-40d9-ae0a-25a7f6c7a4ad",
      "metadata": {
        "tags": [],
        "id": "83273732-96cf-40d9-ae0a-25a7f6c7a4ad"
      },
      "source": [
        "## 1. Test Random Environment with OpenAI Gym"
      ]
    },
    {
      "cell_type": "code",
      "execution_count": null,
      "id": "b2173d97-57fe-4ae6-8799-0e3d3ef110d1",
      "metadata": {
        "tags": [],
        "id": "b2173d97-57fe-4ae6-8799-0e3d3ef110d1"
      },
      "outputs": [],
      "source": [
        "import gymnasium as gym\n",
        "import random"
      ]
    },
    {
      "cell_type": "code",
      "source": [
        "from IPython.display import clear_output\n",
        "import matplotlib.pyplot as plt"
      ],
      "metadata": {
        "id": "0EiugDMxJr2S"
      },
      "id": "0EiugDMxJr2S",
      "execution_count": null,
      "outputs": []
    },
    {
      "cell_type": "code",
      "execution_count": null,
      "id": "c5299ce5-30d0-4929-89ef-d2362ad6b4a7",
      "metadata": {
        "tags": [],
        "id": "c5299ce5-30d0-4929-89ef-d2362ad6b4a7"
      },
      "outputs": [],
      "source": [
        "env = gym.make('CartPole-v1', render_mode='rgb_array')\n",
        "\n",
        "states = env.observation_space.shape[0] # 4\n",
        "actions = env.action_space.n            # 2"
      ]
    },
    {
      "cell_type": "code",
      "source": [],
      "metadata": {
        "id": "F5Ciz72QKdKx"
      },
      "id": "F5Ciz72QKdKx",
      "execution_count": null,
      "outputs": []
    },
    {
      "cell_type": "code",
      "source": [
        "episodes = 5\n",
        "for episode in range(1, episodes+1):\n",
        "    terminated = False\n",
        "    score = 0\n",
        "    # Reinicializar o ambiente\n",
        "    state = env.reset()\n",
        "\n",
        "\n",
        "    # Executar a simulação\n",
        "    done = False\n",
        "    while not done:\n",
        "        # Renderizar o ambiente\n",
        "        img = env.render()\n",
        "\n",
        "        # Plota o quadro\n",
        "        plt.imshow(img)\n",
        "        plt.axis('off')\n",
        "\n",
        "        # Tomar uma ação\n",
        "        action = env.action_space.sample()\n",
        "\n",
        "        # Executar a ação no ambiente\n",
        "        next_state, reward, terminated, truncated, info = env.step(action)\n",
        "        score += reward\n",
        "\n",
        "\n",
        "        done = terminated or truncated\n",
        "\n",
        "        clear_output(wait=True)\n",
        "        plt.pause(0.0001)\n",
        "\n",
        "        print('\\t', score, next_state, reward, terminated, truncated, info)\n",
        "\n",
        "# Fechar o ambiente\n",
        "env.close()"
      ],
      "metadata": {
        "colab": {
          "base_uri": "https://localhost:8080/",
          "height": 385
        },
        "id": "6MqdOYtxIT23",
        "outputId": "0d0bfe8a-8e1b-47fc-db50-d6b06fd0e1dd"
      },
      "execution_count": null,
      "outputs": [
        {
          "output_type": "display_data",
          "data": {
            "text/plain": [
              "<Figure size 640x480 with 1 Axes>"
            ],
            "image/png": "[encoded data removed]"
          },
          "metadata": {}
        },
        {
          "output_type": "stream",
          "name": "stdout",
          "text": [
            "\t 28.0 [-0.08513965  0.33484668  0.21727037  0.2306197 ] 1.0 True False {}\n"
          ]
        }
      ],
      "id": "6MqdOYtxIT23"
    },
    {
      "cell_type": "code",
      "execution_count": null,
      "id": "df64154c-7709-4892-9700-145f4f8024e2",
      "metadata": {
        "tags": [],
        "id": "df64154c-7709-4892-9700-145f4f8024e2"
      },
      "outputs": [],
      "source": [
        "env.close()"
      ]
    },
    {
      "cell_type": "code",
      "execution_count": null,
      "id": "7895bcaf-f922-451e-8ea6-22a3a5454d90",
      "metadata": {
        "tags": [],
        "id": "7895bcaf-f922-451e-8ea6-22a3a5454d90"
      },
      "outputs": [],
      "source": [
        "env = gym.make('CartPole-v1', render_mode=\"human\")\n",
        "\n",
        "states = env.observation_space.shape[0] # 4\n",
        "actions = env.action_space.n            # 2"
      ]
    },
    {
      "cell_type": "code",
      "execution_count": null,
      "id": "070984bd-4cb6-4b08-9819-f53f71a2b3c1",
      "metadata": {
        "id": "070984bd-4cb6-4b08-9819-f53f71a2b3c1"
      },
      "outputs": [],
      "source": []
    }
  ],
  "metadata": {
    "kernelspec": {
      "display_name": "Python 3 (ipykernel)",
      "language": "python",
      "name": "python3"
    },
    "language_info": {
      "codemirror_mode": {
        "name": "ipython",
        "version": 3
      },
      "file_extension": ".py",
      "mimetype": "text/x-python",
      "name": "python",
      "nbconvert_exporter": "python",
      "pygments_lexer": "ipython3",
      "version": "3.11.3"
    },
    "colab": {
      "provenance": []
    }
  },
  "nbformat": 4,
  "nbformat_minor": 5
}