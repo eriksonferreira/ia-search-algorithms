{
  "cells": [
    {
      "attachments": {},
      "cell_type": "markdown",
      "metadata": {
        "id": "RoohjShG_0YE"
      },
      "source": [
        "# Trabalho 2 - Erikson Ferreira"
      ]
    },
    {
      "attachments": {},
      "cell_type": "markdown",
      "metadata": {
        "id": "Lz9EzErHycV_"
      },
      "source": [
        "## Importações"
      ]
    },
    {
      "cell_type": "code",
      "execution_count": 1,
      "metadata": {
        "id": "sdnQDwnTiFDL"
      },
      "outputs": [],
      "source": [
        "# Manipulação de dados\n",
        "import numpy as np\n",
        "import pandas as pd\n",
        "\n",
        "# Geração de números aleatórios\n",
        "import random"
      ]
    },
    {
      "cell_type": "code",
      "execution_count": 2,
      "metadata": {
        "id": "q15dV5KaE2YU"
      },
      "outputs": [],
      "source": [
        "# Geração de gráficos\n",
        "import matplotlib.pyplot as plt\n",
        "import seaborn as sns\n",
        "import plotly.express as px\n",
        "import plotly.graph_objects as go\n",
        "import math"
      ]
    },
    {
      "attachments": {},
      "cell_type": "markdown",
      "metadata": {
        "id": "CT7FTs8fyZCf"
      },
      "source": [
        "## Funções Auxiliares"
      ]
    },
    {
      "attachments": {},
      "cell_type": "markdown",
      "metadata": {
        "id": "bbAFq9rsyR-f"
      },
      "source": [
        "### Solução Aleatória"
      ]
    },
    {
      "cell_type": "code",
      "execution_count": 3,
      "metadata": {
        "id": "5pnHjBx7ho_M"
      },
      "outputs": [],
      "source": [
        "# Cria uma solucao inicial com as cidades em um ordem aleatoria\n",
        "\n",
        "def solucao_aleatoria(tsp):\n",
        "    cidades = list(tsp.keys())\n",
        "    solucao = []\n",
        "\n",
        "    # as 3 linhas abaixo não são estritamente necessarias, servem\n",
        "    # apenas para fixar a primeira cidade da lista na solução\n",
        "    cidade = cidades[0]\n",
        "    solucao.append(cidade)\n",
        "    cidades.remove(cidade)\n",
        "\n",
        "    for _ in range(0,len(cidades)):\n",
        "        #print(_, cidades, solucao)\n",
        "        cidade = random.choice(cidades)\n",
        "\n",
        "        solucao.append(cidade)\n",
        "        cidades.remove(cidade)\n",
        "\n",
        "    return solucao"
      ]
    },
    {
      "attachments": {},
      "cell_type": "markdown",
      "metadata": {
        "id": "AUwlyv7Zymr2"
      },
      "source": [
        "### Calcula Custo"
      ]
    },
    {
      "cell_type": "code",
      "execution_count": 4,
      "metadata": {
        "id": "dXqFqtOzoDKF"
      },
      "outputs": [],
      "source": [
        "# Função Objetivo: calcula custo de uma dada solução.\n",
        "# Obs: Neste caso do problema do caixeiro viajante (TSP problem),\n",
        "# o custo é o comprimento da rota entre todas as cidades.\n",
        "def calcula_custo(tsp, solucao):\n",
        "\n",
        "    N = len(solucao)\n",
        "    custo = 0\n",
        "\n",
        "    for i in range(N):\n",
        "\n",
        "        # Quando chegar na última cidade, será necessário\n",
        "        # voltar para o início para adicionar o\n",
        "        # comprimento da rota da última cidade\n",
        "        # até a primeira cidade, fechando o ciclo.\n",
        "        #\n",
        "        # Por isso, a linha abaixo:\n",
        "        k = (i+1) % N\n",
        "        cidadeA = solucao[i]\n",
        "        cidadeB = solucao[k]\n",
        "\n",
        "        custo += tsp.loc[cidadeA, cidadeB]\n",
        "\n",
        "        #print(tsp.loc[cidadeA, cidadeB], cidadeA,cidadeB)\n",
        "\n",
        "    return custo"
      ]
    },
    {
      "attachments": {},
      "cell_type": "markdown",
      "metadata": {
        "id": "ZPWKv8KDyrpu"
      },
      "source": [
        "### Gera Vizinhos"
      ]
    },
    {
      "attachments": {},
      "cell_type": "markdown",
      "metadata": {
        "id": "Oa7gSiAL0x_T"
      },
      "source": [
        "Obs: a função `obtem_vizinhos` descrita abaixo foi gerada de forma simplificada, pois ela assume que todos os vizinhos possuem rota direta entre si. Isto tem caráter didático para simplifcar a solução. Observe que na prática isso nem sempre existe rotas diretas entre todas as cidades e, em tais casos, pode ser necessário modificar a função para corresponder a tais restrições."
      ]
    },
    {
      "cell_type": "code",
      "execution_count": 5,
      "metadata": {
        "id": "MBaFXjokwxR-"
      },
      "outputs": [],
      "source": [
        "# A partir de uma dada solução, gera diversas variações (vizinhos)\n",
        "def gera_vizinhos(solucao):\n",
        "\n",
        "    N = len(solucao)\n",
        "    for i in range(1, N):       # deixa o primeiro fixo\n",
        "        for j in range(i + 1, N):\n",
        "            vizinho = solucao.copy()\n",
        "            vizinho[i] = solucao[j]\n",
        "            vizinho[j] = solucao[i]\n",
        "\n",
        "            yield(vizinho)\n"
      ]
    },
    {
      "attachments": {},
      "cell_type": "markdown",
      "metadata": {
        "id": "6uhsnJTlyuH2"
      },
      "source": [
        "### Seleciona Melhor Vizinho"
      ]
    },
    {
      "cell_type": "code",
      "execution_count": 6,
      "metadata": {
        "id": "cV-59YdMty5f"
      },
      "outputs": [],
      "source": [
        "def obtem_melhor_vizinho(tsp, solucao):\n",
        "    melhor_custo = calcula_custo(tsp, solucao)\n",
        "    melhor_vizinho = solucao\n",
        "\n",
        "    for vizinho in gera_vizinhos(solucao):\n",
        "        custo_atual = calcula_custo(tsp, vizinho)\n",
        "        if custo_atual < melhor_custo:\n",
        "            melhor_custo = custo_atual\n",
        "            melhor_vizinho = vizinho\n",
        "\n",
        "    return melhor_vizinho, melhor_custo\n"
      ]
    },
    {
      "attachments": {},
      "cell_type": "markdown",
      "metadata": {
        "id": "IDygPud_y102"
      },
      "source": [
        "### Random-Walk - clássico"
      ]
    },
    {
      "cell_type": "code",
      "execution_count": 7,
      "metadata": {
        "id": "0-rB8g_KJFvb"
      },
      "outputs": [],
      "source": [
        "def obtem_vizinho_aleatorio(tsp, solucao):\n",
        "\n",
        "    vizinhos = list(gera_vizinhos(solucao))\n",
        "\n",
        "    aleatorio_vizinho  = random.choice(vizinhos)\n",
        "    aleatorio_custo    = calcula_custo(tsp, aleatorio_vizinho)\n",
        "\n",
        "    return aleatorio_vizinho, aleatorio_custo\n"
      ]
    },
    {
      "cell_type": "code",
      "execution_count": 8,
      "metadata": {
        "id": "-hs6-Gy6m_GE"
      },
      "outputs": [],
      "source": [
        "def random_walk(tsp):\n",
        "    solucao_inicial = solucao_aleatoria(tsp)\n",
        "\n",
        "    atual_solucao, atual_custo = obtem_vizinho_aleatorio(tsp, solucao_inicial)\n",
        "\n",
        "    for _ in range(30):\n",
        "        atual_solucao, atual_custo = obtem_vizinho_aleatorio(tsp, atual_solucao)\n",
        "\n",
        "    return atual_custo, atual_solucao"
      ]
    },
    {
      "attachments": {},
      "cell_type": "markdown",
      "metadata": {
        "id": "u8heFDeNFnxf"
      },
      "source": [
        "### Hill-Climbing - clássico"
      ]
    },
    {
      "cell_type": "code",
      "execution_count": 9,
      "metadata": {
        "id": "e5plsCDp9Eha"
      },
      "outputs": [],
      "source": [
        "def hill_climbing(tsp):\n",
        "    history = []\n",
        "    # solucao inicial\n",
        "    solucao_inicial = solucao_aleatoria(tsp)\n",
        "    # print(solucao_inicial)\n",
        "    # melhor solucao ate o momento\n",
        "    solucao_melhor, custo_melhor = obtem_melhor_vizinho(tsp, solucao_inicial)\n",
        "    \n",
        "\n",
        "    while True:\n",
        "\n",
        "        # tenta obter um candidato melhor\n",
        "        candidato_atual, custo_atual = obtem_melhor_vizinho(tsp, solucao_melhor)\n",
        "        #print(custo_melhor, custo_atual)\n",
        "\n",
        "        if custo_atual < custo_melhor:\n",
        "            custo_melhor   = custo_atual\n",
        "            solucao_melhor = candidato_atual\n",
        "            history.append(solucao_melhor)\n",
        "        else:\n",
        "            history.append(solucao_melhor)\n",
        "            break   # custo nao melhorou, entao sai do while\n",
        "\n",
        "    return custo_melhor, solucao_melhor, history"
      ]
    },
    {
      "attachments": {},
      "cell_type": "markdown",
      "metadata": {},
      "source": [
        "### Hill-Climbing - Restart"
      ]
    },
    {
      "cell_type": "code",
      "execution_count": 10,
      "metadata": {},
      "outputs": [],
      "source": [
        "def hill_climbing_restart(tsp, restarts=1000):\n",
        "\n",
        "    # solucao inicial\n",
        "    history = []\n",
        "    \n",
        "\n",
        "    solucao_melhor = solucao_aleatoria(tsp)\n",
        "    custo_melhor = float(\"inf\")\n",
        "    \n",
        "\n",
        "    for _ in range(restarts):\n",
        "        \n",
        "        # tenta obter um candidato melhor\n",
        "        candidato_atual, custo_atual = obtem_melhor_vizinho(tsp, solucao_melhor)\n",
        "        # print(custo_atual, custo_melhor)\n",
        "        if custo_atual < custo_melhor:\n",
        "            custo_melhor   = custo_atual\n",
        "            solucao_melhor = candidato_atual\n",
        "            # print(custo_melhor)\n",
        "            history.append(solucao_melhor)\n",
        "           \n",
        "\n",
        "    return custo_melhor, solucao_melhor, history"
      ]
    },
    {
      "attachments": {},
      "cell_type": "markdown",
      "metadata": {},
      "source": [
        "### Simulated Annealing"
      ]
    },
    {
      "cell_type": "code",
      "execution_count": 11,
      "metadata": {},
      "outputs": [],
      "source": [
        "def calculate_distance(city_a, city_b):\n",
        "    return np.linalg.norm(city_a - city_b)\n",
        "\n",
        "def total_distance(solucao, tsp):\n",
        "    solucao = ['A' + str(num) for num in solucao]\n",
        "    N = len(solucao)\n",
        "    # print(N)\n",
        "    custo = 0\n",
        "    for i in range(N):\n",
        "        k = (i+1) % N\n",
        "        cidadeA = solucao[i]\n",
        "        cidadeB = solucao[k]\n",
        "        # print(cidadeA, cidadeB)\n",
        "        custo += tsp.loc[cidadeA, cidadeB]\n",
        "    # print(custo)\n",
        "    return custo\n",
        "\n",
        "def generate_neighbor(route):\n",
        "    new_route = route.copy()\n",
        "    index_a = random.randint(0, len(route) - 1)\n",
        "    index_b = random.randint(0, len(route) - 1)\n",
        "    new_route[index_a], new_route[index_b] = new_route[index_b], new_route[index_a]\n",
        "    return new_route\n",
        "\n",
        "def acceptance_probability(current_distance, new_distance, temperature):\n",
        "    if new_distance < current_distance:\n",
        "        return 1.0\n",
        "    else:\n",
        "        return math.exp((current_distance - new_distance) / temperature)"
      ]
    },
    {
      "cell_type": "code",
      "execution_count": 12,
      "metadata": {},
      "outputs": [],
      "source": [
        "def simulated_annealing(cities, initial_temperature = 1000, cooling_rate=0.90, iterations=1000):\n",
        "    cities_df = cities.copy()\n",
        "    cities = cities.to_numpy()\n",
        "    num_cities = len(cities)\n",
        "    distance_matrix = np.zeros((num_cities, num_cities))\n",
        "\n",
        "    for i in range(num_cities):\n",
        "        for j in range(num_cities):\n",
        "            distance_matrix[i, j] = calculate_distance(cities[i], cities[j])\n",
        "\n",
        "    current_route = np.arange(num_cities)\n",
        "    best_route = current_route.copy()\n",
        "\n",
        "    current_distance = total_distance(current_route, cities_df)\n",
        "    best_distance = current_distance\n",
        "\n",
        "    temperature = initial_temperature\n",
        "\n",
        "    #-----------------------------------------------\n",
        "    iteration_list = []\n",
        "    best_distances = []\n",
        "    distance_list  = []\n",
        "    accept_p_list  = []\n",
        "    temperat_list  = []\n",
        "    #-----------------------------------------------\n",
        "\n",
        "    for iteration in range(iterations):\n",
        "        new_route = generate_neighbor(current_route)\n",
        "        new_distance = total_distance(new_route, cities_df)\n",
        "\n",
        "        acceptance_prob = acceptance_probability(current_distance, new_distance, temperature)\n",
        "\n",
        "        #print(acceptance_prob)\n",
        "\n",
        "        if random.random() < acceptance_prob:\n",
        "            current_route = new_route\n",
        "            current_distance = new_distance\n",
        "\n",
        "        if new_distance < best_distance:\n",
        "            best_route = new_route\n",
        "            best_distance = new_distance\n",
        "            # print(best_distance)\n",
        "\n",
        "        temperature *= cooling_rate\n",
        "\n",
        "        #-----------------------------------------------\n",
        "        iteration_list += [iteration]\n",
        "        best_distances += [best_distance]\n",
        "        distance_list  += [current_distance]\n",
        "        accept_p_list  += [acceptance_prob]\n",
        "        temperat_list  += [temperature]\n",
        "\n",
        "        #-----------------------------------------------\n",
        "        \n",
        "\n",
        "    # plt.show()\n",
        "    \n",
        "    best_route = ['A' + str(num) for num in best_route]\n",
        "    history = [best_route,{\n",
        "        'iteration_list': iteration_list,\n",
        "        'best_distances': best_distance,\n",
        "        'distance_list': current_distance,\n",
        "        'accept_p_list': accept_p_list,\n",
        "        'temperature': temperature\n",
        "    }]\n",
        "    return best_distance, best_route, history"
      ]
    },
    {
      "attachments": {},
      "cell_type": "markdown",
      "metadata": {},
      "source": [
        "### Genetic Algorithm"
      ]
    },
    {
      "cell_type": "code",
      "execution_count": 13,
      "metadata": {},
      "outputs": [],
      "source": [
        "\n",
        "def generate_initial_population(cities, population_size):\n",
        "    population = []\n",
        "    for _ in range(population_size):\n",
        "        path = random.sample(sorted(cities), len(cities))\n",
        "        population.append(path)\n",
        "    return population\n",
        "\n",
        "def selection(population, cities):\n",
        "    tournament_size = 5\n",
        "    selected = []\n",
        "\n",
        "    while len(selected) < len(population):\n",
        "        tournament = random.sample(population, tournament_size)\n",
        "        best_path = min(tournament, key=lambda path: calculate_total_distance(path, cities))\n",
        "        selected.append(best_path)\n",
        "\n",
        "    return selected\n",
        "\n",
        "def crossover(population):\n",
        "    new_population = []\n",
        "    for i in range(0, len(population), 2):\n",
        "        parent1 = population[i]\n",
        "        parent2 = population[i+1]\n",
        "        child1 = order_crossover(parent1, parent2)\n",
        "        child2 = order_crossover(parent1, parent2)\n",
        "        new_population.extend([child1, child2])\n",
        "    return new_population\n",
        "\n",
        "def order_crossover(parent1, parent2):\n",
        "    start_index, end_index = sorted(random.sample(range(len(parent1)), 2))\n",
        "    child = [-1] * len(parent1)\n",
        "\n",
        "    # Copia a parte selecionada do pai 1 para o filho\n",
        "    child[start_index:end_index + 1] = parent1[start_index:end_index + 1]\n",
        "\n",
        "    # Preenche o restante do filho com as cidades do pai 2\n",
        "    remaining_cities = [city for city in parent2 if city not in child]\n",
        "\n",
        "    j = 0\n",
        "    for i in range(len(parent1)):\n",
        "        if child[i] == -1:\n",
        "            child[i] = remaining_cities[j]\n",
        "            j += 1\n",
        "\n",
        "    return child\n",
        "\n",
        "def mutation(population, mutation_rate):\n",
        "    mutated_population = []\n",
        "    for path in population:\n",
        "        if np.random.rand() < mutation_rate:\n",
        "            mutated_path = path.copy()\n",
        "            # Escolhe aleatoriamente duas posições diferentes no trajeto\n",
        "            idx1, idx2 = np.random.choice(len(mutated_path), size=2, replace=False)\n",
        "            # Troca as posições das cidades\n",
        "            mutated_path[idx1], mutated_path[idx2] = mutated_path[idx2], mutated_path[idx1]\n",
        "            mutated_population.append(mutated_path)\n",
        "        else:\n",
        "            mutated_population.append(path)\n",
        "    return mutated_population\n",
        "\n",
        "def calculate_distance(city_a, city_b):\n",
        "    return np.linalg.norm(np.array(city_a) - np.array(city_b))\n",
        "\n",
        "def calculate_total_distance(solucao, tsp):\n",
        "    # solucao = ['A' + str(num) for num in solucao]\n",
        "    N = len(solucao)\n",
        "    # print(N)\n",
        "    custo = 0\n",
        "    for i in range(N):\n",
        "        k = (i+1) % N\n",
        "        cidadeA = solucao[i]\n",
        "        cidadeB = solucao[k]\n",
        "        # print(cidadeA, cidadeB)\n",
        "        custo += tsp.loc[cidadeA, cidadeB]\n",
        "    # print(custo)\n",
        "    return custo\n",
        "\n",
        "def tsp_genetic(cities, population_size=100, num_generations=1000, mutation_rate=0.15):\n",
        "    \n",
        "    history = []\n",
        "    population = generate_initial_population(cities, population_size)\n",
        "\n",
        "    for _ in range(num_generations):\n",
        "        population = selection(population, cities)\n",
        "        history.append(len(population))\n",
        "        population = crossover(population)\n",
        "        history.append(len(population))      \n",
        "        population = mutation(population, mutation_rate)\n",
        "        history.append(len(population))\n",
        "        # print(population)\n",
        "\n",
        "    \n",
        "    best_path = min(population, key=lambda path: calculate_total_distance(path, cities))\n",
        "    best_distance = calculate_total_distance(best_path, cities)\n",
        "\n",
        "    return best_distance, best_path, history\n",
        "\n",
        "\n",
        "\n",
        "\n"
      ]
    },
    {
      "attachments": {},
      "cell_type": "markdown",
      "metadata": {
        "id": "AMaHZiqcf6_h"
      },
      "source": [
        "### Cálculo da Matriz de Distâncias"
      ]
    },
    {
      "cell_type": "code",
      "execution_count": 14,
      "metadata": {
        "id": "FmDVvyLOnVGL"
      },
      "outputs": [],
      "source": [
        "from math import sqrt"
      ]
    },
    {
      "cell_type": "code",
      "execution_count": 15,
      "metadata": {
        "id": "vbf9PTKKnGLV"
      },
      "outputs": [],
      "source": [
        "# distancia Euclidiana entre dois pontos\n",
        "def distancia(x1,y1,x2,y2):\n",
        "    dx = x2 - x1\n",
        "    dy = y2 - y1\n",
        "    return sqrt(dx**2 + dy**2)"
      ]
    },
    {
      "cell_type": "code",
      "execution_count": 16,
      "metadata": {
        "id": "TdPbzlcHkkdH"
      },
      "outputs": [],
      "source": [
        "# Calcula matriz de distancias.\n",
        "#\n",
        "# OBS:  Não é estritamente necessario calculá-las a priori.\n",
        "#       Foi feito assim apenas para fins didáticos.\n",
        "#       Ao invés, as distâncias podem ser calculadas sob demanda.\n",
        "\n",
        "def gera_matriz_distancias(Coordenadas):\n",
        "\n",
        "    n_cidades = len(Coordenadas)\n",
        "    dist = np.zeros((n_cidades,n_cidades), dtype=float)\n",
        "\n",
        "    for i in range(0, n_cidades):\n",
        "        for j in range(i+1, n_cidades):\n",
        "            x1,y1 = Coordenadas.iloc[i]\n",
        "            x2,y2 = Coordenadas.iloc[j]\n",
        "\n",
        "            dist[i,j] = distancia(x1,y1,x2,y2)\n",
        "            dist[j,i] = dist[i,j]\n",
        "\n",
        "    return dist"
      ]
    },
    {
      "attachments": {},
      "cell_type": "markdown",
      "metadata": {
        "id": "cQ6Q4b9Fy89O"
      },
      "source": [
        "### Gerador de Problemas Aleatórios"
      ]
    },
    {
      "cell_type": "code",
      "execution_count": 17,
      "metadata": {
        "id": "zZgIg5fWjKBO"
      },
      "outputs": [],
      "source": [
        "# Gera aleatoriamente as coordenadas de N cidades.\n",
        "# Obs: esta informação geralmente é fornecida como entrada do problema.\n",
        "\n",
        "def gera_coordenadas_aleatorias(n_cidades):\n",
        "    minimo = 10\n",
        "    maximo = 90\n",
        "    escala = (maximo-minimo)-1\n",
        "\n",
        "    # gera n coordenadas (x,y) aleatorias entre [min, max]\n",
        "    X = minimo + escala * np.random.rand(n_cidades)\n",
        "    Y = minimo + escala * np.random.rand(n_cidades)\n",
        "    coordenadas = {'X':X, 'Y': Y}\n",
        "\n",
        "    cidades = ['A'+str(i) for i in range(n_cidades)]\n",
        "\n",
        "    df_cidades = pd.DataFrame(coordenadas, index=cidades)\n",
        "    df_cidades.index.name = 'CIDADE'\n",
        "\n",
        "    return df_cidades\n"
      ]
    },
    {
      "cell_type": "code",
      "execution_count": 18,
      "metadata": {
        "id": "Skb8aRVerxrW"
      },
      "outputs": [],
      "source": [
        "# Recebe uma lista com as coordenadas reais de uma cidade e\n",
        "# gera uma matriz de distancias entre as cidades.\n",
        "# Obs: a matriz é simetrica e com diagonal nula\n",
        "def gera_problema_tsp(df_cidades):\n",
        "    # nomes ficticios das cidades\n",
        "    cidades = df_cidades.index\n",
        "\n",
        "    # calcula matriz de distancias\n",
        "    distancias = gera_matriz_distancias(df_cidades)\n",
        "\n",
        "    # cria estrutura para armazena as distâncias entre todas as cidades\n",
        "    tsp = pd.DataFrame(distancias, columns=cidades, index=cidades)\n",
        "\n",
        "    return tsp"
      ]
    },
    {
      "attachments": {},
      "cell_type": "markdown",
      "metadata": {
        "id": "pyWu6gBtSBmd"
      },
      "source": [
        "### Plota Rotas"
      ]
    },
    {
      "cell_type": "code",
      "execution_count": 19,
      "metadata": {
        "id": "M8R9R8COYWvZ"
      },
      "outputs": [],
      "source": [
        "# Plota a solução do roteamento das cidades\n",
        "# usando a biblioteca PLOTLY\n",
        "def plota_rotas(df_cidades, ordem_cidades):\n",
        "    df_solucao = df_cidades.copy()\n",
        "    df_solucao = df_solucao.reindex(ordem_cidades)\n",
        "\n",
        "    X = df_solucao['X']\n",
        "    Y = df_solucao['Y']\n",
        "    cidades = list(df_solucao.index)\n",
        "\n",
        "    # cria objeto gráfico\n",
        "    fig = go.Figure()\n",
        "\n",
        "    fig.update_layout(autosize=False, width=500, height=500, showlegend=False)\n",
        "\n",
        "    # gera linhas com as rotas da primeira ate a ultima cidade\n",
        "    fig.add_trace(go.Scatter(x=X, y=Y,\n",
        "                             text=cidades, textposition='bottom center',\n",
        "                             mode='lines+markers+text',\n",
        "                             name=''))\n",
        "\n",
        "    # acrescenta linha da última para a primeira para fechar o ciclo\n",
        "    fig.add_trace(go.Scatter(x=X.iloc[[-1,0]], y=Y.iloc[[-1,0]],\n",
        "                             mode='lines+markers', name=''))\n",
        "\n",
        "    fig.show()"
      ]
    },
    {
      "attachments": {},
      "cell_type": "markdown",
      "metadata": {
        "id": "f2jeWvnrzL7F"
      },
      "source": [
        "## Execução"
      ]
    },
    {
      "attachments": {},
      "cell_type": "markdown",
      "metadata": {
        "id": "41bEisx8zgNO"
      },
      "source": [
        "### Executa 1 vez"
      ]
    },
    {
      "cell_type": "code",
      "execution_count": 20,
      "metadata": {
        "colab": {
          "base_uri": "https://localhost:8080/",
          "height": 394
        },
        "id": "2GtKI8xbECbg",
        "outputId": "bb3a5b3e-f599-4bee-99ea-005a3184e64d"
      },
      "outputs": [],
      "source": [
        "# Simula a criação de N cidades\n",
        "# com suas respectivas distâncias\n",
        "\n",
        "# n_cidades=10\n",
        "# df_coordenadas = gera_coordenadas_aleatorias(n_cidades)\n",
        "# df_coordenadas "
      ]
    },
    {
      "cell_type": "code",
      "execution_count": 21,
      "metadata": {},
      "outputs": [],
      "source": [
        "# tsp = gera_problema_tsp(df_coordenadas)"
      ]
    },
    {
      "cell_type": "code",
      "execution_count": 22,
      "metadata": {},
      "outputs": [],
      "source": [
        "# n_cidades = 30\n",
        "\n",
        "# best_path, best_distance, history = tsp_genetic(tsp, population_size, num_generations, mutation_rate)\n",
        "# print(best_path, best_distance, history)"
      ]
    },
    {
      "cell_type": "code",
      "execution_count": 23,
      "metadata": {},
      "outputs": [],
      "source": [
        "\n",
        "# custo, solucao, history = hill_climbing_restart(tsp)\n",
        "\n",
        "\n",
        "# print(\"Melhor solução encontrada:\")\n",
        "# print(solucao)\n",
        "# print(\"Distância total da rota:\", custo)\n",
        "# print(f'{custo:7.3f}    {solucao}')\n"
      ]
    },
    {
      "cell_type": "code",
      "execution_count": 24,
      "metadata": {},
      "outputs": [],
      "source": [
        "\n",
        "# # num_cities = 20\n",
        "# # population_size = 100\n",
        "# # num_generations = 1000\n",
        "\n",
        "# best_solution, best_value = genetic_algorithm(df_coordenadas)\n",
        "\n",
        "# print(\"Melhor solução encontrada:\")\n",
        "# print(best_solution)\n",
        "# print(\"Distância total da rota:\", best_value)"
      ]
    },
    {
      "cell_type": "code",
      "execution_count": 25,
      "metadata": {
        "colab": {
          "base_uri": "https://localhost:8080/",
          "height": 535
        },
        "id": "MjAVYZjLpgT1",
        "outputId": "b2673440-9e7d-4a7d-fbb8-03572a9a86cc"
      },
      "outputs": [],
      "source": [
        "# solucao = solucao_aleatoria(tsp)\n",
        "# print(solucao)\n",
        "# plota_rotas(df_coordenadas, solucao)"
      ]
    },
    {
      "cell_type": "code",
      "execution_count": 26,
      "metadata": {
        "colab": {
          "base_uri": "https://localhost:8080/",
          "height": 535
        },
        "id": "QFrhV9EG-ow5",
        "outputId": "59026f7a-7220-4868-9ecc-2829cacbe8b5"
      },
      "outputs": [],
      "source": [
        "# # busca local da melhor solução e o seu custo\n",
        "# custo, solucao = simulated_annealing(cities=tsp)\n",
        "# # print(custo, solucao)\n",
        "# print(f'{custo:7.3f}    {solucao}')\n",
        "\n",
        "# plota_rotas(df_coordenadas, solucao)"
      ]
    },
    {
      "cell_type": "code",
      "execution_count": 27,
      "metadata": {},
      "outputs": [],
      "source": [
        "# # busca local da melhor solução e o seu custo\n",
        "# custo, solucao = hill_climbing_restart(tsp,10)\n",
        "\n",
        "# print(f'{custo:7.3f}    {solucao}')\n",
        "\n",
        "# plota_rotas(df_coordenadas, solucao)"
      ]
    },
    {
      "cell_type": "code",
      "execution_count": 28,
      "metadata": {
        "colab": {
          "base_uri": "https://localhost:8080/",
          "height": 1000
        },
        "id": "BRNaZ7DTXHmk",
        "outputId": "38ada615-fce2-492e-c2be-b9e149fe7212"
      },
      "outputs": [],
      "source": [
        "# for _ in range(10):\n",
        "#     custo, solucao = hill_climbing(tsp)\n",
        "\n",
        "#     print(f'{custo:7.3f}    {solucao}')\n",
        "\n",
        "#     plota_rotas(df_coordenadas, solucao)"
      ]
    },
    {
      "attachments": {},
      "cell_type": "markdown",
      "metadata": {
        "id": "uAVU-utFPjJW"
      },
      "source": [
        "### Executa N vezes - ESTRUTURADA com DataFrame"
      ]
    },
    {
      "attachments": {},
      "cell_type": "markdown",
      "metadata": {
        "id": "vrJW-qKYAbuV"
      },
      "source": [
        "A seguir, é apresentada uma forma mais estruturada de se rodar várias vezes usando a estrutura de dados **`DataFrame`** para armazenar os resultados e permitir visualização de box-plots"
      ]
    },
    {
      "cell_type": "code",
      "execution_count": 29,
      "metadata": {
        "id": "qGO9EkOO6qko"
      },
      "outputs": [],
      "source": [
        "# Cria estruta de dados (DataFrame) para armazenar vários resultados\n",
        "# diferentes e visualizá-los através de estatísticas\n",
        "\n",
        "def cria_df_custos(algoritmos, n_vezes):\n",
        "\n",
        "    nomes_algoritmos  = algoritmos.keys()\n",
        "\n",
        "    n_lin = len(nomes_algoritmos)\n",
        "    n_col = n_vezes\n",
        "\n",
        "    df_results = pd.DataFrame(np.zeros((n_lin,n_col)),\n",
        "                              index=nomes_algoritmos)\n",
        "    df_results.index.name='ALGORITMO'\n",
        "\n",
        "    return df_results"
      ]
    },
    {
      "cell_type": "code",
      "execution_count": 30,
      "metadata": {},
      "outputs": [],
      "source": [
        "from tqdm import tqdm"
      ]
    },
    {
      "cell_type": "code",
      "execution_count": 31,
      "metadata": {
        "id": "mpXDxZXWDfMu"
      },
      "outputs": [],
      "source": [
        "# Executa N vezes para gerar estatísticas da variável custo\n",
        "def executa_n_vezes(tsp, algoritmos, n_vezes):\n",
        "\n",
        "    # Cria DataFrame para armazenar os resultados\n",
        "    df_custo = cria_df_custos(algoritmos, n_vezes)\n",
        "    df_history = pd.DataFrame(columns=algoritmos.keys())\n",
        "    df_solucao = pd.DataFrame()\n",
        "    df_hill_climbing = pd.DataFrame()\n",
        "    df_hill_climbing_restart = pd.DataFrame()\n",
        "    df_genetic_algorithm = pd.DataFrame()\n",
        "    df_genetic_algorithm_population = pd.DataFrame()\n",
        "    df_simulated_annealing = pd.DataFrame()\n",
        "    df_simulated_annealing_history = pd.DataFrame()\n",
        "    for algoritmo, funcao_algoritmo in algoritmos.items():\n",
        "\n",
        "        print(algoritmo)\n",
        "\n",
        "        for i, count in zip(range(n_vezes), tqdm(range(n_vezes))):\n",
        "            df = None\n",
        "            # if algoritmo != 'Genetic Algorithm':\n",
        "            custo, solucao, historico = funcao_algoritmo(tsp)\n",
        "            df_temp = pd.DataFrame(solucao)\n",
        "         \n",
        "            \n",
        "            if algoritmo == 'Hill-Climbing':\n",
        "                df_hill_climbing = pd.concat([df_hill_climbing, df_temp.T], axis =0).reset_index(drop=True)\n",
        "            \n",
        "            elif algoritmo == 'Hill-Climbing Restart':\n",
        "                df_hill_climbing_restart = pd.concat([df_hill_climbing_restart, df_temp.T], axis =0).reset_index(drop=True)\n",
        "            \n",
        "            elif algoritmo == 'Genetic Algorithm':\n",
        "                df_genetic_algorithm = pd.concat([df_genetic_algorithm, df_temp.T], axis =0).reset_index(drop=True)\n",
        "                df  = pd.DataFrame([historico])\n",
        "                df_genetic_algorithm_population = pd.concat([df_genetic_algorithm_population, df], axis =0).reset_index(drop=True)\n",
        "\n",
        "            elif algoritmo == 'Simulated Annealing':\n",
        "                df  = pd.DataFrame([historico[1]], columns=historico[1].keys())\n",
        "                df_simulated_annealing = pd.concat([df_simulated_annealing, df], axis =0).reset_index(drop=True)\n",
        "                df_simulated_annealing_history = pd.concat([df_simulated_annealing_history, df_temp.T], axis =0).reset_index(drop=True)\n",
        "            \n",
        "    \n",
        "            df_custo.loc[algoritmo,i] = custo\n",
        "     \n",
        "            # else:\n",
        "                # custo, solucao = funcao_algoritmo(df_coord)\n",
        "                # df_custo.loc[algoritmo,i] = custo\n",
        "\n",
        "            # print(f'{custo:10.3f}  {solucao}')\n",
        "\n",
        "    return df_custo, df_history, df_hill_climbing, df_hill_climbing_restart, df_simulated_annealing, df_simulated_annealing_history, df_genetic_algorithm, df_genetic_algorithm_population"
      ]
    },
    {
      "cell_type": "code",
      "execution_count": 32,
      "metadata": {},
      "outputs": [],
      "source": [
        "# Dicionario com Nomes dos modelos e suas respectivas variantes\n",
        "# Tuple: (Algoritmo, Variante): funcao_algoritmo\n",
        "algoritmos = {\n",
        "    \n",
        "    'Hill-Climbing': hill_climbing,\n",
        "    'Hill-Climbing Restart': hill_climbing_restart,\n",
        "    'Simulated Annealing': simulated_annealing,\n",
        "    'Genetic Algorithm': tsp_genetic,\n",
        "    \n",
        "}"
      ]
    },
    {
      "attachments": {},
      "cell_type": "markdown",
      "metadata": {
        "id": "LxUqvfnrxaPT"
      },
      "source": [
        "#### PROBLEMA GERADO ALEATORIAMENTE"
      ]
    },
    {
      "cell_type": "code",
      "execution_count": 33,
      "metadata": {
        "colab": {
          "base_uri": "https://localhost:8080/"
        },
        "id": "Beih4wDh9iSI",
        "outputId": "b3a8ff48-a43e-497d-f404-9cfa7c130173"
      },
      "outputs": [
        {
          "name": "stdout",
          "output_type": "stream",
          "text": [
            "Hill-Climbing\n"
          ]
        },
        {
          "name": "stderr",
          "output_type": "stream",
          "text": [
            "  0%|          | 2/1000 [00:14<2:03:38,  7.43s/it]"
          ]
        }
      ],
      "source": [
        "###################################\n",
        "# PROBLEMA GERADO ALEATORIAMENTE  #\n",
        "###################################\n",
        "\n",
        "# cria instancia do problema com n cidades\n",
        "\n",
        "n_cidades=30\n",
        "df_coordenadas = gera_coordenadas_aleatorias(n_cidades)\n",
        "tsp = gera_problema_tsp(df_coordenadas)\n",
        "\n",
        "# numero de vezes que executará cada algoritmo\n",
        "n_vezes = 1000\n",
        "\n",
        "# Executa N vezes para gerar estatísticas da variável custo\n",
        "df_custo, df_history, df_hill_climbing, df_hill_climbing_restart, df_simulated_annealing, df_simulated_annealing_history, df_genetic_algorithm, df_genetic_algorithm_population = executa_n_vezes(tsp, algoritmos, n_vezes)"
      ]
    },
    {
      "cell_type": "code",
      "execution_count": null,
      "metadata": {},
      "outputs": [],
      "source": [
        "df_custo.to_csv(\"custo\", sep=\",\")\n",
        "df_history.to_csv(\"historico\", sep=\",\")\n",
        "df_hill_climbing.to_csv(\"hill_climbing\", sep=\",\")\n",
        "df_hill_climbing_restart.to_csv(\"hill_climbing_restart\", sep=\",\")\n",
        "df_simulated_annealing.to_csv(\"simulated_annealing_info\", sep=\",\")\n",
        "df_simulated_annealing_history.to_csv(\"simulted_annealing\", sep=\",\")\n",
        "df_genetic_algorithm.to_csv(\"genetic_algorithm\", sep=\",\")\n",
        "df_genetic_algorithm_population.to_csv(\"genetic_algorithm_population\", sep=\",\")"
      ]
    },
    {
      "attachments": {},
      "cell_type": "markdown",
      "metadata": {
        "id": "45ka8n7U3xEJ"
      },
      "source": [
        "##### Box Plots"
      ]
    },
    {
      "cell_type": "code",
      "execution_count": null,
      "metadata": {},
      "outputs": [],
      "source": [
        "# df_custo_T = df_custo.T\n",
        "# df_custo_T.describe()"
      ]
    },
    {
      "cell_type": "code",
      "execution_count": null,
      "metadata": {},
      "outputs": [],
      "source": [
        "# px.box(df_custo_T, points='all', y=df_custo_T.columns.tolist()).update_layout(\n",
        "#     xaxis_title=\"Algoritmo\", yaxis_title=\"Custo\", title=\"Custo por Algoritmo\")"
      ]
    },
    {
      "attachments": {},
      "cell_type": "markdown",
      "metadata": {
        "id": "YlI7aLfqT_Ta"
      },
      "source": [
        "### Plota a rota da melhor solução obtida"
      ]
    },
    {
      "cell_type": "code",
      "execution_count": null,
      "metadata": {},
      "outputs": [],
      "source": [
        "# from plotly.subplots import make_subplots\n",
        "# import plotly.graph_objects as go"
      ]
    },
    {
      "cell_type": "code",
      "execution_count": null,
      "metadata": {},
      "outputs": [],
      "source": [
        "# df_line_plot = px.line(df_custo_T, y=df_custo.index.to_list(), width=1000, height=350)\n",
        "# df_line_plot.update_layout(title_text=\"<b>Melhor custo por algoritmo a cada iteração</b>\")\n",
        "# df_line_plot.update_yaxes(title_text=\"<b>Custo</b>\", secondary_y=False)\n",
        "# df_line_plot.update_xaxes(title_text=\"<b>Iteração</b>\")\n",
        "# df_line_plot.show()"
      ]
    },
    {
      "cell_type": "code",
      "execution_count": null,
      "metadata": {},
      "outputs": [],
      "source": [
        "# def plot_all_routes(df_coord, df_solutions, custos, algorithm):\n",
        "    \n",
        "#     fig = make_subplots(rows=6, cols=5, subplot_titles=['Iteração ' + str(i + 1) for i in range(len(df_solutions))], vertical_spacing=0.03)\n",
        "#     row, col = 1, 1\n",
        "#     for _, solution in df_solutions.iterrows():\n",
        "\n",
        "#         df_solucao = df_coord.copy()\n",
        "#         df_solucao = df_solucao.reindex(solution.to_numpy())\n",
        "        \n",
        "#         X = df_solucao['X']\n",
        "#         Y = df_solucao['Y']\n",
        "#         cidades = list(df_solucao.index)\n",
        "\n",
        "#         # cria objeto gráfico\n",
        "#         fig.append_trace(go.Scatter(x=X, y=Y,\n",
        "#                                 text=cidades, textposition='bottom center',\n",
        "#                                 mode='lines+markers+text',\n",
        "#                                 name=''), row=row, col=col)\n",
        "#         fig.append_trace(go.Scatter(x=X.iloc[[-1,0]], y=Y.iloc[[-1,0]],\n",
        "#                                 mode='lines+markers', name=''),row=row, col=col)\n",
        "#         fig.update_layout(autosize=False, width=2000, height=3000, showlegend=False)\n",
        "#         fig.update_layout(title_text=f\"Rotas a cada interação - {algorithm}\")\n",
        "#         fig.update_xaxes(title_text=f\"Custo {custos[algorithm][_]:.2f}\", row=row, col=col)\n",
        "#         row += 1\n",
        "#         col += 1\n",
        "#         if row > 6:\n",
        "#             row = 1\n",
        "#         if col > 5:\n",
        "#             col = 1    \n",
        "\n",
        "#         # gera linhas com as rotas da primeira ate a ultima cidade\n",
        "    \n",
        "#         # acrescenta linha da última para a primeira para fechar o ciclo\n",
        "#         # fig.add_trace()\n",
        "\n",
        "#     fig.show()\n"
      ]
    },
    {
      "cell_type": "code",
      "execution_count": null,
      "metadata": {},
      "outputs": [],
      "source": [
        "# map_algorithms_dfs = {\n",
        "#     'Hill-Climbing': df_hill_climbing,\n",
        "#     'Hill-Climbing Restart': df_hill_climbing_restart,\n",
        "#     'Simulated Annealing': df_simulated_annealing_history,\n",
        "#     'Genetic Algorithm': df_genetic_algorithm\n",
        "# }"
      ]
    },
    {
      "cell_type": "code",
      "execution_count": null,
      "metadata": {},
      "outputs": [],
      "source": [
        "# for algo in df_custo_T.columns.to_list():\n",
        "#     plot_all_routes(df_coordenadas, map_algorithms_dfs[algo], df_custo_T, algo)"
      ]
    }
  ],
  "metadata": {
    "colab": {
      "provenance": [],
      "toc_visible": true
    },
    "kernelspec": {
      "display_name": "Python 3",
      "name": "python3"
    },
    "language_info": {
      "codemirror_mode": {
        "name": "ipython",
        "version": 3
      },
      "file_extension": ".py",
      "mimetype": "text/x-python",
      "name": "python",
      "nbconvert_exporter": "python",
      "pygments_lexer": "ipython3",
      "version": "3.11.3"
    }
  },
  "nbformat": 4,
  "nbformat_minor": 0
}
