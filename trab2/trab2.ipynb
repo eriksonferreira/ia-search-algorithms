{
  "cells": [
    {
      "attachments": {},
      "cell_type": "markdown",
      "metadata": {
        "id": "RoohjShG_0YE"
      },
      "source": [
        "# Trabalho 2 - Erikson Ferreira"
      ]
    },
    {
      "attachments": {},
      "cell_type": "markdown",
      "metadata": {
        "id": "Lz9EzErHycV_"
      },
      "source": [
        "## Importações"
      ]
    },
    {
      "cell_type": "code",
      "execution_count": 438,
      "metadata": {
        "id": "sdnQDwnTiFDL"
      },
      "outputs": [],
      "source": [
        "# Manipulação de dados\n",
        "import numpy as np\n",
        "import pandas as pd\n",
        "\n",
        "# Geração de números aleatórios\n",
        "import random"
      ]
    },
    {
      "cell_type": "code",
      "execution_count": 439,
      "metadata": {
        "id": "q15dV5KaE2YU"
      },
      "outputs": [],
      "source": [
        "# Geração de gráficos\n",
        "import matplotlib.pyplot as plt\n",
        "import seaborn as sns\n",
        "import plotly.express as px\n",
        "import plotly.graph_objects as go\n",
        "import math"
      ]
    },
    {
      "attachments": {},
      "cell_type": "markdown",
      "metadata": {
        "id": "CT7FTs8fyZCf"
      },
      "source": [
        "## Funções Auxiliares"
      ]
    },
    {
      "attachments": {},
      "cell_type": "markdown",
      "metadata": {
        "id": "bbAFq9rsyR-f"
      },
      "source": [
        "### Solução Aleatória"
      ]
    },
    {
      "cell_type": "code",
      "execution_count": 440,
      "metadata": {
        "id": "5pnHjBx7ho_M"
      },
      "outputs": [],
      "source": [
        "# Cria uma solucao inicial com as cidades em um ordem aleatoria\n",
        "\n",
        "def solucao_aleatoria(tsp):\n",
        "    cidades = list(tsp.keys())\n",
        "    solucao = []\n",
        "\n",
        "    # as 3 linhas abaixo não são estritamente necessarias, servem\n",
        "    # apenas para fixar a primeira cidade da lista na solução\n",
        "    cidade = cidades[0]\n",
        "    solucao.append(cidade)\n",
        "    cidades.remove(cidade)\n",
        "\n",
        "    for _ in range(0,len(cidades)):\n",
        "        #print(_, cidades, solucao)\n",
        "        cidade = random.choice(cidades)\n",
        "\n",
        "        solucao.append(cidade)\n",
        "        cidades.remove(cidade)\n",
        "\n",
        "    return solucao"
      ]
    },
    {
      "attachments": {},
      "cell_type": "markdown",
      "metadata": {
        "id": "AUwlyv7Zymr2"
      },
      "source": [
        "### Calcula Custo"
      ]
    },
    {
      "cell_type": "code",
      "execution_count": 441,
      "metadata": {
        "id": "dXqFqtOzoDKF"
      },
      "outputs": [],
      "source": [
        "# Função Objetivo: calcula custo de uma dada solução.\n",
        "# Obs: Neste caso do problema do caixeiro viajante (TSP problem),\n",
        "# o custo é o comprimento da rota entre todas as cidades.\n",
        "def calcula_custo(tsp, solucao):\n",
        "\n",
        "    N = len(solucao)\n",
        "    custo = 0\n",
        "\n",
        "    for i in range(N):\n",
        "\n",
        "        # Quando chegar na última cidade, será necessário\n",
        "        # voltar para o início para adicionar o\n",
        "        # comprimento da rota da última cidade\n",
        "        # até a primeira cidade, fechando o ciclo.\n",
        "        #\n",
        "        # Por isso, a linha abaixo:\n",
        "        k = (i+1) % N\n",
        "        cidadeA = solucao[i]\n",
        "        cidadeB = solucao[k]\n",
        "\n",
        "        custo += tsp.loc[cidadeA, cidadeB]\n",
        "\n",
        "        #print(tsp.loc[cidadeA, cidadeB], cidadeA,cidadeB)\n",
        "\n",
        "    return custo"
      ]
    },
    {
      "attachments": {},
      "cell_type": "markdown",
      "metadata": {
        "id": "ZPWKv8KDyrpu"
      },
      "source": [
        "### Gera Vizinhos"
      ]
    },
    {
      "attachments": {},
      "cell_type": "markdown",
      "metadata": {
        "id": "Oa7gSiAL0x_T"
      },
      "source": [
        "Obs: a função `obtem_vizinhos` descrita abaixo foi gerada de forma simplificada, pois ela assume que todos os vizinhos possuem rota direta entre si. Isto tem caráter didático para simplifcar a solução. Observe que na prática isso nem sempre existe rotas diretas entre todas as cidades e, em tais casos, pode ser necessário modificar a função para corresponder a tais restrições."
      ]
    },
    {
      "cell_type": "code",
      "execution_count": 442,
      "metadata": {
        "id": "MBaFXjokwxR-"
      },
      "outputs": [],
      "source": [
        "# A partir de uma dada solução, gera diversas variações (vizinhos)\n",
        "def gera_vizinhos(solucao):\n",
        "\n",
        "    N = len(solucao)\n",
        "    for i in range(1, N):       # deixa o primeiro fixo\n",
        "        for j in range(i + 1, N):\n",
        "            vizinho = solucao.copy()\n",
        "            vizinho[i] = solucao[j]\n",
        "            vizinho[j] = solucao[i]\n",
        "\n",
        "            yield(vizinho)\n"
      ]
    },
    {
      "attachments": {},
      "cell_type": "markdown",
      "metadata": {
        "id": "6uhsnJTlyuH2"
      },
      "source": [
        "### Seleciona Melhor Vizinho"
      ]
    },
    {
      "cell_type": "code",
      "execution_count": 443,
      "metadata": {
        "id": "cV-59YdMty5f"
      },
      "outputs": [],
      "source": [
        "def obtem_melhor_vizinho(tsp, solucao):\n",
        "    melhor_custo = calcula_custo(tsp, solucao)\n",
        "    melhor_vizinho = solucao\n",
        "\n",
        "    for vizinho in gera_vizinhos(solucao):\n",
        "        custo_atual = calcula_custo(tsp, vizinho)\n",
        "        if custo_atual < melhor_custo:\n",
        "            melhor_custo = custo_atual\n",
        "            melhor_vizinho = vizinho\n",
        "\n",
        "    return melhor_vizinho, melhor_custo\n"
      ]
    },
    {
      "attachments": {},
      "cell_type": "markdown",
      "metadata": {
        "id": "IDygPud_y102"
      },
      "source": [
        "### Random-Walk - clássico"
      ]
    },
    {
      "cell_type": "code",
      "execution_count": 444,
      "metadata": {
        "id": "0-rB8g_KJFvb"
      },
      "outputs": [],
      "source": [
        "def obtem_vizinho_aleatorio(tsp, solucao):\n",
        "\n",
        "    vizinhos = list(gera_vizinhos(solucao))\n",
        "\n",
        "    aleatorio_vizinho  = random.choice(vizinhos)\n",
        "    aleatorio_custo    = calcula_custo(tsp, aleatorio_vizinho)\n",
        "\n",
        "    return aleatorio_vizinho, aleatorio_custo\n"
      ]
    },
    {
      "cell_type": "code",
      "execution_count": 445,
      "metadata": {
        "id": "-hs6-Gy6m_GE"
      },
      "outputs": [],
      "source": [
        "def random_walk(tsp):\n",
        "    solucao_inicial = solucao_aleatoria(tsp)\n",
        "\n",
        "    atual_solucao, atual_custo = obtem_vizinho_aleatorio(tsp, solucao_inicial)\n",
        "\n",
        "    for _ in range(30):\n",
        "        atual_solucao, atual_custo = obtem_vizinho_aleatorio(tsp, atual_solucao)\n",
        "\n",
        "    return atual_custo, atual_solucao"
      ]
    },
    {
      "attachments": {},
      "cell_type": "markdown",
      "metadata": {
        "id": "u8heFDeNFnxf"
      },
      "source": [
        "### Hill-Climbing - clássico"
      ]
    },
    {
      "cell_type": "code",
      "execution_count": 446,
      "metadata": {
        "id": "e5plsCDp9Eha"
      },
      "outputs": [],
      "source": [
        "def hill_climbing(tsp):\n",
        "    history = []\n",
        "    # solucao inicial\n",
        "    solucao_inicial = solucao_aleatoria(tsp)\n",
        "    print(solucao_inicial)\n",
        "    # melhor solucao ate o momento\n",
        "    solucao_melhor, custo_melhor = obtem_melhor_vizinho(tsp, solucao_inicial)\n",
        "    \n",
        "\n",
        "    while True:\n",
        "\n",
        "        # tenta obter um candidato melhor\n",
        "        candidato_atual, custo_atual = obtem_melhor_vizinho(tsp, solucao_melhor)\n",
        "        #print(custo_melhor, custo_atual)\n",
        "\n",
        "        if custo_atual < custo_melhor:\n",
        "            custo_melhor   = custo_atual\n",
        "            solucao_melhor = candidato_atual\n",
        "            history.append(solucao_melhor)\n",
        "        else:\n",
        "            history.append(candidato_atual)\n",
        "            break   # custo nao melhorou, entao sai do while\n",
        "\n",
        "    return custo_melhor, solucao_melhor, history"
      ]
    },
    {
      "attachments": {},
      "cell_type": "markdown",
      "metadata": {},
      "source": [
        "### Hill-Climbing - Restart"
      ]
    },
    {
      "cell_type": "code",
      "execution_count": 447,
      "metadata": {},
      "outputs": [],
      "source": [
        "def hill_climbing_restart(tsp, restarts=1000):\n",
        "\n",
        "    # solucao inicial\n",
        "    history = []\n",
        "    solucao_inicial = solucao_aleatoria(tsp)\n",
        "    # melhor solucao ate o momento\n",
        "    solucao_melhor, custo_melhor = obtem_melhor_vizinho(tsp, solucao_inicial)\n",
        "\n",
        "    for _ in range(restarts):\n",
        "\n",
        "        # tenta obter um candidato melhor\n",
        "        candidato_atual, custo_atual = obtem_melhor_vizinho(tsp, solucao_melhor)\n",
        "        \n",
        "\n",
        "        if custo_atual < custo_melhor:\n",
        "            custo_melhor   = custo_atual\n",
        "            solucao_melhor = candidato_atual\n",
        "            history.append(solucao_melhor)\n",
        "        else:\n",
        "            solucao_inicial = solucao_aleatoria(tsp)\n",
        "            solucao_melhor, custo_melhor = obtem_melhor_vizinho(tsp, solucao_inicial)\n",
        "            history.append(solucao_melhor)\n",
        "            # break   # custo nao melhorou, entao sai do while\n",
        "\n",
        "    return custo_melhor, solucao_melhor, history"
      ]
    },
    {
      "attachments": {},
      "cell_type": "markdown",
      "metadata": {},
      "source": [
        "### Simulated Annealing"
      ]
    },
    {
      "cell_type": "code",
      "execution_count": 448,
      "metadata": {},
      "outputs": [],
      "source": [
        "def calculate_distance(city_a, city_b):\n",
        "    return np.linalg.norm(city_a - city_b)\n",
        "\n",
        "def total_distance(route, distance_matrix):\n",
        "    total = 0\n",
        "    for i in range(len(route) - 1):\n",
        "        city_a = route[i]\n",
        "        city_b = route[i + 1]\n",
        "        total += distance_matrix[city_a, city_b]\n",
        "    return total\n",
        "\n",
        "def generate_neighbor(route):\n",
        "    new_route = route.copy()\n",
        "    index_a = random.randint(0, len(route) - 1)\n",
        "    index_b = random.randint(0, len(route) - 1)\n",
        "    new_route[index_a], new_route[index_b] = new_route[index_b], new_route[index_a]\n",
        "    return new_route\n",
        "\n",
        "def acceptance_probability(current_distance, new_distance, temperature):\n",
        "    if new_distance < current_distance:\n",
        "        return 1.0\n",
        "    else:\n",
        "        return math.exp((current_distance - new_distance) / temperature)"
      ]
    },
    {
      "cell_type": "code",
      "execution_count": 449,
      "metadata": {},
      "outputs": [],
      "source": [
        "def simulated_annealing(cities, initial_temperature = 1000, cooling_rate=0.90, iterations=1000):\n",
        "    \n",
        "    cities = cities.to_numpy()\n",
        "    num_cities = len(cities)\n",
        "    distance_matrix = np.zeros((num_cities, num_cities))\n",
        "\n",
        "    for i in range(num_cities):\n",
        "        for j in range(num_cities):\n",
        "            distance_matrix[i, j] = calculate_distance(cities[i], cities[j])\n",
        "\n",
        "    current_route = np.arange(num_cities)\n",
        "    best_route = current_route.copy()\n",
        "\n",
        "    current_distance = total_distance(current_route, distance_matrix)\n",
        "    best_distance = current_distance\n",
        "\n",
        "    temperature = initial_temperature\n",
        "\n",
        "    #-----------------------------------------------\n",
        "    iteration_list = []\n",
        "    best_distances = []\n",
        "    distance_list  = []\n",
        "    accept_p_list  = []\n",
        "    temperat_list  = []\n",
        "    #-----------------------------------------------\n",
        "\n",
        "    for iteration in range(iterations):\n",
        "        new_route = generate_neighbor(current_route)\n",
        "        new_distance = total_distance(new_route, distance_matrix)\n",
        "\n",
        "        acceptance_prob = acceptance_probability(current_distance, new_distance, temperature)\n",
        "\n",
        "        #print(acceptance_prob)\n",
        "\n",
        "        if random.random() < acceptance_prob:\n",
        "            current_route = new_route\n",
        "            current_distance = new_distance\n",
        "\n",
        "        if new_distance < best_distance:\n",
        "            best_route = new_route\n",
        "            best_distance = new_distance\n",
        "\n",
        "        temperature *= cooling_rate\n",
        "\n",
        "        #-----------------------------------------------\n",
        "        iteration_list += [iteration]\n",
        "        best_distances += [best_distance]\n",
        "        distance_list  += [current_distance]\n",
        "        accept_p_list  += [acceptance_prob]\n",
        "        temperat_list  += [temperature]\n",
        "\n",
        "        #-----------------------------------------------\n",
        "        \n",
        "\n",
        "    # plt.show()\n",
        "    \n",
        "    best_route = ['A' + str(num) for num in best_route]\n",
        "    history = [best_route,{\n",
        "        'iteration_list': iteration_list,\n",
        "        'best_distances': best_distance,\n",
        "        'distance_list': current_distance,\n",
        "        'accept_p_list': accept_p_list,\n",
        "        'temperature': temperature\n",
        "    }]\n",
        "    return best_distance, best_route, history"
      ]
    },
    {
      "attachments": {},
      "cell_type": "markdown",
      "metadata": {},
      "source": [
        "### Genetic Algorithm"
      ]
    },
    {
      "cell_type": "code",
      "execution_count": 450,
      "metadata": {},
      "outputs": [],
      "source": [
        "\n",
        "def calcular_distancia(cidade1, cidade2):\n",
        "    return np.linalg.norm(cidade1 - cidade2)\n",
        "\n",
        "def distancia_total(rota, matriz_distancias):\n",
        "    num_cidades = len(rota)\n",
        "    distancia_total = 0\n",
        "    for i in range(num_cidades):\n",
        "        cidade_atual = rota[i]\n",
        "        proxima_cidade = rota[(i + 1) % num_cidades]\n",
        "        distancia_total += matriz_distancias[cidade_atual, proxima_cidade]\n",
        "    return distancia_total\n",
        "\n",
        "def gerar_vizinho(rota):\n",
        "    num_cidades = len(rota)\n",
        "    nova_rota = rota.copy()\n",
        "    indice1 = random.randint(0, num_cidades - 1)\n",
        "    indice2 = random.randint(0, num_cidades - 1)\n",
        "    nova_rota[indice1], nova_rota[indice2] = nova_rota[indice2], nova_rota[indice1]\n",
        "    return nova_rota\n",
        "\n",
        "def crossover_ox(pai1, pai2):\n",
        "    num_genes = len(pai1)\n",
        "    pontos_corte = sorted(random.sample(range(num_genes), 2))\n",
        "    filho = [-1] * num_genes\n",
        "    \n",
        "    filho[pontos_corte[0]:pontos_corte[1]+1] = pai1[pontos_corte[0]:pontos_corte[1]+1]\n",
        "    \n",
        "    j = (pontos_corte[1] + 1) % num_genes\n",
        "    for i in range(num_genes):\n",
        "        if pai2[i] not in filho:\n",
        "            filho[j] = pai2[i]\n",
        "            j = (j + 1) % num_genes\n",
        "    \n",
        "    return filho\n",
        "\n",
        "def probabilidade_aceitacao(distancia_atual, nova_distancia, temperatura):\n",
        "    if nova_distancia < distancia_atual:\n",
        "        return 1.0\n",
        "    return math.exp((distancia_atual - nova_distancia) / temperatura)\n",
        "\n",
        "def algoritmo_genetico(cidades):\n",
        "    tamanho_populacao=100\n",
        "    num_geracoes=1000\n",
        "    history = []\n",
        "    cidades = cidades.to_numpy()\n",
        "    num_cidades = len(cidades)\n",
        "    matriz_distancias = np.zeros((num_cidades, num_cidades))\n",
        "\n",
        "    for i in range(num_cidades):\n",
        "        for j in range(num_cidades):\n",
        "            matriz_distancias[i, j] = calcular_distancia(cidades[i], cidades[j])\n",
        "\n",
        "    populacao = [np.random.permutation(num_cidades) for _ in range(tamanho_populacao)]\n",
        "\n",
        "    melhor_rota = populacao[0]\n",
        "    melhor_distancia = distancia_total(melhor_rota, matriz_distancias)\n",
        "\n",
        "    for _ in range(num_geracoes):\n",
        "        descendentes = []\n",
        "        for _ in range(tamanho_populacao):\n",
        "            pai1, pai2 = random.choices(populacao, k=2)\n",
        "            filho = crossover_ox(pai1, pai2)\n",
        "            descendentes.append(filho)\n",
        "\n",
        "        populacao = descendentes\n",
        "\n",
        "        for rota in populacao:\n",
        "            distancia = distancia_total(rota, matriz_distancias)\n",
        "            if distancia < melhor_distancia:\n",
        "                melhor_rota = rota\n",
        "                melhor_distancia = distancia\n",
        "                history.append(melhor_rota)\n",
        "\n",
        "    melhor_rota = ['A' + str(num) for num in melhor_rota]\n",
        "    return melhor_distancia, melhor_rota, history\n",
        "\n",
        "\n",
        "\n"
      ]
    },
    {
      "attachments": {},
      "cell_type": "markdown",
      "metadata": {
        "id": "AMaHZiqcf6_h"
      },
      "source": [
        "### Cálculo da Matriz de Distâncias"
      ]
    },
    {
      "cell_type": "code",
      "execution_count": 451,
      "metadata": {
        "id": "FmDVvyLOnVGL"
      },
      "outputs": [],
      "source": [
        "from math import sqrt"
      ]
    },
    {
      "cell_type": "code",
      "execution_count": 452,
      "metadata": {
        "id": "vbf9PTKKnGLV"
      },
      "outputs": [],
      "source": [
        "# distancia Euclidiana entre dois pontos\n",
        "def distancia(x1,y1,x2,y2):\n",
        "    dx = x2 - x1\n",
        "    dy = y2 - y1\n",
        "    return sqrt(dx**2 + dy**2)"
      ]
    },
    {
      "cell_type": "code",
      "execution_count": 453,
      "metadata": {
        "id": "TdPbzlcHkkdH"
      },
      "outputs": [],
      "source": [
        "# Calcula matriz de distancias.\n",
        "#\n",
        "# OBS:  Não é estritamente necessario calculá-las a priori.\n",
        "#       Foi feito assim apenas para fins didáticos.\n",
        "#       Ao invés, as distâncias podem ser calculadas sob demanda.\n",
        "\n",
        "def gera_matriz_distancias(Coordenadas):\n",
        "\n",
        "    n_cidades = len(Coordenadas)\n",
        "    dist = np.zeros((n_cidades,n_cidades), dtype=float)\n",
        "\n",
        "    for i in range(0, n_cidades):\n",
        "        for j in range(i+1, n_cidades):\n",
        "            x1,y1 = Coordenadas.iloc[i]\n",
        "            x2,y2 = Coordenadas.iloc[j]\n",
        "\n",
        "            dist[i,j] = distancia(x1,y1,x2,y2)\n",
        "            dist[j,i] = dist[i,j]\n",
        "\n",
        "    return dist"
      ]
    },
    {
      "attachments": {},
      "cell_type": "markdown",
      "metadata": {
        "id": "cQ6Q4b9Fy89O"
      },
      "source": [
        "### Gerador de Problemas Aleatórios"
      ]
    },
    {
      "cell_type": "code",
      "execution_count": 454,
      "metadata": {
        "id": "zZgIg5fWjKBO"
      },
      "outputs": [],
      "source": [
        "# Gera aleatoriamente as coordenadas de N cidades.\n",
        "# Obs: esta informação geralmente é fornecida como entrada do problema.\n",
        "\n",
        "def gera_coordenadas_aleatorias(n_cidades):\n",
        "    minimo = 10\n",
        "    maximo = 90\n",
        "    escala = (maximo-minimo)-1\n",
        "\n",
        "    # gera n coordenadas (x,y) aleatorias entre [min, max]\n",
        "    X = minimo + escala * np.random.rand(n_cidades)\n",
        "    Y = minimo + escala * np.random.rand(n_cidades)\n",
        "    coordenadas = {'X':X, 'Y': Y}\n",
        "\n",
        "    cidades = ['A'+str(i) for i in range(n_cidades)]\n",
        "\n",
        "    df_cidades = pd.DataFrame(coordenadas, index=cidades)\n",
        "    df_cidades.index.name = 'CIDADE'\n",
        "\n",
        "    return df_cidades\n"
      ]
    },
    {
      "cell_type": "code",
      "execution_count": 455,
      "metadata": {
        "id": "Skb8aRVerxrW"
      },
      "outputs": [],
      "source": [
        "# Recebe uma lista com as coordenadas reais de uma cidade e\n",
        "# gera uma matriz de distancias entre as cidades.\n",
        "# Obs: a matriz é simetrica e com diagonal nula\n",
        "def gera_problema_tsp(df_cidades):\n",
        "    # nomes ficticios das cidades\n",
        "    cidades = df_cidades.index\n",
        "\n",
        "    # calcula matriz de distancias\n",
        "    distancias = gera_matriz_distancias(df_cidades)\n",
        "\n",
        "    # cria estrutura para armazena as distâncias entre todas as cidades\n",
        "    tsp = pd.DataFrame(distancias, columns=cidades, index=cidades)\n",
        "\n",
        "    return tsp"
      ]
    },
    {
      "attachments": {},
      "cell_type": "markdown",
      "metadata": {
        "id": "pyWu6gBtSBmd"
      },
      "source": [
        "### Plota Rotas"
      ]
    },
    {
      "cell_type": "code",
      "execution_count": 456,
      "metadata": {
        "id": "M8R9R8COYWvZ"
      },
      "outputs": [],
      "source": [
        "# Plota a solução do roteamento das cidades\n",
        "# usando a biblioteca PLOTLY\n",
        "def plota_rotas(df_cidades, ordem_cidades):\n",
        "    df_solucao = df_cidades.copy()\n",
        "    df_solucao = df_solucao.reindex(ordem_cidades)\n",
        "\n",
        "    X = df_solucao['X']\n",
        "    Y = df_solucao['Y']\n",
        "    cidades = list(df_solucao.index)\n",
        "\n",
        "    # cria objeto gráfico\n",
        "    fig = go.Figure()\n",
        "\n",
        "    fig.update_layout(autosize=False, width=500, height=500, showlegend=False)\n",
        "\n",
        "    # gera linhas com as rotas da primeira ate a ultima cidade\n",
        "    fig.add_trace(go.Scatter(x=X, y=Y,\n",
        "                             text=cidades, textposition='bottom center',\n",
        "                             mode='lines+markers+text',\n",
        "                             name=''))\n",
        "\n",
        "    # acrescenta linha da última para a primeira para fechar o ciclo\n",
        "    fig.add_trace(go.Scatter(x=X.iloc[[-1,0]], y=Y.iloc[[-1,0]],\n",
        "                             mode='lines+markers', name=''))\n",
        "\n",
        "    fig.show()"
      ]
    },
    {
      "attachments": {},
      "cell_type": "markdown",
      "metadata": {
        "id": "AbPTkNOk3rg0"
      },
      "source": [
        "### Boxplots"
      ]
    },
    {
      "cell_type": "code",
      "execution_count": 457,
      "metadata": {
        "id": "TSg7XCawEMsw"
      },
      "outputs": [],
      "source": [
        "def boxplot_sorted(df, rot=90, figsize=(12,6), fontsize=20):\n",
        "    df2 = df.T\n",
        "    meds = df2.median().sort_values(ascending=False)\n",
        "    axes = df2[meds.index].boxplot(figsize=figsize, rot=rot, fontsize=fontsize,\n",
        "                                   boxprops=dict(linewidth=4, color='cornflowerblue'),\n",
        "                                   whiskerprops=dict(linewidth=4, color='cornflowerblue'),\n",
        "                                   medianprops=dict(linewidth=4, color='firebrick'),\n",
        "                                   capprops=dict(linewidth=4, color='cornflowerblue'),\n",
        "                                   flierprops=dict(marker='o', markerfacecolor='dimgray',\n",
        "                                        markersize=12, markeredgecolor='black'),\n",
        "                                   return_type=\"axes\")\n",
        "\n",
        "    axes.set_title(\"Cost of Algorithms\", fontsize=fontsize)"
      ]
    },
    {
      "attachments": {},
      "cell_type": "markdown",
      "metadata": {
        "id": "f2jeWvnrzL7F"
      },
      "source": [
        "## Execução"
      ]
    },
    {
      "attachments": {},
      "cell_type": "markdown",
      "metadata": {
        "id": "41bEisx8zgNO"
      },
      "source": [
        "### Executa 1 vez"
      ]
    },
    {
      "cell_type": "code",
      "execution_count": 458,
      "metadata": {
        "colab": {
          "base_uri": "https://localhost:8080/",
          "height": 394
        },
        "id": "2GtKI8xbECbg",
        "outputId": "bb3a5b3e-f599-4bee-99ea-005a3184e64d"
      },
      "outputs": [
        {
          "data": {
            "text/html": [
              "<div>\n",
              "<style scoped>\n",
              "    .dataframe tbody tr th:only-of-type {\n",
              "        vertical-align: middle;\n",
              "    }\n",
              "\n",
              "    .dataframe tbody tr th {\n",
              "        vertical-align: top;\n",
              "    }\n",
              "\n",
              "    .dataframe thead th {\n",
              "        text-align: right;\n",
              "    }\n",
              "</style>\n",
              "<table border=\"1\" class=\"dataframe\">\n",
              "  <thead>\n",
              "    <tr style=\"text-align: right;\">\n",
              "      <th></th>\n",
              "      <th>X</th>\n",
              "      <th>Y</th>\n",
              "    </tr>\n",
              "    <tr>\n",
              "      <th>CIDADE</th>\n",
              "      <th></th>\n",
              "      <th></th>\n",
              "    </tr>\n",
              "  </thead>\n",
              "  <tbody>\n",
              "    <tr>\n",
              "      <th>A0</th>\n",
              "      <td>15.949499</td>\n",
              "      <td>41.044902</td>\n",
              "    </tr>\n",
              "    <tr>\n",
              "      <th>A1</th>\n",
              "      <td>59.332326</td>\n",
              "      <td>31.904361</td>\n",
              "    </tr>\n",
              "    <tr>\n",
              "      <th>A2</th>\n",
              "      <td>44.759579</td>\n",
              "      <td>76.966998</td>\n",
              "    </tr>\n",
              "    <tr>\n",
              "      <th>A3</th>\n",
              "      <td>70.378545</td>\n",
              "      <td>29.723792</td>\n",
              "    </tr>\n",
              "    <tr>\n",
              "      <th>A4</th>\n",
              "      <td>54.979947</td>\n",
              "      <td>47.049359</td>\n",
              "    </tr>\n",
              "    <tr>\n",
              "      <th>A5</th>\n",
              "      <td>80.417533</td>\n",
              "      <td>86.478742</td>\n",
              "    </tr>\n",
              "    <tr>\n",
              "      <th>A6</th>\n",
              "      <td>72.570100</td>\n",
              "      <td>46.915417</td>\n",
              "    </tr>\n",
              "    <tr>\n",
              "      <th>A7</th>\n",
              "      <td>84.931852</td>\n",
              "      <td>65.041568</td>\n",
              "    </tr>\n",
              "    <tr>\n",
              "      <th>A8</th>\n",
              "      <td>39.518028</td>\n",
              "      <td>54.784007</td>\n",
              "    </tr>\n",
              "    <tr>\n",
              "      <th>A9</th>\n",
              "      <td>72.566414</td>\n",
              "      <td>33.314579</td>\n",
              "    </tr>\n",
              "  </tbody>\n",
              "</table>\n",
              "</div>"
            ],
            "text/plain": [
              "                X          Y\n",
              "CIDADE                      \n",
              "A0      15.949499  41.044902\n",
              "A1      59.332326  31.904361\n",
              "A2      44.759579  76.966998\n",
              "A3      70.378545  29.723792\n",
              "A4      54.979947  47.049359\n",
              "A5      80.417533  86.478742\n",
              "A6      72.570100  46.915417\n",
              "A7      84.931852  65.041568\n",
              "A8      39.518028  54.784007\n",
              "A9      72.566414  33.314579"
            ]
          },
          "execution_count": 458,
          "metadata": {},
          "output_type": "execute_result"
        }
      ],
      "source": [
        "# Simula a criação de N cidades\n",
        "# com suas respectivas distâncias\n",
        "\n",
        "n_cidades=10\n",
        "df_coordenadas = gera_coordenadas_aleatorias(n_cidades)\n",
        "df_coordenadas"
      ]
    },
    {
      "cell_type": "code",
      "execution_count": 459,
      "metadata": {
        "colab": {
          "base_uri": "https://localhost:8080/",
          "height": 517
        },
        "id": "xrzuCOtFqSap",
        "outputId": "724fcdaa-f510-42d7-ef79-9c42c79e972b"
      },
      "outputs": [],
      "source": [
        "# solucao = ['A'+str(i) for i in range(n_cidades)]\n",
        "# solucao\n",
        "# plota_rotas(df_coordenadas, solucao)"
      ]
    },
    {
      "cell_type": "code",
      "execution_count": 460,
      "metadata": {},
      "outputs": [],
      "source": [
        "# print(df_coordenadas.to_numpy())"
      ]
    },
    {
      "cell_type": "code",
      "execution_count": 461,
      "metadata": {},
      "outputs": [
        {
          "name": "stdout",
          "output_type": "stream",
          "text": [
            "Melhor solução encontrada:\n",
            "['A12', 'A0', 'A13', 'A17', 'A8', 'A18', 'A5', 'A1', 'A15', 'A4', 'A3', 'A7', 'A11', 'A2', 'A10', 'A6', 'A9', 'A14', 'A16', 'A19']\n",
            "Distância total da rota: 1505.1233881816781\n",
            "1505.123    ['A12', 'A0', 'A13', 'A17', 'A8', 'A18', 'A5', 'A1', 'A15', 'A4', 'A3', 'A7', 'A11', 'A2', 'A10', 'A6', 'A9', 'A14', 'A16', 'A19']\n"
          ]
        }
      ],
      "source": [
        "\n",
        "custo, solucao, history = algoritmo_genetico(tsp)\n",
        "\n",
        "\n",
        "print(\"Melhor solução encontrada:\")\n",
        "print(solucao)\n",
        "print(\"Distância total da rota:\", custo)\n",
        "print(f'{custo:7.3f}    {solucao}')\n",
        "\n",
        "# plota_rotas(df_coordenadas, solucao)"
      ]
    },
    {
      "cell_type": "code",
      "execution_count": 462,
      "metadata": {},
      "outputs": [],
      "source": [
        "\n",
        "# # num_cities = 20\n",
        "# # population_size = 100\n",
        "# # num_generations = 1000\n",
        "\n",
        "# best_solution, best_value = genetic_algorithm(df_coordenadas)\n",
        "\n",
        "# print(\"Melhor solução encontrada:\")\n",
        "# print(best_solution)\n",
        "# print(\"Distância total da rota:\", best_value)"
      ]
    },
    {
      "cell_type": "code",
      "execution_count": 463,
      "metadata": {
        "colab": {
          "base_uri": "https://localhost:8080/",
          "height": 535
        },
        "id": "MjAVYZjLpgT1",
        "outputId": "b2673440-9e7d-4a7d-fbb8-03572a9a86cc"
      },
      "outputs": [],
      "source": [
        "# solucao = solucao_aleatoria(tsp)\n",
        "# print(solucao)\n",
        "# plota_rotas(df_coordenadas, solucao)"
      ]
    },
    {
      "cell_type": "code",
      "execution_count": null,
      "metadata": {
        "colab": {
          "base_uri": "https://localhost:8080/",
          "height": 535
        },
        "id": "QFrhV9EG-ow5",
        "outputId": "59026f7a-7220-4868-9ecc-2829cacbe8b5"
      },
      "outputs": [],
      "source": [
        "# # busca local da melhor solução e o seu custo\n",
        "# custo, solucao = simulated_annealing(cities=tsp)\n",
        "# # print(custo, solucao)\n",
        "# print(f'{custo:7.3f}    {solucao}')\n",
        "\n",
        "# plota_rotas(df_coordenadas, solucao)"
      ]
    },
    {
      "cell_type": "code",
      "execution_count": null,
      "metadata": {},
      "outputs": [],
      "source": [
        "# # busca local da melhor solução e o seu custo\n",
        "# custo, solucao = hill_climbing_restart(tsp,10)\n",
        "\n",
        "# print(f'{custo:7.3f}    {solucao}')\n",
        "\n",
        "# plota_rotas(df_coordenadas, solucao)"
      ]
    },
    {
      "cell_type": "code",
      "execution_count": null,
      "metadata": {
        "colab": {
          "base_uri": "https://localhost:8080/",
          "height": 1000
        },
        "id": "BRNaZ7DTXHmk",
        "outputId": "38ada615-fce2-492e-c2be-b9e149fe7212"
      },
      "outputs": [],
      "source": [
        "# for _ in range(10):\n",
        "#     custo, solucao = hill_climbing(tsp)\n",
        "\n",
        "#     print(f'{custo:7.3f}    {solucao}')\n",
        "\n",
        "#     plota_rotas(df_coordenadas, solucao)"
      ]
    },
    {
      "attachments": {},
      "cell_type": "markdown",
      "metadata": {
        "id": "bpcupmGDzWD2"
      },
      "source": [
        "### Executa N vezes - SIMPLES"
      ]
    },
    {
      "cell_type": "code",
      "execution_count": null,
      "metadata": {
        "colab": {
          "base_uri": "https://localhost:8080/"
        },
        "id": "hjXxmNan_x-n",
        "outputId": "e2a6b304-ea44-4329-c8b9-8ef3eda55ff5"
      },
      "outputs": [],
      "source": [
        "# # Executando várias vezes de forma simples\n",
        "\n",
        "# n_vezes = 30\n",
        "\n",
        "# for _ in range(n_vezes):\n",
        "\n",
        "#     #solucao, custo = random_walk(tsp)\n",
        "#     custo, solucao = hill_climbing(tsp)\n",
        "#     print(f'{custo:7.3f}, {solucao}')"
      ]
    },
    {
      "attachments": {},
      "cell_type": "markdown",
      "metadata": {
        "id": "u4CbP9XSC9yl"
      },
      "source": [
        "Observe que há uma certa variabilidade na soluções acima. Isto se deve à característica estocástica do algoritmo de solução.\n",
        "\n",
        "---"
      ]
    },
    {
      "attachments": {},
      "cell_type": "markdown",
      "metadata": {
        "id": "uAVU-utFPjJW"
      },
      "source": [
        "### Executa N vezes - ESTRUTURADA com DataFrame"
      ]
    },
    {
      "attachments": {},
      "cell_type": "markdown",
      "metadata": {
        "id": "vrJW-qKYAbuV"
      },
      "source": [
        "A seguir, é apresentada uma forma mais estruturada de se rodar várias vezes usando a estrutura de dados **`DataFrame`** para armazenar os resultados e permitir visualização de box-plots"
      ]
    },
    {
      "cell_type": "code",
      "execution_count": null,
      "metadata": {
        "id": "qGO9EkOO6qko"
      },
      "outputs": [],
      "source": [
        "# Cria estruta de dados (DataFrame) para armazenar vários resultados\n",
        "# diferentes e visualizá-los através de estatísticas\n",
        "\n",
        "def cria_df_custos(algoritmos, n_vezes):\n",
        "\n",
        "    nomes_algoritmos  = algoritmos.keys()\n",
        "\n",
        "    n_lin = len(nomes_algoritmos)\n",
        "    n_col = n_vezes\n",
        "\n",
        "    df_results = pd.DataFrame(np.zeros((n_lin,n_col)),\n",
        "                              index=nomes_algoritmos)\n",
        "    df_results.index.name='ALGORITMO'\n",
        "\n",
        "    return df_results"
      ]
    },
    {
      "cell_type": "code",
      "execution_count": null,
      "metadata": {
        "id": "mpXDxZXWDfMu"
      },
      "outputs": [],
      "source": [
        "# Executa N vezes para gerar estatísticas da variável custo\n",
        "def executa_n_vezes(tsp, algoritmos, n_vezes):\n",
        "\n",
        "    # Cria DataFrame para armazenar os resultados\n",
        "    df_custo = cria_df_custos(algoritmos, n_vezes)\n",
        "    df_history = pd.DataFrame(columns=algoritmos.keys())\n",
        "    df_simulated_annealing = pd.DataFrame()\n",
        "    for algoritmo, funcao_algoritmo in algoritmos.items():\n",
        "\n",
        "        print(algoritmo)\n",
        "\n",
        "        for i in range(n_vezes):\n",
        "            df = None\n",
        "            # if algoritmo != 'Genetic Algorithm':\n",
        "            custo, solucao, historico = funcao_algoritmo(tsp)\n",
        "            if len(historico)==2:\n",
        "               \n",
        "                df  = pd.DataFrame([historico[1]], columns=historico[1].keys())\n",
        "                df_simulated_annealing = pd.concat([df_simulated_annealing, df], axis =0).reset_index(drop=True)\n",
        "                # try:\n",
        "                #     df_simulated_annealing.append(historico[1], ignore_index=True) \n",
        "                # except:\n",
        "                #     print('error')   \n",
        "            df_custo.loc[algoritmo,i] = custo\n",
        "     \n",
        "            # else:\n",
        "                # custo, solucao = funcao_algoritmo(df_coord)\n",
        "                # df_custo.loc[algoritmo,i] = custo\n",
        "\n",
        "            print(f'{custo:10.3f}  {solucao}')\n",
        "\n",
        "    return df_custo, df_history, df_simulated_annealing"
      ]
    },
    {
      "cell_type": "code",
      "execution_count": null,
      "metadata": {},
      "outputs": [],
      "source": [
        "# Dicionario com Nomes dos modelos e suas respectivas variantes\n",
        "# Tuple: (Algoritmo, Variante): funcao_algoritmo\n",
        "algoritmos = {\n",
        "    \n",
        "    'Hill-Climbing': hill_climbing,\n",
        "    'Hill-Climbing Restart': hill_climbing_restart,\n",
        "    'Simulated Annealing': simulated_annealing,\n",
        "    'Genetic Algorithm': algoritmo_genetico,\n",
        "}"
      ]
    },
    {
      "attachments": {},
      "cell_type": "markdown",
      "metadata": {
        "id": "LxUqvfnrxaPT"
      },
      "source": [
        "#### PROBLEMA GERADO ALEATORIAMENTE"
      ]
    },
    {
      "cell_type": "code",
      "execution_count": null,
      "metadata": {
        "colab": {
          "base_uri": "https://localhost:8080/"
        },
        "id": "Beih4wDh9iSI",
        "outputId": "b3a8ff48-a43e-497d-f404-9cfa7c130173"
      },
      "outputs": [
        {
          "name": "stdout",
          "output_type": "stream",
          "text": [
            "Simulated Annealing\n",
            "<class 'dict'>\n",
            "histórico ['A9', 'A6', 'A0', 'A12', 'A13', 'A8', 'A16', 'A18', 'A11', 'A17', 'A10', 'A2', 'A7', 'A4', 'A3', 'A5', 'A15', 'A1', 'A19', 'A14']\n",
            "  1216.715  ['A9', 'A6', 'A0', 'A12', 'A13', 'A8', 'A16', 'A18', 'A11', 'A17', 'A10', 'A2', 'A7', 'A4', 'A3', 'A5', 'A15', 'A1', 'A19', 'A14']\n",
            "<class 'dict'>\n",
            "histórico ['A10', 'A2', 'A3', 'A4', 'A7', 'A17', 'A12', 'A11', 'A18', 'A5', 'A9', 'A6', 'A0', 'A13', 'A8', 'A14', 'A19', 'A1', 'A15', 'A16']\n",
            "  1281.703  ['A10', 'A2', 'A3', 'A4', 'A7', 'A17', 'A12', 'A11', 'A18', 'A5', 'A9', 'A6', 'A0', 'A13', 'A8', 'A14', 'A19', 'A1', 'A15', 'A16']\n",
            "<class 'dict'>\n",
            "histórico ['A18', 'A5', 'A19', 'A1', 'A15', 'A16', 'A11', 'A7', 'A17', 'A12', 'A0', 'A13', 'A8', 'A14', 'A9', 'A6', 'A10', 'A2', 'A4', 'A3']\n",
            "  1265.973  ['A18', 'A5', 'A19', 'A1', 'A15', 'A16', 'A11', 'A7', 'A17', 'A12', 'A0', 'A13', 'A8', 'A14', 'A9', 'A6', 'A10', 'A2', 'A4', 'A3']\n",
            "<class 'dict'>\n",
            "histórico ['A18', 'A11', 'A3', 'A4', 'A7', 'A2', 'A10', 'A17', 'A12', 'A0', 'A8', 'A13', 'A6', 'A9', 'A14', 'A19', 'A1', 'A15', 'A16', 'A5']\n",
            "   836.443  ['A18', 'A11', 'A3', 'A4', 'A7', 'A2', 'A10', 'A17', 'A12', 'A0', 'A8', 'A13', 'A6', 'A9', 'A14', 'A19', 'A1', 'A15', 'A16', 'A5']\n",
            "<class 'dict'>\n",
            "histórico ['A12', 'A17', 'A2', 'A10', 'A6', 'A9', 'A14', 'A19', 'A1', 'A15', 'A16', 'A5', 'A18', 'A11', 'A3', 'A4', 'A7', 'A8', 'A13', 'A0']\n",
            "   927.207  ['A12', 'A17', 'A2', 'A10', 'A6', 'A9', 'A14', 'A19', 'A1', 'A15', 'A16', 'A5', 'A18', 'A11', 'A3', 'A4', 'A7', 'A8', 'A13', 'A0']\n",
            "<class 'dict'>\n",
            "histórico ['A0', 'A12', 'A13', 'A8', 'A11', 'A18', 'A16', 'A15', 'A1', 'A5', 'A3', 'A4', 'A7', 'A2', 'A10', 'A17', 'A6', 'A9', 'A14', 'A19']\n",
            "  1091.771  ['A0', 'A12', 'A13', 'A8', 'A11', 'A18', 'A16', 'A15', 'A1', 'A5', 'A3', 'A4', 'A7', 'A2', 'A10', 'A17', 'A6', 'A9', 'A14', 'A19']\n",
            "<class 'dict'>\n",
            "histórico ['A11', 'A3', 'A4', 'A7', 'A2', 'A10', 'A17', 'A1', 'A15', 'A16', 'A18', 'A5', 'A19', 'A14', 'A9', 'A6', 'A0', 'A12', 'A13', 'A8']\n",
            "  1058.074  ['A11', 'A3', 'A4', 'A7', 'A2', 'A10', 'A17', 'A1', 'A15', 'A16', 'A18', 'A5', 'A19', 'A14', 'A9', 'A6', 'A0', 'A12', 'A13', 'A8']\n",
            "<class 'dict'>\n",
            "histórico ['A14', 'A19', 'A16', 'A7', 'A4', 'A3', 'A11', 'A18', 'A5', 'A2', 'A10', 'A17', 'A13', 'A8', 'A15', 'A1', 'A9', 'A6', 'A0', 'A12']\n",
            "  1160.761  ['A14', 'A19', 'A16', 'A7', 'A4', 'A3', 'A11', 'A18', 'A5', 'A2', 'A10', 'A17', 'A13', 'A8', 'A15', 'A1', 'A9', 'A6', 'A0', 'A12']\n",
            "<class 'dict'>\n",
            "histórico ['A1', 'A15', 'A16', 'A18', 'A11', 'A3', 'A5', 'A19', 'A14', 'A9', 'A6', 'A0', 'A17', 'A12', 'A13', 'A8', 'A4', 'A7', 'A2', 'A10']\n",
            "  1137.373  ['A1', 'A15', 'A16', 'A18', 'A11', 'A3', 'A5', 'A19', 'A14', 'A9', 'A6', 'A0', 'A17', 'A12', 'A13', 'A8', 'A4', 'A7', 'A2', 'A10']\n",
            "<class 'dict'>\n",
            "histórico ['A5', 'A18', 'A11', 'A3', 'A4', 'A7', 'A12', 'A13', 'A8', 'A1', 'A15', 'A16', 'A2', 'A10', 'A17', 'A0', 'A6', 'A9', 'A14', 'A19']\n",
            "  1086.542  ['A5', 'A18', 'A11', 'A3', 'A4', 'A7', 'A12', 'A13', 'A8', 'A1', 'A15', 'A16', 'A2', 'A10', 'A17', 'A0', 'A6', 'A9', 'A14', 'A19']\n",
            "<class 'dict'>\n",
            "histórico ['A12', 'A13', 'A8', 'A18', 'A11', 'A3', 'A4', 'A7', 'A16', 'A15', 'A19', 'A1', 'A0', 'A17', 'A2', 'A10', 'A6', 'A9', 'A14', 'A5']\n",
            "  1166.622  ['A12', 'A13', 'A8', 'A18', 'A11', 'A3', 'A4', 'A7', 'A16', 'A15', 'A19', 'A1', 'A0', 'A17', 'A2', 'A10', 'A6', 'A9', 'A14', 'A5']\n",
            "<class 'dict'>\n",
            "histórico ['A0', 'A12', 'A7', 'A4', 'A3', 'A11', 'A18', 'A5', 'A8', 'A13', 'A17', 'A2', 'A10', 'A6', 'A9', 'A14', 'A19', 'A1', 'A15', 'A16']\n",
            "  1031.873  ['A0', 'A12', 'A7', 'A4', 'A3', 'A11', 'A18', 'A5', 'A8', 'A13', 'A17', 'A2', 'A10', 'A6', 'A9', 'A14', 'A19', 'A1', 'A15', 'A16']\n",
            "<class 'dict'>\n",
            "histórico ['A14', 'A19', 'A15', 'A1', 'A8', 'A13', 'A12', 'A17', 'A2', 'A10', 'A0', 'A6', 'A9', 'A7', 'A4', 'A3', 'A11', 'A18', 'A5', 'A16']\n",
            "  1095.081  ['A14', 'A19', 'A15', 'A1', 'A8', 'A13', 'A12', 'A17', 'A2', 'A10', 'A0', 'A6', 'A9', 'A7', 'A4', 'A3', 'A11', 'A18', 'A5', 'A16']\n",
            "<class 'dict'>\n",
            "histórico ['A15', 'A16', 'A18', 'A11', 'A3', 'A5', 'A6', 'A9', 'A14', 'A19', 'A1', 'A17', 'A10', 'A2', 'A7', 'A4', 'A8', 'A13', 'A12', 'A0']\n",
            "  1211.111  ['A15', 'A16', 'A18', 'A11', 'A3', 'A5', 'A6', 'A9', 'A14', 'A19', 'A1', 'A17', 'A10', 'A2', 'A7', 'A4', 'A8', 'A13', 'A12', 'A0']\n",
            "<class 'dict'>\n",
            "histórico ['A19', 'A1', 'A15', 'A16', 'A7', 'A4', 'A3', 'A5', 'A14', 'A9', 'A6', 'A8', 'A13', 'A0', 'A12', 'A17', 'A10', 'A2', 'A11', 'A18']\n",
            "  1044.429  ['A19', 'A1', 'A15', 'A16', 'A7', 'A4', 'A3', 'A5', 'A14', 'A9', 'A6', 'A8', 'A13', 'A0', 'A12', 'A17', 'A10', 'A2', 'A11', 'A18']\n",
            "<class 'dict'>\n",
            "histórico ['A14', 'A19', 'A5', 'A4', 'A3', 'A7', 'A8', 'A13', 'A0', 'A12', 'A17', 'A10', 'A2', 'A18', 'A11', 'A16', 'A15', 'A1', 'A6', 'A9']\n",
            "  1051.096  ['A14', 'A19', 'A5', 'A4', 'A3', 'A7', 'A8', 'A13', 'A0', 'A12', 'A17', 'A10', 'A2', 'A18', 'A11', 'A16', 'A15', 'A1', 'A6', 'A9']\n",
            "<class 'dict'>\n",
            "histórico ['A3', 'A4', 'A7', 'A2', 'A10', 'A17', 'A19', 'A1', 'A15', 'A16', 'A11', 'A18', 'A5', 'A14', 'A9', 'A6', 'A8', 'A13', 'A12', 'A0']\n",
            "  1085.414  ['A3', 'A4', 'A7', 'A2', 'A10', 'A17', 'A19', 'A1', 'A15', 'A16', 'A11', 'A18', 'A5', 'A14', 'A9', 'A6', 'A8', 'A13', 'A12', 'A0']\n",
            "<class 'dict'>\n",
            "histórico ['A6', 'A9', 'A14', 'A1', 'A15', 'A16', 'A8', 'A13', 'A0', 'A12', 'A17', 'A10', 'A2', 'A7', 'A4', 'A3', 'A11', 'A18', 'A5', 'A19']\n",
            "   873.832  ['A6', 'A9', 'A14', 'A1', 'A15', 'A16', 'A8', 'A13', 'A0', 'A12', 'A17', 'A10', 'A2', 'A7', 'A4', 'A3', 'A11', 'A18', 'A5', 'A19']\n",
            "<class 'dict'>\n",
            "histórico ['A0', 'A12', 'A4', 'A3', 'A7', 'A2', 'A10', 'A17', 'A16', 'A15', 'A1', 'A6', 'A13', 'A8', 'A11', 'A18', 'A5', 'A19', 'A14', 'A9']\n",
            "  1299.110  ['A0', 'A12', 'A4', 'A3', 'A7', 'A2', 'A10', 'A17', 'A16', 'A15', 'A1', 'A6', 'A13', 'A8', 'A11', 'A18', 'A5', 'A19', 'A14', 'A9']\n",
            "<class 'dict'>\n",
            "histórico ['A7', 'A4', 'A3', 'A11', 'A18', 'A5', 'A6', 'A0', 'A12', 'A13', 'A8', 'A1', 'A16', 'A15', 'A19', 'A9', 'A14', 'A17', 'A10', 'A2']\n",
            "  1035.205  ['A7', 'A4', 'A3', 'A11', 'A18', 'A5', 'A6', 'A0', 'A12', 'A13', 'A8', 'A1', 'A16', 'A15', 'A19', 'A9', 'A14', 'A17', 'A10', 'A2']\n",
            "<class 'dict'>\n",
            "histórico ['A3', 'A4', 'A7', 'A19', 'A14', 'A9', 'A6', 'A8', 'A13', 'A12', 'A17', 'A2', 'A10', 'A0', 'A1', 'A15', 'A16', 'A5', 'A18', 'A11']\n",
            "  1022.910  ['A3', 'A4', 'A7', 'A19', 'A14', 'A9', 'A6', 'A8', 'A13', 'A12', 'A17', 'A2', 'A10', 'A0', 'A1', 'A15', 'A16', 'A5', 'A18', 'A11']\n",
            "<class 'dict'>\n",
            "histórico ['A0', 'A12', 'A17', 'A7', 'A4', 'A3', 'A11', 'A18', 'A5', 'A13', 'A8', 'A16', 'A15', 'A1', 'A19', 'A14', 'A9', 'A6', 'A10', 'A2']\n",
            "  1085.949  ['A0', 'A12', 'A17', 'A7', 'A4', 'A3', 'A11', 'A18', 'A5', 'A13', 'A8', 'A16', 'A15', 'A1', 'A19', 'A14', 'A9', 'A6', 'A10', 'A2']\n",
            "<class 'dict'>\n",
            "histórico ['A15', 'A16', 'A11', 'A18', 'A5', 'A19', 'A14', 'A9', 'A6', 'A3', 'A4', 'A7', 'A2', 'A10', 'A17', 'A12', 'A0', 'A13', 'A8', 'A1']\n",
            "  1074.896  ['A15', 'A16', 'A11', 'A18', 'A5', 'A19', 'A14', 'A9', 'A6', 'A3', 'A4', 'A7', 'A2', 'A10', 'A17', 'A12', 'A0', 'A13', 'A8', 'A1']\n",
            "<class 'dict'>\n",
            "histórico ['A19', 'A1', 'A15', 'A16', 'A5', 'A18', 'A11', 'A3', 'A4', 'A7', 'A14', 'A9', 'A6', 'A0', 'A12', 'A17', 'A10', 'A2', 'A13', 'A8']\n",
            "   968.452  ['A19', 'A1', 'A15', 'A16', 'A5', 'A18', 'A11', 'A3', 'A4', 'A7', 'A14', 'A9', 'A6', 'A0', 'A12', 'A17', 'A10', 'A2', 'A13', 'A8']\n",
            "<class 'dict'>\n",
            "histórico ['A17', 'A12', 'A0', 'A1', 'A15', 'A16', 'A3', 'A4', 'A7', 'A2', 'A10', 'A6', 'A9', 'A14', 'A19', 'A5', 'A18', 'A11', 'A8', 'A13']\n",
            "  1218.929  ['A17', 'A12', 'A0', 'A1', 'A15', 'A16', 'A3', 'A4', 'A7', 'A2', 'A10', 'A6', 'A9', 'A14', 'A19', 'A5', 'A18', 'A11', 'A8', 'A13']\n",
            "<class 'dict'>\n",
            "histórico ['A2', 'A10', 'A17', 'A16', 'A15', 'A1', 'A0', 'A12', 'A13', 'A8', 'A18', 'A11', 'A7', 'A4', 'A3', 'A5', 'A19', 'A6', 'A9', 'A14']\n",
            "  1037.877  ['A2', 'A10', 'A17', 'A16', 'A15', 'A1', 'A0', 'A12', 'A13', 'A8', 'A18', 'A11', 'A7', 'A4', 'A3', 'A5', 'A19', 'A6', 'A9', 'A14']\n",
            "<class 'dict'>\n",
            "histórico ['A5', 'A3', 'A4', 'A7', 'A8', 'A13', 'A12', 'A17', 'A2', 'A10', 'A0', 'A14', 'A9', 'A6', 'A11', 'A18', 'A16', 'A15', 'A1', 'A19']\n",
            "  1083.917  ['A5', 'A3', 'A4', 'A7', 'A8', 'A13', 'A12', 'A17', 'A2', 'A10', 'A0', 'A14', 'A9', 'A6', 'A11', 'A18', 'A16', 'A15', 'A1', 'A19']\n",
            "<class 'dict'>\n",
            "histórico ['A6', 'A9', 'A14', 'A19', 'A5', 'A3', 'A4', 'A13', 'A8', 'A16', 'A15', 'A1', 'A17', 'A10', 'A2', 'A7', 'A11', 'A18', 'A0', 'A12']\n",
            "  1348.375  ['A6', 'A9', 'A14', 'A19', 'A5', 'A3', 'A4', 'A13', 'A8', 'A16', 'A15', 'A1', 'A17', 'A10', 'A2', 'A7', 'A11', 'A18', 'A0', 'A12']\n",
            "<class 'dict'>\n",
            "histórico ['A14', 'A19', 'A5', 'A3', 'A4', 'A2', 'A10', 'A17', 'A0', 'A6', 'A9', 'A1', 'A15', 'A16', 'A18', 'A11', 'A7', 'A8', 'A13', 'A12']\n",
            "  1198.339  ['A14', 'A19', 'A5', 'A3', 'A4', 'A2', 'A10', 'A17', 'A0', 'A6', 'A9', 'A1', 'A15', 'A16', 'A18', 'A11', 'A7', 'A8', 'A13', 'A12']\n",
            "<class 'dict'>\n",
            "histórico ['A0', 'A13', 'A8', 'A16', 'A15', 'A1', 'A19', 'A14', 'A9', 'A6', 'A3', 'A4', 'A7', 'A2', 'A10', 'A17', 'A12', 'A11', 'A18', 'A5']\n",
            "  1078.068  ['A0', 'A13', 'A8', 'A16', 'A15', 'A1', 'A19', 'A14', 'A9', 'A6', 'A3', 'A4', 'A7', 'A2', 'A10', 'A17', 'A12', 'A11', 'A18', 'A5']\n",
            "Hill-Climbing\n",
            "['A0', 'A9', 'A1', 'A4', 'A10', 'A15', 'A11', 'A2', 'A5', 'A19', 'A17', 'A18', 'A16', 'A12', 'A8', 'A3', 'A6', 'A7', 'A13', 'A14']\n",
            "histórico ['A0', 'A9', 'A1', 'A6', 'A14', 'A15', 'A11', 'A2', 'A5', 'A19', 'A17', 'A18', 'A16', 'A12', 'A8', 'A3', 'A4', 'A7', 'A13', 'A10']\n",
            "   292.908  ['A0', 'A6', 'A9', 'A14', 'A19', 'A1', 'A15', 'A16', 'A5', 'A18', 'A11', 'A3', 'A4', 'A7', 'A8', 'A13', 'A12', 'A17', 'A2', 'A10']\n",
            "['A0', 'A13', 'A1', 'A8', 'A4', 'A2', 'A18', 'A12', 'A11', 'A6', 'A7', 'A14', 'A9', 'A5', 'A16', 'A3', 'A15', 'A17', 'A10', 'A19']\n",
            "histórico ['A0', 'A13', 'A1', 'A8', 'A12', 'A2', 'A18', 'A4', 'A11', 'A3', 'A7', 'A14', 'A9', 'A5', 'A16', 'A6', 'A15', 'A17', 'A10', 'A19']\n",
            "   338.619  ['A0', 'A12', 'A13', 'A8', 'A1', 'A5', 'A18', 'A11', 'A3', 'A4', 'A7', 'A16', 'A15', 'A19', 'A14', 'A9', 'A6', 'A17', 'A2', 'A10']\n",
            "['A0', 'A10', 'A14', 'A19', 'A9', 'A4', 'A11', 'A18', 'A1', 'A13', 'A5', 'A2', 'A16', 'A17', 'A7', 'A15', 'A3', 'A8', 'A6', 'A12']\n",
            "histórico ['A0', 'A10', 'A14', 'A19', 'A9', 'A15', 'A11', 'A18', 'A1', 'A13', 'A17', 'A2', 'A16', 'A5', 'A7', 'A4', 'A3', 'A8', 'A6', 'A12']\n",
            "   382.307  ['A0', 'A6', 'A9', 'A14', 'A19', 'A1', 'A15', 'A5', 'A16', 'A12', 'A13', 'A8', 'A18', 'A11', 'A3', 'A4', 'A7', 'A2', 'A10', 'A17']\n",
            "['A0', 'A14', 'A2', 'A17', 'A9', 'A15', 'A1', 'A18', 'A11', 'A4', 'A3', 'A12', 'A6', 'A5', 'A13', 'A10', 'A7', 'A19', 'A8', 'A16']\n",
            "histórico ['A0', 'A8', 'A2', 'A17', 'A9', 'A15', 'A1', 'A18', 'A11', 'A4', 'A3', 'A7', 'A6', 'A5', 'A13', 'A10', 'A12', 'A19', 'A14', 'A16']\n",
            "   365.751  ['A0', 'A10', 'A2', 'A17', 'A12', 'A16', 'A5', 'A18', 'A11', 'A3', 'A4', 'A7', 'A13', 'A8', 'A1', 'A15', 'A19', 'A14', 'A9', 'A6']\n",
            "['A0', 'A5', 'A13', 'A14', 'A10', 'A17', 'A16', 'A1', 'A12', 'A11', 'A4', 'A6', 'A19', 'A2', 'A8', 'A15', 'A9', 'A3', 'A7', 'A18']\n",
            "histórico ['A0', 'A12', 'A13', 'A2', 'A10', 'A17', 'A16', 'A1', 'A5', 'A11', 'A4', 'A6', 'A19', 'A14', 'A8', 'A15', 'A9', 'A3', 'A7', 'A18']\n",
            "   310.404  ['A0', 'A12', 'A10', 'A2', 'A17', 'A8', 'A16', 'A15', 'A1', 'A6', 'A9', 'A14', 'A19', 'A5', 'A18', 'A11', 'A3', 'A4', 'A7', 'A13']\n",
            "['A0', 'A10', 'A13', 'A1', 'A9', 'A16', 'A4', 'A8', 'A6', 'A18', 'A11', 'A19', 'A15', 'A3', 'A2', 'A14', 'A17', 'A7', 'A5', 'A12']\n",
            "histórico ['A0', 'A10', 'A13', 'A1', 'A9', 'A16', 'A5', 'A14', 'A6', 'A18', 'A11', 'A19', 'A15', 'A3', 'A2', 'A8', 'A17', 'A7', 'A4', 'A12']\n",
            "   405.852  ['A0', 'A13', 'A8', 'A6', 'A9', 'A14', 'A19', 'A15', 'A16', 'A11', 'A18', 'A5', 'A1', 'A12', 'A17', 'A10', 'A2', 'A7', 'A3', 'A4']\n",
            "['A0', 'A10', 'A1', 'A5', 'A11', 'A8', 'A15', 'A13', 'A19', 'A9', 'A6', 'A18', 'A16', 'A7', 'A2', 'A17', 'A3', 'A4', 'A14', 'A12']\n",
            "histórico ['A0', 'A10', 'A1', 'A5', 'A16', 'A8', 'A15', 'A14', 'A19', 'A9', 'A6', 'A18', 'A11', 'A7', 'A2', 'A17', 'A3', 'A4', 'A13', 'A12']\n",
            "   384.474  ['A0', 'A13', 'A8', 'A6', 'A9', 'A14', 'A19', 'A1', 'A15', 'A16', 'A5', 'A18', 'A17', 'A10', 'A2', 'A7', 'A4', 'A3', 'A11', 'A12']\n",
            "['A0', 'A14', 'A9', 'A3', 'A2', 'A10', 'A1', 'A18', 'A15', 'A12', 'A11', 'A16', 'A6', 'A8', 'A13', 'A5', 'A19', 'A4', 'A7', 'A17']\n",
            "histórico ['A0', 'A14', 'A9', 'A12', 'A2', 'A10', 'A1', 'A19', 'A15', 'A3', 'A11', 'A16', 'A6', 'A8', 'A13', 'A5', 'A18', 'A4', 'A7', 'A17']\n",
            "   405.408  ['A0', 'A10', 'A2', 'A17', 'A6', 'A9', 'A14', 'A19', 'A15', 'A5', 'A18', 'A16', 'A1', 'A13', 'A8', 'A11', 'A3', 'A4', 'A7', 'A12']\n",
            "['A0', 'A12', 'A18', 'A13', 'A16', 'A8', 'A9', 'A10', 'A15', 'A2', 'A1', 'A14', 'A17', 'A5', 'A4', 'A19', 'A11', 'A7', 'A6', 'A3']\n",
            "histórico ['A0', 'A12', 'A18', 'A13', 'A16', 'A8', 'A9', 'A10', 'A17', 'A2', 'A1', 'A14', 'A15', 'A5', 'A6', 'A19', 'A11', 'A7', 'A4', 'A3']\n",
            "   416.801  ['A0', 'A8', 'A1', 'A15', 'A16', 'A18', 'A11', 'A2', 'A10', 'A17', 'A12', 'A13', 'A6', 'A9', 'A14', 'A19', 'A5', 'A3', 'A4', 'A7']\n",
            "['A0', 'A13', 'A9', 'A3', 'A17', 'A4', 'A14', 'A12', 'A5', 'A16', 'A7', 'A2', 'A1', 'A11', 'A15', 'A10', 'A6', 'A19', 'A8', 'A18']\n",
            "histórico ['A0', 'A13', 'A9', 'A3', 'A7', 'A4', 'A14', 'A18', 'A5', 'A16', 'A17', 'A2', 'A1', 'A11', 'A15', 'A10', 'A6', 'A19', 'A8', 'A12']\n",
            "   374.071  ['A0', 'A13', 'A8', 'A7', 'A4', 'A3', 'A11', 'A18', 'A5', 'A16', 'A17', 'A2', 'A10', 'A12', 'A1', 'A15', 'A19', 'A14', 'A9', 'A6']\n",
            "['A0', 'A10', 'A12', 'A3', 'A11', 'A5', 'A8', 'A1', 'A19', 'A9', 'A16', 'A7', 'A13', 'A14', 'A6', 'A2', 'A15', 'A4', 'A17', 'A18']\n",
            "histórico ['A0', 'A10', 'A12', 'A3', 'A11', 'A5', 'A18', 'A1', 'A19', 'A9', 'A16', 'A15', 'A13', 'A14', 'A6', 'A2', 'A7', 'A4', 'A17', 'A8']\n",
            "   385.180  ['A0', 'A10', 'A2', 'A17', 'A11', 'A18', 'A5', 'A16', 'A15', 'A1', 'A19', 'A14', 'A9', 'A6', 'A13', 'A8', 'A4', 'A3', 'A7', 'A12']\n",
            "['A0', 'A8', 'A18', 'A17', 'A1', 'A15', 'A2', 'A19', 'A13', 'A14', 'A10', 'A11', 'A5', 'A16', 'A3', 'A12', 'A6', 'A4', 'A7', 'A9']\n",
            "histórico ['A0', 'A8', 'A12', 'A17', 'A1', 'A15', 'A14', 'A19', 'A13', 'A2', 'A10', 'A11', 'A5', 'A16', 'A3', 'A18', 'A6', 'A4', 'A7', 'A9']\n",
            "   438.235  ['A0', 'A12', 'A13', 'A8', 'A1', 'A15', 'A19', 'A14', 'A10', 'A2', 'A17', 'A16', 'A5', 'A18', 'A11', 'A3', 'A4', 'A7', 'A9', 'A6']\n",
            "['A0', 'A18', 'A12', 'A11', 'A7', 'A13', 'A8', 'A15', 'A16', 'A3', 'A4', 'A5', 'A6', 'A1', 'A2', 'A14', 'A10', 'A17', 'A9', 'A19']\n",
            "histórico ['A0', 'A2', 'A12', 'A11', 'A7', 'A13', 'A8', 'A15', 'A16', 'A3', 'A4', 'A5', 'A18', 'A1', 'A6', 'A14', 'A10', 'A17', 'A9', 'A19']\n",
            "   441.771  ['A0', 'A10', 'A2', 'A7', 'A4', 'A13', 'A8', 'A1', 'A16', 'A11', 'A3', 'A18', 'A5', 'A15', 'A19', 'A14', 'A9', 'A6', 'A12', 'A17']\n",
            "['A0', 'A4', 'A17', 'A19', 'A12', 'A15', 'A3', 'A6', 'A9', 'A2', 'A10', 'A8', 'A5', 'A7', 'A13', 'A14', 'A1', 'A11', 'A18', 'A16']\n",
            "histórico ['A0', 'A13', 'A17', 'A19', 'A12', 'A15', 'A14', 'A6', 'A9', 'A2', 'A10', 'A8', 'A5', 'A7', 'A4', 'A3', 'A1', 'A11', 'A18', 'A16']\n",
            "   367.958  ['A0', 'A13', 'A8', 'A1', 'A15', 'A19', 'A14', 'A9', 'A6', 'A17', 'A10', 'A2', 'A7', 'A4', 'A3', 'A11', 'A18', 'A5', 'A16', 'A12']\n",
            "['A0', 'A12', 'A7', 'A6', 'A4', 'A10', 'A18', 'A19', 'A9', 'A3', 'A15', 'A2', 'A13', 'A14', 'A1', 'A5', 'A8', 'A11', 'A16', 'A17']\n",
            "histórico ['A0', 'A12', 'A7', 'A3', 'A4', 'A10', 'A8', 'A19', 'A9', 'A6', 'A15', 'A2', 'A13', 'A14', 'A1', 'A5', 'A18', 'A11', 'A16', 'A17']\n",
            "   388.956  ['A0', 'A12', 'A7', 'A4', 'A3', 'A11', 'A8', 'A13', 'A6', 'A9', 'A14', 'A19', 'A1', 'A15', 'A16', 'A5', 'A18', 'A2', 'A10', 'A17']\n",
            "['A0', 'A5', 'A16', 'A18', 'A12', 'A17', 'A6', 'A14', 'A11', 'A4', 'A8', 'A7', 'A9', 'A19', 'A13', 'A3', 'A10', 'A1', 'A15', 'A2']\n",
            "histórico ['A0', 'A5', 'A16', 'A18', 'A12', 'A17', 'A6', 'A14', 'A11', 'A4', 'A3', 'A7', 'A9', 'A19', 'A13', 'A8', 'A15', 'A1', 'A10', 'A2']\n",
            "   365.751  ['A0', 'A6', 'A9', 'A14', 'A19', 'A15', 'A1', 'A8', 'A13', 'A7', 'A4', 'A3', 'A11', 'A18', 'A5', 'A16', 'A12', 'A17', 'A2', 'A10']\n",
            "['A0', 'A10', 'A19', 'A7', 'A13', 'A9', 'A1', 'A3', 'A18', 'A16', 'A17', 'A14', 'A5', 'A4', 'A8', 'A12', 'A2', 'A6', 'A11', 'A15']\n",
            "histórico ['A0', 'A10', 'A17', 'A8', 'A13', 'A9', 'A1', 'A3', 'A18', 'A16', 'A19', 'A14', 'A5', 'A4', 'A7', 'A12', 'A2', 'A6', 'A11', 'A15']\n",
            "   309.909  ['A0', 'A10', 'A2', 'A17', 'A13', 'A8', 'A7', 'A4', 'A3', 'A11', 'A18', 'A5', 'A16', 'A15', 'A19', 'A14', 'A9', 'A6', 'A1', 'A12']\n",
            "['A0', 'A3', 'A17', 'A2', 'A11', 'A9', 'A16', 'A15', 'A1', 'A10', 'A14', 'A5', 'A12', 'A6', 'A7', 'A13', 'A8', 'A18', 'A19', 'A4']\n",
            "histórico ['A0', 'A10', 'A17', 'A2', 'A11', 'A9', 'A16', 'A15', 'A1', 'A6', 'A14', 'A5', 'A12', 'A3', 'A7', 'A13', 'A8', 'A18', 'A19', 'A4']\n",
            "   403.053  ['A0', 'A17', 'A10', 'A2', 'A11', 'A18', 'A16', 'A15', 'A1', 'A14', 'A19', 'A5', 'A3', 'A4', 'A7', 'A9', 'A6', 'A8', 'A13', 'A12']\n",
            "['A0', 'A3', 'A8', 'A6', 'A16', 'A10', 'A13', 'A7', 'A18', 'A17', 'A12', 'A2', 'A14', 'A19', 'A5', 'A9', 'A4', 'A11', 'A1', 'A15']\n",
            "histórico ['A0', 'A13', 'A8', 'A6', 'A16', 'A18', 'A3', 'A7', 'A10', 'A17', 'A12', 'A2', 'A14', 'A19', 'A5', 'A9', 'A4', 'A11', 'A1', 'A15']\n",
            "   411.211  ['A0', 'A13', 'A8', 'A18', 'A11', 'A3', 'A4', 'A7', 'A12', 'A17', 'A2', 'A10', 'A9', 'A14', 'A19', 'A5', 'A16', 'A15', 'A1', 'A6']\n",
            "['A0', 'A5', 'A3', 'A12', 'A11', 'A13', 'A19', 'A14', 'A17', 'A10', 'A7', 'A16', 'A18', 'A8', 'A6', 'A15', 'A2', 'A4', 'A1', 'A9']\n",
            "histórico ['A0', 'A13', 'A3', 'A4', 'A11', 'A5', 'A19', 'A14', 'A17', 'A10', 'A7', 'A16', 'A18', 'A8', 'A6', 'A15', 'A2', 'A12', 'A1', 'A9']\n",
            "   380.096  ['A0', 'A7', 'A4', 'A3', 'A11', 'A18', 'A5', 'A12', 'A10', 'A2', 'A17', 'A13', 'A8', 'A16', 'A15', 'A1', 'A19', 'A14', 'A9', 'A6']\n",
            "['A0', 'A8', 'A5', 'A6', 'A2', 'A13', 'A16', 'A18', 'A14', 'A7', 'A9', 'A4', 'A19', 'A17', 'A11', 'A15', 'A3', 'A1', 'A12', 'A10']\n",
            "histórico ['A0', 'A8', 'A17', 'A6', 'A2', 'A13', 'A16', 'A18', 'A4', 'A7', 'A9', 'A14', 'A19', 'A5', 'A11', 'A15', 'A3', 'A1', 'A12', 'A10']\n",
            "   301.812  ['A0', 'A12', 'A10', 'A2', 'A17', 'A8', 'A7', 'A4', 'A3', 'A11', 'A18', 'A5', 'A16', 'A15', 'A1', 'A19', 'A14', 'A9', 'A6', 'A13']\n",
            "['A0', 'A19', 'A9', 'A1', 'A15', 'A12', 'A16', 'A7', 'A10', 'A5', 'A11', 'A17', 'A4', 'A14', 'A2', 'A3', 'A8', 'A6', 'A18', 'A13']\n",
            "histórico ['A0', 'A19', 'A9', 'A1', 'A15', 'A12', 'A16', 'A7', 'A3', 'A5', 'A11', 'A18', 'A4', 'A14', 'A2', 'A10', 'A8', 'A6', 'A17', 'A13']\n",
            "   342.671  ['A0', 'A6', 'A9', 'A14', 'A19', 'A15', 'A16', 'A7', 'A4', 'A3', 'A11', 'A18', 'A5', 'A1', 'A17', 'A2', 'A10', 'A12', 'A13', 'A8']\n",
            "['A0', 'A3', 'A2', 'A6', 'A8', 'A14', 'A1', 'A12', 'A17', 'A13', 'A11', 'A19', 'A7', 'A10', 'A9', 'A4', 'A16', 'A15', 'A5', 'A18']\n",
            "histórico ['A0', 'A10', 'A2', 'A6', 'A8', 'A14', 'A1', 'A12', 'A17', 'A13', 'A11', 'A4', 'A7', 'A3', 'A9', 'A19', 'A16', 'A15', 'A5', 'A18']\n",
            "   378.022  ['A0', 'A10', 'A2', 'A17', 'A12', 'A6', 'A9', 'A14', 'A13', 'A8', 'A7', 'A4', 'A3', 'A11', 'A18', 'A5', 'A19', 'A1', 'A15', 'A16']\n",
            "['A0', 'A12', 'A10', 'A8', 'A5', 'A15', 'A6', 'A2', 'A16', 'A4', 'A7', 'A3', 'A18', 'A11', 'A17', 'A14', 'A9', 'A19', 'A1', 'A13']\n",
            "histórico ['A0', 'A12', 'A10', 'A8', 'A16', 'A15', 'A6', 'A2', 'A17', 'A4', 'A7', 'A3', 'A18', 'A11', 'A5', 'A14', 'A9', 'A19', 'A1', 'A13']\n",
            "   387.314  ['A0', 'A12', 'A17', 'A8', 'A16', 'A15', 'A1', 'A10', 'A2', 'A7', 'A4', 'A3', 'A11', 'A18', 'A5', 'A19', 'A14', 'A9', 'A6', 'A13']\n",
            "['A0', 'A1', 'A6', 'A3', 'A18', 'A16', 'A7', 'A13', 'A15', 'A19', 'A9', 'A5', 'A2', 'A8', 'A12', 'A10', 'A11', 'A14', 'A17', 'A4']\n",
            "histórico ['A0', 'A1', 'A6', 'A3', 'A18', 'A16', 'A7', 'A4', 'A15', 'A19', 'A9', 'A5', 'A11', 'A8', 'A12', 'A10', 'A2', 'A14', 'A17', 'A13']\n",
            "   356.363  ['A0', 'A15', 'A16', 'A5', 'A18', 'A3', 'A4', 'A7', 'A11', 'A19', 'A14', 'A9', 'A6', 'A1', 'A8', 'A17', 'A2', 'A10', 'A12', 'A13']\n",
            "['A0', 'A15', 'A5', 'A11', 'A1', 'A14', 'A4', 'A8', 'A2', 'A12', 'A19', 'A18', 'A17', 'A9', 'A3', 'A13', 'A7', 'A10', 'A16', 'A6']\n",
            "histórico ['A0', 'A15', 'A5', 'A11', 'A1', 'A14', 'A13', 'A8', 'A2', 'A12', 'A19', 'A10', 'A17', 'A9', 'A3', 'A4', 'A7', 'A18', 'A16', 'A6']\n",
            "   399.913  ['A0', 'A1', 'A19', 'A14', 'A9', 'A6', 'A13', 'A12', 'A10', 'A2', 'A17', 'A8', 'A18', 'A11', 'A7', 'A4', 'A3', 'A5', 'A16', 'A15']\n",
            "['A0', 'A4', 'A9', 'A6', 'A8', 'A7', 'A13', 'A12', 'A5', 'A10', 'A15', 'A3', 'A19', 'A18', 'A16', 'A17', 'A14', 'A2', 'A1', 'A11']\n",
            "histórico ['A0', 'A19', 'A9', 'A6', 'A8', 'A7', 'A13', 'A12', 'A5', 'A14', 'A15', 'A3', 'A4', 'A18', 'A16', 'A17', 'A10', 'A2', 'A1', 'A11']\n",
            "   301.677  ['A0', 'A6', 'A9', 'A14', 'A19', 'A1', 'A15', 'A16', 'A5', 'A18', 'A11', 'A3', 'A4', 'A7', 'A8', 'A17', 'A2', 'A10', 'A12', 'A13']\n",
            "['A0', 'A14', 'A10', 'A11', 'A9', 'A5', 'A7', 'A1', 'A8', 'A17', 'A18', 'A12', 'A13', 'A3', 'A6', 'A19', 'A16', 'A15', 'A2', 'A4']\n",
            "histórico ['A0', 'A14', 'A18', 'A11', 'A3', 'A5', 'A7', 'A1', 'A8', 'A17', 'A10', 'A12', 'A13', 'A9', 'A6', 'A19', 'A16', 'A15', 'A2', 'A4']\n",
            "   370.170  ['A0', 'A5', 'A18', 'A11', 'A3', 'A4', 'A7', 'A2', 'A10', 'A17', 'A12', 'A13', 'A6', 'A9', 'A14', 'A19', 'A1', 'A15', 'A16', 'A8']\n",
            "['A0', 'A5', 'A7', 'A10', 'A19', 'A6', 'A16', 'A4', 'A18', 'A1', 'A3', 'A17', 'A12', 'A9', 'A2', 'A8', 'A13', 'A11', 'A14', 'A15']\n",
            "histórico ['A0', 'A5', 'A1', 'A9', 'A19', 'A6', 'A16', 'A4', 'A18', 'A7', 'A3', 'A17', 'A12', 'A10', 'A2', 'A8', 'A13', 'A11', 'A14', 'A15']\n",
            "   352.844  ['A0', 'A6', 'A9', 'A14', 'A19', 'A5', 'A18', 'A11', 'A3', 'A4', 'A7', 'A2', 'A10', 'A17', 'A12', 'A13', 'A8', 'A16', 'A15', 'A1']\n",
            "['A0', 'A10', 'A8', 'A7', 'A4', 'A5', 'A1', 'A6', 'A12', 'A2', 'A17', 'A11', 'A18', 'A16', 'A13', 'A14', 'A19', 'A9', 'A15', 'A3']\n",
            "histórico ['A0', 'A10', 'A3', 'A7', 'A4', 'A5', 'A1', 'A13', 'A12', 'A2', 'A17', 'A11', 'A18', 'A16', 'A6', 'A14', 'A19', 'A9', 'A15', 'A8']\n",
            "   423.605  ['A0', 'A8', 'A7', 'A4', 'A3', 'A16', 'A1', 'A13', 'A10', 'A2', 'A17', 'A11', 'A18', 'A5', 'A15', 'A19', 'A14', 'A9', 'A6', 'A12']\n",
            "Hill-Climbing Restart\n",
            "histórico ['A0', 'A2', 'A8', 'A17', 'A14', 'A9', 'A19', 'A10', 'A12', 'A13', 'A16', 'A6', 'A1', 'A18', 'A4', 'A11', 'A7', 'A3', 'A5', 'A15']\n",
            "   335.360  ['A0', 'A13', 'A8', 'A18', 'A11', 'A7', 'A4', 'A3', 'A5', 'A19', 'A14', 'A9', 'A6', 'A1', 'A15', 'A16', 'A17', 'A2', 'A10', 'A12']\n",
            "histórico ['A0', 'A10', 'A2', 'A4', 'A17', 'A13', 'A12', 'A9', 'A1', 'A19', 'A3', 'A5', 'A14', 'A15', 'A8', 'A6', 'A16', 'A11', 'A18', 'A7']\n",
            "   486.335  ['A0', 'A8', 'A16', 'A19', 'A18', 'A4', 'A7', 'A3', 'A13', 'A12', 'A2', 'A10', 'A14', 'A9', 'A6', 'A1', 'A15', 'A5', 'A11', 'A17']\n",
            "histórico ['A0', 'A10', 'A13', 'A14', 'A19', 'A1', 'A12', 'A2', 'A17', 'A8', 'A15', 'A7', 'A16', 'A3', 'A11', 'A6', 'A9', 'A4', 'A18', 'A5']\n",
            "   376.416  ['A0', 'A6', 'A9', 'A14', 'A12', 'A17', 'A10', 'A2', 'A7', 'A4', 'A3', 'A11', 'A18', 'A5', 'A16', 'A1', 'A19', 'A15', 'A13', 'A8']\n",
            "histórico ['A0', 'A4', 'A7', 'A3', 'A11', 'A13', 'A8', 'A9', 'A14', 'A2', 'A10', 'A12', 'A5', 'A19', 'A6', 'A15', 'A1', 'A18', 'A16', 'A17']\n",
            "   407.318  ['A0', 'A15', 'A1', 'A12', 'A17', 'A2', 'A10', 'A6', 'A9', 'A14', 'A19', 'A5', 'A18', 'A11', 'A3', 'A4', 'A7', 'A16', 'A8', 'A13']\n",
            "histórico ['A0', 'A8', 'A2', 'A13', 'A6', 'A1', 'A17', 'A10', 'A12', 'A7', 'A4', 'A3', 'A15', 'A14', 'A16', 'A9', 'A19', 'A5', 'A18', 'A11']\n",
            "   415.703  ['A0', 'A17', 'A12', 'A13', 'A8', 'A10', 'A2', 'A7', 'A18', 'A9', 'A6', 'A14', 'A19', 'A15', 'A1', 'A16', 'A5', 'A11', 'A3', 'A4']\n",
            "histórico ['A0', 'A14', 'A1', 'A9', 'A18', 'A7', 'A3', 'A4', 'A17', 'A12', 'A16', 'A6', 'A2', 'A10', 'A13', 'A5', 'A15', 'A11', 'A19', 'A8']\n",
            "   416.559  ['A0', 'A8', 'A16', 'A5', 'A18', 'A3', 'A4', 'A7', 'A11', 'A15', 'A19', 'A1', 'A13', 'A17', 'A2', 'A10', 'A12', 'A14', 'A9', 'A6']\n",
            "histórico ['A0', 'A10', 'A12', 'A17', 'A14', 'A19', 'A18', 'A11', 'A4', 'A3', 'A1', 'A15', 'A5', 'A6', 'A9', 'A16', 'A7', 'A2', 'A8', 'A13']\n",
            "   840.325  ['A0', 'A19', 'A9', 'A7', 'A13', 'A12', 'A8', 'A2', 'A4', 'A10', 'A6', 'A11', 'A18', 'A15', 'A1', 'A16', 'A17', 'A14', 'A5', 'A3']\n",
            "histórico ['A0', 'A8', 'A11', 'A4', 'A3', 'A7', 'A18', 'A16', 'A13', 'A10', 'A2', 'A17', 'A1', 'A6', 'A14', 'A19', 'A15', 'A9', 'A12', 'A5']\n",
            "   389.146  ['A0', 'A16', 'A15', 'A1', 'A17', 'A10', 'A2', 'A12', 'A8', 'A9', 'A6', 'A14', 'A19', 'A5', 'A18', 'A11', 'A3', 'A4', 'A7', 'A13']\n",
            "histórico ['A0', 'A15', 'A14', 'A16', 'A2', 'A18', 'A1', 'A11', 'A7', 'A4', 'A3', 'A12', 'A17', 'A10', 'A8', 'A19', 'A9', 'A6', 'A5', 'A13']\n",
            "   442.686  ['A0', 'A2', 'A10', 'A6', 'A9', 'A14', 'A19', 'A15', 'A1', 'A5', 'A16', 'A13', 'A8', 'A17', 'A11', 'A18', 'A4', 'A7', 'A3', 'A12']\n",
            "histórico ['A0', 'A4', 'A3', 'A11', 'A17', 'A10', 'A2', 'A16', 'A19', 'A5', 'A7', 'A15', 'A13', 'A8', 'A14', 'A18', 'A1', 'A9', 'A6', 'A12']\n",
            "   361.535  ['A0', 'A8', 'A12', 'A10', 'A17', 'A2', 'A9', 'A14', 'A6', 'A19', 'A15', 'A16', 'A1', 'A5', 'A18', 'A11', 'A3', 'A4', 'A7', 'A13']\n",
            "histórico ['A0', 'A2', 'A10', 'A12', 'A19', 'A6', 'A14', 'A5', 'A11', 'A1', 'A18', 'A4', 'A16', 'A9', 'A15', 'A8', 'A13', 'A17', 'A3', 'A7']\n",
            "   554.372  ['A0', 'A4', 'A3', 'A17', 'A2', 'A12', 'A10', 'A8', 'A18', 'A15', 'A7', 'A11', 'A5', 'A16', 'A19', 'A1', 'A6', 'A9', 'A14', 'A13']\n",
            "histórico ['A0', 'A6', 'A14', 'A15', 'A1', 'A18', 'A4', 'A2', 'A17', 'A3', 'A7', 'A11', 'A5', 'A19', 'A16', 'A9', 'A12', 'A13', 'A10', 'A8']\n",
            "   722.347  ['A0', 'A15', 'A1', 'A5', 'A9', 'A14', 'A18', 'A19', 'A17', 'A10', 'A2', 'A4', 'A16', 'A11', 'A8', 'A7', 'A3', 'A13', 'A6', 'A12']\n"
          ]
        },
        {
          "ename": "KeyboardInterrupt",
          "evalue": "",
          "output_type": "error",
          "traceback": [
            "\u001b[1;31m---------------------------------------------------------------------------\u001b[0m",
            "\u001b[1;31mKeyboardInterrupt\u001b[0m                         Traceback (most recent call last)",
            "\u001b[1;32m~\\AppData\\Local\\Temp\\ipykernel_13828\\786860708.py\u001b[0m in \u001b[0;36m?\u001b[1;34m()\u001b[0m\n\u001b[0;32m     12\u001b[0m \u001b[1;31m# numero de vezes que executará cada algoritmo\u001b[0m\u001b[1;33m\u001b[0m\u001b[1;33m\u001b[0m\u001b[0m\n\u001b[0;32m     13\u001b[0m \u001b[0mn_vezes\u001b[0m \u001b[1;33m=\u001b[0m \u001b[1;36m30\u001b[0m\u001b[1;33m\u001b[0m\u001b[1;33m\u001b[0m\u001b[0m\n\u001b[0;32m     14\u001b[0m \u001b[1;33m\u001b[0m\u001b[0m\n\u001b[0;32m     15\u001b[0m \u001b[1;31m# Executa N vezes para gerar estatísticas da variável custo\u001b[0m\u001b[1;33m\u001b[0m\u001b[1;33m\u001b[0m\u001b[0m\n\u001b[1;32m---> 16\u001b[1;33m \u001b[0mdf_custo\u001b[0m\u001b[1;33m,\u001b[0m \u001b[0mdf_history\u001b[0m\u001b[1;33m,\u001b[0m \u001b[0mdf_simulated_annealing\u001b[0m \u001b[1;33m=\u001b[0m \u001b[0mexecuta_n_vezes\u001b[0m\u001b[1;33m(\u001b[0m\u001b[0mtsp\u001b[0m\u001b[1;33m,\u001b[0m \u001b[0malgoritmos\u001b[0m\u001b[1;33m,\u001b[0m \u001b[0mn_vezes\u001b[0m\u001b[1;33m)\u001b[0m\u001b[1;33m\u001b[0m\u001b[1;33m\u001b[0m\u001b[0m\n\u001b[0m",
            "\u001b[1;32m~\\AppData\\Local\\Temp\\ipykernel_13828\\556659390.py\u001b[0m in \u001b[0;36m?\u001b[1;34m(tsp, algoritmos, n_vezes)\u001b[0m\n\u001b[0;32m     11\u001b[0m \u001b[1;33m\u001b[0m\u001b[0m\n\u001b[0;32m     12\u001b[0m         \u001b[1;32mfor\u001b[0m \u001b[0mi\u001b[0m \u001b[1;32min\u001b[0m \u001b[0mrange\u001b[0m\u001b[1;33m(\u001b[0m\u001b[0mn_vezes\u001b[0m\u001b[1;33m)\u001b[0m\u001b[1;33m:\u001b[0m\u001b[1;33m\u001b[0m\u001b[1;33m\u001b[0m\u001b[0m\n\u001b[0;32m     13\u001b[0m             \u001b[0mdf\u001b[0m \u001b[1;33m=\u001b[0m \u001b[1;32mNone\u001b[0m\u001b[1;33m\u001b[0m\u001b[1;33m\u001b[0m\u001b[0m\n\u001b[0;32m     14\u001b[0m             \u001b[1;31m# if algoritmo != 'Genetic Algorithm':\u001b[0m\u001b[1;33m\u001b[0m\u001b[1;33m\u001b[0m\u001b[0m\n\u001b[1;32m---> 15\u001b[1;33m             \u001b[0mcusto\u001b[0m\u001b[1;33m,\u001b[0m \u001b[0msolucao\u001b[0m\u001b[1;33m,\u001b[0m \u001b[0mhistorico\u001b[0m \u001b[1;33m=\u001b[0m \u001b[0mfuncao_algoritmo\u001b[0m\u001b[1;33m(\u001b[0m\u001b[0mtsp\u001b[0m\u001b[1;33m)\u001b[0m\u001b[1;33m\u001b[0m\u001b[1;33m\u001b[0m\u001b[0m\n\u001b[0m\u001b[0;32m     16\u001b[0m             \u001b[1;32mif\u001b[0m \u001b[0mlen\u001b[0m\u001b[1;33m(\u001b[0m\u001b[0mhistorico\u001b[0m\u001b[1;33m)\u001b[0m\u001b[1;33m==\u001b[0m\u001b[1;36m2\u001b[0m\u001b[1;33m:\u001b[0m\u001b[1;33m\u001b[0m\u001b[1;33m\u001b[0m\u001b[0m\n\u001b[0;32m     17\u001b[0m                 \u001b[0mprint\u001b[0m\u001b[1;33m(\u001b[0m\u001b[0mtype\u001b[0m\u001b[1;33m(\u001b[0m\u001b[0mhistorico\u001b[0m\u001b[1;33m[\u001b[0m\u001b[1;36m1\u001b[0m\u001b[1;33m]\u001b[0m\u001b[1;33m)\u001b[0m\u001b[1;33m)\u001b[0m\u001b[1;33m\u001b[0m\u001b[1;33m\u001b[0m\u001b[0m\n\u001b[0;32m     18\u001b[0m                 \u001b[0mdf\u001b[0m  \u001b[1;33m=\u001b[0m \u001b[0mpd\u001b[0m\u001b[1;33m.\u001b[0m\u001b[0mDataFrame\u001b[0m\u001b[1;33m(\u001b[0m\u001b[1;33m[\u001b[0m\u001b[0mhistorico\u001b[0m\u001b[1;33m[\u001b[0m\u001b[1;36m1\u001b[0m\u001b[1;33m]\u001b[0m\u001b[1;33m]\u001b[0m\u001b[1;33m,\u001b[0m \u001b[0mcolumns\u001b[0m\u001b[1;33m=\u001b[0m\u001b[0mhistorico\u001b[0m\u001b[1;33m[\u001b[0m\u001b[1;36m1\u001b[0m\u001b[1;33m]\u001b[0m\u001b[1;33m.\u001b[0m\u001b[0mkeys\u001b[0m\u001b[1;33m(\u001b[0m\u001b[1;33m)\u001b[0m\u001b[1;33m)\u001b[0m\u001b[1;33m\u001b[0m\u001b[1;33m\u001b[0m\u001b[0m\n",
            "\u001b[1;32m~\\AppData\\Local\\Temp\\ipykernel_13828\\1741516225.py\u001b[0m in \u001b[0;36m?\u001b[1;34m(tsp, restarts)\u001b[0m\n\u001b[0;32m      8\u001b[0m \u001b[1;33m\u001b[0m\u001b[0m\n\u001b[0;32m      9\u001b[0m     \u001b[1;32mfor\u001b[0m \u001b[0m_\u001b[0m \u001b[1;32min\u001b[0m \u001b[0mrange\u001b[0m\u001b[1;33m(\u001b[0m\u001b[0mrestarts\u001b[0m\u001b[1;33m)\u001b[0m\u001b[1;33m:\u001b[0m\u001b[1;33m\u001b[0m\u001b[1;33m\u001b[0m\u001b[0m\n\u001b[0;32m     10\u001b[0m \u001b[1;33m\u001b[0m\u001b[0m\n\u001b[0;32m     11\u001b[0m         \u001b[1;31m# tenta obter um candidato melhor\u001b[0m\u001b[1;33m\u001b[0m\u001b[1;33m\u001b[0m\u001b[0m\n\u001b[1;32m---> 12\u001b[1;33m         \u001b[0mcandidato_atual\u001b[0m\u001b[1;33m,\u001b[0m \u001b[0mcusto_atual\u001b[0m \u001b[1;33m=\u001b[0m \u001b[0mobtem_melhor_vizinho\u001b[0m\u001b[1;33m(\u001b[0m\u001b[0mtsp\u001b[0m\u001b[1;33m,\u001b[0m \u001b[0msolucao_melhor\u001b[0m\u001b[1;33m)\u001b[0m\u001b[1;33m\u001b[0m\u001b[1;33m\u001b[0m\u001b[0m\n\u001b[0m\u001b[0;32m     13\u001b[0m \u001b[1;33m\u001b[0m\u001b[0m\n\u001b[0;32m     14\u001b[0m \u001b[1;33m\u001b[0m\u001b[0m\n\u001b[0;32m     15\u001b[0m         \u001b[1;32mif\u001b[0m \u001b[0mcusto_atual\u001b[0m \u001b[1;33m<\u001b[0m \u001b[0mcusto_melhor\u001b[0m\u001b[1;33m:\u001b[0m\u001b[1;33m\u001b[0m\u001b[1;33m\u001b[0m\u001b[0m\n",
            "\u001b[1;32m~\\AppData\\Local\\Temp\\ipykernel_13828\\1891023690.py\u001b[0m in \u001b[0;36m?\u001b[1;34m(tsp, solucao)\u001b[0m\n\u001b[0;32m      2\u001b[0m     \u001b[0mmelhor_custo\u001b[0m \u001b[1;33m=\u001b[0m \u001b[0mcalcula_custo\u001b[0m\u001b[1;33m(\u001b[0m\u001b[0mtsp\u001b[0m\u001b[1;33m,\u001b[0m \u001b[0msolucao\u001b[0m\u001b[1;33m)\u001b[0m\u001b[1;33m\u001b[0m\u001b[1;33m\u001b[0m\u001b[0m\n\u001b[0;32m      3\u001b[0m     \u001b[0mmelhor_vizinho\u001b[0m \u001b[1;33m=\u001b[0m \u001b[0msolucao\u001b[0m\u001b[1;33m\u001b[0m\u001b[1;33m\u001b[0m\u001b[0m\n\u001b[0;32m      4\u001b[0m \u001b[1;33m\u001b[0m\u001b[0m\n\u001b[0;32m      5\u001b[0m     \u001b[1;32mfor\u001b[0m \u001b[0mvizinho\u001b[0m \u001b[1;32min\u001b[0m \u001b[0mgera_vizinhos\u001b[0m\u001b[1;33m(\u001b[0m\u001b[0msolucao\u001b[0m\u001b[1;33m)\u001b[0m\u001b[1;33m:\u001b[0m\u001b[1;33m\u001b[0m\u001b[1;33m\u001b[0m\u001b[0m\n\u001b[1;32m----> 6\u001b[1;33m         \u001b[0mcusto_atual\u001b[0m \u001b[1;33m=\u001b[0m \u001b[0mcalcula_custo\u001b[0m\u001b[1;33m(\u001b[0m\u001b[0mtsp\u001b[0m\u001b[1;33m,\u001b[0m \u001b[0mvizinho\u001b[0m\u001b[1;33m)\u001b[0m\u001b[1;33m\u001b[0m\u001b[1;33m\u001b[0m\u001b[0m\n\u001b[0m\u001b[0;32m      7\u001b[0m         \u001b[1;32mif\u001b[0m \u001b[0mcusto_atual\u001b[0m \u001b[1;33m<\u001b[0m \u001b[0mmelhor_custo\u001b[0m\u001b[1;33m:\u001b[0m\u001b[1;33m\u001b[0m\u001b[1;33m\u001b[0m\u001b[0m\n\u001b[0;32m      8\u001b[0m             \u001b[0mmelhor_custo\u001b[0m \u001b[1;33m=\u001b[0m \u001b[0mcusto_atual\u001b[0m\u001b[1;33m\u001b[0m\u001b[1;33m\u001b[0m\u001b[0m\n\u001b[0;32m      9\u001b[0m             \u001b[0mmelhor_vizinho\u001b[0m \u001b[1;33m=\u001b[0m \u001b[0mvizinho\u001b[0m\u001b[1;33m\u001b[0m\u001b[1;33m\u001b[0m\u001b[0m\n",
            "\u001b[1;32m~\\AppData\\Local\\Temp\\ipykernel_13828\\179823807.py\u001b[0m in \u001b[0;36m?\u001b[1;34m(tsp, solucao)\u001b[0m\n\u001b[0;32m     17\u001b[0m         \u001b[0mk\u001b[0m \u001b[1;33m=\u001b[0m \u001b[1;33m(\u001b[0m\u001b[0mi\u001b[0m\u001b[1;33m+\u001b[0m\u001b[1;36m1\u001b[0m\u001b[1;33m)\u001b[0m \u001b[1;33m%\u001b[0m \u001b[0mN\u001b[0m\u001b[1;33m\u001b[0m\u001b[1;33m\u001b[0m\u001b[0m\n\u001b[0;32m     18\u001b[0m         \u001b[0mcidadeA\u001b[0m \u001b[1;33m=\u001b[0m \u001b[0msolucao\u001b[0m\u001b[1;33m[\u001b[0m\u001b[0mi\u001b[0m\u001b[1;33m]\u001b[0m\u001b[1;33m\u001b[0m\u001b[1;33m\u001b[0m\u001b[0m\n\u001b[0;32m     19\u001b[0m         \u001b[0mcidadeB\u001b[0m \u001b[1;33m=\u001b[0m \u001b[0msolucao\u001b[0m\u001b[1;33m[\u001b[0m\u001b[0mk\u001b[0m\u001b[1;33m]\u001b[0m\u001b[1;33m\u001b[0m\u001b[1;33m\u001b[0m\u001b[0m\n\u001b[0;32m     20\u001b[0m \u001b[1;33m\u001b[0m\u001b[0m\n\u001b[1;32m---> 21\u001b[1;33m         \u001b[0mcusto\u001b[0m \u001b[1;33m+=\u001b[0m \u001b[0mtsp\u001b[0m\u001b[1;33m.\u001b[0m\u001b[0mloc\u001b[0m\u001b[1;33m[\u001b[0m\u001b[0mcidadeA\u001b[0m\u001b[1;33m,\u001b[0m \u001b[0mcidadeB\u001b[0m\u001b[1;33m]\u001b[0m\u001b[1;33m\u001b[0m\u001b[1;33m\u001b[0m\u001b[0m\n\u001b[0m\u001b[0;32m     22\u001b[0m \u001b[1;33m\u001b[0m\u001b[0m\n\u001b[0;32m     23\u001b[0m         \u001b[1;31m#print(tsp.loc[cidadeA, cidadeB], cidadeA,cidadeB)\u001b[0m\u001b[1;33m\u001b[0m\u001b[1;33m\u001b[0m\u001b[0m\n\u001b[0;32m     24\u001b[0m \u001b[1;33m\u001b[0m\u001b[0m\n",
            "\u001b[1;32mc:\\Users\\eriks\\Desktop\\mestrado\\ia-search-algorithms\\trab2\\.venv\\Lib\\site-packages\\pandas\\core\\indexing.py\u001b[0m in \u001b[0;36m?\u001b[1;34m(self, key)\u001b[0m\n\u001b[0;32m   1092\u001b[0m         \u001b[1;32mif\u001b[0m \u001b[0mtype\u001b[0m\u001b[1;33m(\u001b[0m\u001b[0mkey\u001b[0m\u001b[1;33m)\u001b[0m \u001b[1;32mis\u001b[0m \u001b[0mtuple\u001b[0m\u001b[1;33m:\u001b[0m\u001b[1;33m\u001b[0m\u001b[1;33m\u001b[0m\u001b[0m\n\u001b[0;32m   1093\u001b[0m             \u001b[0mkey\u001b[0m \u001b[1;33m=\u001b[0m \u001b[0mtuple\u001b[0m\u001b[1;33m(\u001b[0m\u001b[0mlist\u001b[0m\u001b[1;33m(\u001b[0m\u001b[0mx\u001b[0m\u001b[1;33m)\u001b[0m \u001b[1;32mif\u001b[0m \u001b[0mis_iterator\u001b[0m\u001b[1;33m(\u001b[0m\u001b[0mx\u001b[0m\u001b[1;33m)\u001b[0m \u001b[1;32melse\u001b[0m \u001b[0mx\u001b[0m \u001b[1;32mfor\u001b[0m \u001b[0mx\u001b[0m \u001b[1;32min\u001b[0m \u001b[0mkey\u001b[0m\u001b[1;33m)\u001b[0m\u001b[1;33m\u001b[0m\u001b[1;33m\u001b[0m\u001b[0m\n\u001b[0;32m   1094\u001b[0m             \u001b[0mkey\u001b[0m \u001b[1;33m=\u001b[0m \u001b[0mtuple\u001b[0m\u001b[1;33m(\u001b[0m\u001b[0mcom\u001b[0m\u001b[1;33m.\u001b[0m\u001b[0mapply_if_callable\u001b[0m\u001b[1;33m(\u001b[0m\u001b[0mx\u001b[0m\u001b[1;33m,\u001b[0m \u001b[0mself\u001b[0m\u001b[1;33m.\u001b[0m\u001b[0mobj\u001b[0m\u001b[1;33m)\u001b[0m \u001b[1;32mfor\u001b[0m \u001b[0mx\u001b[0m \u001b[1;32min\u001b[0m \u001b[0mkey\u001b[0m\u001b[1;33m)\u001b[0m\u001b[1;33m\u001b[0m\u001b[1;33m\u001b[0m\u001b[0m\n\u001b[0;32m   1095\u001b[0m             \u001b[1;32mif\u001b[0m \u001b[0mself\u001b[0m\u001b[1;33m.\u001b[0m\u001b[0m_is_scalar_access\u001b[0m\u001b[1;33m(\u001b[0m\u001b[0mkey\u001b[0m\u001b[1;33m)\u001b[0m\u001b[1;33m:\u001b[0m\u001b[1;33m\u001b[0m\u001b[1;33m\u001b[0m\u001b[0m\n\u001b[1;32m-> 1096\u001b[1;33m                 \u001b[1;32mreturn\u001b[0m \u001b[0mself\u001b[0m\u001b[1;33m.\u001b[0m\u001b[0mobj\u001b[0m\u001b[1;33m.\u001b[0m\u001b[0m_get_value\u001b[0m\u001b[1;33m(\u001b[0m\u001b[1;33m*\u001b[0m\u001b[0mkey\u001b[0m\u001b[1;33m,\u001b[0m \u001b[0mtakeable\u001b[0m\u001b[1;33m=\u001b[0m\u001b[0mself\u001b[0m\u001b[1;33m.\u001b[0m\u001b[0m_takeable\u001b[0m\u001b[1;33m)\u001b[0m\u001b[1;33m\u001b[0m\u001b[1;33m\u001b[0m\u001b[0m\n\u001b[0m\u001b[0;32m   1097\u001b[0m             \u001b[1;32mreturn\u001b[0m \u001b[0mself\u001b[0m\u001b[1;33m.\u001b[0m\u001b[0m_getitem_tuple\u001b[0m\u001b[1;33m(\u001b[0m\u001b[0mkey\u001b[0m\u001b[1;33m)\u001b[0m\u001b[1;33m\u001b[0m\u001b[1;33m\u001b[0m\u001b[0m\n\u001b[0;32m   1098\u001b[0m         \u001b[1;32melse\u001b[0m\u001b[1;33m:\u001b[0m\u001b[1;33m\u001b[0m\u001b[1;33m\u001b[0m\u001b[0m\n\u001b[0;32m   1099\u001b[0m             \u001b[1;31m# we by definition only have the 0th axis\u001b[0m\u001b[1;33m\u001b[0m\u001b[1;33m\u001b[0m\u001b[0m\n",
            "\u001b[1;32mc:\\Users\\eriks\\Desktop\\mestrado\\ia-search-algorithms\\trab2\\.venv\\Lib\\site-packages\\pandas\\core\\frame.py\u001b[0m in \u001b[0;36m?\u001b[1;34m(self, index, col, takeable)\u001b[0m\n\u001b[0;32m   3866\u001b[0m         \u001b[1;32mif\u001b[0m \u001b[0mtakeable\u001b[0m\u001b[1;33m:\u001b[0m\u001b[1;33m\u001b[0m\u001b[1;33m\u001b[0m\u001b[0m\n\u001b[0;32m   3867\u001b[0m             \u001b[0mseries\u001b[0m \u001b[1;33m=\u001b[0m \u001b[0mself\u001b[0m\u001b[1;33m.\u001b[0m\u001b[0m_ixs\u001b[0m\u001b[1;33m(\u001b[0m\u001b[0mcol\u001b[0m\u001b[1;33m,\u001b[0m \u001b[0maxis\u001b[0m\u001b[1;33m=\u001b[0m\u001b[1;36m1\u001b[0m\u001b[1;33m)\u001b[0m\u001b[1;33m\u001b[0m\u001b[1;33m\u001b[0m\u001b[0m\n\u001b[0;32m   3868\u001b[0m             \u001b[1;32mreturn\u001b[0m \u001b[0mseries\u001b[0m\u001b[1;33m.\u001b[0m\u001b[0m_values\u001b[0m\u001b[1;33m[\u001b[0m\u001b[0mindex\u001b[0m\u001b[1;33m]\u001b[0m\u001b[1;33m\u001b[0m\u001b[1;33m\u001b[0m\u001b[0m\n\u001b[0;32m   3869\u001b[0m \u001b[1;33m\u001b[0m\u001b[0m\n\u001b[1;32m-> 3870\u001b[1;33m         \u001b[0mseries\u001b[0m \u001b[1;33m=\u001b[0m \u001b[0mself\u001b[0m\u001b[1;33m.\u001b[0m\u001b[0m_get_item_cache\u001b[0m\u001b[1;33m(\u001b[0m\u001b[0mcol\u001b[0m\u001b[1;33m)\u001b[0m\u001b[1;33m\u001b[0m\u001b[1;33m\u001b[0m\u001b[0m\n\u001b[0m\u001b[0;32m   3871\u001b[0m         \u001b[0mengine\u001b[0m \u001b[1;33m=\u001b[0m \u001b[0mself\u001b[0m\u001b[1;33m.\u001b[0m\u001b[0mindex\u001b[0m\u001b[1;33m.\u001b[0m\u001b[0m_engine\u001b[0m\u001b[1;33m\u001b[0m\u001b[1;33m\u001b[0m\u001b[0m\n\u001b[0;32m   3872\u001b[0m \u001b[1;33m\u001b[0m\u001b[0m\n\u001b[0;32m   3873\u001b[0m         \u001b[1;32mif\u001b[0m \u001b[1;32mnot\u001b[0m \u001b[0misinstance\u001b[0m\u001b[1;33m(\u001b[0m\u001b[0mself\u001b[0m\u001b[1;33m.\u001b[0m\u001b[0mindex\u001b[0m\u001b[1;33m,\u001b[0m \u001b[0mMultiIndex\u001b[0m\u001b[1;33m)\u001b[0m\u001b[1;33m:\u001b[0m\u001b[1;33m\u001b[0m\u001b[1;33m\u001b[0m\u001b[0m\n",
            "\u001b[1;32mc:\\Users\\eriks\\Desktop\\mestrado\\ia-search-algorithms\\trab2\\.venv\\Lib\\site-packages\\pandas\\core\\frame.py\u001b[0m in \u001b[0;36m?\u001b[1;34m(self, item)\u001b[0m\n\u001b[1;32m-> 4243\u001b[1;33m     \u001b[1;32mdef\u001b[0m \u001b[0m_get_item_cache\u001b[0m\u001b[1;33m(\u001b[0m\u001b[0mself\u001b[0m\u001b[1;33m,\u001b[0m \u001b[0mitem\u001b[0m\u001b[1;33m:\u001b[0m \u001b[0mHashable\u001b[0m\u001b[1;33m)\u001b[0m \u001b[1;33m->\u001b[0m \u001b[0mSeries\u001b[0m\u001b[1;33m:\u001b[0m\u001b[1;33m\u001b[0m\u001b[1;33m\u001b[0m\u001b[0m\n\u001b[0m\u001b[0;32m   4244\u001b[0m         \u001b[1;34m\"\"\"Return the cached item, item represents a label indexer.\"\"\"\u001b[0m\u001b[1;33m\u001b[0m\u001b[1;33m\u001b[0m\u001b[0m\n\u001b[0;32m   4245\u001b[0m         \u001b[1;32mif\u001b[0m \u001b[0musing_copy_on_write\u001b[0m\u001b[1;33m(\u001b[0m\u001b[1;33m)\u001b[0m\u001b[1;33m:\u001b[0m\u001b[1;33m\u001b[0m\u001b[1;33m\u001b[0m\u001b[0m\n\u001b[0;32m   4246\u001b[0m             \u001b[0mloc\u001b[0m \u001b[1;33m=\u001b[0m \u001b[0mself\u001b[0m\u001b[1;33m.\u001b[0m\u001b[0mcolumns\u001b[0m\u001b[1;33m.\u001b[0m\u001b[0mget_loc\u001b[0m\u001b[1;33m(\u001b[0m\u001b[0mitem\u001b[0m\u001b[1;33m)\u001b[0m\u001b[1;33m\u001b[0m\u001b[1;33m\u001b[0m\u001b[0m\n",
            "\u001b[1;31mKeyboardInterrupt\u001b[0m: "
          ]
        }
      ],
      "source": [
        "###################################\n",
        "# PROBLEMA GERADO ALEATORIAMENTE  #\n",
        "###################################\n",
        "\n",
        "# cria instancia do problema com n cidades\n",
        "\n",
        "n_cidades=20\n",
        "df_coordenadas = gera_coordenadas_aleatorias(n_cidades)\n",
        "\n",
        "tsp = gera_problema_tsp(df_coordenadas)\n",
        "\n",
        "# numero de vezes que executará cada algoritmo\n",
        "n_vezes = 30\n",
        "\n",
        "# Executa N vezes para gerar estatísticas da variável custo\n",
        "df_custo, df_history, df_simulated_annealing = executa_n_vezes(tsp, algoritmos, n_vezes)"
      ]
    },
    {
      "attachments": {},
      "cell_type": "markdown",
      "metadata": {
        "id": "45ka8n7U3xEJ"
      },
      "source": [
        "##### Box Plots"
      ]
    },
    {
      "cell_type": "code",
      "execution_count": null,
      "metadata": {},
      "outputs": [
        {
          "data": {
            "text/html": [
              "<div>\n",
              "<style scoped>\n",
              "    .dataframe tbody tr th:only-of-type {\n",
              "        vertical-align: middle;\n",
              "    }\n",
              "\n",
              "    .dataframe tbody tr th {\n",
              "        vertical-align: top;\n",
              "    }\n",
              "\n",
              "    .dataframe thead th {\n",
              "        text-align: right;\n",
              "    }\n",
              "</style>\n",
              "<table border=\"1\" class=\"dataframe\">\n",
              "  <thead>\n",
              "    <tr style=\"text-align: right;\">\n",
              "      <th>ALGORITMO</th>\n",
              "      <th>Simulated Annealing</th>\n",
              "      <th>Hill-Climbing</th>\n",
              "      <th>Hill-Climbing Restart</th>\n",
              "      <th>Genetic Algorithm</th>\n",
              "    </tr>\n",
              "  </thead>\n",
              "  <tbody>\n",
              "    <tr>\n",
              "      <th>0</th>\n",
              "      <td>1689.611705</td>\n",
              "      <td>337.022627</td>\n",
              "      <td>363.949880</td>\n",
              "      <td>1454.493861</td>\n",
              "    </tr>\n",
              "    <tr>\n",
              "      <th>1</th>\n",
              "      <td>1705.849014</td>\n",
              "      <td>415.644178</td>\n",
              "      <td>351.475993</td>\n",
              "      <td>1352.544614</td>\n",
              "    </tr>\n",
              "    <tr>\n",
              "      <th>2</th>\n",
              "      <td>1686.932332</td>\n",
              "      <td>330.655903</td>\n",
              "      <td>367.233011</td>\n",
              "      <td>1403.506989</td>\n",
              "    </tr>\n",
              "    <tr>\n",
              "      <th>3</th>\n",
              "      <td>1716.112661</td>\n",
              "      <td>381.029887</td>\n",
              "      <td>377.450896</td>\n",
              "      <td>1389.755757</td>\n",
              "    </tr>\n",
              "    <tr>\n",
              "      <th>4</th>\n",
              "      <td>1866.255385</td>\n",
              "      <td>316.553062</td>\n",
              "      <td>392.193016</td>\n",
              "      <td>1397.644836</td>\n",
              "    </tr>\n",
              "    <tr>\n",
              "      <th>...</th>\n",
              "      <td>...</td>\n",
              "      <td>...</td>\n",
              "      <td>...</td>\n",
              "      <td>...</td>\n",
              "    </tr>\n",
              "    <tr>\n",
              "      <th>95</th>\n",
              "      <td>1537.649249</td>\n",
              "      <td>370.447805</td>\n",
              "      <td>349.565291</td>\n",
              "      <td>1394.938240</td>\n",
              "    </tr>\n",
              "    <tr>\n",
              "      <th>96</th>\n",
              "      <td>1866.255385</td>\n",
              "      <td>351.024767</td>\n",
              "      <td>399.210783</td>\n",
              "      <td>1465.682575</td>\n",
              "    </tr>\n",
              "    <tr>\n",
              "      <th>97</th>\n",
              "      <td>1866.255385</td>\n",
              "      <td>362.366527</td>\n",
              "      <td>347.735688</td>\n",
              "      <td>1465.313742</td>\n",
              "    </tr>\n",
              "    <tr>\n",
              "      <th>98</th>\n",
              "      <td>1784.449236</td>\n",
              "      <td>328.481867</td>\n",
              "      <td>387.847661</td>\n",
              "      <td>1248.318666</td>\n",
              "    </tr>\n",
              "    <tr>\n",
              "      <th>99</th>\n",
              "      <td>1806.063914</td>\n",
              "      <td>306.719254</td>\n",
              "      <td>374.567317</td>\n",
              "      <td>1358.428108</td>\n",
              "    </tr>\n",
              "  </tbody>\n",
              "</table>\n",
              "<p>100 rows × 4 columns</p>\n",
              "</div>"
            ],
            "text/plain": [
              "ALGORITMO  Simulated Annealing  Hill-Climbing  Hill-Climbing Restart  \\\n",
              "0                  1689.611705     337.022627             363.949880   \n",
              "1                  1705.849014     415.644178             351.475993   \n",
              "2                  1686.932332     330.655903             367.233011   \n",
              "3                  1716.112661     381.029887             377.450896   \n",
              "4                  1866.255385     316.553062             392.193016   \n",
              "..                         ...            ...                    ...   \n",
              "95                 1537.649249     370.447805             349.565291   \n",
              "96                 1866.255385     351.024767             399.210783   \n",
              "97                 1866.255385     362.366527             347.735688   \n",
              "98                 1784.449236     328.481867             387.847661   \n",
              "99                 1806.063914     306.719254             374.567317   \n",
              "\n",
              "ALGORITMO  Genetic Algorithm  \n",
              "0                1454.493861  \n",
              "1                1352.544614  \n",
              "2                1403.506989  \n",
              "3                1389.755757  \n",
              "4                1397.644836  \n",
              "..                       ...  \n",
              "95               1394.938240  \n",
              "96               1465.682575  \n",
              "97               1465.313742  \n",
              "98               1248.318666  \n",
              "99               1358.428108  \n",
              "\n",
              "[100 rows x 4 columns]"
            ]
          },
          "execution_count": 380,
          "metadata": {},
          "output_type": "execute_result"
        }
      ],
      "source": [
        "df_custo_T = df_custo.T\n",
        "df_custo_T"
      ]
    },
    {
      "cell_type": "code",
      "execution_count": null,
      "metadata": {},
      "outputs": [
        {
          "data": {
            "application/vnd.plotly.v1+json": {
              "config": {
                "plotlyServerURL": "https://plot.ly"
              },
              "data": [
                {
                  "alignmentgroup": "True",
                  "boxpoints": "all",
                  "hovertemplate": "variable=%{x}<br>value=%{y}<extra></extra>",
                  "legendgroup": "",
                  "marker": {
                    "color": "#636efa"
                  },
                  "name": "",
                  "notched": false,
                  "offsetgroup": "",
                  "orientation": "v",
                  "showlegend": false,
                  "type": "box",
                  "x": [
                    "Simulated Annealing",
                    "Simulated Annealing",
                    "Simulated Annealing",
                    "Simulated Annealing",
                    "Simulated Annealing",
                    "Simulated Annealing",
                    "Simulated Annealing",
                    "Simulated Annealing",
                    "Simulated Annealing",
                    "Simulated Annealing",
                    "Simulated Annealing",
                    "Simulated Annealing",
                    "Simulated Annealing",
                    "Simulated Annealing",
                    "Simulated Annealing",
                    "Simulated Annealing",
                    "Simulated Annealing",
                    "Simulated Annealing",
                    "Simulated Annealing",
                    "Simulated Annealing",
                    "Simulated Annealing",
                    "Simulated Annealing",
                    "Simulated Annealing",
                    "Simulated Annealing",
                    "Simulated Annealing",
                    "Simulated Annealing",
                    "Simulated Annealing",
                    "Simulated Annealing",
                    "Simulated Annealing",
                    "Simulated Annealing",
                    "Simulated Annealing",
                    "Simulated Annealing",
                    "Simulated Annealing",
                    "Simulated Annealing",
                    "Simulated Annealing",
                    "Simulated Annealing",
                    "Simulated Annealing",
                    "Simulated Annealing",
                    "Simulated Annealing",
                    "Simulated Annealing",
                    "Simulated Annealing",
                    "Simulated Annealing",
                    "Simulated Annealing",
                    "Simulated Annealing",
                    "Simulated Annealing",
                    "Simulated Annealing",
                    "Simulated Annealing",
                    "Simulated Annealing",
                    "Simulated Annealing",
                    "Simulated Annealing",
                    "Simulated Annealing",
                    "Simulated Annealing",
                    "Simulated Annealing",
                    "Simulated Annealing",
                    "Simulated Annealing",
                    "Simulated Annealing",
                    "Simulated Annealing",
                    "Simulated Annealing",
                    "Simulated Annealing",
                    "Simulated Annealing",
                    "Simulated Annealing",
                    "Simulated Annealing",
                    "Simulated Annealing",
                    "Simulated Annealing",
                    "Simulated Annealing",
                    "Simulated Annealing",
                    "Simulated Annealing",
                    "Simulated Annealing",
                    "Simulated Annealing",
                    "Simulated Annealing",
                    "Simulated Annealing",
                    "Simulated Annealing",
                    "Simulated Annealing",
                    "Simulated Annealing",
                    "Simulated Annealing",
                    "Simulated Annealing",
                    "Simulated Annealing",
                    "Simulated Annealing",
                    "Simulated Annealing",
                    "Simulated Annealing",
                    "Simulated Annealing",
                    "Simulated Annealing",
                    "Simulated Annealing",
                    "Simulated Annealing",
                    "Simulated Annealing",
                    "Simulated Annealing",
                    "Simulated Annealing",
                    "Simulated Annealing",
                    "Simulated Annealing",
                    "Simulated Annealing",
                    "Simulated Annealing",
                    "Simulated Annealing",
                    "Simulated Annealing",
                    "Simulated Annealing",
                    "Simulated Annealing",
                    "Simulated Annealing",
                    "Simulated Annealing",
                    "Simulated Annealing",
                    "Simulated Annealing",
                    "Simulated Annealing",
                    "Hill-Climbing",
                    "Hill-Climbing",
                    "Hill-Climbing",
                    "Hill-Climbing",
                    "Hill-Climbing",
                    "Hill-Climbing",
                    "Hill-Climbing",
                    "Hill-Climbing",
                    "Hill-Climbing",
                    "Hill-Climbing",
                    "Hill-Climbing",
                    "Hill-Climbing",
                    "Hill-Climbing",
                    "Hill-Climbing",
                    "Hill-Climbing",
                    "Hill-Climbing",
                    "Hill-Climbing",
                    "Hill-Climbing",
                    "Hill-Climbing",
                    "Hill-Climbing",
                    "Hill-Climbing",
                    "Hill-Climbing",
                    "Hill-Climbing",
                    "Hill-Climbing",
                    "Hill-Climbing",
                    "Hill-Climbing",
                    "Hill-Climbing",
                    "Hill-Climbing",
                    "Hill-Climbing",
                    "Hill-Climbing",
                    "Hill-Climbing",
                    "Hill-Climbing",
                    "Hill-Climbing",
                    "Hill-Climbing",
                    "Hill-Climbing",
                    "Hill-Climbing",
                    "Hill-Climbing",
                    "Hill-Climbing",
                    "Hill-Climbing",
                    "Hill-Climbing",
                    "Hill-Climbing",
                    "Hill-Climbing",
                    "Hill-Climbing",
                    "Hill-Climbing",
                    "Hill-Climbing",
                    "Hill-Climbing",
                    "Hill-Climbing",
                    "Hill-Climbing",
                    "Hill-Climbing",
                    "Hill-Climbing",
                    "Hill-Climbing",
                    "Hill-Climbing",
                    "Hill-Climbing",
                    "Hill-Climbing",
                    "Hill-Climbing",
                    "Hill-Climbing",
                    "Hill-Climbing",
                    "Hill-Climbing",
                    "Hill-Climbing",
                    "Hill-Climbing",
                    "Hill-Climbing",
                    "Hill-Climbing",
                    "Hill-Climbing",
                    "Hill-Climbing",
                    "Hill-Climbing",
                    "Hill-Climbing",
                    "Hill-Climbing",
                    "Hill-Climbing",
                    "Hill-Climbing",
                    "Hill-Climbing",
                    "Hill-Climbing",
                    "Hill-Climbing",
                    "Hill-Climbing",
                    "Hill-Climbing",
                    "Hill-Climbing",
                    "Hill-Climbing",
                    "Hill-Climbing",
                    "Hill-Climbing",
                    "Hill-Climbing",
                    "Hill-Climbing",
                    "Hill-Climbing",
                    "Hill-Climbing",
                    "Hill-Climbing",
                    "Hill-Climbing",
                    "Hill-Climbing",
                    "Hill-Climbing",
                    "Hill-Climbing",
                    "Hill-Climbing",
                    "Hill-Climbing",
                    "Hill-Climbing",
                    "Hill-Climbing",
                    "Hill-Climbing",
                    "Hill-Climbing",
                    "Hill-Climbing",
                    "Hill-Climbing",
                    "Hill-Climbing",
                    "Hill-Climbing",
                    "Hill-Climbing",
                    "Hill-Climbing",
                    "Hill-Climbing",
                    "Hill-Climbing Restart",
                    "Hill-Climbing Restart",
                    "Hill-Climbing Restart",
                    "Hill-Climbing Restart",
                    "Hill-Climbing Restart",
                    "Hill-Climbing Restart",
                    "Hill-Climbing Restart",
                    "Hill-Climbing Restart",
                    "Hill-Climbing Restart",
                    "Hill-Climbing Restart",
                    "Hill-Climbing Restart",
                    "Hill-Climbing Restart",
                    "Hill-Climbing Restart",
                    "Hill-Climbing Restart",
                    "Hill-Climbing Restart",
                    "Hill-Climbing Restart",
                    "Hill-Climbing Restart",
                    "Hill-Climbing Restart",
                    "Hill-Climbing Restart",
                    "Hill-Climbing Restart",
                    "Hill-Climbing Restart",
                    "Hill-Climbing Restart",
                    "Hill-Climbing Restart",
                    "Hill-Climbing Restart",
                    "Hill-Climbing Restart",
                    "Hill-Climbing Restart",
                    "Hill-Climbing Restart",
                    "Hill-Climbing Restart",
                    "Hill-Climbing Restart",
                    "Hill-Climbing Restart",
                    "Hill-Climbing Restart",
                    "Hill-Climbing Restart",
                    "Hill-Climbing Restart",
                    "Hill-Climbing Restart",
                    "Hill-Climbing Restart",
                    "Hill-Climbing Restart",
                    "Hill-Climbing Restart",
                    "Hill-Climbing Restart",
                    "Hill-Climbing Restart",
                    "Hill-Climbing Restart",
                    "Hill-Climbing Restart",
                    "Hill-Climbing Restart",
                    "Hill-Climbing Restart",
                    "Hill-Climbing Restart",
                    "Hill-Climbing Restart",
                    "Hill-Climbing Restart",
                    "Hill-Climbing Restart",
                    "Hill-Climbing Restart",
                    "Hill-Climbing Restart",
                    "Hill-Climbing Restart",
                    "Hill-Climbing Restart",
                    "Hill-Climbing Restart",
                    "Hill-Climbing Restart",
                    "Hill-Climbing Restart",
                    "Hill-Climbing Restart",
                    "Hill-Climbing Restart",
                    "Hill-Climbing Restart",
                    "Hill-Climbing Restart",
                    "Hill-Climbing Restart",
                    "Hill-Climbing Restart",
                    "Hill-Climbing Restart",
                    "Hill-Climbing Restart",
                    "Hill-Climbing Restart",
                    "Hill-Climbing Restart",
                    "Hill-Climbing Restart",
                    "Hill-Climbing Restart",
                    "Hill-Climbing Restart",
                    "Hill-Climbing Restart",
                    "Hill-Climbing Restart",
                    "Hill-Climbing Restart",
                    "Hill-Climbing Restart",
                    "Hill-Climbing Restart",
                    "Hill-Climbing Restart",
                    "Hill-Climbing Restart",
                    "Hill-Climbing Restart",
                    "Hill-Climbing Restart",
                    "Hill-Climbing Restart",
                    "Hill-Climbing Restart",
                    "Hill-Climbing Restart",
                    "Hill-Climbing Restart",
                    "Hill-Climbing Restart",
                    "Hill-Climbing Restart",
                    "Hill-Climbing Restart",
                    "Hill-Climbing Restart",
                    "Hill-Climbing Restart",
                    "Hill-Climbing Restart",
                    "Hill-Climbing Restart",
                    "Hill-Climbing Restart",
                    "Hill-Climbing Restart",
                    "Hill-Climbing Restart",
                    "Hill-Climbing Restart",
                    "Hill-Climbing Restart",
                    "Hill-Climbing Restart",
                    "Hill-Climbing Restart",
                    "Hill-Climbing Restart",
                    "Hill-Climbing Restart",
                    "Hill-Climbing Restart",
                    "Hill-Climbing Restart",
                    "Hill-Climbing Restart",
                    "Hill-Climbing Restart",
                    "Genetic Algorithm",
                    "Genetic Algorithm",
                    "Genetic Algorithm",
                    "Genetic Algorithm",
                    "Genetic Algorithm",
                    "Genetic Algorithm",
                    "Genetic Algorithm",
                    "Genetic Algorithm",
                    "Genetic Algorithm",
                    "Genetic Algorithm",
                    "Genetic Algorithm",
                    "Genetic Algorithm",
                    "Genetic Algorithm",
                    "Genetic Algorithm",
                    "Genetic Algorithm",
                    "Genetic Algorithm",
                    "Genetic Algorithm",
                    "Genetic Algorithm",
                    "Genetic Algorithm",
                    "Genetic Algorithm",
                    "Genetic Algorithm",
                    "Genetic Algorithm",
                    "Genetic Algorithm",
                    "Genetic Algorithm",
                    "Genetic Algorithm",
                    "Genetic Algorithm",
                    "Genetic Algorithm",
                    "Genetic Algorithm",
                    "Genetic Algorithm",
                    "Genetic Algorithm",
                    "Genetic Algorithm",
                    "Genetic Algorithm",
                    "Genetic Algorithm",
                    "Genetic Algorithm",
                    "Genetic Algorithm",
                    "Genetic Algorithm",
                    "Genetic Algorithm",
                    "Genetic Algorithm",
                    "Genetic Algorithm",
                    "Genetic Algorithm",
                    "Genetic Algorithm",
                    "Genetic Algorithm",
                    "Genetic Algorithm",
                    "Genetic Algorithm",
                    "Genetic Algorithm",
                    "Genetic Algorithm",
                    "Genetic Algorithm",
                    "Genetic Algorithm",
                    "Genetic Algorithm",
                    "Genetic Algorithm",
                    "Genetic Algorithm",
                    "Genetic Algorithm",
                    "Genetic Algorithm",
                    "Genetic Algorithm",
                    "Genetic Algorithm",
                    "Genetic Algorithm",
                    "Genetic Algorithm",
                    "Genetic Algorithm",
                    "Genetic Algorithm",
                    "Genetic Algorithm",
                    "Genetic Algorithm",
                    "Genetic Algorithm",
                    "Genetic Algorithm",
                    "Genetic Algorithm",
                    "Genetic Algorithm",
                    "Genetic Algorithm",
                    "Genetic Algorithm",
                    "Genetic Algorithm",
                    "Genetic Algorithm",
                    "Genetic Algorithm",
                    "Genetic Algorithm",
                    "Genetic Algorithm",
                    "Genetic Algorithm",
                    "Genetic Algorithm",
                    "Genetic Algorithm",
                    "Genetic Algorithm",
                    "Genetic Algorithm",
                    "Genetic Algorithm",
                    "Genetic Algorithm",
                    "Genetic Algorithm",
                    "Genetic Algorithm",
                    "Genetic Algorithm",
                    "Genetic Algorithm",
                    "Genetic Algorithm",
                    "Genetic Algorithm",
                    "Genetic Algorithm",
                    "Genetic Algorithm",
                    "Genetic Algorithm",
                    "Genetic Algorithm",
                    "Genetic Algorithm",
                    "Genetic Algorithm",
                    "Genetic Algorithm",
                    "Genetic Algorithm",
                    "Genetic Algorithm",
                    "Genetic Algorithm",
                    "Genetic Algorithm",
                    "Genetic Algorithm",
                    "Genetic Algorithm",
                    "Genetic Algorithm",
                    "Genetic Algorithm"
                  ],
                  "x0": " ",
                  "xaxis": "x",
                  "y": [
                    1689.6117048896874,
                    1705.8490139795524,
                    1686.932332367836,
                    1716.1126614104853,
                    1866.255385316141,
                    1866.255385316141,
                    1610.260876582588,
                    1728.2209488660774,
                    1747.4246839928717,
                    1535.475868936545,
                    1762.1942969688387,
                    1866.255385316141,
                    1826.0286615761386,
                    1834.5939381864216,
                    1866.255385316141,
                    1779.81970491602,
                    1865.8483556290075,
                    1866.255385316141,
                    1839.7909193167502,
                    1866.255385316141,
                    1742.0264717987557,
                    1866.255385316141,
                    1555.7304314307921,
                    1866.255385316141,
                    1815.7105990489988,
                    1866.255385316141,
                    1866.255385316141,
                    1738.1824410609395,
                    1865.8662399376,
                    1866.255385316141,
                    1838.602990916853,
                    1866.255385316141,
                    1838.602990916853,
                    1797.1491348006628,
                    1800.019159809338,
                    1842.0733345061296,
                    1854.6937173499625,
                    1866.255385316141,
                    1866.255385316141,
                    1849.531684998817,
                    1845.299126614699,
                    1838.0078610589264,
                    1857.355441569695,
                    1826.9582278667187,
                    1843.4117153885882,
                    1804.8912162274748,
                    1832.652230049492,
                    1646.592917512098,
                    1698.8191920557247,
                    1655.33256278677,
                    1611.3141319273075,
                    1859.6051811980067,
                    1866.255385316141,
                    1823.2319907505682,
                    1649.2783081002176,
                    1866.255385316141,
                    1709.55364295011,
                    1864.6044554275072,
                    1681.7869642806493,
                    1661.921390716994,
                    1678.1045860181125,
                    1866.255385316141,
                    1758.0662164904795,
                    1810.50558777074,
                    1797.9109472147559,
                    1838.602990916853,
                    1835.1716625042966,
                    1750.842121031939,
                    1717.1359952420066,
                    1866.255385316141,
                    1843.4344580698519,
                    1866.255385316141,
                    1657.3815902290828,
                    1866.255385316141,
                    1840.2129366884712,
                    1802.2338525404264,
                    1866.255385316141,
                    1691.891861072129,
                    1723.0241323037312,
                    1698.8191920557247,
                    1715.162821109573,
                    1866.255385316141,
                    1817.378150729932,
                    1812.3153221141379,
                    1839.1393531482304,
                    1622.9318605615929,
                    1866.255385316141,
                    1866.255385316141,
                    1866.255385316141,
                    1866.255385316141,
                    1621.8603521249959,
                    1823.1901112418689,
                    1866.255385316141,
                    1866.255385316141,
                    1866.255385316141,
                    1537.6492487826679,
                    1866.255385316141,
                    1866.255385316141,
                    1784.4492356916392,
                    1806.063914310183,
                    337.02262665129376,
                    415.64417816763773,
                    330.6559031617479,
                    381.0298872865179,
                    316.55306228581236,
                    364.17507932105576,
                    373.82423855071806,
                    352.5675696389474,
                    346.843768788551,
                    425.7903946101747,
                    376.54290699685765,
                    371.882250325688,
                    321.738831171099,
                    379.40684066320875,
                    356.94126033479307,
                    359.3566683092679,
                    321.8938480521464,
                    361.2627580920363,
                    421.5049068847018,
                    353.1837258848384,
                    358.3414668530891,
                    374.8862883186664,
                    323.68056195906314,
                    458.27419461271404,
                    361.4240358621894,
                    408.23882492904136,
                    372.60728117178957,
                    324.2251358326408,
                    359.22922787042637,
                    295.1972044023207,
                    347.60438521780304,
                    360.4672046514492,
                    403.1037845448439,
                    341.45932367036636,
                    376.8152419080005,
                    317.6565495889039,
                    325.4062090041803,
                    359.37073155102985,
                    465.4116464017702,
                    364.5846006462616,
                    375.604195927924,
                    327.51458591060094,
                    359.6226090034005,
                    424.56690073412614,
                    369.172631712898,
                    366.71619990942395,
                    317.54759444008283,
                    326.35773549209193,
                    356.8187131771808,
                    401.72251392341815,
                    414.41323410232724,
                    366.4649720261213,
                    346.51636995887026,
                    324.39027877274754,
                    372.6721709759771,
                    331.89945340138314,
                    356.5839810687899,
                    418.6502979147608,
                    353.7366718769583,
                    378.64177241502375,
                    364.94708466999555,
                    304.59421339830146,
                    328.15031409669734,
                    295.1972044023207,
                    370.43552545736077,
                    347.88868199029383,
                    393.3492580491246,
                    330.2583654593432,
                    389.78384751001187,
                    386.7738493613802,
                    363.1576780878934,
                    315.33807870989614,
                    362.8982175049456,
                    415.85235973302457,
                    338.7499347930465,
                    317.72885145797125,
                    345.76631008449357,
                    357.52238940894966,
                    349.7822323855477,
                    349.91574709529505,
                    389.46047934202016,
                    341.68022120222844,
                    359.3850442896808,
                    388.3769500117302,
                    332.54339449655805,
                    358.649567925517,
                    327.41496160941017,
                    358.25739412145174,
                    437.2742383707572,
                    388.552487003703,
                    374.6314916938927,
                    346.384707454377,
                    354.28866513024803,
                    405.1706966719609,
                    332.3984904800534,
                    370.4478045809484,
                    351.0247665339799,
                    362.36652675959874,
                    328.48186671161045,
                    306.7192538691709,
                    363.94987971779165,
                    351.4759930382857,
                    367.23301074626687,
                    377.45089603575565,
                    392.1930162901104,
                    354.64091041019225,
                    585.229043025915,
                    364.58489667027595,
                    366.3431622533864,
                    401.3123574782727,
                    374.7263467035856,
                    368.01371758153243,
                    380.52989207496995,
                    390.98089580114134,
                    389.0330120472277,
                    362.4325290311849,
                    356.82256145680265,
                    373.6446528731885,
                    335.9168511249619,
                    554.4797502761214,
                    365.66572676837075,
                    347.16076247163164,
                    369.9404473754198,
                    366.9421017565558,
                    447.31854304131787,
                    421.88203576238465,
                    622.4814861124142,
                    358.3327674761647,
                    323.0465954273091,
                    351.8439123674879,
                    321.8053016908708,
                    377.3535301442939,
                    375.55017807931716,
                    379.1295142203723,
                    360.81518939394374,
                    329.94894113451323,
                    374.6521361288904,
                    400.4434875199325,
                    308.6574307778551,
                    345.1506080454904,
                    365.44704114545544,
                    357.97392621194064,
                    362.62303141103416,
                    446.3711415008791,
                    382.4943740114558,
                    517.9731469419072,
                    378.0747632729949,
                    410.2392863684565,
                    345.64145268849404,
                    402.8454362077634,
                    618.922307750078,
                    358.0214565218303,
                    416.4259594203015,
                    448.78600301867874,
                    616.823327236935,
                    354.5272547172025,
                    386.28210224990715,
                    359.5940392711925,
                    345.7108000697706,
                    331.4692617407924,
                    331.1743607005468,
                    356.8835934915356,
                    398.61691993327906,
                    373.62106522846017,
                    658.0199996007644,
                    631.528144442462,
                    373.0001502762051,
                    354.31680266693934,
                    363.7883715794745,
                    335.5429558829384,
                    386.32405677672386,
                    403.04819324430537,
                    331.0500710051117,
                    341.82840872284146,
                    421.5614597100034,
                    394.89242232444803,
                    339.3619789414814,
                    362.7167574205609,
                    425.8328795114082,
                    352.8780938965406,
                    649.180572202395,
                    324.9659108306197,
                    373.1325945416332,
                    792.5036040286376,
                    467.82140801431615,
                    627.8763201440623,
                    438.45139008084425,
                    374.2693382788326,
                    391.4543121073719,
                    367.11243467994046,
                    419.10446932214575,
                    639.1880041072995,
                    634.1266179909755,
                    311.39076317468493,
                    368.2350564621459,
                    349.56529113757637,
                    399.210782764973,
                    347.73568835089867,
                    387.84766057928675,
                    374.56731653221294,
                    1454.493861052884,
                    1352.5446135949676,
                    1403.5069887601353,
                    1389.7557571570983,
                    1397.644835736112,
                    1466.3047549621288,
                    1383.0655048220772,
                    1306.374474237258,
                    1388.7969771393728,
                    1414.4065346560942,
                    1428.6999797484614,
                    1410.4287415515741,
                    1399.4242766554626,
                    1451.7759608612291,
                    1359.7190475736563,
                    1439.7055725866212,
                    1331.1494981722392,
                    1387.4239690805712,
                    1438.42059776428,
                    1461.2735835022138,
                    1493.7499071630084,
                    1315.7158503512376,
                    1427.9523688849542,
                    1331.0422184174088,
                    1473.0822954013115,
                    1465.8782939337955,
                    1460.7423279485904,
                    1428.343076539902,
                    1378.3019332263218,
                    1428.6809862268308,
                    1412.5878740751298,
                    1420.3005536917865,
                    1416.6101145192958,
                    1383.5174071847093,
                    1433.5609465706275,
                    1444.0447604887504,
                    1413.9085040314906,
                    1426.4493346964127,
                    1344.8290019289207,
                    1439.4579550186877,
                    1431.1908030975897,
                    1459.6305357858848,
                    1406.29178519473,
                    1321.7724225335173,
                    1363.7301724976783,
                    1457.219455713519,
                    1420.570902104341,
                    1419.317230583479,
                    1501.8828846231645,
                    1410.7068639900804,
                    1406.8305213292426,
                    1274.4352755696823,
                    1409.5800621360347,
                    1411.1393412177142,
                    1375.3651239479043,
                    1380.521264682141,
                    1371.6598156014315,
                    1435.1207434505452,
                    1423.1417183025767,
                    1465.9053989668644,
                    1436.6340055137923,
                    1425.1517692839764,
                    1450.9448057405457,
                    1352.1707607064066,
                    1471.9583170491312,
                    1455.4249886036994,
                    1404.408698184675,
                    1311.0296746271176,
                    1417.746683455933,
                    1396.0203259287457,
                    1422.396915282034,
                    1464.7534557880563,
                    1407.5741919205595,
                    1498.8184182822788,
                    1376.0325251053011,
                    1500.7524615803986,
                    1470.604131249495,
                    1413.8524234343686,
                    1479.3689211048186,
                    1439.6714138822856,
                    1253.8197902406391,
                    1374.9256891496586,
                    1453.9035349586795,
                    1414.4674172102568,
                    1433.4802443170454,
                    1415.1233951282154,
                    1354.4241435370905,
                    1486.4411851481893,
                    1379.5302677177128,
                    1381.7788781289485,
                    1406.0901043310414,
                    1421.6063148132655,
                    1443.662943780815,
                    1455.7737615938993,
                    1399.0407767895624,
                    1394.9382396467051,
                    1465.682574634174,
                    1465.3137415970193,
                    1248.3186664387556,
                    1358.4281078567692
                  ],
                  "y0": " ",
                  "yaxis": "y"
                }
              ],
              "layout": {
                "boxmode": "group",
                "legend": {
                  "tracegroupgap": 0
                },
                "margin": {
                  "t": 60
                },
                "template": {
                  "data": {
                    "bar": [
                      {
                        "error_x": {
                          "color": "#2a3f5f"
                        },
                        "error_y": {
                          "color": "#2a3f5f"
                        },
                        "marker": {
                          "line": {
                            "color": "#E5ECF6",
                            "width": 0.5
                          },
                          "pattern": {
                            "fillmode": "overlay",
                            "size": 10,
                            "solidity": 0.2
                          }
                        },
                        "type": "bar"
                      }
                    ],
                    "barpolar": [
                      {
                        "marker": {
                          "line": {
                            "color": "#E5ECF6",
                            "width": 0.5
                          },
                          "pattern": {
                            "fillmode": "overlay",
                            "size": 10,
                            "solidity": 0.2
                          }
                        },
                        "type": "barpolar"
                      }
                    ],
                    "carpet": [
                      {
                        "aaxis": {
                          "endlinecolor": "#2a3f5f",
                          "gridcolor": "white",
                          "linecolor": "white",
                          "minorgridcolor": "white",
                          "startlinecolor": "#2a3f5f"
                        },
                        "baxis": {
                          "endlinecolor": "#2a3f5f",
                          "gridcolor": "white",
                          "linecolor": "white",
                          "minorgridcolor": "white",
                          "startlinecolor": "#2a3f5f"
                        },
                        "type": "carpet"
                      }
                    ],
                    "choropleth": [
                      {
                        "colorbar": {
                          "outlinewidth": 0,
                          "ticks": ""
                        },
                        "type": "choropleth"
                      }
                    ],
                    "contour": [
                      {
                        "colorbar": {
                          "outlinewidth": 0,
                          "ticks": ""
                        },
                        "colorscale": [
                          [
                            0,
                            "#0d0887"
                          ],
                          [
                            0.1111111111111111,
                            "#46039f"
                          ],
                          [
                            0.2222222222222222,
                            "#7201a8"
                          ],
                          [
                            0.3333333333333333,
                            "#9c179e"
                          ],
                          [
                            0.4444444444444444,
                            "#bd3786"
                          ],
                          [
                            0.5555555555555556,
                            "#d8576b"
                          ],
                          [
                            0.6666666666666666,
                            "#ed7953"
                          ],
                          [
                            0.7777777777777778,
                            "#fb9f3a"
                          ],
                          [
                            0.8888888888888888,
                            "#fdca26"
                          ],
                          [
                            1,
                            "#f0f921"
                          ]
                        ],
                        "type": "contour"
                      }
                    ],
                    "contourcarpet": [
                      {
                        "colorbar": {
                          "outlinewidth": 0,
                          "ticks": ""
                        },
                        "type": "contourcarpet"
                      }
                    ],
                    "heatmap": [
                      {
                        "colorbar": {
                          "outlinewidth": 0,
                          "ticks": ""
                        },
                        "colorscale": [
                          [
                            0,
                            "#0d0887"
                          ],
                          [
                            0.1111111111111111,
                            "#46039f"
                          ],
                          [
                            0.2222222222222222,
                            "#7201a8"
                          ],
                          [
                            0.3333333333333333,
                            "#9c179e"
                          ],
                          [
                            0.4444444444444444,
                            "#bd3786"
                          ],
                          [
                            0.5555555555555556,
                            "#d8576b"
                          ],
                          [
                            0.6666666666666666,
                            "#ed7953"
                          ],
                          [
                            0.7777777777777778,
                            "#fb9f3a"
                          ],
                          [
                            0.8888888888888888,
                            "#fdca26"
                          ],
                          [
                            1,
                            "#f0f921"
                          ]
                        ],
                        "type": "heatmap"
                      }
                    ],
                    "heatmapgl": [
                      {
                        "colorbar": {
                          "outlinewidth": 0,
                          "ticks": ""
                        },
                        "colorscale": [
                          [
                            0,
                            "#0d0887"
                          ],
                          [
                            0.1111111111111111,
                            "#46039f"
                          ],
                          [
                            0.2222222222222222,
                            "#7201a8"
                          ],
                          [
                            0.3333333333333333,
                            "#9c179e"
                          ],
                          [
                            0.4444444444444444,
                            "#bd3786"
                          ],
                          [
                            0.5555555555555556,
                            "#d8576b"
                          ],
                          [
                            0.6666666666666666,
                            "#ed7953"
                          ],
                          [
                            0.7777777777777778,
                            "#fb9f3a"
                          ],
                          [
                            0.8888888888888888,
                            "#fdca26"
                          ],
                          [
                            1,
                            "#f0f921"
                          ]
                        ],
                        "type": "heatmapgl"
                      }
                    ],
                    "histogram": [
                      {
                        "marker": {
                          "pattern": {
                            "fillmode": "overlay",
                            "size": 10,
                            "solidity": 0.2
                          }
                        },
                        "type": "histogram"
                      }
                    ],
                    "histogram2d": [
                      {
                        "colorbar": {
                          "outlinewidth": 0,
                          "ticks": ""
                        },
                        "colorscale": [
                          [
                            0,
                            "#0d0887"
                          ],
                          [
                            0.1111111111111111,
                            "#46039f"
                          ],
                          [
                            0.2222222222222222,
                            "#7201a8"
                          ],
                          [
                            0.3333333333333333,
                            "#9c179e"
                          ],
                          [
                            0.4444444444444444,
                            "#bd3786"
                          ],
                          [
                            0.5555555555555556,
                            "#d8576b"
                          ],
                          [
                            0.6666666666666666,
                            "#ed7953"
                          ],
                          [
                            0.7777777777777778,
                            "#fb9f3a"
                          ],
                          [
                            0.8888888888888888,
                            "#fdca26"
                          ],
                          [
                            1,
                            "#f0f921"
                          ]
                        ],
                        "type": "histogram2d"
                      }
                    ],
                    "histogram2dcontour": [
                      {
                        "colorbar": {
                          "outlinewidth": 0,
                          "ticks": ""
                        },
                        "colorscale": [
                          [
                            0,
                            "#0d0887"
                          ],
                          [
                            0.1111111111111111,
                            "#46039f"
                          ],
                          [
                            0.2222222222222222,
                            "#7201a8"
                          ],
                          [
                            0.3333333333333333,
                            "#9c179e"
                          ],
                          [
                            0.4444444444444444,
                            "#bd3786"
                          ],
                          [
                            0.5555555555555556,
                            "#d8576b"
                          ],
                          [
                            0.6666666666666666,
                            "#ed7953"
                          ],
                          [
                            0.7777777777777778,
                            "#fb9f3a"
                          ],
                          [
                            0.8888888888888888,
                            "#fdca26"
                          ],
                          [
                            1,
                            "#f0f921"
                          ]
                        ],
                        "type": "histogram2dcontour"
                      }
                    ],
                    "mesh3d": [
                      {
                        "colorbar": {
                          "outlinewidth": 0,
                          "ticks": ""
                        },
                        "type": "mesh3d"
                      }
                    ],
                    "parcoords": [
                      {
                        "line": {
                          "colorbar": {
                            "outlinewidth": 0,
                            "ticks": ""
                          }
                        },
                        "type": "parcoords"
                      }
                    ],
                    "pie": [
                      {
                        "automargin": true,
                        "type": "pie"
                      }
                    ],
                    "scatter": [
                      {
                        "fillpattern": {
                          "fillmode": "overlay",
                          "size": 10,
                          "solidity": 0.2
                        },
                        "type": "scatter"
                      }
                    ],
                    "scatter3d": [
                      {
                        "line": {
                          "colorbar": {
                            "outlinewidth": 0,
                            "ticks": ""
                          }
                        },
                        "marker": {
                          "colorbar": {
                            "outlinewidth": 0,
                            "ticks": ""
                          }
                        },
                        "type": "scatter3d"
                      }
                    ],
                    "scattercarpet": [
                      {
                        "marker": {
                          "colorbar": {
                            "outlinewidth": 0,
                            "ticks": ""
                          }
                        },
                        "type": "scattercarpet"
                      }
                    ],
                    "scattergeo": [
                      {
                        "marker": {
                          "colorbar": {
                            "outlinewidth": 0,
                            "ticks": ""
                          }
                        },
                        "type": "scattergeo"
                      }
                    ],
                    "scattergl": [
                      {
                        "marker": {
                          "colorbar": {
                            "outlinewidth": 0,
                            "ticks": ""
                          }
                        },
                        "type": "scattergl"
                      }
                    ],
                    "scattermapbox": [
                      {
                        "marker": {
                          "colorbar": {
                            "outlinewidth": 0,
                            "ticks": ""
                          }
                        },
                        "type": "scattermapbox"
                      }
                    ],
                    "scatterpolar": [
                      {
                        "marker": {
                          "colorbar": {
                            "outlinewidth": 0,
                            "ticks": ""
                          }
                        },
                        "type": "scatterpolar"
                      }
                    ],
                    "scatterpolargl": [
                      {
                        "marker": {
                          "colorbar": {
                            "outlinewidth": 0,
                            "ticks": ""
                          }
                        },
                        "type": "scatterpolargl"
                      }
                    ],
                    "scatterternary": [
                      {
                        "marker": {
                          "colorbar": {
                            "outlinewidth": 0,
                            "ticks": ""
                          }
                        },
                        "type": "scatterternary"
                      }
                    ],
                    "surface": [
                      {
                        "colorbar": {
                          "outlinewidth": 0,
                          "ticks": ""
                        },
                        "colorscale": [
                          [
                            0,
                            "#0d0887"
                          ],
                          [
                            0.1111111111111111,
                            "#46039f"
                          ],
                          [
                            0.2222222222222222,
                            "#7201a8"
                          ],
                          [
                            0.3333333333333333,
                            "#9c179e"
                          ],
                          [
                            0.4444444444444444,
                            "#bd3786"
                          ],
                          [
                            0.5555555555555556,
                            "#d8576b"
                          ],
                          [
                            0.6666666666666666,
                            "#ed7953"
                          ],
                          [
                            0.7777777777777778,
                            "#fb9f3a"
                          ],
                          [
                            0.8888888888888888,
                            "#fdca26"
                          ],
                          [
                            1,
                            "#f0f921"
                          ]
                        ],
                        "type": "surface"
                      }
                    ],
                    "table": [
                      {
                        "cells": {
                          "fill": {
                            "color": "#EBF0F8"
                          },
                          "line": {
                            "color": "white"
                          }
                        },
                        "header": {
                          "fill": {
                            "color": "#C8D4E3"
                          },
                          "line": {
                            "color": "white"
                          }
                        },
                        "type": "table"
                      }
                    ]
                  },
                  "layout": {
                    "annotationdefaults": {
                      "arrowcolor": "#2a3f5f",
                      "arrowhead": 0,
                      "arrowwidth": 1
                    },
                    "autotypenumbers": "strict",
                    "coloraxis": {
                      "colorbar": {
                        "outlinewidth": 0,
                        "ticks": ""
                      }
                    },
                    "colorscale": {
                      "diverging": [
                        [
                          0,
                          "#8e0152"
                        ],
                        [
                          0.1,
                          "#c51b7d"
                        ],
                        [
                          0.2,
                          "#de77ae"
                        ],
                        [
                          0.3,
                          "#f1b6da"
                        ],
                        [
                          0.4,
                          "#fde0ef"
                        ],
                        [
                          0.5,
                          "#f7f7f7"
                        ],
                        [
                          0.6,
                          "#e6f5d0"
                        ],
                        [
                          0.7,
                          "#b8e186"
                        ],
                        [
                          0.8,
                          "#7fbc41"
                        ],
                        [
                          0.9,
                          "#4d9221"
                        ],
                        [
                          1,
                          "#276419"
                        ]
                      ],
                      "sequential": [
                        [
                          0,
                          "#0d0887"
                        ],
                        [
                          0.1111111111111111,
                          "#46039f"
                        ],
                        [
                          0.2222222222222222,
                          "#7201a8"
                        ],
                        [
                          0.3333333333333333,
                          "#9c179e"
                        ],
                        [
                          0.4444444444444444,
                          "#bd3786"
                        ],
                        [
                          0.5555555555555556,
                          "#d8576b"
                        ],
                        [
                          0.6666666666666666,
                          "#ed7953"
                        ],
                        [
                          0.7777777777777778,
                          "#fb9f3a"
                        ],
                        [
                          0.8888888888888888,
                          "#fdca26"
                        ],
                        [
                          1,
                          "#f0f921"
                        ]
                      ],
                      "sequentialminus": [
                        [
                          0,
                          "#0d0887"
                        ],
                        [
                          0.1111111111111111,
                          "#46039f"
                        ],
                        [
                          0.2222222222222222,
                          "#7201a8"
                        ],
                        [
                          0.3333333333333333,
                          "#9c179e"
                        ],
                        [
                          0.4444444444444444,
                          "#bd3786"
                        ],
                        [
                          0.5555555555555556,
                          "#d8576b"
                        ],
                        [
                          0.6666666666666666,
                          "#ed7953"
                        ],
                        [
                          0.7777777777777778,
                          "#fb9f3a"
                        ],
                        [
                          0.8888888888888888,
                          "#fdca26"
                        ],
                        [
                          1,
                          "#f0f921"
                        ]
                      ]
                    },
                    "colorway": [
                      "#636efa",
                      "#EF553B",
                      "#00cc96",
                      "#ab63fa",
                      "#FFA15A",
                      "#19d3f3",
                      "#FF6692",
                      "#B6E880",
                      "#FF97FF",
                      "#FECB52"
                    ],
                    "font": {
                      "color": "#2a3f5f"
                    },
                    "geo": {
                      "bgcolor": "white",
                      "lakecolor": "white",
                      "landcolor": "#E5ECF6",
                      "showlakes": true,
                      "showland": true,
                      "subunitcolor": "white"
                    },
                    "hoverlabel": {
                      "align": "left"
                    },
                    "hovermode": "closest",
                    "mapbox": {
                      "style": "light"
                    },
                    "paper_bgcolor": "white",
                    "plot_bgcolor": "#E5ECF6",
                    "polar": {
                      "angularaxis": {
                        "gridcolor": "white",
                        "linecolor": "white",
                        "ticks": ""
                      },
                      "bgcolor": "#E5ECF6",
                      "radialaxis": {
                        "gridcolor": "white",
                        "linecolor": "white",
                        "ticks": ""
                      }
                    },
                    "scene": {
                      "xaxis": {
                        "backgroundcolor": "#E5ECF6",
                        "gridcolor": "white",
                        "gridwidth": 2,
                        "linecolor": "white",
                        "showbackground": true,
                        "ticks": "",
                        "zerolinecolor": "white"
                      },
                      "yaxis": {
                        "backgroundcolor": "#E5ECF6",
                        "gridcolor": "white",
                        "gridwidth": 2,
                        "linecolor": "white",
                        "showbackground": true,
                        "ticks": "",
                        "zerolinecolor": "white"
                      },
                      "zaxis": {
                        "backgroundcolor": "#E5ECF6",
                        "gridcolor": "white",
                        "gridwidth": 2,
                        "linecolor": "white",
                        "showbackground": true,
                        "ticks": "",
                        "zerolinecolor": "white"
                      }
                    },
                    "shapedefaults": {
                      "line": {
                        "color": "#2a3f5f"
                      }
                    },
                    "ternary": {
                      "aaxis": {
                        "gridcolor": "white",
                        "linecolor": "white",
                        "ticks": ""
                      },
                      "baxis": {
                        "gridcolor": "white",
                        "linecolor": "white",
                        "ticks": ""
                      },
                      "bgcolor": "#E5ECF6",
                      "caxis": {
                        "gridcolor": "white",
                        "linecolor": "white",
                        "ticks": ""
                      }
                    },
                    "title": {
                      "x": 0.05
                    },
                    "xaxis": {
                      "automargin": true,
                      "gridcolor": "white",
                      "linecolor": "white",
                      "ticks": "",
                      "title": {
                        "standoff": 15
                      },
                      "zerolinecolor": "white",
                      "zerolinewidth": 2
                    },
                    "yaxis": {
                      "automargin": true,
                      "gridcolor": "white",
                      "linecolor": "white",
                      "ticks": "",
                      "title": {
                        "standoff": 15
                      },
                      "zerolinecolor": "white",
                      "zerolinewidth": 2
                    }
                  }
                },
                "title": {
                  "text": "Custo por Algoritmo"
                },
                "xaxis": {
                  "anchor": "y",
                  "domain": [
                    0,
                    1
                  ],
                  "title": {
                    "text": "Algoritmo"
                  }
                },
                "yaxis": {
                  "anchor": "x",
                  "domain": [
                    0,
                    1
                  ],
                  "title": {
                    "text": "Custo"
                  }
                }
              }
            }
          },
          "metadata": {},
          "output_type": "display_data"
        }
      ],
      "source": [
        "px.box(df_custo_T, points='all', y=df_custo_T.columns.tolist()).update_layout(\n",
        "    xaxis_title=\"Algoritmo\", yaxis_title=\"Custo\", title=\"Custo por Algoritmo\")"
      ]
    },
    {
      "cell_type": "code",
      "execution_count": null,
      "metadata": {
        "colab": {
          "base_uri": "https://localhost:8080/",
          "height": 729
        },
        "id": "sHc3sH1h3vW8",
        "outputId": "3068974e-bc06-4429-c4b8-bfebca56459f"
      },
      "outputs": [],
      "source": [
        "boxplot_sorted(df_custo, rot=90, figsize=(12,6), fontsize=20)"
      ]
    },
    {
      "attachments": {},
      "cell_type": "markdown",
      "metadata": {
        "id": "WyY1EdCVEuwr"
      },
      "source": [
        "Observe no gráfico acima que a variabilidade do Hill-climbing é bem menor que a do Random-Walk.\n",
        "\n",
        "Como você justifica isso?"
      ]
    },
    {
      "cell_type": "code",
      "execution_count": null,
      "metadata": {
        "colab": {
          "base_uri": "https://localhost:8080/",
          "height": 300
        },
        "id": "95jLa1QH_khY",
        "outputId": "dc745487-f5a1-4669-95c8-7390e9339030"
      },
      "outputs": [
        {
          "data": {
            "text/html": [
              "<div>\n",
              "<style scoped>\n",
              "    .dataframe tbody tr th:only-of-type {\n",
              "        vertical-align: middle;\n",
              "    }\n",
              "\n",
              "    .dataframe tbody tr th {\n",
              "        vertical-align: top;\n",
              "    }\n",
              "\n",
              "    .dataframe thead th {\n",
              "        text-align: right;\n",
              "    }\n",
              "</style>\n",
              "<table border=\"1\" class=\"dataframe\">\n",
              "  <thead>\n",
              "    <tr style=\"text-align: right;\">\n",
              "      <th>ALGORITMO</th>\n",
              "      <th>Simulated Annealing</th>\n",
              "      <th>Hill-Climbing</th>\n",
              "      <th>Hill-Climbing Restart</th>\n",
              "      <th>Genetic Algorithm</th>\n",
              "    </tr>\n",
              "  </thead>\n",
              "  <tbody>\n",
              "    <tr>\n",
              "      <th>count</th>\n",
              "      <td>100.000000</td>\n",
              "      <td>100.000000</td>\n",
              "      <td>100.000000</td>\n",
              "      <td>100.000000</td>\n",
              "    </tr>\n",
              "    <tr>\n",
              "      <th>mean</th>\n",
              "      <td>2070.261380</td>\n",
              "      <td>359.775717</td>\n",
              "      <td>427.835944</td>\n",
              "      <td>1462.107578</td>\n",
              "    </tr>\n",
              "    <tr>\n",
              "      <th>std</th>\n",
              "      <td>128.630532</td>\n",
              "      <td>33.458712</td>\n",
              "      <td>113.648968</td>\n",
              "      <td>48.938673</td>\n",
              "    </tr>\n",
              "    <tr>\n",
              "      <th>min</th>\n",
              "      <td>1731.485283</td>\n",
              "      <td>299.825597</td>\n",
              "      <td>288.834137</td>\n",
              "      <td>1283.675813</td>\n",
              "    </tr>\n",
              "    <tr>\n",
              "      <th>25%</th>\n",
              "      <td>1980.314923</td>\n",
              "      <td>335.125779</td>\n",
              "      <td>366.073866</td>\n",
              "      <td>1437.771657</td>\n",
              "    </tr>\n",
              "    <tr>\n",
              "      <th>50%</th>\n",
              "      <td>2095.282855</td>\n",
              "      <td>357.101881</td>\n",
              "      <td>390.353261</td>\n",
              "      <td>1467.920896</td>\n",
              "    </tr>\n",
              "    <tr>\n",
              "      <th>75%</th>\n",
              "      <td>2167.545128</td>\n",
              "      <td>381.212907</td>\n",
              "      <td>423.701700</td>\n",
              "      <td>1494.397959</td>\n",
              "    </tr>\n",
              "    <tr>\n",
              "      <th>max</th>\n",
              "      <td>2320.116081</td>\n",
              "      <td>446.915143</td>\n",
              "      <td>774.303647</td>\n",
              "      <td>1553.514898</td>\n",
              "    </tr>\n",
              "  </tbody>\n",
              "</table>\n",
              "</div>"
            ],
            "text/plain": [
              "ALGORITMO  Simulated Annealing  Hill-Climbing  Hill-Climbing Restart  \\\n",
              "count               100.000000     100.000000             100.000000   \n",
              "mean               2070.261380     359.775717             427.835944   \n",
              "std                 128.630532      33.458712             113.648968   \n",
              "min                1731.485283     299.825597             288.834137   \n",
              "25%                1980.314923     335.125779             366.073866   \n",
              "50%                2095.282855     357.101881             390.353261   \n",
              "75%                2167.545128     381.212907             423.701700   \n",
              "max                2320.116081     446.915143             774.303647   \n",
              "\n",
              "ALGORITMO  Genetic Algorithm  \n",
              "count             100.000000  \n",
              "mean             1462.107578  \n",
              "std                48.938673  \n",
              "min              1283.675813  \n",
              "25%              1437.771657  \n",
              "50%              1467.920896  \n",
              "75%              1494.397959  \n",
              "max              1553.514898  "
            ]
          },
          "execution_count": 397,
          "metadata": {},
          "output_type": "execute_result"
        }
      ],
      "source": [
        "df_custo.T.describe()"
      ]
    },
    {
      "attachments": {},
      "cell_type": "markdown",
      "metadata": {
        "id": "YlI7aLfqT_Ta"
      },
      "source": [
        "### Plota a rota da melhor solução obtida"
      ]
    },
    {
      "cell_type": "code",
      "execution_count": null,
      "metadata": {},
      "outputs": [
        {
          "data": {
            "text/html": [
              "<div>\n",
              "<style scoped>\n",
              "    .dataframe tbody tr th:only-of-type {\n",
              "        vertical-align: middle;\n",
              "    }\n",
              "\n",
              "    .dataframe tbody tr th {\n",
              "        vertical-align: top;\n",
              "    }\n",
              "\n",
              "    .dataframe thead th {\n",
              "        text-align: right;\n",
              "    }\n",
              "</style>\n",
              "<table border=\"1\" class=\"dataframe\">\n",
              "  <thead>\n",
              "    <tr style=\"text-align: right;\">\n",
              "      <th>ALGORITMO</th>\n",
              "      <th>Simulated Annealing</th>\n",
              "      <th>Hill-Climbing</th>\n",
              "      <th>Hill-Climbing Restart</th>\n",
              "      <th>Genetic Algorithm</th>\n",
              "    </tr>\n",
              "  </thead>\n",
              "  <tbody>\n",
              "    <tr>\n",
              "      <th>0</th>\n",
              "      <td>2035.524518</td>\n",
              "      <td>351.183094</td>\n",
              "      <td>385.100074</td>\n",
              "      <td>1495.418659</td>\n",
              "    </tr>\n",
              "    <tr>\n",
              "      <th>1</th>\n",
              "      <td>2154.021676</td>\n",
              "      <td>385.717125</td>\n",
              "      <td>378.690339</td>\n",
              "      <td>1492.849401</td>\n",
              "    </tr>\n",
              "    <tr>\n",
              "      <th>2</th>\n",
              "      <td>2015.504976</td>\n",
              "      <td>365.981696</td>\n",
              "      <td>396.908251</td>\n",
              "      <td>1443.681556</td>\n",
              "    </tr>\n",
              "    <tr>\n",
              "      <th>3</th>\n",
              "      <td>2105.774362</td>\n",
              "      <td>396.039375</td>\n",
              "      <td>413.330833</td>\n",
              "      <td>1466.011477</td>\n",
              "    </tr>\n",
              "    <tr>\n",
              "      <th>4</th>\n",
              "      <td>2068.277514</td>\n",
              "      <td>343.915509</td>\n",
              "      <td>373.782650</td>\n",
              "      <td>1441.869613</td>\n",
              "    </tr>\n",
              "    <tr>\n",
              "      <th>...</th>\n",
              "      <td>...</td>\n",
              "      <td>...</td>\n",
              "      <td>...</td>\n",
              "      <td>...</td>\n",
              "    </tr>\n",
              "    <tr>\n",
              "      <th>95</th>\n",
              "      <td>1988.819925</td>\n",
              "      <td>429.205627</td>\n",
              "      <td>542.440408</td>\n",
              "      <td>1537.176402</td>\n",
              "    </tr>\n",
              "    <tr>\n",
              "      <th>96</th>\n",
              "      <td>1858.843830</td>\n",
              "      <td>390.972422</td>\n",
              "      <td>428.919443</td>\n",
              "      <td>1283.675813</td>\n",
              "    </tr>\n",
              "    <tr>\n",
              "      <th>97</th>\n",
              "      <td>1979.757466</td>\n",
              "      <td>362.080054</td>\n",
              "      <td>423.076317</td>\n",
              "      <td>1432.258187</td>\n",
              "    </tr>\n",
              "    <tr>\n",
              "      <th>98</th>\n",
              "      <td>2094.784707</td>\n",
              "      <td>343.016789</td>\n",
              "      <td>730.841940</td>\n",
              "      <td>1495.925150</td>\n",
              "    </tr>\n",
              "    <tr>\n",
              "      <th>99</th>\n",
              "      <td>2227.316175</td>\n",
              "      <td>310.306249</td>\n",
              "      <td>391.152135</td>\n",
              "      <td>1483.770170</td>\n",
              "    </tr>\n",
              "  </tbody>\n",
              "</table>\n",
              "<p>100 rows × 4 columns</p>\n",
              "</div>"
            ],
            "text/plain": [
              "ALGORITMO  Simulated Annealing  Hill-Climbing  Hill-Climbing Restart  \\\n",
              "0                  2035.524518     351.183094             385.100074   \n",
              "1                  2154.021676     385.717125             378.690339   \n",
              "2                  2015.504976     365.981696             396.908251   \n",
              "3                  2105.774362     396.039375             413.330833   \n",
              "4                  2068.277514     343.915509             373.782650   \n",
              "..                         ...            ...                    ...   \n",
              "95                 1988.819925     429.205627             542.440408   \n",
              "96                 1858.843830     390.972422             428.919443   \n",
              "97                 1979.757466     362.080054             423.076317   \n",
              "98                 2094.784707     343.016789             730.841940   \n",
              "99                 2227.316175     310.306249             391.152135   \n",
              "\n",
              "ALGORITMO  Genetic Algorithm  \n",
              "0                1495.418659  \n",
              "1                1492.849401  \n",
              "2                1443.681556  \n",
              "3                1466.011477  \n",
              "4                1441.869613  \n",
              "..                       ...  \n",
              "95               1537.176402  \n",
              "96               1283.675813  \n",
              "97               1432.258187  \n",
              "98               1495.925150  \n",
              "99               1483.770170  \n",
              "\n",
              "[100 rows x 4 columns]"
            ]
          },
          "execution_count": 403,
          "metadata": {},
          "output_type": "execute_result"
        }
      ],
      "source": [
        "df_custo.T"
      ]
    },
    {
      "cell_type": "code",
      "execution_count": null,
      "metadata": {},
      "outputs": [
        {
          "data": {
            "text/html": [
              "<div>\n",
              "<style scoped>\n",
              "    .dataframe tbody tr th:only-of-type {\n",
              "        vertical-align: middle;\n",
              "    }\n",
              "\n",
              "    .dataframe tbody tr th {\n",
              "        vertical-align: top;\n",
              "    }\n",
              "\n",
              "    .dataframe thead th {\n",
              "        text-align: right;\n",
              "    }\n",
              "</style>\n",
              "<table border=\"1\" class=\"dataframe\">\n",
              "  <thead>\n",
              "    <tr style=\"text-align: right;\">\n",
              "      <th></th>\n",
              "      <th>iteration_list</th>\n",
              "      <th>best_distances</th>\n",
              "      <th>distance_list</th>\n",
              "      <th>accept_p_list</th>\n",
              "      <th>temperature</th>\n",
              "    </tr>\n",
              "  </thead>\n",
              "  <tbody>\n",
              "    <tr>\n",
              "      <th>0</th>\n",
              "      <td>[0, 1, 2, 3, 4, 5, 6, 7, 8, 9]</td>\n",
              "      <td>2035.524518</td>\n",
              "      <td>2335.433071</td>\n",
              "      <td>[0.9998258612712249, 1.0, 1.0, 1.0, 1.0, 0.948...</td>\n",
              "      <td>904.382075</td>\n",
              "    </tr>\n",
              "    <tr>\n",
              "      <th>1</th>\n",
              "      <td>[0, 1, 2, 3, 4, 5, 6, 7, 8, 9]</td>\n",
              "      <td>2154.021676</td>\n",
              "      <td>2154.021676</td>\n",
              "      <td>[0.9834283724797221, 1.0, 1.0, 0.9428473915639...</td>\n",
              "      <td>904.382075</td>\n",
              "    </tr>\n",
              "    <tr>\n",
              "      <th>2</th>\n",
              "      <td>[0, 1, 2, 3, 4, 5, 6, 7, 8, 9]</td>\n",
              "      <td>2015.504976</td>\n",
              "      <td>2506.373850</td>\n",
              "      <td>[1.0, 0.8256734532793585, 1.0, 1.0, 1.0, 1.0, ...</td>\n",
              "      <td>904.382075</td>\n",
              "    </tr>\n",
              "    <tr>\n",
              "      <th>3</th>\n",
              "      <td>[0, 1, 2, 3, 4, 5, 6, 7, 8, 9]</td>\n",
              "      <td>2105.774362</td>\n",
              "      <td>2319.936419</td>\n",
              "      <td>[1.0, 0.9926845029922797, 1.0, 1.0, 0.91579572...</td>\n",
              "      <td>904.382075</td>\n",
              "    </tr>\n",
              "    <tr>\n",
              "      <th>4</th>\n",
              "      <td>[0, 1, 2, 3, 4, 5, 6, 7, 8, 9]</td>\n",
              "      <td>2068.277514</td>\n",
              "      <td>2068.277514</td>\n",
              "      <td>[0.9956967240201055, 0.896838132291118, 1.0, 1...</td>\n",
              "      <td>904.382075</td>\n",
              "    </tr>\n",
              "    <tr>\n",
              "      <th>...</th>\n",
              "      <td>...</td>\n",
              "      <td>...</td>\n",
              "      <td>...</td>\n",
              "      <td>...</td>\n",
              "      <td>...</td>\n",
              "    </tr>\n",
              "    <tr>\n",
              "      <th>95</th>\n",
              "      <td>[0, 1, 2, 3, 4, 5, 6, 7, 8, 9]</td>\n",
              "      <td>1988.819925</td>\n",
              "      <td>2435.706898</td>\n",
              "      <td>[1.0, 1.0, 0.9460873069787443, 1.0, 0.99628223...</td>\n",
              "      <td>904.382075</td>\n",
              "    </tr>\n",
              "    <tr>\n",
              "      <th>96</th>\n",
              "      <td>[0, 1, 2, 3, 4, 5, 6, 7, 8, 9]</td>\n",
              "      <td>1858.843830</td>\n",
              "      <td>1858.843830</td>\n",
              "      <td>[0.9494343582963197, 1.0, 1.0, 1.0, 1.0, 1.0, ...</td>\n",
              "      <td>904.382075</td>\n",
              "    </tr>\n",
              "    <tr>\n",
              "      <th>97</th>\n",
              "      <td>[0, 1, 2, 3, 4, 5, 6, 7, 8, 9]</td>\n",
              "      <td>1979.757466</td>\n",
              "      <td>2191.479683</td>\n",
              "      <td>[1.0, 1.0, 1.0, 1.0, 0.9390166523761565, 1.0, ...</td>\n",
              "      <td>904.382075</td>\n",
              "    </tr>\n",
              "    <tr>\n",
              "      <th>98</th>\n",
              "      <td>[0, 1, 2, 3, 4, 5, 6, 7, 8, 9]</td>\n",
              "      <td>2094.784707</td>\n",
              "      <td>2190.293542</td>\n",
              "      <td>[0.985976713484964, 0.9489368615194189, 1.0, 0...</td>\n",
              "      <td>904.382075</td>\n",
              "    </tr>\n",
              "    <tr>\n",
              "      <th>99</th>\n",
              "      <td>[0, 1, 2, 3, 4, 5, 6, 7, 8, 9]</td>\n",
              "      <td>2227.316175</td>\n",
              "      <td>2227.316175</td>\n",
              "      <td>[1.0, 0.8375242666604771, 0.895282154812594, 1...</td>\n",
              "      <td>904.382075</td>\n",
              "    </tr>\n",
              "  </tbody>\n",
              "</table>\n",
              "<p>100 rows × 5 columns</p>\n",
              "</div>"
            ],
            "text/plain": [
              "                    iteration_list  best_distances  distance_list  \\\n",
              "0   [0, 1, 2, 3, 4, 5, 6, 7, 8, 9]     2035.524518    2335.433071   \n",
              "1   [0, 1, 2, 3, 4, 5, 6, 7, 8, 9]     2154.021676    2154.021676   \n",
              "2   [0, 1, 2, 3, 4, 5, 6, 7, 8, 9]     2015.504976    2506.373850   \n",
              "3   [0, 1, 2, 3, 4, 5, 6, 7, 8, 9]     2105.774362    2319.936419   \n",
              "4   [0, 1, 2, 3, 4, 5, 6, 7, 8, 9]     2068.277514    2068.277514   \n",
              "..                             ...             ...            ...   \n",
              "95  [0, 1, 2, 3, 4, 5, 6, 7, 8, 9]     1988.819925    2435.706898   \n",
              "96  [0, 1, 2, 3, 4, 5, 6, 7, 8, 9]     1858.843830    1858.843830   \n",
              "97  [0, 1, 2, 3, 4, 5, 6, 7, 8, 9]     1979.757466    2191.479683   \n",
              "98  [0, 1, 2, 3, 4, 5, 6, 7, 8, 9]     2094.784707    2190.293542   \n",
              "99  [0, 1, 2, 3, 4, 5, 6, 7, 8, 9]     2227.316175    2227.316175   \n",
              "\n",
              "                                        accept_p_list  temperature  \n",
              "0   [0.9998258612712249, 1.0, 1.0, 1.0, 1.0, 0.948...   904.382075  \n",
              "1   [0.9834283724797221, 1.0, 1.0, 0.9428473915639...   904.382075  \n",
              "2   [1.0, 0.8256734532793585, 1.0, 1.0, 1.0, 1.0, ...   904.382075  \n",
              "3   [1.0, 0.9926845029922797, 1.0, 1.0, 0.91579572...   904.382075  \n",
              "4   [0.9956967240201055, 0.896838132291118, 1.0, 1...   904.382075  \n",
              "..                                                ...          ...  \n",
              "95  [1.0, 1.0, 0.9460873069787443, 1.0, 0.99628223...   904.382075  \n",
              "96  [0.9494343582963197, 1.0, 1.0, 1.0, 1.0, 1.0, ...   904.382075  \n",
              "97  [1.0, 1.0, 1.0, 1.0, 0.9390166523761565, 1.0, ...   904.382075  \n",
              "98  [0.985976713484964, 0.9489368615194189, 1.0, 0...   904.382075  \n",
              "99  [1.0, 0.8375242666604771, 0.895282154812594, 1...   904.382075  \n",
              "\n",
              "[100 rows x 5 columns]"
            ]
          },
          "execution_count": 401,
          "metadata": {},
          "output_type": "execute_result"
        }
      ],
      "source": [
        "df_simulated_annealing"
      ]
    },
    {
      "cell_type": "code",
      "execution_count": null,
      "metadata": {},
      "outputs": [],
      "source": []
    }
  ],
  "metadata": {
    "colab": {
      "provenance": [],
      "toc_visible": true
    },
    "kernelspec": {
      "display_name": "Python 3",
      "name": "python3"
    },
    "language_info": {
      "codemirror_mode": {
        "name": "ipython",
        "version": 3
      },
      "file_extension": ".py",
      "mimetype": "text/x-python",
      "name": "python",
      "nbconvert_exporter": "python",
      "pygments_lexer": "ipython3",
      "version": "3.11.3"
    }
  },
  "nbformat": 4,
  "nbformat_minor": 0
}
